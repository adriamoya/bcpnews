{
 "cells": [
  {
   "cell_type": "markdown",
   "metadata": {},
   "source": [
    "Articles for training  - Emails (ground truth)\n",
    "=========================\n",
    "\n",
    "\n",
    "****"
   ]
  },
  {
   "cell_type": "code",
   "execution_count": 402,
   "metadata": {},
   "outputs": [],
   "source": [
    "import os\n",
    "import re\n",
    "import json\n",
    "import pprint\n",
    "import datetime\n",
    "import pandas as pd\n",
    "\n",
    "pp = pprint.PrettyPrinter(indent=4)"
   ]
  },
  {
   "cell_type": "code",
   "execution_count": 403,
   "metadata": {},
   "outputs": [],
   "source": [
    "data = []\n",
    "with open('../articles_email.json') as input_file:\n",
    "    for line in input_file:\n",
    "        data.append(json.loads(line))"
   ]
  },
  {
   "cell_type": "code",
   "execution_count": 404,
   "metadata": {},
   "outputs": [
    {
     "name": "stdout",
     "output_type": "stream",
     "text": [
      "Number of articles downloaded: 4,209\n"
     ]
    }
   ],
   "source": [
    "df = pd.DataFrame(data)\n",
    "\n",
    "print(\"Number of articles downloaded: {:,}\".format(df.shape[0]))"
   ]
  },
  {
   "cell_type": "code",
   "execution_count": 421,
   "metadata": {},
   "outputs": [
    {
     "name": "stdout",
     "output_type": "stream",
     "text": [
      "Min date: 2016-02-04\n",
      "Max date: 2018-04-16\n"
     ]
    }
   ],
   "source": [
    "print(\"Min date:\", df[df['publish_date'].notna()]['publish_date'].min()[:10])\n",
    "print(\"Max date:\", df[df['publish_date'].notna()]['publish_date'].max()[:10])"
   ]
  },
  {
   "cell_type": "markdown",
   "metadata": {},
   "source": [
    "### Duplicates and useless articles"
   ]
  },
  {
   "cell_type": "code",
   "execution_count": 389,
   "metadata": {},
   "outputs": [
    {
     "data": {
      "text/html": [
       "<div>\n",
       "<style scoped>\n",
       "    .dataframe tbody tr th:only-of-type {\n",
       "        vertical-align: middle;\n",
       "    }\n",
       "\n",
       "    .dataframe tbody tr th {\n",
       "        vertical-align: top;\n",
       "    }\n",
       "\n",
       "    .dataframe thead th {\n",
       "        text-align: right;\n",
       "    }\n",
       "</style>\n",
       "<table border=\"1\" class=\"dataframe\">\n",
       "  <thead>\n",
       "    <tr style=\"text-align: right;\">\n",
       "      <th></th>\n",
       "      <th>text</th>\n",
       "      <th>count</th>\n",
       "    </tr>\n",
       "  </thead>\n",
       "  <tbody>\n",
       "    <tr>\n",
       "      <th>0</th>\n",
       "      <td></td>\n",
       "      <td>70</td>\n",
       "    </tr>\n",
       "    <tr>\n",
       "      <th>1</th>\n",
       "      <td>How Can We Help?\\n\\nIf you'd like to learn mor...</td>\n",
       "      <td>35</td>\n",
       "    </tr>\n",
       "    <tr>\n",
       "      <th>2</th>\n",
       "      <td>Estas personas se consideran víctimas y no cóm...</td>\n",
       "      <td>5</td>\n",
       "    </tr>\n",
       "    <tr>\n",
       "      <th>3</th>\n",
       "      <td>Don't have an account yet?\\n\\nThe content of t...</td>\n",
       "      <td>4</td>\n",
       "    </tr>\n",
       "    <tr>\n",
       "      <th>4</th>\n",
       "      <td>Sucesión de mentirijillas en BBVA: Francisco G...</td>\n",
       "      <td>4</td>\n",
       "    </tr>\n",
       "    <tr>\n",
       "      <th>5</th>\n",
       "      <td>Consulte las citas más relevantes de la jornad...</td>\n",
       "      <td>4</td>\n",
       "    </tr>\n",
       "    <tr>\n",
       "      <th>6</th>\n",
       "      <td>El ministro de Economía aseguró que la resoluc...</td>\n",
       "      <td>3</td>\n",
       "    </tr>\n",
       "    <tr>\n",
       "      <th>7</th>\n",
       "      <td>Danièle Nouy, presidenta del Supervisor Único,...</td>\n",
       "      <td>3</td>\n",
       "    </tr>\n",
       "    <tr>\n",
       "      <th>8</th>\n",
       "      <td>El Royal Bank of Scotland (RBS) pagará 500 mil...</td>\n",
       "      <td>2</td>\n",
       "    </tr>\n",
       "    <tr>\n",
       "      <th>9</th>\n",
       "      <td>La tecnología blockchain se está convirtiendo ...</td>\n",
       "      <td>2</td>\n",
       "    </tr>\n",
       "  </tbody>\n",
       "</table>\n",
       "</div>"
      ],
      "text/plain": [
       "                                                text  count\n",
       "0                                                        70\n",
       "1  How Can We Help?\\n\\nIf you'd like to learn mor...     35\n",
       "2  Estas personas se consideran víctimas y no cóm...      5\n",
       "3  Don't have an account yet?\\n\\nThe content of t...      4\n",
       "4  Sucesión de mentirijillas en BBVA: Francisco G...      4\n",
       "5  Consulte las citas más relevantes de la jornad...      4\n",
       "6  El ministro de Economía aseguró que la resoluc...      3\n",
       "7  Danièle Nouy, presidenta del Supervisor Único,...      3\n",
       "8  El Royal Bank of Scotland (RBS) pagará 500 mil...      2\n",
       "9  La tecnología blockchain se está convirtiendo ...      2"
      ]
     },
     "execution_count": 389,
     "metadata": {},
     "output_type": "execute_result"
    }
   ],
   "source": [
    "df_dups = df.groupby('text').size().sort_values(0,ascending=False).reset_index().rename(columns={0:\"count\"})\n",
    "df_dups.head(10)"
   ]
  },
  {
   "cell_type": "code",
   "execution_count": 390,
   "metadata": {},
   "outputs": [
    {
     "name": "stdout",
     "output_type": "stream",
     "text": [
      "Text 1:\n",
      "\n",
      "How Can We Help?\n",
      "\n",
      "If you'd like to learn more about Bernstein's insights and execution or how they can help advance your business, please contact us. ...\n",
      "\n",
      "\n",
      "Current number of articles: 4,174\n"
     ]
    }
   ],
   "source": [
    "# text 1: How Can We Help?\\n\\nIf you'd like to learn mor...\n",
    "print(\"Text 1:\\n\")\n",
    "print(df_dups.loc[1]['text'],\"...\")\n",
    "\n",
    "idx = df.index[df['text']==df_dups.loc[1]['text']]\n",
    "df = df.drop(idx)\n",
    "\n",
    "print(\"\\n\\nCurrent number of articles: {:,}\".format(df.shape[0]))"
   ]
  },
  {
   "cell_type": "code",
   "execution_count": 391,
   "metadata": {},
   "outputs": [
    {
     "name": "stdout",
     "output_type": "stream",
     "text": [
      "Current number of articles: 4,170\n"
     ]
    }
   ],
   "source": [
    "# text 3: Don't have an account yet?\\n\\nThe content of t...\n",
    "idx = df.index[df['text']==df_dups.loc[3]['text']]\n",
    "df = df.drop(idx)\n",
    "\n",
    "print(\"Current number of articles: {:,}\".format(df.shape[0]))"
   ]
  },
  {
   "cell_type": "code",
   "execution_count": 392,
   "metadata": {},
   "outputs": [
    {
     "name": "stdout",
     "output_type": "stream",
     "text": [
      "Current number of articles: 4,100\n"
     ]
    }
   ],
   "source": [
    "# removing empty text articles\n",
    "df = df.drop(df[df['text']==''].index)\n",
    "print(\"Current number of articles: {:,}\".format(df.shape[0]))"
   ]
  },
  {
   "cell_type": "code",
   "execution_count": 393,
   "metadata": {},
   "outputs": [
    {
     "name": "stdout",
     "output_type": "stream",
     "text": [
      "Current number of articles: 4,024\n"
     ]
    }
   ],
   "source": [
    "# removing duplicates\n",
    "df = df.drop_duplicates(subset='text', keep='first', inplace=False)\n",
    "print(\"Current number of articles: {:,}\".format(df.shape[0]))"
   ]
  },
  {
   "cell_type": "code",
   "execution_count": 394,
   "metadata": {},
   "outputs": [
    {
     "name": "stdout",
     "output_type": "stream",
     "text": [
      "5 \t 'Please enable JavaScript if it is disabled in your browser or access the information through the links provided below.' \n",
      "\n",
      "75 \t 'Consulte las citas más relevantes de la jornada actual y de las próximas. [Acceder]' \n",
      "\n",
      "334 \t 'No ha sido posible completar su consulta. Vuelva a intentarlo más tarde.' \n",
      "\n",
      "343 \t 'Estas personas se consideran víctimas y no cómplices de una situación en la que se encuentran más de 200.000 trabajadores.' \n",
      "\n",
      "1836 \t 'Agencia Estatal Boletín Oficial del Estado\\n\\nAvda. de Manoteras, 54 - 28050 Madrid - Tel .: (+34) 91 111 4000' \n",
      "\n",
      "2047 \t '¿No estás registrado? Crea tu cuenta\\n\\nEntra en EL PAÍS\\n\\nEntra en EL PAÍS\\n\\nCerrar menú\\n\\nTamaño letra a- A+\\n\\nAlto contraste' \n",
      "\n",
      "3110 \t 'Sucesión de mentirijillas en BBVA: Francisco González pasa el testigo a FG' \n",
      "\n"
     ]
    }
   ],
   "source": [
    "# articles with very short text (useless)\n",
    "for idx, row in df[df['text'].str.len()<150].iterrows():\n",
    "    print(idx, \"\\t\", repr(row['text']), \"\\n\")"
   ]
  },
  {
   "cell_type": "markdown",
   "metadata": {},
   "source": [
    "### Creating new features\n",
    "\n",
    "* section\n",
    "* datepart\n",
    "* day of week\n",
    "* newspaper"
   ]
  },
  {
   "cell_type": "code",
   "execution_count": 395,
   "metadata": {},
   "outputs": [],
   "source": [
    "# newspaper\n",
    "\n",
    "df['newspaper'] = df['url'].apply(lambda x: re.findall('(?:\\/\\/www\\.|\\/\\/)(\\w+)\\.\\w',x))\n",
    "\n",
    "for idx, row in df.iterrows():\n",
    "    source = row['newspaper']\n",
    "    try:\n",
    "        df.loc[idx, 'newspaper'] = source[0]\n",
    "    except:\n",
    "        df.loc[idx, 'newspaper'] = \"\""
   ]
  },
  {
   "cell_type": "code",
   "execution_count": 396,
   "metadata": {},
   "outputs": [
    {
     "data": {
      "text/html": [
       "<div>\n",
       "<style scoped>\n",
       "    .dataframe tbody tr th:only-of-type {\n",
       "        vertical-align: middle;\n",
       "    }\n",
       "\n",
       "    .dataframe tbody tr th {\n",
       "        vertical-align: top;\n",
       "    }\n",
       "\n",
       "    .dataframe thead th {\n",
       "        text-align: right;\n",
       "    }\n",
       "</style>\n",
       "<table border=\"1\" class=\"dataframe\">\n",
       "  <thead>\n",
       "    <tr style=\"text-align: right;\">\n",
       "      <th></th>\n",
       "      <th>newspaper</th>\n",
       "      <th>count</th>\n",
       "    </tr>\n",
       "  </thead>\n",
       "  <tbody>\n",
       "    <tr>\n",
       "      <th>0</th>\n",
       "      <td>expansion</td>\n",
       "      <td>2142</td>\n",
       "    </tr>\n",
       "    <tr>\n",
       "      <th>1</th>\n",
       "      <td>cincodias</td>\n",
       "      <td>1077</td>\n",
       "    </tr>\n",
       "    <tr>\n",
       "      <th>2</th>\n",
       "      <td>elconfidencial</td>\n",
       "      <td>709</td>\n",
       "    </tr>\n",
       "    <tr>\n",
       "      <th>3</th>\n",
       "      <td>blogs</td>\n",
       "      <td>29</td>\n",
       "    </tr>\n",
       "    <tr>\n",
       "      <th>4</th>\n",
       "      <td>retina</td>\n",
       "      <td>12</td>\n",
       "    </tr>\n",
       "    <tr>\n",
       "      <th>5</th>\n",
       "      <td>federalreserve</td>\n",
       "      <td>9</td>\n",
       "    </tr>\n",
       "    <tr>\n",
       "      <th>6</th>\n",
       "      <td>economia</td>\n",
       "      <td>6</td>\n",
       "    </tr>\n",
       "    <tr>\n",
       "      <th>7</th>\n",
       "      <td>euribor</td>\n",
       "      <td>3</td>\n",
       "    </tr>\n",
       "    <tr>\n",
       "      <th>8</th>\n",
       "      <td>bloomberg</td>\n",
       "      <td>3</td>\n",
       "    </tr>\n",
       "    <tr>\n",
       "      <th>9</th>\n",
       "      <td>criteria</td>\n",
       "      <td>2</td>\n",
       "    </tr>\n",
       "  </tbody>\n",
       "</table>\n",
       "</div>"
      ],
      "text/plain": [
       "        newspaper  count\n",
       "0       expansion   2142\n",
       "1       cincodias   1077\n",
       "2  elconfidencial    709\n",
       "3           blogs     29\n",
       "4          retina     12\n",
       "5  federalreserve      9\n",
       "6        economia      6\n",
       "7         euribor      3\n",
       "8       bloomberg      3\n",
       "9        criteria      2"
      ]
     },
     "execution_count": 396,
     "metadata": {},
     "output_type": "execute_result"
    }
   ],
   "source": [
    "df_source = df.groupby('newspaper').size().sort_values(0, ascending=False).reset_index().rename(columns={0:\"count\"})\n",
    "df_source.head(10)"
   ]
  },
  {
   "cell_type": "code",
   "execution_count": 398,
   "metadata": {},
   "outputs": [],
   "source": [
    "# split the publish date to date and time and remove time because it is not changing\n",
    "df['date'], df['time'] = df.publish_date.str.split(' ').str\n",
    "df.drop(['time'], axis=1, inplace=True)"
   ]
  },
  {
   "cell_type": "code",
   "execution_count": 399,
   "metadata": {},
   "outputs": [
    {
     "data": {
      "text/html": [
       "<div>\n",
       "<style scoped>\n",
       "    .dataframe tbody tr th:only-of-type {\n",
       "        vertical-align: middle;\n",
       "    }\n",
       "\n",
       "    .dataframe tbody tr th {\n",
       "        vertical-align: top;\n",
       "    }\n",
       "\n",
       "    .dataframe thead th {\n",
       "        text-align: right;\n",
       "    }\n",
       "</style>\n",
       "<table border=\"1\" class=\"dataframe\">\n",
       "  <thead>\n",
       "    <tr style=\"text-align: right;\">\n",
       "      <th></th>\n",
       "      <th>authors</th>\n",
       "      <th>keywords</th>\n",
       "      <th>publish_date</th>\n",
       "      <th>summary</th>\n",
       "      <th>text</th>\n",
       "      <th>title</th>\n",
       "      <th>top_image</th>\n",
       "      <th>url</th>\n",
       "      <th>newspaper</th>\n",
       "      <th>date</th>\n",
       "      <th>day_of_week</th>\n",
       "    </tr>\n",
       "  </thead>\n",
       "  <tbody>\n",
       "    <tr>\n",
       "      <th>3</th>\n",
       "      <td>[]</td>\n",
       "      <td>[se, por, la, el, y, los, las, nota, sobre, de...</td>\n",
       "      <td>2016-03-01 21:27:34+00:00</td>\n",
       "      <td>Primero la situación económica de China, despu...</td>\n",
       "      <td>Desde que empezó el año hemos tenido ya 3 fact...</td>\n",
       "      <td>Nota sobre la situación de los bancos</td>\n",
       "      <td>http://www.robust.fondos.gvcgaesco.es/wp-conte...</td>\n",
       "      <td>http://www.robustglobal.com/nota-sobre-la-situ...</td>\n",
       "      <td>robustglobal</td>\n",
       "      <td>2016-03-01</td>\n",
       "      <td>Tuesday</td>\n",
       "    </tr>\n",
       "    <tr>\n",
       "      <th>4</th>\n",
       "      <td>[]</td>\n",
       "      <td>[statements, minutes, meetings, calendars, foi...</td>\n",
       "      <td>None</td>\n",
       "      <td>Meeting calendars, statements, and minutes (20...</td>\n",
       "      <td>Meeting calendars, statements, and minutes (20...</td>\n",
       "      <td>Meeting calendars and information</td>\n",
       "      <td></td>\n",
       "      <td>http://www.federalreserve.gov/monetarypolicy/f...</td>\n",
       "      <td>federalreserve</td>\n",
       "      <td>NaT</td>\n",
       "      <td>NaN</td>\n",
       "    </tr>\n",
       "    <tr>\n",
       "      <th>5</th>\n",
       "      <td>[]</td>\n",
       "      <td>[access, provided, javascript, fed, informatio...</td>\n",
       "      <td>None</td>\n",
       "      <td>Please enable JavaScript if it is disabled in ...</td>\n",
       "      <td>Please enable JavaScript if it is disabled in ...</td>\n",
       "      <td>The Fed</td>\n",
       "      <td></td>\n",
       "      <td>http://www.federalreserve.gov/mediacenter/medi...</td>\n",
       "      <td>federalreserve</td>\n",
       "      <td>NaT</td>\n",
       "      <td>NaN</td>\n",
       "    </tr>\n",
       "    <tr>\n",
       "      <th>6</th>\n",
       "      <td>[]</td>\n",
       "      <td>[federal, labor, reserve, funds, fomc, market,...</td>\n",
       "      <td>None</td>\n",
       "      <td>A range of recent indicators, including strong...</td>\n",
       "      <td>Information received since the Federal Open Ma...</td>\n",
       "      <td>Federal Reserve issues FOMC statement</td>\n",
       "      <td></td>\n",
       "      <td>https://www.federalreserve.gov/newsevents/pres...</td>\n",
       "      <td>federalreserve</td>\n",
       "      <td>NaT</td>\n",
       "      <td>NaN</td>\n",
       "    </tr>\n",
       "    <tr>\n",
       "      <th>7</th>\n",
       "      <td>[Asunción Infante Fuentes, Andrés Stumpf Guirao]</td>\n",
       "      <td>[vuelve, se, estas, la, son, y, tumbar, los, l...</td>\n",
       "      <td>2016-03-17 00:00:00</td>\n",
       "      <td>El Ibex cede un 1,18% y pierde el soporte clav...</td>\n",
       "      <td>Amaneció con subidas en todos los grandes parq...</td>\n",
       "      <td>El sector bancario vuelve a tumbar al Ibex: es...</td>\n",
       "      <td>https://d500.epimg.net/cincodias/iconos/v2.x/v...</td>\n",
       "      <td>http://cincodias.com/cincodias/2016/03/17/merc...</td>\n",
       "      <td>cincodias</td>\n",
       "      <td>2016-03-17</td>\n",
       "      <td>Thursday</td>\n",
       "    </tr>\n",
       "  </tbody>\n",
       "</table>\n",
       "</div>"
      ],
      "text/plain": [
       "                                            authors  \\\n",
       "3                                                []   \n",
       "4                                                []   \n",
       "5                                                []   \n",
       "6                                                []   \n",
       "7  [Asunción Infante Fuentes, Andrés Stumpf Guirao]   \n",
       "\n",
       "                                            keywords  \\\n",
       "3  [se, por, la, el, y, los, las, nota, sobre, de...   \n",
       "4  [statements, minutes, meetings, calendars, foi...   \n",
       "5  [access, provided, javascript, fed, informatio...   \n",
       "6  [federal, labor, reserve, funds, fomc, market,...   \n",
       "7  [vuelve, se, estas, la, son, y, tumbar, los, l...   \n",
       "\n",
       "                publish_date  \\\n",
       "3  2016-03-01 21:27:34+00:00   \n",
       "4                       None   \n",
       "5                       None   \n",
       "6                       None   \n",
       "7        2016-03-17 00:00:00   \n",
       "\n",
       "                                             summary  \\\n",
       "3  Primero la situación económica de China, despu...   \n",
       "4  Meeting calendars, statements, and minutes (20...   \n",
       "5  Please enable JavaScript if it is disabled in ...   \n",
       "6  A range of recent indicators, including strong...   \n",
       "7  El Ibex cede un 1,18% y pierde el soporte clav...   \n",
       "\n",
       "                                                text  \\\n",
       "3  Desde que empezó el año hemos tenido ya 3 fact...   \n",
       "4  Meeting calendars, statements, and minutes (20...   \n",
       "5  Please enable JavaScript if it is disabled in ...   \n",
       "6  Information received since the Federal Open Ma...   \n",
       "7  Amaneció con subidas en todos los grandes parq...   \n",
       "\n",
       "                                               title  \\\n",
       "3              Nota sobre la situación de los bancos   \n",
       "4                  Meeting calendars and information   \n",
       "5                                            The Fed   \n",
       "6              Federal Reserve issues FOMC statement   \n",
       "7  El sector bancario vuelve a tumbar al Ibex: es...   \n",
       "\n",
       "                                           top_image  \\\n",
       "3  http://www.robust.fondos.gvcgaesco.es/wp-conte...   \n",
       "4                                                      \n",
       "5                                                      \n",
       "6                                                      \n",
       "7  https://d500.epimg.net/cincodias/iconos/v2.x/v...   \n",
       "\n",
       "                                                 url       newspaper  \\\n",
       "3  http://www.robustglobal.com/nota-sobre-la-situ...    robustglobal   \n",
       "4  http://www.federalreserve.gov/monetarypolicy/f...  federalreserve   \n",
       "5  http://www.federalreserve.gov/mediacenter/medi...  federalreserve   \n",
       "6  https://www.federalreserve.gov/newsevents/pres...  federalreserve   \n",
       "7  http://cincodias.com/cincodias/2016/03/17/merc...       cincodias   \n",
       "\n",
       "        date day_of_week  \n",
       "3 2016-03-01     Tuesday  \n",
       "4        NaT         NaN  \n",
       "5        NaT         NaN  \n",
       "6        NaT         NaN  \n",
       "7 2016-03-17    Thursday  "
      ]
     },
     "execution_count": 399,
     "metadata": {},
     "output_type": "execute_result"
    }
   ],
   "source": [
    "# convert date columns to datetime and create day_of_week column\n",
    "df['date'] = pd.to_datetime(df['date'])\n",
    "df['day_of_week'] = df['date'].dt.weekday_name\n",
    "df.head(5)"
   ]
  },
  {
   "cell_type": "code",
   "execution_count": 400,
   "metadata": {},
   "outputs": [],
   "source": [
    "# drop unnecessary columns\n",
    "df.drop(['top_image', 'publish_date'], axis=1, inplace=True)"
   ]
  },
  {
   "cell_type": "code",
   "execution_count": 401,
   "metadata": {},
   "outputs": [
    {
     "data": {
      "text/plain": [
       "Index(['authors', 'keywords', 'summary', 'text', 'title', 'url', 'newspaper',\n",
       "       'date', 'day_of_week'],\n",
       "      dtype='object')"
      ]
     },
     "execution_count": 401,
     "metadata": {},
     "output_type": "execute_result"
    }
   ],
   "source": [
    "df.columns"
   ]
  },
  {
   "cell_type": "markdown",
   "metadata": {},
   "source": [
    "---\n",
    "\n",
    "# Articles for training - Historical data\n",
    "\n",
    "Checking the newspaper output for all urls scraped from the different source to build the training dataset. The scraped newspapers are (run every 8 days between 2016/04/01 and 2018/04/01):\n",
    "\n",
    "1. Expansion\n",
    "2. Cincodias\n",
    "3. El Confidencial\n",
    "\n",
    "__Considerations__\n",
    "\n",
    "* Articles with __no text__.\n",
    "* Note that some of these __articles may be included in the emails__ sent over these years.\n",
    "* Currenty working with articles __published on mondays__ regardless of the source.\n",
    "* Handle errors/exceptions in the download method of the newspaper.\n",
    "\n",
    "---"
   ]
  },
  {
   "cell_type": "markdown",
   "metadata": {},
   "source": [
    "## 1. Expansion"
   ]
  },
  {
   "cell_type": "code",
   "execution_count": 303,
   "metadata": {},
   "outputs": [],
   "source": [
    "# article content downloaded and parsed with newspaper3k\n",
    "data = []\n",
    "with open('../articles_expansion_hemeroteca.json') as input_file:\n",
    "    for line in input_file:\n",
    "        data.append(json.loads(line))"
   ]
  },
  {
   "cell_type": "code",
   "execution_count": 304,
   "metadata": {},
   "outputs": [],
   "source": [
    "df = pd.DataFrame(data)"
   ]
  },
  {
   "cell_type": "code",
   "execution_count": 305,
   "metadata": {},
   "outputs": [
    {
     "name": "stdout",
     "output_type": "stream",
     "text": [
      "Number of articles downloaded: 9,986\n"
     ]
    }
   ],
   "source": [
    "print(\"Number of articles downloaded: {:,}\".format(df.shape[0]))"
   ]
  },
  {
   "cell_type": "markdown",
   "metadata": {},
   "source": [
    "### Duplicates and useless articles"
   ]
  },
  {
   "cell_type": "code",
   "execution_count": 306,
   "metadata": {},
   "outputs": [
    {
     "data": {
      "text/html": [
       "<div>\n",
       "<style scoped>\n",
       "    .dataframe tbody tr th:only-of-type {\n",
       "        vertical-align: middle;\n",
       "    }\n",
       "\n",
       "    .dataframe tbody tr th {\n",
       "        vertical-align: top;\n",
       "    }\n",
       "\n",
       "    .dataframe thead th {\n",
       "        text-align: right;\n",
       "    }\n",
       "</style>\n",
       "<table border=\"1\" class=\"dataframe\">\n",
       "  <thead>\n",
       "    <tr style=\"text-align: right;\">\n",
       "      <th></th>\n",
       "      <th>text</th>\n",
       "      <th>count</th>\n",
       "    </tr>\n",
       "  </thead>\n",
       "  <tbody>\n",
       "    <tr>\n",
       "      <th>0</th>\n",
       "      <td>Para comentar o valorar, por favor inicie sesi...</td>\n",
       "      <td>87</td>\n",
       "    </tr>\n",
       "    <tr>\n",
       "      <th>1</th>\n",
       "      <td>Para comentar o valorar, por favor inicie sesi...</td>\n",
       "      <td>58</td>\n",
       "    </tr>\n",
       "    <tr>\n",
       "      <th>2</th>\n",
       "      <td></td>\n",
       "      <td>46</td>\n",
       "    </tr>\n",
       "    <tr>\n",
       "      <th>3</th>\n",
       "      <td>¿Televisión de pago en España a precios low co...</td>\n",
       "      <td>2</td>\n",
       "    </tr>\n",
       "    <tr>\n",
       "      <th>4</th>\n",
       "      <td>En plena era tecnológica, donde podemos relaci...</td>\n",
       "      <td>2</td>\n",
       "    </tr>\n",
       "  </tbody>\n",
       "</table>\n",
       "</div>"
      ],
      "text/plain": [
       "                                                text  count\n",
       "0  Para comentar o valorar, por favor inicie sesi...     87\n",
       "1  Para comentar o valorar, por favor inicie sesi...     58\n",
       "2                                                        46\n",
       "3  ¿Televisión de pago en España a precios low co...      2\n",
       "4  En plena era tecnológica, donde podemos relaci...      2"
      ]
     },
     "execution_count": 306,
     "metadata": {},
     "output_type": "execute_result"
    }
   ],
   "source": [
    "df_dups = df.groupby('text').size().sort_values(0,ascending=False).reset_index().rename(columns={0:\"count\"})\n",
    "df_dups.head(5)"
   ]
  },
  {
   "cell_type": "markdown",
   "metadata": {},
   "source": [
    "We can see that there are articles with useless text and articles with no text at all. We will get rid of all these invalid articles."
   ]
  },
  {
   "cell_type": "code",
   "execution_count": 307,
   "metadata": {},
   "outputs": [
    {
     "name": "stdout",
     "output_type": "stream",
     "text": [
      "Current number of articles: 9,795\n"
     ]
    }
   ],
   "source": [
    "# text 0: Para comentar o valorar, por favor inicie sesi...\n",
    "idx = df.index[df['text']==df_dups.loc[0]['text']]\n",
    "df = df.drop(idx)\n",
    "\n",
    "# text 1: Para comentar o valorar, por favor inicie sesi...\n",
    "idx = df.index[df['text']==df_dups.loc[1]['text']]\n",
    "df = df.drop(idx)\n",
    "\n",
    "# text 2: (empty text)\n",
    "idx = df.index[df['text']==df_dups.loc[2]['text']]\n",
    "df = df.drop(idx)\n",
    "\n",
    "print(\"Current number of articles: {:,}\".format(df.shape[0]))"
   ]
  },
  {
   "cell_type": "code",
   "execution_count": 308,
   "metadata": {},
   "outputs": [
    {
     "name": "stdout",
     "output_type": "stream",
     "text": [
      "Number of articles duplicated twice: 23\n"
     ]
    }
   ],
   "source": [
    "df_dups = df.groupby('text').size().sort_values(0,ascending=False).reset_index().rename(columns={0:\"count\"})\n",
    "print(\"Number of articles duplicated twice: {:,}\".format(df_dups[df_dups['count']==2]['text'].count()))"
   ]
  },
  {
   "cell_type": "code",
   "execution_count": 309,
   "metadata": {},
   "outputs": [],
   "source": [
    "# removing duplicates\n",
    "df = df.drop_duplicates(subset='text', keep='first', inplace=False)"
   ]
  },
  {
   "cell_type": "code",
   "execution_count": 310,
   "metadata": {},
   "outputs": [
    {
     "name": "stdout",
     "output_type": "stream",
     "text": [
      "Current number of articles: 9,772\n"
     ]
    }
   ],
   "source": [
    "print(\"Current number of articles: {:,}\".format(df.shape[0]))"
   ]
  },
  {
   "cell_type": "code",
   "execution_count": 311,
   "metadata": {},
   "outputs": [
    {
     "data": {
      "text/html": [
       "<div>\n",
       "<style scoped>\n",
       "    .dataframe tbody tr th:only-of-type {\n",
       "        vertical-align: middle;\n",
       "    }\n",
       "\n",
       "    .dataframe tbody tr th {\n",
       "        vertical-align: top;\n",
       "    }\n",
       "\n",
       "    .dataframe thead th {\n",
       "        text-align: right;\n",
       "    }\n",
       "</style>\n",
       "<table border=\"1\" class=\"dataframe\">\n",
       "  <thead>\n",
       "    <tr style=\"text-align: right;\">\n",
       "      <th></th>\n",
       "      <th>text</th>\n",
       "      <th>count</th>\n",
       "    </tr>\n",
       "  </thead>\n",
       "  <tbody>\n",
       "    <tr>\n",
       "      <th>0</th>\n",
       "      <td>Único coche del mundo con tres trenes de poten...</td>\n",
       "      <td>1</td>\n",
       "    </tr>\n",
       "    <tr>\n",
       "      <th>1</th>\n",
       "      <td>El plan del Gobierno británico permitirá al se...</td>\n",
       "      <td>1</td>\n",
       "    </tr>\n",
       "    <tr>\n",
       "      <th>2</th>\n",
       "      <td>El plazo de amortización es inferior a un año,...</td>\n",
       "      <td>1</td>\n",
       "    </tr>\n",
       "    <tr>\n",
       "      <th>3</th>\n",
       "      <td>El plazo de aceptación se extenderá desde maña...</td>\n",
       "      <td>1</td>\n",
       "    </tr>\n",
       "    <tr>\n",
       "      <th>4</th>\n",
       "      <td>El plazo de aceptación de la opa que Carlos Sl...</td>\n",
       "      <td>1</td>\n",
       "    </tr>\n",
       "  </tbody>\n",
       "</table>\n",
       "</div>"
      ],
      "text/plain": [
       "                                                text  count\n",
       "0  Único coche del mundo con tres trenes de poten...      1\n",
       "1  El plan del Gobierno británico permitirá al se...      1\n",
       "2  El plazo de amortización es inferior a un año,...      1\n",
       "3  El plazo de aceptación se extenderá desde maña...      1\n",
       "4  El plazo de aceptación de la opa que Carlos Sl...      1"
      ]
     },
     "execution_count": 311,
     "metadata": {},
     "output_type": "execute_result"
    }
   ],
   "source": [
    "df_dups = df.groupby('text').size().sort_values(0,ascending=False).reset_index().rename(columns={0:\"count\"})\n",
    "df_dups.head(5)"
   ]
  },
  {
   "cell_type": "markdown",
   "metadata": {},
   "source": [
    "There are no more text duplicates at this point. However, there are useless articles such as ..."
   ]
  },
  {
   "cell_type": "code",
   "execution_count": 312,
   "metadata": {},
   "outputs": [
    {
     "name": "stdout",
     "output_type": "stream",
     "text": [
      "904 \t 'Este fin de semana con EXPANSIÓN, conozca los fondos más recomendados por los expertos.' \n",
      "\n",
      "1166 \t 'El presidente del Gobierno en funciones y candidato a la reelección por el Partido Popular, Mariano RajoyJuanJo MartínEFE' \n",
      "\n",
      "1722 \t 'La tregua alcanza a las bolsas europeas, y a sus divisas. El Ibex sale de mínimos de tres años con el rebote de la banca y de IAG.' \n",
      "\n",
      "2464 \t 'La comisaria de Competencia de la UE, Margrethe Vestager.Foto: Efe' \n",
      "\n",
      "2701 \t '¡Empieza el partido! ¿Quién de estos pilotos de la Scuderia Ferrari será tan bueno jugando voleibol como lo es en la pista?\\n\\nRemitido' \n",
      "\n",
      "3543 \t 'El fabricante ha presentado en el Salón de Pekín de China una solución de movilidad para los grandes atascos que combina el coche y el patinete.' \n",
      "\n",
      "3677 \t 'Francisco R. Checa y Susana Pérez analizan las claves bursátiles del día y adelantan las previsiones del viernes.' \n",
      "\n",
      "5106 \t 'Esta encuesta está cerrada y no se puede votar en ella.' \n",
      "\n",
      "5479 \t 'Galería Tubo Solar VELUX\\n\\nDescubra los beneficios que aporta la luz natural a su hogar con los tubos solares.' \n",
      "\n",
      "5923 \t 'Puentes no aptos para personas con vértigo Por:Emelia Viaña\\n\\nCharles Kuonen es el puente colgante más largo del mundo con 494 metros de longitud.' \n",
      "\n",
      "7744 \t 'Doce grandes vinos para Navidad Por:Enrique Calduch\\n\\nManzanillas, blancos, tintos, rosados y dulces para los maridajes de estas fiestas.' \n",
      "\n"
     ]
    }
   ],
   "source": [
    "# articles with very short text (useless)\n",
    "for idx, row in df[df['text'].str.len()<150].iterrows():\n",
    "    print(idx, \"\\t\", repr(row['text']), \"\\n\")"
   ]
  },
  {
   "cell_type": "markdown",
   "metadata": {},
   "source": [
    "### Creating new features\n",
    "\n",
    "* section\n",
    "* datepart\n",
    "* day of week\n",
    "* newspaper"
   ]
  },
  {
   "cell_type": "code",
   "execution_count": 313,
   "metadata": {},
   "outputs": [],
   "source": [
    "# newspaper\n",
    "df['newspaper'] = 'expansion'"
   ]
  },
  {
   "cell_type": "code",
   "execution_count": 314,
   "metadata": {},
   "outputs": [],
   "source": [
    "# create seccion field from url\n",
    "df['section'] = df['url'].apply(lambda x: x.split('/')[3])"
   ]
  },
  {
   "cell_type": "code",
   "execution_count": 315,
   "metadata": {
    "scrolled": true
   },
   "outputs": [
    {
     "data": {
      "text/html": [
       "<div>\n",
       "<style scoped>\n",
       "    .dataframe tbody tr th:only-of-type {\n",
       "        vertical-align: middle;\n",
       "    }\n",
       "\n",
       "    .dataframe tbody tr th {\n",
       "        vertical-align: top;\n",
       "    }\n",
       "\n",
       "    .dataframe thead th {\n",
       "        text-align: right;\n",
       "    }\n",
       "</style>\n",
       "<table border=\"1\" class=\"dataframe\">\n",
       "  <thead>\n",
       "    <tr style=\"text-align: right;\">\n",
       "      <th></th>\n",
       "      <th>section</th>\n",
       "      <th>count</th>\n",
       "    </tr>\n",
       "  </thead>\n",
       "  <tbody>\n",
       "    <tr>\n",
       "      <th>0</th>\n",
       "      <td>empresas</td>\n",
       "      <td>2188</td>\n",
       "    </tr>\n",
       "    <tr>\n",
       "      <th>1</th>\n",
       "      <td>economia</td>\n",
       "      <td>1970</td>\n",
       "    </tr>\n",
       "    <tr>\n",
       "      <th>2</th>\n",
       "      <td>mercados</td>\n",
       "      <td>945</td>\n",
       "    </tr>\n",
       "    <tr>\n",
       "      <th>3</th>\n",
       "      <td>aragon</td>\n",
       "      <td>777</td>\n",
       "    </tr>\n",
       "    <tr>\n",
       "      <th>4</th>\n",
       "      <td>extremadura</td>\n",
       "      <td>604</td>\n",
       "    </tr>\n",
       "    <tr>\n",
       "      <th>5</th>\n",
       "      <td>directivos</td>\n",
       "      <td>462</td>\n",
       "    </tr>\n",
       "    <tr>\n",
       "      <th>6</th>\n",
       "      <td>economia-digital</td>\n",
       "      <td>380</td>\n",
       "    </tr>\n",
       "    <tr>\n",
       "      <th>7</th>\n",
       "      <td>fueradeserie</td>\n",
       "      <td>375</td>\n",
       "    </tr>\n",
       "    <tr>\n",
       "      <th>8</th>\n",
       "      <td>sociedad</td>\n",
       "      <td>321</td>\n",
       "    </tr>\n",
       "    <tr>\n",
       "      <th>9</th>\n",
       "      <td>juridico</td>\n",
       "      <td>262</td>\n",
       "    </tr>\n",
       "  </tbody>\n",
       "</table>\n",
       "</div>"
      ],
      "text/plain": [
       "            section  count\n",
       "0          empresas   2188\n",
       "1          economia   1970\n",
       "2          mercados    945\n",
       "3            aragon    777\n",
       "4       extremadura    604\n",
       "5        directivos    462\n",
       "6  economia-digital    380\n",
       "7      fueradeserie    375\n",
       "8          sociedad    321\n",
       "9          juridico    262"
      ]
     },
     "execution_count": 315,
     "metadata": {},
     "output_type": "execute_result"
    }
   ],
   "source": [
    "df.groupby('section').size().sort_values(0, ascending=False).reset_index().rename(columns={0:'count'}).head(10)"
   ]
  },
  {
   "cell_type": "code",
   "execution_count": 316,
   "metadata": {},
   "outputs": [],
   "source": [
    "# split the publish date to date and time and remove time because it is not changing\n",
    "df['date'], df['time'] = df.publish_date.str.split(' ').str\n",
    "df.drop(['time'], axis=1, inplace=True)"
   ]
  },
  {
   "cell_type": "code",
   "execution_count": 317,
   "metadata": {},
   "outputs": [
    {
     "data": {
      "text/html": [
       "<div>\n",
       "<style scoped>\n",
       "    .dataframe tbody tr th:only-of-type {\n",
       "        vertical-align: middle;\n",
       "    }\n",
       "\n",
       "    .dataframe tbody tr th {\n",
       "        vertical-align: top;\n",
       "    }\n",
       "\n",
       "    .dataframe thead th {\n",
       "        text-align: right;\n",
       "    }\n",
       "</style>\n",
       "<table border=\"1\" class=\"dataframe\">\n",
       "  <thead>\n",
       "    <tr style=\"text-align: right;\">\n",
       "      <th></th>\n",
       "      <th>authors</th>\n",
       "      <th>keywords</th>\n",
       "      <th>publish_date</th>\n",
       "      <th>summary</th>\n",
       "      <th>text</th>\n",
       "      <th>title</th>\n",
       "      <th>top_image</th>\n",
       "      <th>url</th>\n",
       "      <th>newspaper</th>\n",
       "      <th>section</th>\n",
       "      <th>date</th>\n",
       "      <th>day_of_week</th>\n",
       "    </tr>\n",
       "  </thead>\n",
       "  <tbody>\n",
       "    <tr>\n",
       "      <th>0</th>\n",
       "      <td>[]</td>\n",
       "      <td>[las, terremoto, se, aumenta, que, ha, el, ecu...</td>\n",
       "      <td>2016-04-17 00:00:00</td>\n",
       "      <td>El presidente de Ecuador, Rafael Correa, ha el...</td>\n",
       "      <td>El presidente de Ecuador, Rafael Correa, ha el...</td>\n",
       "      <td>Aumenta a 272 el número de muertos a causa del...</td>\n",
       "      <td>http://estaticos.expansion.com/assets/desktop/...</td>\n",
       "      <td>http://www.expansion.com/sociedad/2016/04/17/5...</td>\n",
       "      <td>expansion</td>\n",
       "      <td>sociedad</td>\n",
       "      <td>2016-04-17</td>\n",
       "      <td>Sunday</td>\n",
       "    </tr>\n",
       "    <tr>\n",
       "      <th>1</th>\n",
       "      <td>[]</td>\n",
       "      <td>[empresa, sauces, presunta, investigan, tambié...</td>\n",
       "      <td>2016-05-03 00:00:00</td>\n",
       "      <td>La Justicia argentina ha iniciado una causa po...</td>\n",
       "      <td>La Justicia argentina ha iniciado una causa po...</td>\n",
       "      <td>Investigan una empresa de Cristina Fernández d...</td>\n",
       "      <td>http://estaticos.expansion.com/assets/multimed...</td>\n",
       "      <td>http://www.expansion.com/economia/politica/201...</td>\n",
       "      <td>expansion</td>\n",
       "      <td>economia</td>\n",
       "      <td>2016-05-03</td>\n",
       "      <td>Tuesday</td>\n",
       "    </tr>\n",
       "    <tr>\n",
       "      <th>2</th>\n",
       "      <td>[]</td>\n",
       "      <td>[superiores, las, pedroche, ser, josé, ni, que...</td>\n",
       "      <td>2016-04-17 00:00:00</td>\n",
       "      <td>Cristina Pedroche es de izquierdas y de Vallec...</td>\n",
       "      <td>Cristina Pedroche es de izquierdas y de Vallec...</td>\n",
       "      <td>Ni Cristina Pedroche ni José Sacristán son sup...</td>\n",
       "      <td>http://estaticos.expansion.com/assets/multimed...</td>\n",
       "      <td>http://www.expansion.com/actualidadeconomica/a...</td>\n",
       "      <td>expansion</td>\n",
       "      <td>actualidadeconomica</td>\n",
       "      <td>2016-04-17</td>\n",
       "      <td>Sunday</td>\n",
       "    </tr>\n",
       "    <tr>\n",
       "      <th>3</th>\n",
       "      <td>[]</td>\n",
       "      <td>[su, próximo, resultado, que, el, en, del, gre...</td>\n",
       "      <td>2016-04-17 00:00:00</td>\n",
       "      <td>\"El equipo del Fondo volverá a Atenas a princi...</td>\n",
       "      <td>La directora gerente del Fondo Monetario Inter...</td>\n",
       "      <td>El FMI no espera obtener un \"resultado inmedia...</td>\n",
       "      <td>http://estaticos.expansion.com/assets/multimed...</td>\n",
       "      <td>http://www.expansion.com/economia/2016/04/17/5...</td>\n",
       "      <td>expansion</td>\n",
       "      <td>economia</td>\n",
       "      <td>2016-04-17</td>\n",
       "      <td>Sunday</td>\n",
       "    </tr>\n",
       "    <tr>\n",
       "      <th>4</th>\n",
       "      <td>[]</td>\n",
       "      <td>[su, aunque, que, encontrará, investigarme, po...</td>\n",
       "      <td>2016-04-17 00:00:00</td>\n",
       "      <td>En una entrevista en el diario El País, Soria ...</td>\n",
       "      <td>El ex ministro reconoce que a pesar de que su ...</td>\n",
       "      <td>Soria: \"Montoro hará bien en investigarme, aun...</td>\n",
       "      <td>http://estaticos.expansion.com/assets/multimed...</td>\n",
       "      <td>http://www.expansion.com/economia/politica/201...</td>\n",
       "      <td>expansion</td>\n",
       "      <td>economia</td>\n",
       "      <td>2016-04-17</td>\n",
       "      <td>Sunday</td>\n",
       "    </tr>\n",
       "  </tbody>\n",
       "</table>\n",
       "</div>"
      ],
      "text/plain": [
       "  authors                                           keywords  \\\n",
       "0      []  [las, terremoto, se, aumenta, que, ha, el, ecu...   \n",
       "1      []  [empresa, sauces, presunta, investigan, tambié...   \n",
       "2      []  [superiores, las, pedroche, ser, josé, ni, que...   \n",
       "3      []  [su, próximo, resultado, que, el, en, del, gre...   \n",
       "4      []  [su, aunque, que, encontrará, investigarme, po...   \n",
       "\n",
       "          publish_date                                            summary  \\\n",
       "0  2016-04-17 00:00:00  El presidente de Ecuador, Rafael Correa, ha el...   \n",
       "1  2016-05-03 00:00:00  La Justicia argentina ha iniciado una causa po...   \n",
       "2  2016-04-17 00:00:00  Cristina Pedroche es de izquierdas y de Vallec...   \n",
       "3  2016-04-17 00:00:00  \"El equipo del Fondo volverá a Atenas a princi...   \n",
       "4  2016-04-17 00:00:00  En una entrevista en el diario El País, Soria ...   \n",
       "\n",
       "                                                text  \\\n",
       "0  El presidente de Ecuador, Rafael Correa, ha el...   \n",
       "1  La Justicia argentina ha iniciado una causa po...   \n",
       "2  Cristina Pedroche es de izquierdas y de Vallec...   \n",
       "3  La directora gerente del Fondo Monetario Inter...   \n",
       "4  El ex ministro reconoce que a pesar de que su ...   \n",
       "\n",
       "                                               title  \\\n",
       "0  Aumenta a 272 el número de muertos a causa del...   \n",
       "1  Investigan una empresa de Cristina Fernández d...   \n",
       "2  Ni Cristina Pedroche ni José Sacristán son sup...   \n",
       "3  El FMI no espera obtener un \"resultado inmedia...   \n",
       "4  Soria: \"Montoro hará bien en investigarme, aun...   \n",
       "\n",
       "                                           top_image  \\\n",
       "0  http://estaticos.expansion.com/assets/desktop/...   \n",
       "1  http://estaticos.expansion.com/assets/multimed...   \n",
       "2  http://estaticos.expansion.com/assets/multimed...   \n",
       "3  http://estaticos.expansion.com/assets/multimed...   \n",
       "4  http://estaticos.expansion.com/assets/multimed...   \n",
       "\n",
       "                                                 url  newspaper  \\\n",
       "0  http://www.expansion.com/sociedad/2016/04/17/5...  expansion   \n",
       "1  http://www.expansion.com/economia/politica/201...  expansion   \n",
       "2  http://www.expansion.com/actualidadeconomica/a...  expansion   \n",
       "3  http://www.expansion.com/economia/2016/04/17/5...  expansion   \n",
       "4  http://www.expansion.com/economia/politica/201...  expansion   \n",
       "\n",
       "               section       date day_of_week  \n",
       "0             sociedad 2016-04-17      Sunday  \n",
       "1             economia 2016-05-03     Tuesday  \n",
       "2  actualidadeconomica 2016-04-17      Sunday  \n",
       "3             economia 2016-04-17      Sunday  \n",
       "4             economia 2016-04-17      Sunday  "
      ]
     },
     "execution_count": 317,
     "metadata": {},
     "output_type": "execute_result"
    }
   ],
   "source": [
    "# convert date columns to datetime and create day_of_week column\n",
    "df['date'] = pd.to_datetime(df['date'])\n",
    "df['day_of_week'] = df['date'].dt.weekday_name\n",
    "df.head(5)"
   ]
  },
  {
   "cell_type": "code",
   "execution_count": 318,
   "metadata": {},
   "outputs": [],
   "source": [
    "# drop unnecessary columns\n",
    "df.drop(['top_image', 'publish_date'], axis=1, inplace=True)"
   ]
  },
  {
   "cell_type": "markdown",
   "metadata": {},
   "source": [
    "### Dump to JSON"
   ]
  },
  {
   "cell_type": "code",
   "execution_count": 319,
   "metadata": {},
   "outputs": [],
   "source": [
    "df.to_json('./articles_clean_expansion.json')"
   ]
  },
  {
   "cell_type": "code",
   "execution_count": 320,
   "metadata": {},
   "outputs": [
    {
     "name": "stdout",
     "output_type": "stream",
     "text": [
      "{   'authors': [],\n",
      "    'date': Timestamp('2016-04-17 00:00:00'),\n",
      "    'day_of_week': 'Sunday',\n",
      "    'keywords': [   'las',\n",
      "                    'terremoto',\n",
      "                    'se',\n",
      "                    'aumenta',\n",
      "                    'que',\n",
      "                    'ha',\n",
      "                    'el',\n",
      "                    'ecuador',\n",
      "                    'en',\n",
      "                    'del',\n",
      "                    '272',\n",
      "                    'muertos',\n",
      "                    'causa',\n",
      "                    'número',\n",
      "                    'y',\n",
      "                    'los',\n",
      "                    'la'],\n",
      "    'newspaper': 'expansion',\n",
      "    'section': 'sociedad',\n",
      "    'summary': 'El presidente de Ecuador, Rafael Correa, ha elevado este '\n",
      "               'domingo a 272 el número de muertos a causa del terremoto de '\n",
      "               'magnitud 7,8 en la escala de Richter que sacudió el sábado el '\n",
      "               'país, agregando que el balance de víctimas \"aumentará en las '\n",
      "               'próximas horas\".\\n'\n",
      "               '\"Son momentos difíciles para la patria, la tragedia más grande '\n",
      "               'de los últimos 67 años, solo superada por el terremoto de '\n",
      "               'Ambato el 5 de agosto de 1949\", ha dicho, según ha informado '\n",
      "               \"el diario ecuatoriano 'El Telégrafo'.\\n\"\n",
      "               'Solo la voluntad superará estos momentos difíciles\", ha '\n",
      "               'remachado el mandatario, que ha indicado además que el seísmo '\n",
      "               'ha dejado 2.068 personas heridas.\\n'\n",
      "               'Horas antes, el vicepresidente ecuatoriano, Jorge Glas, había '\n",
      "               'elevado a 246 muertos y 2.527 heridos el balance de víctimas '\n",
      "               'del terremoto, agregando que las autoridades están elaborando '\n",
      "               'una lista de desaparecidos.\\n'\n",
      "               'El epicentro se ha localizado a 170 kilómetros al '\n",
      "               'norte-noroeste de Quito.',\n",
      "    'text': 'El presidente de Ecuador, Rafael Correa, ha elevado este domingo '\n",
      "            'a 272 el número de muertos a causa del terremoto de magnitud 7,8 '\n",
      "            'en la escala de Richter que sacudió el sábado el país, agregando '\n",
      "            'que el balance de víctimas \"aumentará en las próximas horas\".\\n'\n",
      "            '\\n'\n",
      "            '\"Son momentos difíciles para la patria, la tragedia más grande de '\n",
      "            'los últimos 67 años, solo superada por el terremoto de Ambato el '\n",
      "            '5 de agosto de 1949\", ha dicho, según ha informado el diario '\n",
      "            \"ecuatoriano 'El Telégrafo'.\\n\"\n",
      "            '\\n'\n",
      "            '\"Es momento de grandes tareas y desafíos. Solo la voluntad '\n",
      "            'superará estos momentos difíciles\", ha remachado el mandatario, '\n",
      "            'que ha indicado además que el seísmo ha dejado 2.068 personas '\n",
      "            'heridas.\\n'\n",
      "            '\\n'\n",
      "            'Horas antes, el vicepresidente ecuatoriano, Jorge Glas, había '\n",
      "            'elevado a 246 muertos y 2.527 heridos el balance de víctimas del '\n",
      "            'terremoto, agregando que las autoridades están elaborando una '\n",
      "            'lista de desaparecidos.\\n'\n",
      "            '\\n'\n",
      "            'El seísmo, que habría tenido casi un minuto de duración, ha '\n",
      "            'tenido su epicentro en la costa de Esmeraldas, concretamente '\n",
      "            'cerca de la localidad de Muisne (norte), aunque también se llegó '\n",
      "            'a notar de manera importante en la capital, Quito, y en la ciudad '\n",
      "            'de Guayaquil, la segunda mayor del país. El epicentro se ha '\n",
      "            'localizado a 170 kilómetros al norte-noroeste de Quito.\\n'\n",
      "            '\\n'\n",
      "            'Ayuda española\\n'\n",
      "            '\\n'\n",
      "            'El Gobierno de España ha ofrecido a Ecuador ayuda de emergencia '\n",
      "            'para los damnificados por el terremoto, que se suma a los 50 '\n",
      "            'efectivos de la Unidad Militar de Emergencias que, junto con '\n",
      "            'perros adiestrados, participará en las labores de rescate tras el '\n",
      "            'terremoto del sábado, han informado a Europa Press fuentes del '\n",
      "            'Ministerio de Asuntos Exteriores y de Cooperación.\\n'\n",
      "            '\\n'\n",
      "            'En concreto, España está en condiciones de aportar material de '\n",
      "            'cobijo (tiendas de campaña, plásticos impermeables y mantas), '\n",
      "            'productos higiénicos, material para la potabilización de agua y '\n",
      "            'medicamentos. De momento este envío de material está pendiente de '\n",
      "            'concretarse, pues las autoridades ecuatorianas la primera ayuda '\n",
      "            'que han aceptado son los equipos de rescate.\\n'\n",
      "            '\\n'\n",
      "            'Anoche el Gobierno español no tenía constancia de víctimas '\n",
      "            'españolas, pero este dato se toma con prudencia, pues los daños '\n",
      "            'que el seísmo ha provocado en las comunicaciones (se han caído '\n",
      "            'repetidores y algunas zonas están sin suministro eléctrico) '\n",
      "            'dificultan contactar con el conjunto de la colonia española.',\n",
      "    'title': 'Aumenta a 272 el número de muertos a causa del terremoto en '\n",
      "             'Ecuador',\n",
      "    'url': 'http://www.expansion.com/sociedad/2016/04/17/5713176722601db2238b461c.html'}\n"
     ]
    }
   ],
   "source": [
    "pp.pprint(dict(df.loc[0]))"
   ]
  },
  {
   "cell_type": "markdown",
   "metadata": {},
   "source": [
    "---\n",
    "\n",
    "## 2. Cincodias"
   ]
  },
  {
   "cell_type": "code",
   "execution_count": 321,
   "metadata": {},
   "outputs": [],
   "source": [
    "# article content downloaded and parsed with newspaper3k\n",
    "data = []        \n",
    "with open('../articles_cincodias.json') as input_file:\n",
    "    for line in input_file:\n",
    "        data.append(json.loads(line))"
   ]
  },
  {
   "cell_type": "code",
   "execution_count": 322,
   "metadata": {},
   "outputs": [],
   "source": [
    "df = pd.DataFrame(data)"
   ]
  },
  {
   "cell_type": "code",
   "execution_count": 323,
   "metadata": {},
   "outputs": [
    {
     "name": "stdout",
     "output_type": "stream",
     "text": [
      "Number of articles downloaded: 3,998\n"
     ]
    }
   ],
   "source": [
    "print(\"Number of articles downloaded: {:,}\".format(df.shape[0]))"
   ]
  },
  {
   "cell_type": "markdown",
   "metadata": {},
   "source": [
    "### Duplicates and useless articles"
   ]
  },
  {
   "cell_type": "code",
   "execution_count": 324,
   "metadata": {},
   "outputs": [
    {
     "data": {
      "text/html": [
       "<div>\n",
       "<style scoped>\n",
       "    .dataframe tbody tr th:only-of-type {\n",
       "        vertical-align: middle;\n",
       "    }\n",
       "\n",
       "    .dataframe tbody tr th {\n",
       "        vertical-align: top;\n",
       "    }\n",
       "\n",
       "    .dataframe thead th {\n",
       "        text-align: right;\n",
       "    }\n",
       "</style>\n",
       "<table border=\"1\" class=\"dataframe\">\n",
       "  <thead>\n",
       "    <tr style=\"text-align: right;\">\n",
       "      <th></th>\n",
       "      <th>text</th>\n",
       "      <th>count</th>\n",
       "    </tr>\n",
       "  </thead>\n",
       "  <tbody>\n",
       "    <tr>\n",
       "      <th>0</th>\n",
       "      <td>¿No estás registrado? Crea tu cuenta\\n\\nEntra ...</td>\n",
       "      <td>26</td>\n",
       "    </tr>\n",
       "    <tr>\n",
       "      <th>1</th>\n",
       "      <td>Europa ha empezado ya con un particular carrus...</td>\n",
       "      <td>2</td>\n",
       "    </tr>\n",
       "    <tr>\n",
       "      <th>2</th>\n",
       "      <td>Hablemos de democracia. Si quieren hablemos en...</td>\n",
       "      <td>2</td>\n",
       "    </tr>\n",
       "    <tr>\n",
       "      <th>3</th>\n",
       "      <td>Luis de Guindos está a poco más de un paso de ...</td>\n",
       "      <td>2</td>\n",
       "    </tr>\n",
       "    <tr>\n",
       "      <th>4</th>\n",
       "      <td>El euríbor a 12 meses, el indicador más utiliz...</td>\n",
       "      <td>2</td>\n",
       "    </tr>\n",
       "  </tbody>\n",
       "</table>\n",
       "</div>"
      ],
      "text/plain": [
       "                                                text  count\n",
       "0  ¿No estás registrado? Crea tu cuenta\\n\\nEntra ...     26\n",
       "1  Europa ha empezado ya con un particular carrus...      2\n",
       "2  Hablemos de democracia. Si quieren hablemos en...      2\n",
       "3  Luis de Guindos está a poco más de un paso de ...      2\n",
       "4  El euríbor a 12 meses, el indicador más utiliz...      2"
      ]
     },
     "execution_count": 324,
     "metadata": {},
     "output_type": "execute_result"
    }
   ],
   "source": [
    "df_dups = df.groupby('text').size().sort_values(0,ascending=False).reset_index().rename(columns={0:\"count\"})\n",
    "df_dups.head(5)"
   ]
  },
  {
   "cell_type": "code",
   "execution_count": 325,
   "metadata": {},
   "outputs": [
    {
     "name": "stdout",
     "output_type": "stream",
     "text": [
      "Current number of articles: 3,972\n"
     ]
    }
   ],
   "source": [
    "# text 0: ¿No estás registrado? Crea tu cuenta\\n\\nEntra ...\n",
    "idx = df.index[df['text']==df_dups.loc[0]['text']]\n",
    "df = df.drop(idx)\n",
    "\n",
    "print(\"Current number of articles: {:,}\".format(df.shape[0]))"
   ]
  },
  {
   "cell_type": "code",
   "execution_count": 326,
   "metadata": {},
   "outputs": [
    {
     "name": "stdout",
     "output_type": "stream",
     "text": [
      "Number of articles duplicated twice: 6\n"
     ]
    }
   ],
   "source": [
    "df_dups = df.groupby('text').size().sort_values(0,ascending=False).reset_index().rename(columns={0:\"count\"})\n",
    "print(\"Number of articles duplicated twice: {:,}\".format(df_dups[df_dups['count']==2]['text'].count()))"
   ]
  },
  {
   "cell_type": "code",
   "execution_count": 327,
   "metadata": {},
   "outputs": [
    {
     "name": "stdout",
     "output_type": "stream",
     "text": [
      "Current number of articles: 3,966\n"
     ]
    }
   ],
   "source": [
    "# removing duplicates\n",
    "df = df.drop_duplicates(subset='text', keep='first', inplace=False)\n",
    "print(\"Current number of articles: {:,}\".format(df.shape[0]))"
   ]
  },
  {
   "cell_type": "code",
   "execution_count": 328,
   "metadata": {},
   "outputs": [
    {
     "data": {
      "text/html": [
       "<div>\n",
       "<style scoped>\n",
       "    .dataframe tbody tr th:only-of-type {\n",
       "        vertical-align: middle;\n",
       "    }\n",
       "\n",
       "    .dataframe tbody tr th {\n",
       "        vertical-align: top;\n",
       "    }\n",
       "\n",
       "    .dataframe thead th {\n",
       "        text-align: right;\n",
       "    }\n",
       "</style>\n",
       "<table border=\"1\" class=\"dataframe\">\n",
       "  <thead>\n",
       "    <tr style=\"text-align: right;\">\n",
       "      <th></th>\n",
       "      <th>text</th>\n",
       "      <th>count</th>\n",
       "    </tr>\n",
       "  </thead>\n",
       "  <tbody>\n",
       "    <tr>\n",
       "      <th>0</th>\n",
       "      <td>“¡Que no le falte de nada a mis #materialadict...</td>\n",
       "      <td>1</td>\n",
       "    </tr>\n",
       "    <tr>\n",
       "      <th>1</th>\n",
       "      <td>El principal indicador de la bolsa española, e...</td>\n",
       "      <td>1</td>\n",
       "    </tr>\n",
       "    <tr>\n",
       "      <th>2</th>\n",
       "      <td>El principal indicador de la Bolsa española, e...</td>\n",
       "      <td>1</td>\n",
       "    </tr>\n",
       "    <tr>\n",
       "      <th>3</th>\n",
       "      <td>El primer trimestre del año deja en los invers...</td>\n",
       "      <td>1</td>\n",
       "    </tr>\n",
       "    <tr>\n",
       "      <th>4</th>\n",
       "      <td>El primer trimestre de año ha estado repleto d...</td>\n",
       "      <td>1</td>\n",
       "    </tr>\n",
       "  </tbody>\n",
       "</table>\n",
       "</div>"
      ],
      "text/plain": [
       "                                                text  count\n",
       "0  “¡Que no le falte de nada a mis #materialadict...      1\n",
       "1  El principal indicador de la bolsa española, e...      1\n",
       "2  El principal indicador de la Bolsa española, e...      1\n",
       "3  El primer trimestre del año deja en los invers...      1\n",
       "4  El primer trimestre de año ha estado repleto d...      1"
      ]
     },
     "execution_count": 328,
     "metadata": {},
     "output_type": "execute_result"
    }
   ],
   "source": [
    "df_dups = df.groupby('text').size().sort_values(0,ascending=False).reset_index().rename(columns={0:\"count\"})\n",
    "df_dups.head(5)"
   ]
  },
  {
   "cell_type": "code",
   "execution_count": 329,
   "metadata": {},
   "outputs": [
    {
     "name": "stdout",
     "output_type": "stream",
     "text": [
      "Current number of articles: 3,965\n"
     ]
    }
   ],
   "source": [
    "# removing empty text articles\n",
    "df = df.drop(df[df['text']==''].index)\n",
    "print(\"Current number of articles: {:,}\".format(df.shape[0]))"
   ]
  },
  {
   "cell_type": "code",
   "execution_count": 330,
   "metadata": {},
   "outputs": [
    {
     "name": "stdout",
     "output_type": "stream",
     "text": [
      "57 \t 'El coste de los despidos en el sector financiero\\n\\nCompatir en Linkedin Enviar por correo Subir' \n",
      "\n",
      "79 \t 'Los problemas a los que se enfrentan los bancos europeos\\n\\nCompatir en Linkedin Enviar por correo Subir' \n",
      "\n",
      "243 \t 'Los creadores de la serie de HBO \"Silicon Valley\" creen que la tecnología está plagada de \"hippies\"\\n\\nCompatir en Linkedin Enviar por correo Subir' \n",
      "\n",
      "459 \t 'José Padilla, Padilla Supermercados-Spar: “El éxito de nuestro negocio es estar a la altura de las necesidades de nuestro cliente”.' \n",
      "\n",
      "480 \t 'Si apuestas en la Eurocopa 2016, estas webs predicen el resultado de cada partido\\n\\nCompatir en Linkedin Enviar por correo Subir' \n",
      "\n",
      "632 \t 'Cuatro empresas se jugaban las adjudicaciones de las obras con el número del Gordo de Navidad.' \n",
      "\n",
      "806 \t '3\\n\\nLa selección de EE UU de baloncesto, uno de los grandes atractivos de estos juegos, arrolló a China (119-62) en su primer partido en Rio.' \n",
      "\n",
      "915 \t 'Sánchez da un portazo a Rajoy con un \"no rotundo\"\\n\\nAtlas' \n",
      "\n",
      "993 \t 'Hay una posibilidad remota de que la Fed suba las tasas: presidente ejecutivo\\n\\nCompatir en Linkedin Enviar por correo Subir' \n",
      "\n",
      "1036 \t 'Tecnología\\n\\n¿Cuánto te paga Apple por tu iPhone antiguo?' \n",
      "\n",
      "1160 \t 'Las redes sociales no son solo algo que está bien tener en un negocio: Hootsuite\\n\\nCompatir en Linkedin Enviar por correo Subir' \n",
      "\n",
      "1161 \t 'Gross: una victoria de Trump significaría que el dólar y los bonos estarían en negativo\\n\\nCompatir en Linkedin Enviar por correo Subir' \n",
      "\n",
      "1163 \t 'El nuevo Gobierno\\n\\nQuién ha ocupado cada ministerio en las diferentes legislaturas' \n",
      "\n",
      "1167 \t 'El petróleo no subirá de 66 dólares, ni siquiera en 2019: analista\\n\\nCompatir en Linkedin Enviar por correo Subir' \n",
      "\n",
      "1169 \t 'No somos un banco europeo, somos un banco suizo: presidente de UBS\\n\\nCompatir en Linkedin Enviar por correo Subir' \n",
      "\n",
      "1211 \t 'Carlos Piñeiro, director de PigCHAMP Pro Europa: “La crisis nos vino bien, nos hizo buscar en otros sitios”.' \n",
      "\n",
      "1304 \t 'Es poco probable que se conozca la decisión final sobre Heathrow antes de finales del 2017\\n\\nCompatir en Linkedin Enviar por correo Subir' \n",
      "\n",
      "1428 \t 'Proceso de reestructuración\\n\\nAbengoa, rescatada: ¿qué ha pasado en la empresa en los últimos meses?' \n",
      "\n",
      "1433 \t 'Se esperan tasas más bajas durante más tiempo: Director General adjunto de la Société Générale\\n\\nCompatir en Linkedin Enviar por correo Subir' \n",
      "\n",
      "1671 \t 'El mercado del petróleo podría entrar en déficit a principios de 2017: pro\\n\\nCompatir en Linkedin Enviar por correo Subir' \n",
      "\n",
      "1693 \t 'Los gastos de constitución de la hipoteca, nuevo frente judial para la banca\\n\\nCompatir en Linkedin Enviar por correo Subir' \n",
      "\n",
      "1813 \t 'Merkel: la lucha contra el terrorismo no justifica la intolerancia\\n\\nCompatir en Linkedin Enviar por correo Subir' \n",
      "\n",
      "1864 \t 'Knight Frank: no hay que exagerar el impacto del brexit en el mercado de la vivienda\\n\\nCompatir en Linkedin Enviar por correo Subir' \n",
      "\n",
      "2018 \t 'Homenaje\\n\\nMadrid recuerda a las víctimas del 11M' \n",
      "\n",
      "2121 \t 'El salario de los altos cargos: el Gobierno, la institución peor pagada\\n\\nCompatir en Linkedin Enviar por correo Subir' \n",
      "\n",
      "2476 \t '7\\n\\nMcLaren 570S. Ganador de la categoría especial Coche de Ensueño, en la que se elige el coche ideal sin atender a argumentos racionales.' \n",
      "\n"
     ]
    }
   ],
   "source": [
    "# articles with very short text (useless)\n",
    "for idx, row in df[df['text'].str.len()<150].iterrows():\n",
    "    print(idx, \"\\t\", repr(row['text']), \"\\n\")"
   ]
  },
  {
   "cell_type": "markdown",
   "metadata": {},
   "source": [
    "### Creating new features\n",
    "\n",
    "* section\n",
    "* datepart\n",
    "* day of week\n",
    "* newspaper"
   ]
  },
  {
   "cell_type": "code",
   "execution_count": 331,
   "metadata": {},
   "outputs": [],
   "source": [
    "# newspaper\n",
    "df['newspaper'] = 'cincodias'"
   ]
  },
  {
   "cell_type": "code",
   "execution_count": 332,
   "metadata": {},
   "outputs": [],
   "source": [
    "# create seccion field from url\n",
    "df['section'] = df['url'].apply(lambda x: x.split('/')[7])"
   ]
  },
  {
   "cell_type": "code",
   "execution_count": 333,
   "metadata": {},
   "outputs": [
    {
     "data": {
      "text/html": [
       "<div>\n",
       "<style scoped>\n",
       "    .dataframe tbody tr th:only-of-type {\n",
       "        vertical-align: middle;\n",
       "    }\n",
       "\n",
       "    .dataframe tbody tr th {\n",
       "        vertical-align: top;\n",
       "    }\n",
       "\n",
       "    .dataframe thead th {\n",
       "        text-align: right;\n",
       "    }\n",
       "</style>\n",
       "<table border=\"1\" class=\"dataframe\">\n",
       "  <thead>\n",
       "    <tr style=\"text-align: right;\">\n",
       "      <th></th>\n",
       "      <th>section</th>\n",
       "      <th>count</th>\n",
       "    </tr>\n",
       "  </thead>\n",
       "  <tbody>\n",
       "    <tr>\n",
       "      <th>0</th>\n",
       "      <td>mercados</td>\n",
       "      <td>792</td>\n",
       "    </tr>\n",
       "    <tr>\n",
       "      <th>1</th>\n",
       "      <td>companias</td>\n",
       "      <td>686</td>\n",
       "    </tr>\n",
       "    <tr>\n",
       "      <th>2</th>\n",
       "      <td>empresas</td>\n",
       "      <td>618</td>\n",
       "    </tr>\n",
       "    <tr>\n",
       "      <th>3</th>\n",
       "      <td>economia</td>\n",
       "      <td>464</td>\n",
       "    </tr>\n",
       "    <tr>\n",
       "      <th>4</th>\n",
       "      <td>lifestyle</td>\n",
       "      <td>197</td>\n",
       "    </tr>\n",
       "    <tr>\n",
       "      <th>5</th>\n",
       "      <td>midinero</td>\n",
       "      <td>196</td>\n",
       "    </tr>\n",
       "    <tr>\n",
       "      <th>6</th>\n",
       "      <td>sentidos</td>\n",
       "      <td>135</td>\n",
       "    </tr>\n",
       "    <tr>\n",
       "      <th>7</th>\n",
       "      <td>smartphones</td>\n",
       "      <td>129</td>\n",
       "    </tr>\n",
       "    <tr>\n",
       "      <th>8</th>\n",
       "      <td>fortunas</td>\n",
       "      <td>105</td>\n",
       "    </tr>\n",
       "    <tr>\n",
       "      <th>9</th>\n",
       "      <td>autonomos</td>\n",
       "      <td>99</td>\n",
       "    </tr>\n",
       "  </tbody>\n",
       "</table>\n",
       "</div>"
      ],
      "text/plain": [
       "       section  count\n",
       "0     mercados    792\n",
       "1    companias    686\n",
       "2     empresas    618\n",
       "3     economia    464\n",
       "4    lifestyle    197\n",
       "5     midinero    196\n",
       "6     sentidos    135\n",
       "7  smartphones    129\n",
       "8     fortunas    105\n",
       "9    autonomos     99"
      ]
     },
     "execution_count": 333,
     "metadata": {},
     "output_type": "execute_result"
    }
   ],
   "source": [
    "df.groupby('section').size().sort_values(0, ascending=False).reset_index().rename(columns={0:'count'}).head(10)"
   ]
  },
  {
   "cell_type": "code",
   "execution_count": 334,
   "metadata": {},
   "outputs": [],
   "source": [
    "# split the publish date to date and time and remove time because it is not changing\n",
    "df['date'], df['time'] = df.publish_date.str.split(' ').str\n",
    "df.drop(['time'], axis=1, inplace=True)"
   ]
  },
  {
   "cell_type": "code",
   "execution_count": 335,
   "metadata": {},
   "outputs": [
    {
     "data": {
      "text/html": [
       "<div>\n",
       "<style scoped>\n",
       "    .dataframe tbody tr th:only-of-type {\n",
       "        vertical-align: middle;\n",
       "    }\n",
       "\n",
       "    .dataframe tbody tr th {\n",
       "        vertical-align: top;\n",
       "    }\n",
       "\n",
       "    .dataframe thead th {\n",
       "        text-align: right;\n",
       "    }\n",
       "</style>\n",
       "<table border=\"1\" class=\"dataframe\">\n",
       "  <thead>\n",
       "    <tr style=\"text-align: right;\">\n",
       "      <th></th>\n",
       "      <th>authors</th>\n",
       "      <th>keywords</th>\n",
       "      <th>publish_date</th>\n",
       "      <th>summary</th>\n",
       "      <th>text</th>\n",
       "      <th>title</th>\n",
       "      <th>top_image</th>\n",
       "      <th>url</th>\n",
       "      <th>newspaper</th>\n",
       "      <th>section</th>\n",
       "      <th>date</th>\n",
       "      <th>day_of_week</th>\n",
       "    </tr>\n",
       "  </thead>\n",
       "  <tbody>\n",
       "    <tr>\n",
       "      <th>0</th>\n",
       "      <td>[Carlos González Villamil]</td>\n",
       "      <td>[y, videoconsola, en, uso, la, mac, que, para,...</td>\n",
       "      <td>2016-04-09 00:00:00</td>\n",
       "      <td>El firmware 3.50 de PlayStation 4 ha mejorado ...</td>\n",
       "      <td>El firmware 3.50 de PlayStation 4 ha mejorado ...</td>\n",
       "      <td>Cómo configurar Remote Play en PC y Mac para e...</td>\n",
       "      <td>https://d500.epimg.net/cincodias/imagenes/2016...</td>\n",
       "      <td>https://cincodias.elpais.com/cincodias/2016/04...</td>\n",
       "      <td>cincodias</td>\n",
       "      <td>lifestyle</td>\n",
       "      <td>2016-04-09</td>\n",
       "      <td>Saturday</td>\n",
       "    </tr>\n",
       "    <tr>\n",
       "      <th>1</th>\n",
       "      <td>[Juande Portillo]</td>\n",
       "      <td>[y, los, la, en, que, reduciendo, adelgaza, ba...</td>\n",
       "      <td>2016-04-08 00:00:00</td>\n",
       "      <td>Una dieta a largo plazo, en todo caso, a la qu...</td>\n",
       "      <td>En apenas una década, y con una crisis financi...</td>\n",
       "      <td>La banca adelgaza costes reduciendo red y plan...</td>\n",
       "      <td>https://d500.epimg.net/cincodias/imagenes/2016...</td>\n",
       "      <td>https://cincodias.elpais.com/cincodias/2016/04...</td>\n",
       "      <td>cincodias</td>\n",
       "      <td>mercados</td>\n",
       "      <td>2016-04-08</td>\n",
       "      <td>Friday</td>\n",
       "    </tr>\n",
       "    <tr>\n",
       "      <th>2</th>\n",
       "      <td>[]</td>\n",
       "      <td>[y, los, en, la, han, que, trabajadores, prote...</td>\n",
       "      <td>2016-04-09 00:00:00</td>\n",
       "      <td>Los trabajadores de Lauki, cuya factoría de Va...</td>\n",
       "      <td>Los trabajadores de Lauki, cuya factoría de Va...</td>\n",
       "      <td>Protesta de la plantilla de Lauki por el cierr...</td>\n",
       "      <td>https://d500.epimg.net/cincodias/imagenes/2016...</td>\n",
       "      <td>https://cincodias.elpais.com/cincodias/2016/04...</td>\n",
       "      <td>cincodias</td>\n",
       "      <td>empresas</td>\n",
       "      <td>2016-04-09</td>\n",
       "      <td>Saturday</td>\n",
       "    </tr>\n",
       "    <tr>\n",
       "      <th>3</th>\n",
       "      <td>[Javier Fernández Magariño, Pablo Monge]</td>\n",
       "      <td>[será, nacerá, y, los, la, en, que, europa, ai...</td>\n",
       "      <td>2016-04-09 00:00:00</td>\n",
       "      <td>Air Europa Express nace sobre la pequeña aerol...</td>\n",
       "      <td>Juan José Hidalgo, presidente de Globalia y Ai...</td>\n",
       "      <td>Esta será la nueva Air Europa 'low cost' que n...</td>\n",
       "      <td>https://d500.epimg.net/cincodias/imagenes/2016...</td>\n",
       "      <td>https://cincodias.elpais.com/cincodias/2016/04...</td>\n",
       "      <td>cincodias</td>\n",
       "      <td>empresas</td>\n",
       "      <td>2016-04-09</td>\n",
       "      <td>Saturday</td>\n",
       "    </tr>\n",
       "    <tr>\n",
       "      <th>4</th>\n",
       "      <td>[Will Oliver]</td>\n",
       "      <td>[y, último, su, en, la, año, que, cameron, el,...</td>\n",
       "      <td>2016-04-09 00:00:00</td>\n",
       "      <td>WILL OLIVER EFEDavid Cameron, primer ministro ...</td>\n",
       "      <td>Protestas en Londres tras conocer la conexión ...</td>\n",
       "      <td>Cameron pagó impuestos por 90.000 euros en el ...</td>\n",
       "      <td>https://d500.epimg.net/cincodias/imagenes/2016...</td>\n",
       "      <td>https://cincodias.elpais.com/cincodias/2016/04...</td>\n",
       "      <td>cincodias</td>\n",
       "      <td>economia</td>\n",
       "      <td>2016-04-09</td>\n",
       "      <td>Saturday</td>\n",
       "    </tr>\n",
       "  </tbody>\n",
       "</table>\n",
       "</div>"
      ],
      "text/plain": [
       "                                    authors  \\\n",
       "0                [Carlos González Villamil]   \n",
       "1                         [Juande Portillo]   \n",
       "2                                        []   \n",
       "3  [Javier Fernández Magariño, Pablo Monge]   \n",
       "4                             [Will Oliver]   \n",
       "\n",
       "                                            keywords         publish_date  \\\n",
       "0  [y, videoconsola, en, uso, la, mac, que, para,...  2016-04-09 00:00:00   \n",
       "1  [y, los, la, en, que, reduciendo, adelgaza, ba...  2016-04-08 00:00:00   \n",
       "2  [y, los, en, la, han, que, trabajadores, prote...  2016-04-09 00:00:00   \n",
       "3  [será, nacerá, y, los, la, en, que, europa, ai...  2016-04-09 00:00:00   \n",
       "4  [y, último, su, en, la, año, que, cameron, el,...  2016-04-09 00:00:00   \n",
       "\n",
       "                                             summary  \\\n",
       "0  El firmware 3.50 de PlayStation 4 ha mejorado ...   \n",
       "1  Una dieta a largo plazo, en todo caso, a la qu...   \n",
       "2  Los trabajadores de Lauki, cuya factoría de Va...   \n",
       "3  Air Europa Express nace sobre la pequeña aerol...   \n",
       "4  WILL OLIVER EFEDavid Cameron, primer ministro ...   \n",
       "\n",
       "                                                text  \\\n",
       "0  El firmware 3.50 de PlayStation 4 ha mejorado ...   \n",
       "1  En apenas una década, y con una crisis financi...   \n",
       "2  Los trabajadores de Lauki, cuya factoría de Va...   \n",
       "3  Juan José Hidalgo, presidente de Globalia y Ai...   \n",
       "4  Protestas en Londres tras conocer la conexión ...   \n",
       "\n",
       "                                               title  \\\n",
       "0  Cómo configurar Remote Play en PC y Mac para e...   \n",
       "1  La banca adelgaza costes reduciendo red y plan...   \n",
       "2  Protesta de la plantilla de Lauki por el cierr...   \n",
       "3  Esta será la nueva Air Europa 'low cost' que n...   \n",
       "4  Cameron pagó impuestos por 90.000 euros en el ...   \n",
       "\n",
       "                                           top_image  \\\n",
       "0  https://d500.epimg.net/cincodias/imagenes/2016...   \n",
       "1  https://d500.epimg.net/cincodias/imagenes/2016...   \n",
       "2  https://d500.epimg.net/cincodias/imagenes/2016...   \n",
       "3  https://d500.epimg.net/cincodias/imagenes/2016...   \n",
       "4  https://d500.epimg.net/cincodias/imagenes/2016...   \n",
       "\n",
       "                                                 url  newspaper    section  \\\n",
       "0  https://cincodias.elpais.com/cincodias/2016/04...  cincodias  lifestyle   \n",
       "1  https://cincodias.elpais.com/cincodias/2016/04...  cincodias   mercados   \n",
       "2  https://cincodias.elpais.com/cincodias/2016/04...  cincodias   empresas   \n",
       "3  https://cincodias.elpais.com/cincodias/2016/04...  cincodias   empresas   \n",
       "4  https://cincodias.elpais.com/cincodias/2016/04...  cincodias   economia   \n",
       "\n",
       "        date day_of_week  \n",
       "0 2016-04-09    Saturday  \n",
       "1 2016-04-08      Friday  \n",
       "2 2016-04-09    Saturday  \n",
       "3 2016-04-09    Saturday  \n",
       "4 2016-04-09    Saturday  "
      ]
     },
     "execution_count": 335,
     "metadata": {},
     "output_type": "execute_result"
    }
   ],
   "source": [
    "# convert date columns to datetime and create day_of_week column\n",
    "df['date'] = pd.to_datetime(df['date'])\n",
    "df['day_of_week'] = df['date'].dt.weekday_name\n",
    "df.head(5)"
   ]
  },
  {
   "cell_type": "code",
   "execution_count": 336,
   "metadata": {},
   "outputs": [],
   "source": [
    "# drop unnecessary columns\n",
    "df.drop(['top_image', 'publish_date'], axis=1, inplace=True)"
   ]
  },
  {
   "cell_type": "markdown",
   "metadata": {},
   "source": [
    "### Dump to JSON"
   ]
  },
  {
   "cell_type": "code",
   "execution_count": 337,
   "metadata": {},
   "outputs": [],
   "source": [
    "df.to_json('./articles_clean_cincodias.json')"
   ]
  },
  {
   "cell_type": "code",
   "execution_count": 338,
   "metadata": {
    "scrolled": false
   },
   "outputs": [
    {
     "name": "stdout",
     "output_type": "stream",
     "text": [
      "{   'authors': ['Juande Portillo'],\n",
      "    'date': Timestamp('2016-04-08 00:00:00'),\n",
      "    'day_of_week': 'Friday',\n",
      "    'keywords': [   'y',\n",
      "                    'los',\n",
      "                    'la',\n",
      "                    'en',\n",
      "                    'que',\n",
      "                    'reduciendo',\n",
      "                    'adelgaza',\n",
      "                    'banca',\n",
      "                    'el',\n",
      "                    'red',\n",
      "                    'costes',\n",
      "                    'por',\n",
      "                    'es',\n",
      "                    'plantilla',\n",
      "                    'del'],\n",
      "    'newspaper': 'cincodias',\n",
      "    'section': 'mercados',\n",
      "    'summary': 'Una dieta a largo plazo, en todo caso, a la que precederá de '\n",
      "               'forma inmediata una nueva purga detonada por la presión que '\n",
      "               'ejercen sobre los márgenes los tipos cero y la debilidad '\n",
      "               'general del negocio.\\n'\n",
      "               'Un ajuste adicional que rondaría el 20% de la red y la '\n",
      "               'plantilla actual.\\n'\n",
      "               'Y eso, que el recorte ya realizado hasta la fecha no ha sido '\n",
      "               'menor.\\n'\n",
      "               'El punto álgido de la red de oficinas de la banca española se '\n",
      "               'alcanzó en septiembre de 2008, coincidiendo con la caída de '\n",
      "               'Lehman Brothers, que marcó el arranque de la crisis.\\n'\n",
      "               'Es decir, que solo la banca española, que con 83.600 '\n",
      "               'trabajadores menos desde 2008, es responsable del 14% de todos '\n",
      "               'los empleos destruidos por la industria financiera global en '\n",
      "               'la crisis.',\n",
      "    'text': 'En apenas una década, y con una crisis financiera sin precedentes '\n",
      "            'de por medio, la banca española asiste a una revolución del '\n",
      "            'modelo de negocio que exige un viraje de 180% en su estrategia '\n",
      "            'comercial. En los tiempos de la burbuja inmobiliaria, el sector '\n",
      "            'apostó por una expansión geográfica masiva apoyada en la apertura '\n",
      "            'de nuevas oficinas allá donde financiaba una nueva promoción '\n",
      "            'inmobiliaria, por lejana que estuviera de su ámbito geográfico de '\n",
      "            'actuación natural.\\n'\n",
      "            '\\n'\n",
      "            'Ahora que la demanda de los consumidores abre la puerta a una '\n",
      "            'auténtica revolución digital del negocio, un gigante como BBVA '\n",
      "            'avanzaba que terminará reduciendo su red de oficinas a apenas un '\n",
      "            'tercio del total y que podría operar con solo un millar de '\n",
      "            'sucursales. Una dieta a largo plazo, en todo caso, a la que '\n",
      "            'precederá de forma inmediata una nueva purga detonada por la '\n",
      "            'presión que ejercen sobre los márgenes los tipos cero y la '\n",
      "            'debilidad general del negocio. Un ajuste adicional que rondaría '\n",
      "            'el 20% de la red y la plantilla actual.\\n'\n",
      "            '\\n'\n",
      "            'Y eso, que el recorte ya realizado hasta la fecha no ha sido '\n",
      "            'menor. El punto álgido de la red de oficinas de la banca española '\n",
      "            'se alcanzó en septiembre de 2008, coincidiendo con la caída de '\n",
      "            'Lehman Brothers, que marcó el arranque de la crisis. El sector '\n",
      "            'contaba entonces con un total de 46.118 sucursales por todo el '\n",
      "            'país, según los datos registrados por el Banco de España. Desde '\n",
      "            'entonces, la banca ha recortado 15.000 oficinas, un 32% del '\n",
      "            'total, lo que le deja con apenas 31.000 sucursales, la cifra más '\n",
      "            'baja desde 1983.\\n'\n",
      "            '\\n'\n",
      "            'Del lado del empleo, el ajuste ha sido igualmente profundo. De '\n",
      "            'los 278.300 empleados con los que contaban bancos y cajas de '\n",
      "            'ahorro en 2008, el sector apenas conserva 194.700 trabajadores, '\n",
      "            'un 30% menos. Un volumen que muestra su especial relevancia en la '\n",
      "            'comparativa internacional. Según los cálculos de Bloomberg, a lo '\n",
      "            'largo de la crisis el sector financiero internacional ha '\n",
      "            'prescindido de un total de 600.000 empleados. Es decir, que solo '\n",
      "            'la banca española, que con 83.600 trabajadores menos desde 2008, '\n",
      "            'es responsable del 14% de todos los empleos destruidos por la '\n",
      "            'industria financiera global en la crisis.\\n'\n",
      "            '\\n'\n",
      "            'Pero entidades y expertos coinciden en que el ajuste no es '\n",
      "            'suficiente. “Con los tipos de interés que tenemos la necesidad es '\n",
      "            'ya de sostener no de incrementar la rentabilidad, porque los '\n",
      "            'resultados van a seguir a la baja y hay que buscar alternativas. '\n",
      "            'Esas alternativas pasan por un nuevo proceso de cierre de '\n",
      "            'oficinas y reducción de plantilla”, expone Esteban Sánchez, '\n",
      "            'responsable del área de banca y seguros de Analistas Financieros '\n",
      "            'Internacionales (Afi). “Probablemente porque no hemos depurado '\n",
      "            'aún ese exceso de capacidad” de los años del boom, avanza, a la '\n",
      "            'vez que apunta que “a este asunto se le suma otro tema, que es la '\n",
      "            'transformación digital del modelo de negocio”.\\n'\n",
      "            '\\n'\n",
      "            'Así, de un lado, “no es descabellado pensar que lo que queda por '\n",
      "            'purgar de los años de exceso es un 15% o un 20% adicional de red '\n",
      "            'y plantilla desde los niveles actuales, aunque hay que decir que '\n",
      "            'sin los tipos bajos se habría hecho de forma más pausada”, '\n",
      "            'reflexiona Sánchez.\\n'\n",
      "            '\\n'\n",
      "            'Su estimación casa con las cifras que ofrecen diversas voces del '\n",
      "            'sector financiero aunque supera ligeramente la presentada '\n",
      "            'recientemente por la Fundación de las Cajas de Ahorros (Funcas), '\n",
      "            'que apuntaba que de aquí a 2019 la banca deberá prescindir aún de '\n",
      "            'cerca de 3.000 oficinas y 14.000 empleados.\\n'\n",
      "            '\\n'\n",
      "            'Ajuste a dos velocidades\\n'\n",
      "            '\\n'\n",
      "            '“A los consejos de administración les suelo advertir que los '\n",
      "            'tipos bajos son una situación transitoria, los tendremos en esos '\n",
      "            'niveles dos o tres años, pero lo que viene para quedarse es la '\n",
      "            'revolución digital”, advierte el experto en banca de Afi, que '\n",
      "            'asume que “vamos a un modelo bancario totalmente diferente”. El '\n",
      "            'ajuste asociado a este proceso, sin embargo, es mucho más difícil '\n",
      "            'de prever y cuantificar. En este sentido, explica Sánchez, '\n",
      "            'encontramos una “transformación a dos velocidades”.\\n'\n",
      "            '\\n'\n",
      "            'De un lado, señala que la gran banca está apostando con fuerza '\n",
      "            'por un negocio digital, con capacidad y decisión de adaptar su '\n",
      "            'red al nuevo modelo. De otro, apunta a las entidades de menor '\n",
      "            'tamaño, que se ven forzadas a abrazar la banca online como la '\n",
      "            'tabla de salvación que puede suponer un negocio telemático con '\n",
      "            'menores costes fijos. El peligro, indica, es que la incapacidad '\n",
      "            'de las firmas de menor tamaño para acometer grandes inversiones '\n",
      "            'que les permitan subirse al carro de la tecnología podría '\n",
      "            'hacerles llegar demasiado tarde a un modelo verdaderamente '\n",
      "            'digital y ágil.\\n'\n",
      "            '\\n'\n",
      "            'Coincide con este análisis Mario Yañez, responsable del '\n",
      "            'desarrollo de soluciones de banca de Tecnocom, quien apunta que '\n",
      "            'aunque toda la banca española está estudiando desarrollos de '\n",
      "            'negocio online a gran escala, apenas “un 50% del sector está '\n",
      "            'realmente trabajando ahora mismo en ello”. Desde Tecnocom, que '\n",
      "            'ofrece soluciones digitales para el grueso de la banca española, '\n",
      "            'apuntan a que gran parte del problema parte de las “viejas '\n",
      "            'arquitecturas” organizativas de muchas entidades financieras, con '\n",
      "            'un exceso de burocracia interna que no puede competir con la '\n",
      "            'agilidad de las pujantes fintech.\\n'\n",
      "            '\\n'\n",
      "            'El empuje de las ‘fintech’\\n'\n",
      "            '\\n'\n",
      "            'Estas empresas, las nuevas firmas de servicios financieros '\n",
      "            'basadas en soluciones tecnológicas son otro de los desafíos que '\n",
      "            'afronta el sector financiero. La banca tradicional ya asume que '\n",
      "            'este segmento empresarial emergente terminará comiéndose el 23% '\n",
      "            'de su negocio, según un reciente informe de PwC.\\n'\n",
      "            '\\n'\n",
      "            'De momento, esta confluencia de factores, entre la herencia de la '\n",
      "            'crisis, la presión de los tipos cero sobre los márgenes o el '\n",
      "            'avance de los nuevos canales digitales, sin olvidar nunca la '\n",
      "            'carga que supone la creciente regulación financiera, ya han '\n",
      "            'desatado una nueva ronda de ajustes en el sector financiero '\n",
      "            'español.\\n'\n",
      "            '\\n'\n",
      "            'El caso más paradigmático es el de Banco Santander, que ha '\n",
      "            'anunciado un proceso de recorte de unos 1.670 empleos y el cierre '\n",
      "            'de 450 oficinas de entre las de menor tamaño de su red, que suma '\n",
      "            '3.467 sucursales. Pero no es el único, CaixaBank avanzó el '\n",
      "            'viernes que prejubilará a unos 500 empleados este año. '\n",
      "            'EspañaDuero, la nueva denominación de Banco Ceiss tras su '\n",
      "            'integración total en el grupo Unicaja, ha comunicado a su vez que '\n",
      "            'piensa prescindir de unos 1.120 trabajadores, un tercio del '\n",
      "            'total.\\n'\n",
      "            '\\n'\n",
      "            'Desde el sector se da por hecho que estos son solo las primeras '\n",
      "            'señales de la dieta a la que se someterá todo el sector para '\n",
      "            'apuntalar sus resultados mediante un recorte de costes que '\n",
      "            'también le debe permitir terminar de enfocar el camino hacia la '\n",
      "            'nueva transformación de su modelo de negocio.',\n",
      "    'title': 'La banca adelgaza costes reduciendo red y plantilla',\n",
      "    'url': 'https://cincodias.elpais.com/cincodias/2016/04/08/mercados/1460141156_743459.html'}\n"
     ]
    }
   ],
   "source": [
    "pp.pprint(dict(df.loc[1]))"
   ]
  },
  {
   "cell_type": "markdown",
   "metadata": {},
   "source": [
    "---\n",
    "\n",
    "## El Confidencial"
   ]
  },
  {
   "cell_type": "code",
   "execution_count": 339,
   "metadata": {},
   "outputs": [],
   "source": [
    "# article content downloaded and parsed with newspaper3k\n",
    "data = []\n",
    "with open('../articles_elconfidencial.json') as input_file:\n",
    "    for line in input_file:\n",
    "        data.append(json.loads(line))"
   ]
  },
  {
   "cell_type": "code",
   "execution_count": 340,
   "metadata": {},
   "outputs": [],
   "source": [
    "df = pd.DataFrame(data)"
   ]
  },
  {
   "cell_type": "code",
   "execution_count": 341,
   "metadata": {},
   "outputs": [
    {
     "name": "stdout",
     "output_type": "stream",
     "text": [
      "Number of articles downloaded: 5,489\n"
     ]
    }
   ],
   "source": [
    "print(\"Number of articles downloaded: {:,}\".format(df.shape[0]))"
   ]
  },
  {
   "cell_type": "markdown",
   "metadata": {},
   "source": [
    "### Duplicates and useless articles"
   ]
  },
  {
   "cell_type": "code",
   "execution_count": 342,
   "metadata": {},
   "outputs": [
    {
     "data": {
      "text/html": [
       "<div>\n",
       "<style scoped>\n",
       "    .dataframe tbody tr th:only-of-type {\n",
       "        vertical-align: middle;\n",
       "    }\n",
       "\n",
       "    .dataframe tbody tr th {\n",
       "        vertical-align: top;\n",
       "    }\n",
       "\n",
       "    .dataframe thead th {\n",
       "        text-align: right;\n",
       "    }\n",
       "</style>\n",
       "<table border=\"1\" class=\"dataframe\">\n",
       "  <thead>\n",
       "    <tr style=\"text-align: right;\">\n",
       "      <th></th>\n",
       "      <th>text</th>\n",
       "      <th>count</th>\n",
       "    </tr>\n",
       "  </thead>\n",
       "  <tbody>\n",
       "    <tr>\n",
       "      <th>0</th>\n",
       "      <td>BIOGRAFÍA\\n\\nTrader, empezó su carrera profesi...</td>\n",
       "      <td>36</td>\n",
       "    </tr>\n",
       "    <tr>\n",
       "      <th>1</th>\n",
       "      <td></td>\n",
       "      <td>13</td>\n",
       "    </tr>\n",
       "    <tr>\n",
       "      <th>2</th>\n",
       "      <td>Estimado lector: el próximo 1 de Junio la Tabl...</td>\n",
       "      <td>8</td>\n",
       "    </tr>\n",
       "    <tr>\n",
       "      <th>3</th>\n",
       "      <td>Gonzalo de Diego Ramos\\n\\nLa mítica empresa de...</td>\n",
       "      <td>4</td>\n",
       "    </tr>\n",
       "    <tr>\n",
       "      <th>4</th>\n",
       "      <td>Entrevista a Attila Szabo\\n\\n\"Un 3% de los run...</td>\n",
       "      <td>3</td>\n",
       "    </tr>\n",
       "  </tbody>\n",
       "</table>\n",
       "</div>"
      ],
      "text/plain": [
       "                                                text  count\n",
       "0  BIOGRAFÍA\\n\\nTrader, empezó su carrera profesi...     36\n",
       "1                                                        13\n",
       "2  Estimado lector: el próximo 1 de Junio la Tabl...      8\n",
       "3  Gonzalo de Diego Ramos\\n\\nLa mítica empresa de...      4\n",
       "4  Entrevista a Attila Szabo\\n\\n\"Un 3% de los run...      3"
      ]
     },
     "execution_count": 342,
     "metadata": {},
     "output_type": "execute_result"
    }
   ],
   "source": [
    "df_dups = df.groupby('text').size().sort_values(0,ascending=False).reset_index().rename(columns={0:\"count\"})\n",
    "df_dups.head(5)"
   ]
  },
  {
   "cell_type": "code",
   "execution_count": 343,
   "metadata": {},
   "outputs": [
    {
     "name": "stdout",
     "output_type": "stream",
     "text": [
      "Current number of articles: 5,453\n"
     ]
    }
   ],
   "source": [
    "# text 0: BIOGRAFÍA\\n\\nTrader, empezó su carrera profesi...\n",
    "idx = df.index[df['text']==df_dups.loc[0]['text']]\n",
    "df = df.drop(idx)\n",
    "\n",
    "print(\"Current number of articles: {:,}\".format(df.shape[0]))"
   ]
  },
  {
   "cell_type": "code",
   "execution_count": 344,
   "metadata": {},
   "outputs": [
    {
     "name": "stdout",
     "output_type": "stream",
     "text": [
      "Current number of articles: 5,440\n"
     ]
    }
   ],
   "source": [
    "# removing empty text articles\n",
    "df = df.drop(df[df['text']==''].index)\n",
    "print(\"Current number of articles: {:,}\".format(df.shape[0]))"
   ]
  },
  {
   "cell_type": "code",
   "execution_count": 345,
   "metadata": {},
   "outputs": [
    {
     "name": "stdout",
     "output_type": "stream",
     "text": [
      "Text 2:\n",
      "\n",
      "Estimado lector: el próximo 1 de Junio la Tabla de Seguimiento dejará de publicarse en abierto. Por favor suscríbase gratuitamente en la web de Ágora EAFI para visualizarla.\n",
      "\n",
      "Con el fin de poder comprobar la evolución de las estrategias abiertas por el analista técnico de El Confidencial, Carlos Doblado, se ofrecerá y se actualizará a diario esta tabla de Seguimiento de las operaciones.\n",
      "\n",
      "La Tabla de Seguimiento se modifica diariamente. Se indica con color rojo aquellas partes de la misma que hay ...\n",
      "\n",
      "\n",
      "Current number of articles: 5,432\n"
     ]
    }
   ],
   "source": [
    "# text 2: Estimado lector: el próximo 1 de Junio la Tabl...\n",
    "print(\"Text 2:\\n\")\n",
    "print(df_dups.loc[2]['text'][:500],\"...\")\n",
    "\n",
    "idx = df.index[df['text']==df_dups.loc[2]['text']]\n",
    "df = df.drop(idx)\n",
    "\n",
    "print(\"\\n\\nCurrent number of articles: {:,}\".format(df.shape[0]))"
   ]
  },
  {
   "cell_type": "code",
   "execution_count": 346,
   "metadata": {},
   "outputs": [
    {
     "name": "stdout",
     "output_type": "stream",
     "text": [
      "Text 3:\n",
      "\n",
      "Gonzalo de Diego Ramos\n",
      "\n",
      "La mítica empresa de sándwiches ha dado un giro radical. Sus clientes han cambiado y lo mismo han hecho los productos de su carta y los números de sus balances. ¿Cómo se explica su transformación?\n",
      "\n",
      "\n",
      "Current number of articles: 5,428\n"
     ]
    }
   ],
   "source": [
    "# text 3: Gonzalo de Diego Ramos\\n\\nLa mítica empresa de...\n",
    "print(\"Text 3:\\n\")\n",
    "print(df_dups.loc[3]['text'])\n",
    "\n",
    "idx = df.index[df['text']==df_dups.loc[3]['text']]\n",
    "df = df.drop(idx)\n",
    "\n",
    "print(\"\\n\\nCurrent number of articles: {:,}\".format(df.shape[0]))"
   ]
  },
  {
   "cell_type": "code",
   "execution_count": 347,
   "metadata": {},
   "outputs": [
    {
     "name": "stdout",
     "output_type": "stream",
     "text": [
      "Text 4:\n",
      "\n",
      "Entrevista a Attila Szabo\n",
      "\n",
      "\"Un 3% de los runners son adictos, del mismo modo que lo es un adicto al tabaco o a la heroína\"\n",
      "\n",
      "\n",
      "Current number of articles: 5,425\n"
     ]
    }
   ],
   "source": [
    "# text 4: Entrevista a Attila Szabo\\n\\n\"Un 3% de los run...\n",
    "print(\"Text 4:\\n\")\n",
    "print(df_dups.loc[4]['text'])\n",
    "\n",
    "idx = df.index[df['text']==df_dups.loc[4]['text']]\n",
    "df = df.drop(idx)\n",
    "\n",
    "print(\"\\n\\nCurrent number of articles: {:,}\".format(df.shape[0]))"
   ]
  },
  {
   "cell_type": "code",
   "execution_count": 348,
   "metadata": {},
   "outputs": [
    {
     "data": {
      "text/html": [
       "<div>\n",
       "<style scoped>\n",
       "    .dataframe tbody tr th:only-of-type {\n",
       "        vertical-align: middle;\n",
       "    }\n",
       "\n",
       "    .dataframe tbody tr th {\n",
       "        vertical-align: top;\n",
       "    }\n",
       "\n",
       "    .dataframe thead th {\n",
       "        text-align: right;\n",
       "    }\n",
       "</style>\n",
       "<table border=\"1\" class=\"dataframe\">\n",
       "  <thead>\n",
       "    <tr style=\"text-align: right;\">\n",
       "      <th></th>\n",
       "      <th>text</th>\n",
       "      <th>count</th>\n",
       "    </tr>\n",
       "  </thead>\n",
       "  <tbody>\n",
       "    <tr>\n",
       "      <th>0</th>\n",
       "      <td>Coches que conducen solos, robots que cocinan ...</td>\n",
       "      <td>2</td>\n",
       "    </tr>\n",
       "    <tr>\n",
       "      <th>1</th>\n",
       "      <td>“#PasoteaPasote”, describía Fernando Alonso en...</td>\n",
       "      <td>2</td>\n",
       "    </tr>\n",
       "    <tr>\n",
       "      <th>2</th>\n",
       "      <td>La Comunidad Laboral Trabajando.com - Universi...</td>\n",
       "      <td>2</td>\n",
       "    </tr>\n",
       "    <tr>\n",
       "      <th>3</th>\n",
       "      <td>La profundidad mínima de los neumáticos es de ...</td>\n",
       "      <td>2</td>\n",
       "    </tr>\n",
       "    <tr>\n",
       "      <th>4</th>\n",
       "      <td>El viernes pasado día 5 por la tarde fui a lle...</td>\n",
       "      <td>2</td>\n",
       "    </tr>\n",
       "  </tbody>\n",
       "</table>\n",
       "</div>"
      ],
      "text/plain": [
       "                                                text  count\n",
       "0  Coches que conducen solos, robots que cocinan ...      2\n",
       "1  “#PasoteaPasote”, describía Fernando Alonso en...      2\n",
       "2  La Comunidad Laboral Trabajando.com - Universi...      2\n",
       "3  La profundidad mínima de los neumáticos es de ...      2\n",
       "4  El viernes pasado día 5 por la tarde fui a lle...      2"
      ]
     },
     "execution_count": 348,
     "metadata": {},
     "output_type": "execute_result"
    }
   ],
   "source": [
    "df_dups = df.groupby('text').size().sort_values(0,ascending=False).reset_index().rename(columns={0:\"count\"})\n",
    "df_dups.head(5)"
   ]
  },
  {
   "cell_type": "code",
   "execution_count": 349,
   "metadata": {},
   "outputs": [
    {
     "name": "stdout",
     "output_type": "stream",
     "text": [
      "Current number of articles: 5,291\n"
     ]
    }
   ],
   "source": [
    "# removing duplicates\n",
    "df = df.drop_duplicates(subset='text', keep='first', inplace=False)\n",
    "print(\"Current number of articles: {:,}\".format(df.shape[0]))"
   ]
  },
  {
   "cell_type": "code",
   "execution_count": 350,
   "metadata": {},
   "outputs": [
    {
     "name": "stdout",
     "output_type": "stream",
     "text": [
      "729 \t 'Un póster del exsecretario general del PSOE, Pedro Sánchez. (Reuters)' \n",
      "\n",
      "1004 \t 'Pablo Alborán, Ana Rosa Quintana, Mario Vaquerizo... Todos los invitados a los premios del Museo Chicote\\n\\n\\n\\n\\n\\n\\n\\n\\n\\n\\n\\n\\n\\n\\n\\n\\n\\n\\n\\n\\n\\n\\n\\n\\n\\nPantalla completa' \n",
      "\n",
      "1096 \t 'Eduardo Segovia analiza en su videoblog, Money Talks, algunas de las consecuencias que la victoria de Donald Trump supone para los mercados.' \n",
      "\n",
      "1405 \t '\"si fuera presidente clinton estaría en la cárcel\"\\n\\nEl debate entre Trump y Clinton, en directo: el magnate sale vivo tras cargar con todo' \n",
      "\n",
      "1956 \t 'Motociclismo\\n\\nHistorias del paddock\\n\\npor Juan Pedro de la Torre' \n",
      "\n",
      "2279 \t '2 de\\n\\nRodajas de limón' \n",
      "\n",
      "2589 \t 'El tenista serbio ha protagonizado un divertido anuncio para la marca de raquetas Head.' \n",
      "\n",
      "2611 \t 'Así fue el estreno internacional de la Primera Dama\\n\\n\\n\\n\\n\\n\\n\\n\\n\\n\\n\\n\\n\\n\\n\\n\\n\\n\\n\\n\\n\\n\\n\\n\\n\\nPantalla completa' \n",
      "\n",
      "2635 \t 'Increíble lo sucedido en el Tour de los Alpes. En la bajada de un puerto Stefano, un ciclista hacía este gesto a un compañero.' \n",
      "\n",
      "2706 \t '14 de 32\\n\\nDifusor de aroma Hoar Glass, que funciona como un reloj de arena. Se llama Le Sable, es recargable y delicioso, de Dyptique (135 €).' \n",
      "\n",
      "2935 \t 'Los dos pilotos de Repsol Honda dieron un paseo en globo antes de enfrentarse al Circuito de Montmeló este fin de semana.' \n",
      "\n",
      "2976 \t 'Tirar dinero para robar una cartera. Este es el método de un carterista ruso para robar en un autobús sin que la víctima se diera cuenta.' \n",
      "\n",
      "2980 \t 'Imágenes del vestuario visitante delde, donde elpreparó y celebró su final de Champions que le dio la duodécima. (Fotografias: UEFA.com)' \n",
      "\n",
      "3638 \t 'SIGA LA ÚLTIMA HORA EN EL CONFIDENCIAL\\n\\nDirecto | Rivera cree que Arrimadas está \"preparadísima\" para ser presidenta' \n",
      "\n",
      "3699 \t 'La sede de Appleby en la isla de Jersey. (REUTERS)' \n",
      "\n",
      "3928 \t 'Efectivos del Ejército Nacional de Libia se enfrentan a islamistas radicales por el control de Bengasi, en el distrito de Khreibish. (Reuters)' \n",
      "\n",
      "3944 \t 'En su último vídeo, el cómico francés Rémi Gaillard se mete en la piel de un oso grizzly para sembrar el pánico entre la población.' \n",
      "\n",
      "4096 \t 'Varias personas sentadas en sus barcas se resignan a esperar que bajen las aguas en los próximos días. (Reuters)' \n",
      "\n",
      "4692 \t 'Una mujer fotografía un tren de mercancías tras un accidente provocado por el viento en medio de la tormenta Eleanor, cerca de Lenk, Suiza. (Reuters)' \n",
      "\n",
      "5253 \t 'Vistas desde la azotea del Edificio España.\\n\\n\\n\\n\\n\\n\\n\\n\\n\\n\\n\\n\\n\\n\\n\\n\\n\\n\\n\\n\\n\\n\\n\\n\\n\\nPantalla completa' \n",
      "\n"
     ]
    }
   ],
   "source": [
    "# articles with very short text (useless)\n",
    "for idx, row in df[df['text'].str.len()<150].iterrows():\n",
    "    print(idx, \"\\t\", repr(row['text']), \"\\n\")"
   ]
  },
  {
   "cell_type": "markdown",
   "metadata": {},
   "source": [
    "### Creating new features\n",
    "\n",
    "* section\n",
    "* datepart\n",
    "* day of week\n",
    "* newspaper"
   ]
  },
  {
   "cell_type": "code",
   "execution_count": 351,
   "metadata": {},
   "outputs": [],
   "source": [
    "# newspaper\n",
    "df['newspaper'] = 'elconfidencial'"
   ]
  },
  {
   "cell_type": "code",
   "execution_count": 352,
   "metadata": {},
   "outputs": [],
   "source": [
    "# create seccion field from url\n",
    "df['section'] = df['url'].apply(lambda x: x.split('/')[3])"
   ]
  },
  {
   "cell_type": "code",
   "execution_count": 353,
   "metadata": {},
   "outputs": [
    {
     "data": {
      "text/html": [
       "<div>\n",
       "<style scoped>\n",
       "    .dataframe tbody tr th:only-of-type {\n",
       "        vertical-align: middle;\n",
       "    }\n",
       "\n",
       "    .dataframe tbody tr th {\n",
       "        vertical-align: top;\n",
       "    }\n",
       "\n",
       "    .dataframe thead th {\n",
       "        text-align: right;\n",
       "    }\n",
       "</style>\n",
       "<table border=\"1\" class=\"dataframe\">\n",
       "  <thead>\n",
       "    <tr style=\"text-align: right;\">\n",
       "      <th></th>\n",
       "      <th>section</th>\n",
       "      <th>count</th>\n",
       "    </tr>\n",
       "  </thead>\n",
       "  <tbody>\n",
       "    <tr>\n",
       "      <th>0</th>\n",
       "      <td>espana</td>\n",
       "      <td>1046</td>\n",
       "    </tr>\n",
       "    <tr>\n",
       "      <th>1</th>\n",
       "      <td>multimedia</td>\n",
       "      <td>740</td>\n",
       "    </tr>\n",
       "    <tr>\n",
       "      <th>2</th>\n",
       "      <td>deportes</td>\n",
       "      <td>543</td>\n",
       "    </tr>\n",
       "    <tr>\n",
       "      <th>3</th>\n",
       "      <td>alma-corazon-vida</td>\n",
       "      <td>384</td>\n",
       "    </tr>\n",
       "    <tr>\n",
       "      <th>4</th>\n",
       "      <td>cultura</td>\n",
       "      <td>307</td>\n",
       "    </tr>\n",
       "    <tr>\n",
       "      <th>5</th>\n",
       "      <td>empresas</td>\n",
       "      <td>293</td>\n",
       "    </tr>\n",
       "    <tr>\n",
       "      <th>6</th>\n",
       "      <td>tecnologia</td>\n",
       "      <td>279</td>\n",
       "    </tr>\n",
       "    <tr>\n",
       "      <th>7</th>\n",
       "      <td>mundo</td>\n",
       "      <td>262</td>\n",
       "    </tr>\n",
       "    <tr>\n",
       "      <th>8</th>\n",
       "      <td>noticias</td>\n",
       "      <td>210</td>\n",
       "    </tr>\n",
       "    <tr>\n",
       "      <th>9</th>\n",
       "      <td>mercados</td>\n",
       "      <td>202</td>\n",
       "    </tr>\n",
       "  </tbody>\n",
       "</table>\n",
       "</div>"
      ],
      "text/plain": [
       "             section  count\n",
       "0             espana   1046\n",
       "1         multimedia    740\n",
       "2           deportes    543\n",
       "3  alma-corazon-vida    384\n",
       "4            cultura    307\n",
       "5           empresas    293\n",
       "6         tecnologia    279\n",
       "7              mundo    262\n",
       "8           noticias    210\n",
       "9           mercados    202"
      ]
     },
     "execution_count": 353,
     "metadata": {},
     "output_type": "execute_result"
    }
   ],
   "source": [
    "df.groupby('section').size().sort_values(0, ascending=False).reset_index().rename(columns={0:'count'}).head(10)"
   ]
  },
  {
   "cell_type": "code",
   "execution_count": 354,
   "metadata": {},
   "outputs": [],
   "source": [
    "# split the publish date to date and time and remove time because it is not changing\n",
    "df['date'], df['time'] = df.publish_date.str.split(' ').str\n",
    "df.drop(['time'], axis=1, inplace=True)"
   ]
  },
  {
   "cell_type": "code",
   "execution_count": 355,
   "metadata": {},
   "outputs": [
    {
     "data": {
      "text/html": [
       "<div>\n",
       "<style scoped>\n",
       "    .dataframe tbody tr th:only-of-type {\n",
       "        vertical-align: middle;\n",
       "    }\n",
       "\n",
       "    .dataframe tbody tr th {\n",
       "        vertical-align: top;\n",
       "    }\n",
       "\n",
       "    .dataframe thead th {\n",
       "        text-align: right;\n",
       "    }\n",
       "</style>\n",
       "<table border=\"1\" class=\"dataframe\">\n",
       "  <thead>\n",
       "    <tr style=\"text-align: right;\">\n",
       "      <th></th>\n",
       "      <th>authors</th>\n",
       "      <th>keywords</th>\n",
       "      <th>publish_date</th>\n",
       "      <th>summary</th>\n",
       "      <th>text</th>\n",
       "      <th>title</th>\n",
       "      <th>top_image</th>\n",
       "      <th>url</th>\n",
       "      <th>newspaper</th>\n",
       "      <th>section</th>\n",
       "      <th>date</th>\n",
       "      <th>day_of_week</th>\n",
       "    </tr>\n",
       "  </thead>\n",
       "  <tbody>\n",
       "    <tr>\n",
       "      <th>0</th>\n",
       "      <td>[José Antonio Navas, Agustín Marco, El Confide...</td>\n",
       "      <td>[autopistas, quiebra, en, el, quitas, que, las...</td>\n",
       "      <td>2016-04-25 00:00:00</td>\n",
       "      <td>La gran banca identificada en torno al G-6 que...</td>\n",
       "      <td>La gran banca identificada en torno al G-6 que...</td>\n",
       "      <td>Autopistas de peaje: La banca huye de las auto...</td>\n",
       "      <td>https://www.ecestaticos.com/imagestatic/clippi...</td>\n",
       "      <td>https://www.elconfidencial.com/empresas/2016-0...</td>\n",
       "      <td>elconfidencial</td>\n",
       "      <td>empresas</td>\n",
       "      <td>2016-04-25</td>\n",
       "      <td>Monday</td>\n",
       "    </tr>\n",
       "    <tr>\n",
       "      <th>1</th>\n",
       "      <td>[José María Olmo, Ángel Martínez, Roberto R. B...</td>\n",
       "      <td>[interior, proteger, terrorismo, en, promoción...</td>\n",
       "      <td>2016-04-01 00:00:00</td>\n",
       "      <td>Además, los expertos en terrorismo yihadista y...</td>\n",
       "      <td>El Gobierno anunció hace dos semanas que en la...</td>\n",
       "      <td>Terrorismo islamista: Interior asignará 200 gu...</td>\n",
       "      <td>https://www.ecestaticos.com/imagestatic/clippi...</td>\n",
       "      <td>https://www.elconfidencial.com/espana/2016-04-...</td>\n",
       "      <td>elconfidencial</td>\n",
       "      <td>espana</td>\n",
       "      <td>2016-04-01</td>\n",
       "      <td>Friday</td>\n",
       "    </tr>\n",
       "    <tr>\n",
       "      <th>2</th>\n",
       "      <td>[Marcos Lamelas. Barcelona, Contacta Al Autor]</td>\n",
       "      <td>[haya, y, ha, en, el, vida, nuevo, que, activo...</td>\n",
       "      <td>2016-04-12 00:00:00</td>\n",
       "      <td>Esta prioridad no es baladí cuando una de sus ...</td>\n",
       "      <td>Abertis está centrada en alargar la vida de su...</td>\n",
       "      <td>Noticias de Abertis: Abertis espera que haya n...</td>\n",
       "      <td>https://www.ecestaticos.com/imagestatic/clippi...</td>\n",
       "      <td>https://www.elconfidencial.com/empresas/2016-0...</td>\n",
       "      <td>elconfidencial</td>\n",
       "      <td>empresas</td>\n",
       "      <td>2016-04-12</td>\n",
       "      <td>Tuesday</td>\n",
       "    </tr>\n",
       "    <tr>\n",
       "      <th>3</th>\n",
       "      <td>[José Antonio Navas, Gonzalo Jiménez-Blanco, C...</td>\n",
       "      <td>[vínculos, el, en, se, que, árbitro, noticias,...</td>\n",
       "      <td>2016-01-20 00:00:00</td>\n",
       "      <td>Abertis y Bankia emprendieron en 2013 un arbit...</td>\n",
       "      <td>La batalla de las autopistas radiales de Madri...</td>\n",
       "      <td>Autopistas de peaje: El laudo de las radiales ...</td>\n",
       "      <td>https://www.ecestaticos.com/imagestatic/clippi...</td>\n",
       "      <td>https://www.elconfidencial.com/empresas/2016-0...</td>\n",
       "      <td>elconfidencial</td>\n",
       "      <td>empresas</td>\n",
       "      <td>2016-01-20</td>\n",
       "      <td>Wednesday</td>\n",
       "    </tr>\n",
       "    <tr>\n",
       "      <th>4</th>\n",
       "      <td>[R. Ugalde, Contacta Al Autor]</td>\n",
       "      <td>[autopistas, primer, su, en, el, descenso, se,...</td>\n",
       "      <td>2015-12-21 00:00:00</td>\n",
       "      <td>El precio medio de los peajes de la red de aut...</td>\n",
       "      <td>El precio medio de los peajes de la red de aut...</td>\n",
       "      <td>Autopistas de peaje: El peaje de las autopista...</td>\n",
       "      <td>https://www.ecestaticos.com/imagestatic/clippi...</td>\n",
       "      <td>https://www.elconfidencial.com/economia/2015-1...</td>\n",
       "      <td>elconfidencial</td>\n",
       "      <td>economia</td>\n",
       "      <td>2015-12-21</td>\n",
       "      <td>Monday</td>\n",
       "    </tr>\n",
       "  </tbody>\n",
       "</table>\n",
       "</div>"
      ],
      "text/plain": [
       "                                             authors  \\\n",
       "0  [José Antonio Navas, Agustín Marco, El Confide...   \n",
       "1  [José María Olmo, Ángel Martínez, Roberto R. B...   \n",
       "2     [Marcos Lamelas. Barcelona, Contacta Al Autor]   \n",
       "3  [José Antonio Navas, Gonzalo Jiménez-Blanco, C...   \n",
       "4                     [R. Ugalde, Contacta Al Autor]   \n",
       "\n",
       "                                            keywords         publish_date  \\\n",
       "0  [autopistas, quiebra, en, el, quitas, que, las...  2016-04-25 00:00:00   \n",
       "1  [interior, proteger, terrorismo, en, promoción...  2016-04-01 00:00:00   \n",
       "2  [haya, y, ha, en, el, vida, nuevo, que, activo...  2016-04-12 00:00:00   \n",
       "3  [vínculos, el, en, se, que, árbitro, noticias,...  2016-01-20 00:00:00   \n",
       "4  [autopistas, primer, su, en, el, descenso, se,...  2015-12-21 00:00:00   \n",
       "\n",
       "                                             summary  \\\n",
       "0  La gran banca identificada en torno al G-6 que...   \n",
       "1  Además, los expertos en terrorismo yihadista y...   \n",
       "2  Esta prioridad no es baladí cuando una de sus ...   \n",
       "3  Abertis y Bankia emprendieron en 2013 un arbit...   \n",
       "4  El precio medio de los peajes de la red de aut...   \n",
       "\n",
       "                                                text  \\\n",
       "0  La gran banca identificada en torno al G-6 que...   \n",
       "1  El Gobierno anunció hace dos semanas que en la...   \n",
       "2  Abertis está centrada en alargar la vida de su...   \n",
       "3  La batalla de las autopistas radiales de Madri...   \n",
       "4  El precio medio de los peajes de la red de aut...   \n",
       "\n",
       "                                               title  \\\n",
       "0  Autopistas de peaje: La banca huye de las auto...   \n",
       "1  Terrorismo islamista: Interior asignará 200 gu...   \n",
       "2  Noticias de Abertis: Abertis espera que haya n...   \n",
       "3  Autopistas de peaje: El laudo de las radiales ...   \n",
       "4  Autopistas de peaje: El peaje de las autopista...   \n",
       "\n",
       "                                           top_image  \\\n",
       "0  https://www.ecestaticos.com/imagestatic/clippi...   \n",
       "1  https://www.ecestaticos.com/imagestatic/clippi...   \n",
       "2  https://www.ecestaticos.com/imagestatic/clippi...   \n",
       "3  https://www.ecestaticos.com/imagestatic/clippi...   \n",
       "4  https://www.ecestaticos.com/imagestatic/clippi...   \n",
       "\n",
       "                                                 url       newspaper  \\\n",
       "0  https://www.elconfidencial.com/empresas/2016-0...  elconfidencial   \n",
       "1  https://www.elconfidencial.com/espana/2016-04-...  elconfidencial   \n",
       "2  https://www.elconfidencial.com/empresas/2016-0...  elconfidencial   \n",
       "3  https://www.elconfidencial.com/empresas/2016-0...  elconfidencial   \n",
       "4  https://www.elconfidencial.com/economia/2015-1...  elconfidencial   \n",
       "\n",
       "    section       date day_of_week  \n",
       "0  empresas 2016-04-25      Monday  \n",
       "1    espana 2016-04-01      Friday  \n",
       "2  empresas 2016-04-12     Tuesday  \n",
       "3  empresas 2016-01-20   Wednesday  \n",
       "4  economia 2015-12-21      Monday  "
      ]
     },
     "execution_count": 355,
     "metadata": {},
     "output_type": "execute_result"
    }
   ],
   "source": [
    "# convert date columns to datetime and create day_of_week column\n",
    "df['date'] = pd.to_datetime(df['date'])\n",
    "df['day_of_week'] = df['date'].dt.weekday_name\n",
    "df.head(5)"
   ]
  },
  {
   "cell_type": "code",
   "execution_count": 356,
   "metadata": {},
   "outputs": [],
   "source": [
    "# drop unnecessary columns\n",
    "df.drop(['top_image', 'publish_date'], axis=1, inplace=True)"
   ]
  },
  {
   "cell_type": "markdown",
   "metadata": {},
   "source": [
    "### Dump to JSON"
   ]
  },
  {
   "cell_type": "code",
   "execution_count": 357,
   "metadata": {},
   "outputs": [],
   "source": [
    "df.to_json('./articles_clean_elconfidencial.json')"
   ]
  },
  {
   "cell_type": "code",
   "execution_count": 358,
   "metadata": {
    "scrolled": false
   },
   "outputs": [
    {
     "name": "stdout",
     "output_type": "stream",
     "text": [
      "{   'authors': [   'José María Olmo',\n",
      "                   'Ángel Martínez',\n",
      "                   'Roberto R. Ballesteros',\n",
      "                   'Sara De Diego',\n",
      "                   'Contacta Al Autor'],\n",
      "    'date': Timestamp('2016-04-01 00:00:00'),\n",
      "    'day_of_week': 'Friday',\n",
      "    'keywords': [   'interior',\n",
      "                    'proteger',\n",
      "                    'terrorismo',\n",
      "                    'en',\n",
      "                    'promoción',\n",
      "                    'el',\n",
      "                    'islamista',\n",
      "                    'que',\n",
      "                    'las',\n",
      "                    'civiles',\n",
      "                    'nueva',\n",
      "                    'guardias',\n",
      "                    'del',\n",
      "                    'nucleares',\n",
      "                    'la',\n",
      "                    'por',\n",
      "                    'los',\n",
      "                    'y',\n",
      "                    'para'],\n",
      "    'newspaper': 'elconfidencial',\n",
      "    'section': 'espana',\n",
      "    'summary': 'Además, los expertos en terrorismo yihadista y el Parlamento '\n",
      "               'Europeo han advertido en numerosas ocasiones de que las '\n",
      "               'plataformas nucleares se encuentran entre los objetivos '\n",
      "               'preferidos por el Estado Islámico por las graves consecuencias '\n",
      "               'de un ataque.\\n'\n",
      "               'EFEHasta ahora, la vigilancia de las siete centrales españolas '\n",
      "               'estaba en manos de la seguridad privada, que se encargaba de '\n",
      "               'la protección interior y perimetral.\\n'\n",
      "               'Interior había estimado que la vigilancia de las centrales '\n",
      "               'requería 500 nuevos efectivos, pero Hacienda redujo la '\n",
      "               'solicitud un 60%.\\n'\n",
      "               'El acuerdo entre Interior y la patronal nuclear no solo '\n",
      "               'afectará a las siete centrales que hay en activo en territorio '\n",
      "               'nacional.\\n'\n",
      "               'En esta edición, los países participantes pondrán el acento en '\n",
      "               'la amenaza terrorista, más aún tras el descubrimiento de los '\n",
      "               'planes de la célula de Bruselas.',\n",
      "    'text': 'El Gobierno anunció hace dos semanas que en la próxima '\n",
      "            'convocatoria de empleo público se ofrecerán 1.799 nuevas plazas '\n",
      "            'para ingresar en la Guardia Civil, pero no todos los futuros '\n",
      "            'agentes se dedicarán a las funciones que tradicionalmente '\n",
      "            'desarrolla el Instituto Armado. El Ministerio del Interior ha '\n",
      "            'decidido que en torno a 200 guardias civiles de la promoción de '\n",
      "            '2016 formen parte de una nueva sección del cuerpo que se '\n",
      "            'encargará de proteger las centrales nucleares de todo el '\n",
      "            'territorio nacional para mejorar su nivel de protección, según '\n",
      "            'han confirmado a este diario fuentes del departamento que dirige '\n",
      "            'en funciones Jorge Fernández Díaz.\\n'\n",
      "            '\\n'\n",
      "            'El refuerzo se producirá en plena ofensiva yihadista contra estas '\n",
      "            'instalaciones de alto riesgo. Los investigadores han descubierto '\n",
      "            'que la célula del Estado Islámico que atentó en París y Bruselas '\n",
      "            'había tomado imágenes del director del programa de investigación '\n",
      "            'y desarrollo nuclear de Bélgica con la presunta intención de '\n",
      "            'atacar alguna de las siete centrales que operan en ese país. '\n",
      "            'Además, los expertos en terrorismo yihadista y el Parlamento '\n",
      "            'Europeo han advertido en numerosas ocasiones de que las '\n",
      "            'plataformas nucleares se encuentran entre los objetivos '\n",
      "            'preferidos por el Estado Islámico por las graves consecuencias de '\n",
      "            'un ataque.\\n'\n",
      "            '\\n'\n",
      "            'Torres de refrigeración de la central nuclear de Cofrentes que '\n",
      "            'emergen tras el pueblo en 2011 (Valencia). EFE\\n'\n",
      "            '\\n'\n",
      "            'Hasta ahora, la vigilancia de las siete centrales españolas '\n",
      "            'estaba en manos de la seguridad privada, que se encargaba de la '\n",
      "            'protección interior y perimetral. Pero las empresas que explotan '\n",
      "            'las plantas solicitaron a principios de 2015 al Ministerio del '\n",
      "            'Interior que fuera la Guardia Civil la que realizara esa labor y '\n",
      "            'aseguraron que correrían con los gastos que generara ese nuevo '\n",
      "            'dispositivo en el erario público. Interior accedió a la petición '\n",
      "            'por la relevancia de esas instalaciones para la seguridad '\n",
      "            'nacional y llegó a un acuerdo con Hacienda para crear una tasa '\n",
      "            'que permitiera sufragar el aumento de la plantilla del Instituto '\n",
      "            'Armado, necesario para ejercer ese nuevo cometido. Finalmente, '\n",
      "            'las centrales pagarán a Interior a través de Hacienda 61.000 '\n",
      "            'euros al año por cada agente, tras una enmienda introducida por '\n",
      "            'el PP en la Ley General Tributaria en julio del año pasado.\\n'\n",
      "            '\\n'\n",
      "            \"[Lea aquí: '¿Puede el Estado Islámico llegar a ser una amenaza \"\n",
      "            \"nuclear?']\\n\"\n",
      "            '\\n'\n",
      "            'El dispositivo operará en 2017\\n'\n",
      "            '\\n'\n",
      "            'Según han precisado fuentes de la cartera de Fernández Díaz, el '\n",
      "            'objetivo es que la vigilancia de las plantas nucleares sea '\n",
      "            'asumida íntegramente por la Guardia Civil en 2017, cuando '\n",
      "            'concluya el periodo de formación de los 200 agentes que saldrán '\n",
      "            'de la oposición de este año para realizar específicamente ese '\n",
      "            'servicio. Interior había estimado que la vigilancia de las '\n",
      "            'centrales requería 500 nuevos efectivos, pero Hacienda redujo la '\n",
      "            'solicitud un 60%. Con todo, los 1.799 agentes que entrarán en '\n",
      "            '2016 conformarán la convocatoria de plazas del Instituto Armado '\n",
      "            'más elevada desde 2009, cuando accedieron al cuerpo 2.283 '\n",
      "            'funcionarios. Desde entonces, la restricciones presupuestarias '\n",
      "            'redujeron la oferta al 10% de la tasa de reposición. Solo subió '\n",
      "            'el año pasado, con un aumento hasta el 50% de la tasa de '\n",
      "            'reposición.\\n'\n",
      "            '\\n'\n",
      "            'Infografía del Almacén Temporal Centralizado de Villar de Cañas.\\n'\n",
      "            '\\n'\n",
      "            'El acuerdo entre Interior y la patronal nuclear no solo afectará '\n",
      "            'a las siete centrales que hay en activo en territorio nacional. '\n",
      "            'También contempla que la vigilancia de la Guardia Civil se '\n",
      "            'extienda en el futuro al Almacén Temporal Centralizado (ATC) de '\n",
      "            'residuos de alta radiactividad que se está construyendo en Villar '\n",
      "            'de Cañas (Cuenca), por las consecuencias que tendría cualquier '\n",
      "            'intrusión en esas instalaciones.\\n'\n",
      "            '\\n'\n",
      "            'Plan de la industria nuclear\\n'\n",
      "            '\\n'\n",
      "            'La industria nuclear dispone desde 2014 de un plan sectorial '\n",
      "            'específico dentro del Sistema Nacional para la Protección de '\n",
      "            'Infraestructuras Críticas, un programa que afecta a diferentes '\n",
      "            'sectores de la economía (energía, transportes, '\n",
      "            'telecomunicaciones, finanzas…) y que tiene como objetivo '\n",
      "            'garantizar la seguridad de todas las instalaciones consideradas '\n",
      "            'imprescindibles para el normal funcionamiento del país. En el '\n",
      "            'caso de las centrales, por sus especiales características, el '\n",
      "            'plan del sector no solo tiene en cuenta los efectos económicos '\n",
      "            'que tendría la paralización de una planta, sino también las '\n",
      "            'implicaciones para la salud y el medioambiente de una fuga '\n",
      "            'incontrolada como consecuencia de un atentado o un acto de '\n",
      "            'sabotaje.\\n'\n",
      "            '\\n'\n",
      "            'El Plan de Prevención y Protección Antiterrorista de la '\n",
      "            'Secretaría de Estado de Seguridad también contempla medidas '\n",
      "            'reforzadas de vigilancia de las centrales nucleares en caso de '\n",
      "            'amenaza terrorista. Desde junio de 2015, está en vigor en España '\n",
      "            'el nivel 4 de alerta, reservado para situaciones de amenaza alta '\n",
      "            'y solo una fase por debajo del máximo nivel contemplado por la '\n",
      "            'normativa.\\n'\n",
      "            '\\n'\n",
      "            'Barack Obama (i) y François Hollande, durante la Cumbre de '\n",
      "            'Seguridad Nuclear en Washington DC. (EFE)\\n'\n",
      "            '\\n'\n",
      "            'Este jueves arrancó en Washington la IV Cumbre de Seguridad '\n",
      "            'Nuclear mundial, que concluirá hoy. En esta edición, los países '\n",
      "            'participantes pondrán el acento en la amenaza terrorista, más aún '\n",
      "            'tras el descubrimiento de los planes de la célula de Bruselas. '\n",
      "            'También se abordará el riesgo de que materiales radiactivos para '\n",
      "            'usos hospitalarios, industriales o de investigación sean '\n",
      "            'utilizados por el Estado Islámico para la construcción de un '\n",
      "            'artefacto con material nuclear, es decir, la famosa bomba sucia. '\n",
      "            'Mariano Rajoy iba a acudir a la cita pero, debido a la situación '\n",
      "            'de interinidad del Gobierno, finalmente está representando a '\n",
      "            'España en la cumbre el ministro de Asuntos Exteriores, José '\n",
      "            'Manuel García-Margallo.',\n",
      "    'title': 'Terrorismo islamista: Interior asignará 200 guardias civiles de '\n",
      "             'la nueva promoción a proteger nucleares',\n",
      "    'url': 'https://www.elconfidencial.com/espana/2016-04-01/interior-destinara-200-guardias-civiles-de-la-nueva-promocion-a-proteger-centrales-nucleares_1176985/'}\n"
     ]
    }
   ],
   "source": [
    "pp.pprint(dict(df.loc[1]))"
   ]
  }
 ],
 "metadata": {
  "kernelspec": {
   "display_name": "Python 3",
   "language": "python",
   "name": "python3"
  },
  "language_info": {
   "codemirror_mode": {
    "name": "ipython",
    "version": 3
   },
   "file_extension": ".py",
   "mimetype": "text/x-python",
   "name": "python",
   "nbconvert_exporter": "python",
   "pygments_lexer": "ipython3",
   "version": "3.6.4"
  }
 },
 "nbformat": 4,
 "nbformat_minor": 2
}
