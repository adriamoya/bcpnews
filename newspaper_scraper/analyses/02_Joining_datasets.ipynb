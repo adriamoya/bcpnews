{
 "cells": [
  {
   "cell_type": "markdown",
   "metadata": {},
   "source": [
    "# Concatenating data"
   ]
  },
  {
   "cell_type": "code",
   "execution_count": 1,
   "metadata": {
    "collapsed": true
   },
   "outputs": [],
   "source": [
    "import re\n",
    "import json\n",
    "import pprint\n",
    "import datetime\n",
    "import pandas as pd\n",
    "\n",
    "pp = pprint.PrettyPrinter(indent=4)"
   ]
  },
  {
   "cell_type": "code",
   "execution_count": 2,
   "metadata": {},
   "outputs": [
    {
     "name": "stdout",
     "output_type": "stream",
     "text": [
      "df_emails (1): 5,146\n",
      "df_newspapers (0): 15,780\n"
     ]
    }
   ],
   "source": [
    "ds_emails = []\n",
    "with open('../articles_email.json') as input_file:\n",
    "    for line in input_file:\n",
    "        ds_emails.append(json.loads(line))\n",
    "        \n",
    "df_emails = pd.DataFrame(ds_emails)\n",
    "\n",
    "ds_newspapers = []\n",
    "\n",
    "with open('../articles_expansion_hemeroteca.json') as input_file:\n",
    "    for line in input_file:\n",
    "        ds_newspapers.append(json.loads(line))\n",
    "        \n",
    "with open('../articles_cincodias.json') as input_file:\n",
    "    for line in input_file:\n",
    "        ds_newspapers.append(json.loads(line))\n",
    "        \n",
    "with open('../articles_elconfidencial.json') as input_file:\n",
    "    for line in input_file:\n",
    "        ds_newspapers.append(json.loads(line))\n",
    "        \n",
    "df_newspapers = pd.DataFrame(ds_newspapers)\n",
    "\n",
    "print \"df_emails (1): {:,}\".format(df_emails.shape[0])\n",
    "print \"df_newspapers (0): {:,}\".format(df_newspapers.shape[0])"
   ]
  },
  {
   "cell_type": "code",
   "execution_count": 3,
   "metadata": {
    "collapsed": true
   },
   "outputs": [],
   "source": [
    "df_emails['flag'] = 1\n",
    "df_newspapers['flag'] = 0"
   ]
  },
  {
   "cell_type": "code",
   "execution_count": 4,
   "metadata": {},
   "outputs": [
    {
     "name": "stdout",
     "output_type": "stream",
     "text": [
      "df_emails (1): 4,955\n",
      "df_newspapers (0): 15,768\n"
     ]
    }
   ],
   "source": [
    "df_emails.drop_duplicates(subset='url', keep='first', inplace=True)\n",
    "df_newspapers.drop_duplicates(subset='url', keep='first', inplace=True)\n",
    "\n",
    "print \"df_emails (1): {:,}\".format(df_emails.shape[0])\n",
    "print \"df_newspapers (0): {:,}\".format(df_newspapers.shape[0])"
   ]
  },
  {
   "cell_type": "code",
   "execution_count": 5,
   "metadata": {
    "collapsed": true
   },
   "outputs": [],
   "source": [
    "frames = [df_emails, df_newspapers]\n",
    "df = pd.concat(frames, axis=0, join='outer', join_axes=None, ignore_index=True)"
   ]
  },
  {
   "cell_type": "code",
   "execution_count": 6,
   "metadata": {},
   "outputs": [
    {
     "name": "stdout",
     "output_type": "stream",
     "text": [
      "Current number of articles: 20,723\n",
      "Number of flags = 1 (4,955)\n",
      "Number of flags = 0 (15,768)\n"
     ]
    }
   ],
   "source": [
    "print(\"Current number of articles: {:,}\".format(df.shape[0]))\n",
    "print(\"Number of flags = 1 ({:,})\".format(df[df['flag']==1]['flag'].count()))\n",
    "print(\"Number of flags = 0 ({:,})\".format(df[df['flag']==0]['flag'].count()))"
   ]
  },
  {
   "cell_type": "code",
   "execution_count": 7,
   "metadata": {
    "collapsed": true
   },
   "outputs": [],
   "source": [
    "# removing duplicates\n",
    "df.drop_duplicates(subset='url', keep='first', inplace=True)"
   ]
  },
  {
   "cell_type": "code",
   "execution_count": 8,
   "metadata": {},
   "outputs": [
    {
     "name": "stdout",
     "output_type": "stream",
     "text": [
      "Current number of articles: 20,337\n",
      "Number of flags = 1 (4,955)\n",
      "Number of flags = 0 (15,382)\n"
     ]
    }
   ],
   "source": [
    "print(\"Current number of articles: {:,}\".format(df.shape[0]))\n",
    "print(\"Number of flags = 1 ({:,})\".format(df[df['flag']==1]['flag'].count()))\n",
    "print(\"Number of flags = 0 ({:,})\".format(df[df['flag']==0]['flag'].count()))"
   ]
  },
  {
   "cell_type": "markdown",
   "metadata": {},
   "source": [
    "# Creating new features\n",
    "\n",
    "* domain (newspaper)\n",
    "* section\n",
    "* date (without time)\n",
    "* day of week"
   ]
  },
  {
   "cell_type": "code",
   "execution_count": 9,
   "metadata": {
    "collapsed": true
   },
   "outputs": [],
   "source": [
    "# newspaper\n",
    "df['domain'] = df['url'].apply(lambda x: x.split('/')[2].replace('www.',''))"
   ]
  },
  {
   "cell_type": "code",
   "execution_count": 10,
   "metadata": {},
   "outputs": [
    {
     "data": {
      "text/html": [
       "<div>\n",
       "<style>\n",
       "    .dataframe thead tr:only-child th {\n",
       "        text-align: right;\n",
       "    }\n",
       "\n",
       "    .dataframe thead th {\n",
       "        text-align: left;\n",
       "    }\n",
       "\n",
       "    .dataframe tbody tr th {\n",
       "        vertical-align: top;\n",
       "    }\n",
       "</style>\n",
       "<table border=\"1\" class=\"dataframe\">\n",
       "  <thead>\n",
       "    <tr style=\"text-align: right;\">\n",
       "      <th></th>\n",
       "      <th>domain</th>\n",
       "      <th>count</th>\n",
       "    </tr>\n",
       "  </thead>\n",
       "  <tbody>\n",
       "    <tr>\n",
       "      <th>0</th>\n",
       "      <td>expansion.com</td>\n",
       "      <td>2594</td>\n",
       "    </tr>\n",
       "    <tr>\n",
       "      <th>1</th>\n",
       "      <td>elconfidencial.com</td>\n",
       "      <td>859</td>\n",
       "    </tr>\n",
       "    <tr>\n",
       "      <th>2</th>\n",
       "      <td>cincodias.elpais.com</td>\n",
       "      <td>706</td>\n",
       "    </tr>\n",
       "    <tr>\n",
       "      <th>3</th>\n",
       "      <td>cincodias.com</td>\n",
       "      <td>583</td>\n",
       "    </tr>\n",
       "    <tr>\n",
       "      <th>4</th>\n",
       "      <td>bernsteinresearch.com</td>\n",
       "      <td>78</td>\n",
       "    </tr>\n",
       "    <tr>\n",
       "      <th>5</th>\n",
       "      <td>blogs.elconfidencial.com</td>\n",
       "      <td>35</td>\n",
       "    </tr>\n",
       "    <tr>\n",
       "      <th>6</th>\n",
       "      <td>retina.elpais.com</td>\n",
       "      <td>14</td>\n",
       "    </tr>\n",
       "    <tr>\n",
       "      <th>7</th>\n",
       "      <td>google.com</td>\n",
       "      <td>9</td>\n",
       "    </tr>\n",
       "    <tr>\n",
       "      <th>8</th>\n",
       "      <td>economia.elpais.com</td>\n",
       "      <td>6</td>\n",
       "    </tr>\n",
       "    <tr>\n",
       "      <th>9</th>\n",
       "      <td>bloomberg.com</td>\n",
       "      <td>3</td>\n",
       "    </tr>\n",
       "  </tbody>\n",
       "</table>\n",
       "</div>"
      ],
      "text/plain": [
       "                     domain  count\n",
       "0             expansion.com   2594\n",
       "1        elconfidencial.com    859\n",
       "2      cincodias.elpais.com    706\n",
       "3             cincodias.com    583\n",
       "4     bernsteinresearch.com     78\n",
       "5  blogs.elconfidencial.com     35\n",
       "6         retina.elpais.com     14\n",
       "7                google.com      9\n",
       "8       economia.elpais.com      6\n",
       "9             bloomberg.com      3"
      ]
     },
     "execution_count": 10,
     "metadata": {},
     "output_type": "execute_result"
    }
   ],
   "source": [
    "df[df['flag']==1].groupby('domain').size().sort_values(0,ascending=False).reset_index().rename(columns={0:\"count\"}).head(10)"
   ]
  },
  {
   "cell_type": "code",
   "execution_count": 11,
   "metadata": {},
   "outputs": [
    {
     "data": {
      "text/html": [
       "<div>\n",
       "<style>\n",
       "    .dataframe thead tr:only-child th {\n",
       "        text-align: right;\n",
       "    }\n",
       "\n",
       "    .dataframe thead th {\n",
       "        text-align: left;\n",
       "    }\n",
       "\n",
       "    .dataframe tbody tr th {\n",
       "        vertical-align: top;\n",
       "    }\n",
       "</style>\n",
       "<table border=\"1\" class=\"dataframe\">\n",
       "  <thead>\n",
       "    <tr style=\"text-align: right;\">\n",
       "      <th></th>\n",
       "      <th>domain</th>\n",
       "      <th>count</th>\n",
       "    </tr>\n",
       "  </thead>\n",
       "  <tbody>\n",
       "    <tr>\n",
       "      <th>0</th>\n",
       "      <td>expansion.com</td>\n",
       "      <td>9665</td>\n",
       "    </tr>\n",
       "    <tr>\n",
       "      <th>1</th>\n",
       "      <td>cincodias.elpais.com</td>\n",
       "      <td>3943</td>\n",
       "    </tr>\n",
       "    <tr>\n",
       "      <th>2</th>\n",
       "      <td>elconfidencial.com</td>\n",
       "      <td>1122</td>\n",
       "    </tr>\n",
       "    <tr>\n",
       "      <th>3</th>\n",
       "      <td>blogs.elconfidencial.com</td>\n",
       "      <td>309</td>\n",
       "    </tr>\n",
       "    <tr>\n",
       "      <th>4</th>\n",
       "      <td>vanitatis.elconfidencial.com</td>\n",
       "      <td>254</td>\n",
       "    </tr>\n",
       "    <tr>\n",
       "      <th>5</th>\n",
       "      <td>gentleman.elconfidencial.com</td>\n",
       "      <td>55</td>\n",
       "    </tr>\n",
       "    <tr>\n",
       "      <th>6</th>\n",
       "      <td>brands.elconfidencial.com</td>\n",
       "      <td>21</td>\n",
       "    </tr>\n",
       "    <tr>\n",
       "      <th>7</th>\n",
       "      <td>blogs.vanitatis.elconfidencial.com</td>\n",
       "      <td>8</td>\n",
       "    </tr>\n",
       "    <tr>\n",
       "      <th>8</th>\n",
       "      <td>alimente.elconfidencial.com</td>\n",
       "      <td>4</td>\n",
       "    </tr>\n",
       "    <tr>\n",
       "      <th>9</th>\n",
       "      <td>shiseido.es</td>\n",
       "      <td>1</td>\n",
       "    </tr>\n",
       "  </tbody>\n",
       "</table>\n",
       "</div>"
      ],
      "text/plain": [
       "                               domain  count\n",
       "0                       expansion.com   9665\n",
       "1                cincodias.elpais.com   3943\n",
       "2                  elconfidencial.com   1122\n",
       "3            blogs.elconfidencial.com    309\n",
       "4        vanitatis.elconfidencial.com    254\n",
       "5        gentleman.elconfidencial.com     55\n",
       "6           brands.elconfidencial.com     21\n",
       "7  blogs.vanitatis.elconfidencial.com      8\n",
       "8         alimente.elconfidencial.com      4\n",
       "9                         shiseido.es      1"
      ]
     },
     "execution_count": 11,
     "metadata": {},
     "output_type": "execute_result"
    }
   ],
   "source": [
    "df[df['flag']==0].groupby('domain').size().sort_values(0,ascending=False).reset_index().rename(columns={0:\"count\"}).head(10)"
   ]
  },
  {
   "cell_type": "code",
   "execution_count": 12,
   "metadata": {
    "collapsed": true
   },
   "outputs": [],
   "source": [
    "# section\n",
    "for idx, row in df.iterrows():\n",
    "    try:\n",
    "        if \"cincodias\" in row['domain']:\n",
    "            df.loc[idx,'section']=row['url'].split('/')[7]\n",
    "        else:\n",
    "            df.loc[idx,'section']=row['url'].split('/')[3]\n",
    "    except:\n",
    "        pass"
   ]
  },
  {
   "cell_type": "code",
   "execution_count": 13,
   "metadata": {},
   "outputs": [
    {
     "data": {
      "text/html": [
       "<div>\n",
       "<style>\n",
       "    .dataframe thead tr:only-child th {\n",
       "        text-align: right;\n",
       "    }\n",
       "\n",
       "    .dataframe thead th {\n",
       "        text-align: left;\n",
       "    }\n",
       "\n",
       "    .dataframe tbody tr th {\n",
       "        vertical-align: top;\n",
       "    }\n",
       "</style>\n",
       "<table border=\"1\" class=\"dataframe\">\n",
       "  <thead>\n",
       "    <tr style=\"text-align: right;\">\n",
       "      <th></th>\n",
       "      <th>domain</th>\n",
       "      <th>section</th>\n",
       "      <th>count</th>\n",
       "    </tr>\n",
       "  </thead>\n",
       "  <tbody>\n",
       "    <tr>\n",
       "      <th>0</th>\n",
       "      <td>expansion.com</td>\n",
       "      <td>empresas</td>\n",
       "      <td>4164</td>\n",
       "    </tr>\n",
       "    <tr>\n",
       "      <th>1</th>\n",
       "      <td>expansion.com</td>\n",
       "      <td>economia</td>\n",
       "      <td>2056</td>\n",
       "    </tr>\n",
       "    <tr>\n",
       "      <th>2</th>\n",
       "      <td>cincodias.elpais.com</td>\n",
       "      <td>companias</td>\n",
       "      <td>1077</td>\n",
       "    </tr>\n",
       "    <tr>\n",
       "      <th>3</th>\n",
       "      <td>expansion.com</td>\n",
       "      <td>mercados</td>\n",
       "      <td>1071</td>\n",
       "    </tr>\n",
       "    <tr>\n",
       "      <th>4</th>\n",
       "      <td>cincodias.elpais.com</td>\n",
       "      <td>mercados</td>\n",
       "      <td>957</td>\n",
       "    </tr>\n",
       "    <tr>\n",
       "      <th>5</th>\n",
       "      <td>expansion.com</td>\n",
       "      <td>aragon</td>\n",
       "      <td>785</td>\n",
       "    </tr>\n",
       "    <tr>\n",
       "      <th>6</th>\n",
       "      <td>elconfidencial.com</td>\n",
       "      <td>empresas</td>\n",
       "      <td>636</td>\n",
       "    </tr>\n",
       "    <tr>\n",
       "      <th>7</th>\n",
       "      <td>cincodias.elpais.com</td>\n",
       "      <td>empresas</td>\n",
       "      <td>619</td>\n",
       "    </tr>\n",
       "    <tr>\n",
       "      <th>8</th>\n",
       "      <td>expansion.com</td>\n",
       "      <td>extremadura</td>\n",
       "      <td>605</td>\n",
       "    </tr>\n",
       "    <tr>\n",
       "      <th>9</th>\n",
       "      <td>cincodias.com</td>\n",
       "      <td>mercados</td>\n",
       "      <td>492</td>\n",
       "    </tr>\n",
       "    <tr>\n",
       "      <th>10</th>\n",
       "      <td>expansion.com</td>\n",
       "      <td>directivos</td>\n",
       "      <td>468</td>\n",
       "    </tr>\n",
       "    <tr>\n",
       "      <th>11</th>\n",
       "      <td>cincodias.elpais.com</td>\n",
       "      <td>economia</td>\n",
       "      <td>465</td>\n",
       "    </tr>\n",
       "    <tr>\n",
       "      <th>12</th>\n",
       "      <td>expansion.com</td>\n",
       "      <td>sociedad</td>\n",
       "      <td>462</td>\n",
       "    </tr>\n",
       "    <tr>\n",
       "      <th>13</th>\n",
       "      <td>expansion.com</td>\n",
       "      <td>economia-digital</td>\n",
       "      <td>431</td>\n",
       "    </tr>\n",
       "    <tr>\n",
       "      <th>14</th>\n",
       "      <td>expansion.com</td>\n",
       "      <td>fueradeserie</td>\n",
       "      <td>375</td>\n",
       "    </tr>\n",
       "  </tbody>\n",
       "</table>\n",
       "</div>"
      ],
      "text/plain": [
       "                  domain           section  count\n",
       "0          expansion.com          empresas   4164\n",
       "1          expansion.com          economia   2056\n",
       "2   cincodias.elpais.com         companias   1077\n",
       "3          expansion.com          mercados   1071\n",
       "4   cincodias.elpais.com          mercados    957\n",
       "5          expansion.com            aragon    785\n",
       "6     elconfidencial.com          empresas    636\n",
       "7   cincodias.elpais.com          empresas    619\n",
       "8          expansion.com       extremadura    605\n",
       "9          cincodias.com          mercados    492\n",
       "10         expansion.com        directivos    468\n",
       "11  cincodias.elpais.com          economia    465\n",
       "12         expansion.com          sociedad    462\n",
       "13         expansion.com  economia-digital    431\n",
       "14         expansion.com      fueradeserie    375"
      ]
     },
     "execution_count": 13,
     "metadata": {},
     "output_type": "execute_result"
    }
   ],
   "source": [
    "df.groupby(['domain','section']).size().sort_values(0,ascending=False).reset_index().rename(columns={0:\"count\"}).head(15)"
   ]
  },
  {
   "cell_type": "code",
   "execution_count": 14,
   "metadata": {
    "collapsed": true
   },
   "outputs": [],
   "source": [
    "# split the publish date to date and time and remove time because it is not changing\n",
    "df['date'], df['time'] = df.publish_date.str.split(' ').str\n",
    "df.drop(['time'], axis=1, inplace=True)"
   ]
  },
  {
   "cell_type": "code",
   "execution_count": 15,
   "metadata": {
    "collapsed": true
   },
   "outputs": [],
   "source": [
    "# convert date columns to datetime and create day_of_week column\n",
    "df['date'] = pd.to_datetime(df['date'])\n",
    "df['day_of_week'] = df['date'].dt.weekday_name"
   ]
  },
  {
   "cell_type": "code",
   "execution_count": 16,
   "metadata": {
    "collapsed": true
   },
   "outputs": [],
   "source": [
    "# drop unnecessary columns\n",
    "df.drop(['top_image', 'publish_date'], axis=1, inplace=True)"
   ]
  },
  {
   "cell_type": "code",
   "execution_count": 17,
   "metadata": {},
   "outputs": [
    {
     "data": {
      "text/html": [
       "<div>\n",
       "<style>\n",
       "    .dataframe thead tr:only-child th {\n",
       "        text-align: right;\n",
       "    }\n",
       "\n",
       "    .dataframe thead th {\n",
       "        text-align: left;\n",
       "    }\n",
       "\n",
       "    .dataframe tbody tr th {\n",
       "        vertical-align: top;\n",
       "    }\n",
       "</style>\n",
       "<table border=\"1\" class=\"dataframe\">\n",
       "  <thead>\n",
       "    <tr style=\"text-align: right;\">\n",
       "      <th></th>\n",
       "      <th>authors</th>\n",
       "      <th>keywords</th>\n",
       "      <th>summary</th>\n",
       "      <th>text</th>\n",
       "      <th>title</th>\n",
       "      <th>url</th>\n",
       "      <th>flag</th>\n",
       "      <th>domain</th>\n",
       "      <th>section</th>\n",
       "      <th>date</th>\n",
       "      <th>day_of_week</th>\n",
       "    </tr>\n",
       "  </thead>\n",
       "  <tbody>\n",
       "    <tr>\n",
       "      <th>0</th>\n",
       "      <td>[Asunción Infante Fuentes, Andrés Stumpf Guirao]</td>\n",
       "      <td>[tumbar, vuelve, ibex, descenso, son, en, una,...</td>\n",
       "      <td>El Ibex cede un 1,18% y pierde el soporte clav...</td>\n",
       "      <td>Amaneció con subidas en todos los grandes parq...</td>\n",
       "      <td>El sector bancario vuelve a tumbar al Ibex: es...</td>\n",
       "      <td>http://cincodias.com/cincodias/2016/03/17/merc...</td>\n",
       "      <td>1</td>\n",
       "      <td>cincodias.com</td>\n",
       "      <td>mercados</td>\n",
       "      <td>2016-03-17</td>\n",
       "      <td>Thursday</td>\n",
       "    </tr>\n",
       "    <tr>\n",
       "      <th>1</th>\n",
       "      <td>[]</td>\n",
       "      <td>[ladrillo, en, desde, menor, junio, su, del, h...</td>\n",
       "      <td>El año pasado, la morosidad de este segmento h...</td>\n",
       "      <td>El pasado año el descenso de la mora tanto de ...</td>\n",
       "      <td>La morosidad del ladrillo cierra 2015 en su me...</td>\n",
       "      <td>http://www.expansion.com/empresas/banca/2016/0...</td>\n",
       "      <td>1</td>\n",
       "      <td>expansion.com</td>\n",
       "      <td>empresas</td>\n",
       "      <td>2016-03-18</td>\n",
       "      <td>Friday</td>\n",
       "    </tr>\n",
       "    <tr>\n",
       "      <th>2</th>\n",
       "      <td>[Eduardo Segovia, Pedro Calvo, Contacta Al Aut...</td>\n",
       "      <td>[inversores, stanley, morgan, en, encuentro, p...</td>\n",
       "      <td>El banco de inversión Morgan stanley organiza ...</td>\n",
       "      <td>El banco de inversión Morgan stanley organiza ...</td>\n",
       "      <td>Noticias del BBVA: Los inversores señalan de q...</td>\n",
       "      <td>http://www.elconfidencial.com/mercados/2016-03...</td>\n",
       "      <td>1</td>\n",
       "      <td>elconfidencial.com</td>\n",
       "      <td>mercados</td>\n",
       "      <td>2016-03-24</td>\n",
       "      <td>Thursday</td>\n",
       "    </tr>\n",
       "    <tr>\n",
       "      <th>3</th>\n",
       "      <td>[Assumpta Zorraquino, Contacta Al Autor, Carlo...</td>\n",
       "      <td>[regulación, servicios, versus, para, por, en,...</td>\n",
       "      <td>La aparición de las start-ups tecnológicas ded...</td>\n",
       "      <td>La aparición de las start-ups tecnológicas ded...</td>\n",
       "      <td>Fintech: Innovación versus regulación</td>\n",
       "      <td>http://blogs.elconfidencial.com/mercados/tribu...</td>\n",
       "      <td>1</td>\n",
       "      <td>blogs.elconfidencial.com</td>\n",
       "      <td>mercados</td>\n",
       "      <td>2016-03-24</td>\n",
       "      <td>Thursday</td>\n",
       "    </tr>\n",
       "    <tr>\n",
       "      <th>4</th>\n",
       "      <td>[Pedro Calvo, Kike Vázquez, Daniel Lacalle, Vi...</td>\n",
       "      <td>[europea, pierde, por, en, y, valor, su, del, ...</td>\n",
       "      <td>Como el que han pagado en el último año las gr...</td>\n",
       "      <td>Son los bancos españoles. Y los italianos, por...</td>\n",
       "      <td>Tipos de interés: La banca europea pierde un t...</td>\n",
       "      <td>http://www.elconfidencial.com/empresas/2016-03...</td>\n",
       "      <td>1</td>\n",
       "      <td>elconfidencial.com</td>\n",
       "      <td>empresas</td>\n",
       "      <td>2016-03-29</td>\n",
       "      <td>Tuesday</td>\n",
       "    </tr>\n",
       "  </tbody>\n",
       "</table>\n",
       "</div>"
      ],
      "text/plain": [
       "                                             authors  \\\n",
       "0   [Asunción Infante Fuentes, Andrés Stumpf Guirao]   \n",
       "1                                                 []   \n",
       "2  [Eduardo Segovia, Pedro Calvo, Contacta Al Aut...   \n",
       "3  [Assumpta Zorraquino, Contacta Al Autor, Carlo...   \n",
       "4  [Pedro Calvo, Kike Vázquez, Daniel Lacalle, Vi...   \n",
       "\n",
       "                                            keywords  \\\n",
       "0  [tumbar, vuelve, ibex, descenso, son, en, una,...   \n",
       "1  [ladrillo, en, desde, menor, junio, su, del, h...   \n",
       "2  [inversores, stanley, morgan, en, encuentro, p...   \n",
       "3  [regulación, servicios, versus, para, por, en,...   \n",
       "4  [europea, pierde, por, en, y, valor, su, del, ...   \n",
       "\n",
       "                                             summary  \\\n",
       "0  El Ibex cede un 1,18% y pierde el soporte clav...   \n",
       "1  El año pasado, la morosidad de este segmento h...   \n",
       "2  El banco de inversión Morgan stanley organiza ...   \n",
       "3  La aparición de las start-ups tecnológicas ded...   \n",
       "4  Como el que han pagado en el último año las gr...   \n",
       "\n",
       "                                                text  \\\n",
       "0  Amaneció con subidas en todos los grandes parq...   \n",
       "1  El pasado año el descenso de la mora tanto de ...   \n",
       "2  El banco de inversión Morgan stanley organiza ...   \n",
       "3  La aparición de las start-ups tecnológicas ded...   \n",
       "4  Son los bancos españoles. Y los italianos, por...   \n",
       "\n",
       "                                               title  \\\n",
       "0  El sector bancario vuelve a tumbar al Ibex: es...   \n",
       "1  La morosidad del ladrillo cierra 2015 en su me...   \n",
       "2  Noticias del BBVA: Los inversores señalan de q...   \n",
       "3              Fintech: Innovación versus regulación   \n",
       "4  Tipos de interés: La banca europea pierde un t...   \n",
       "\n",
       "                                                 url  flag  \\\n",
       "0  http://cincodias.com/cincodias/2016/03/17/merc...     1   \n",
       "1  http://www.expansion.com/empresas/banca/2016/0...     1   \n",
       "2  http://www.elconfidencial.com/mercados/2016-03...     1   \n",
       "3  http://blogs.elconfidencial.com/mercados/tribu...     1   \n",
       "4  http://www.elconfidencial.com/empresas/2016-03...     1   \n",
       "\n",
       "                     domain   section       date day_of_week  \n",
       "0             cincodias.com  mercados 2016-03-17    Thursday  \n",
       "1             expansion.com  empresas 2016-03-18      Friday  \n",
       "2        elconfidencial.com  mercados 2016-03-24    Thursday  \n",
       "3  blogs.elconfidencial.com  mercados 2016-03-24    Thursday  \n",
       "4        elconfidencial.com  empresas 2016-03-29     Tuesday  "
      ]
     },
     "execution_count": 17,
     "metadata": {},
     "output_type": "execute_result"
    }
   ],
   "source": [
    "df.head(5)"
   ]
  },
  {
   "cell_type": "markdown",
   "metadata": {},
   "source": [
    "# Train / Test\n",
    "\n",
    "Preparing the train / test dataset for modelling:\n",
    "\n",
    "* __`TRAIN`__: articles published before 2017-10-01 (+ articles without date).\n",
    "* __`TEST`__: articles published from 2017-10-01 on."
   ]
  },
  {
   "cell_type": "code",
   "execution_count": 18,
   "metadata": {
    "collapsed": true
   },
   "outputs": [],
   "source": [
    "# Train examples span from the very start up until 2018. \n",
    "df_train = df[(df['date']<'2017-10-01') | (df['date'].isnull())]\n",
    "df_test  = df[df['date']>='2017-10-01']"
   ]
  },
  {
   "cell_type": "code",
   "execution_count": 19,
   "metadata": {},
   "outputs": [
    {
     "name": "stdout",
     "output_type": "stream",
     "text": [
      "Number of null dates in train: 149\n",
      "Number of null dates in test: 0\n"
     ]
    }
   ],
   "source": [
    "print \"Number of null dates in train: {:,}\".format(df_train[df_train['date'].isnull()]['url'].count())\n",
    "print \"Number of null dates in test: {:,}\".format(df_test[df_test['date'].isnull()]['url'].count())"
   ]
  },
  {
   "cell_type": "code",
   "execution_count": 20,
   "metadata": {},
   "outputs": [
    {
     "name": "stdout",
     "output_type": "stream",
     "text": [
      "-------------------------------------------------- \n",
      "TRAIN (< 2017-10-01 + None)\n",
      "--------------------------------------------------\n",
      "Flag:\t1\t\t0\n",
      "Nobs:\t3,795 \t\t11,244\n",
      "\n",
      "-------------------------------------------------- \n",
      "TEST (>= 2017-10-01)\n",
      "--------------------------------------------------\n",
      "Flag:\t1\t\t0\n",
      "Nobs:\t1,160 \t\t4,138\n"
     ]
    }
   ],
   "source": [
    "print \"-\"*50, \"\\nTRAIN (< 2017-10-01 + None)\\n\", \"-\"*50\n",
    "print \"Flag:\\t1\\t\\t0\"\n",
    "print \"Nobs:\\t{:,}\".format(df_train[df_train['flag']==1]['url'].count()),\"\\t\\t{:,}\".format(df_train[df_train['flag']==0]['url'].count())\n",
    "\n",
    "print \"\\n\",\"-\"*50, \"\\nTEST (>= 2017-10-01)\\n\", \"-\"*50\n",
    "print \"Flag:\\t1\\t\\t0\"\n",
    "print \"Nobs:\\t{:,}\".format(df_test[df_test['flag']==1]['url'].count()),\"\\t\\t{:,}\".format(df_test[df_test['flag']==0]['url'].count())"
   ]
  },
  {
   "cell_type": "code",
   "execution_count": 21,
   "metadata": {
    "collapsed": true
   },
   "outputs": [],
   "source": [
    "# shuffle datasets\n",
    "df_train = df_train.sample(frac=1).reset_index(drop=True)\n",
    "df_test = df_test.sample(frac=1).reset_index(drop=True)\n",
    "df_test = df_test.drop('flag', axis=1)"
   ]
  },
  {
   "cell_type": "markdown",
   "metadata": {},
   "source": [
    "# Dump to JSON"
   ]
  },
  {
   "cell_type": "code",
   "execution_count": 49,
   "metadata": {
    "collapsed": true
   },
   "outputs": [],
   "source": [
    "df_train.to_json('./train.json', force_ascii=False)\n",
    "df_test.to_json('./test.json', force_ascii=False)"
   ]
  },
  {
   "cell_type": "code",
   "execution_count": 48,
   "metadata": {
    "collapsed": true
   },
   "outputs": [],
   "source": [
    "df_train.loc[1].to_json('./example.json', force_ascii=False)"
   ]
  },
  {
   "cell_type": "markdown",
   "metadata": {},
   "source": [
    "# Analysis"
   ]
  },
  {
   "cell_type": "code",
   "execution_count": 24,
   "metadata": {},
   "outputs": [
    {
     "data": {
      "text/html": [
       "<div>\n",
       "<style>\n",
       "    .dataframe thead tr:only-child th {\n",
       "        text-align: right;\n",
       "    }\n",
       "\n",
       "    .dataframe thead th {\n",
       "        text-align: left;\n",
       "    }\n",
       "\n",
       "    .dataframe tbody tr th {\n",
       "        vertical-align: top;\n",
       "    }\n",
       "</style>\n",
       "<table border=\"1\" class=\"dataframe\">\n",
       "  <thead>\n",
       "    <tr style=\"text-align: right;\">\n",
       "      <th></th>\n",
       "      <th>domain</th>\n",
       "      <th>flag</th>\n",
       "      <th>count</th>\n",
       "    </tr>\n",
       "  </thead>\n",
       "  <tbody>\n",
       "    <tr>\n",
       "      <th>0</th>\n",
       "      <td>expansion.com</td>\n",
       "      <td>0</td>\n",
       "      <td>46</td>\n",
       "    </tr>\n",
       "    <tr>\n",
       "      <th>1</th>\n",
       "      <td>elconfidencial.com</td>\n",
       "      <td>1</td>\n",
       "      <td>4</td>\n",
       "    </tr>\n",
       "    <tr>\n",
       "      <th>2</th>\n",
       "      <td>plus.google.com</td>\n",
       "      <td>1</td>\n",
       "      <td>3</td>\n",
       "    </tr>\n",
       "    <tr>\n",
       "      <th>3</th>\n",
       "      <td>federalreserve.gov</td>\n",
       "      <td>1</td>\n",
       "      <td>2</td>\n",
       "    </tr>\n",
       "    <tr>\n",
       "      <th>4</th>\n",
       "      <td>bbvaresearch.com</td>\n",
       "      <td>1</td>\n",
       "      <td>2</td>\n",
       "    </tr>\n",
       "    <tr>\n",
       "      <th>5</th>\n",
       "      <td>lavanguardia.com</td>\n",
       "      <td>1</td>\n",
       "      <td>2</td>\n",
       "    </tr>\n",
       "    <tr>\n",
       "      <th>6</th>\n",
       "      <td>blogs.cincodias.com</td>\n",
       "      <td>1</td>\n",
       "      <td>1</td>\n",
       "    </tr>\n",
       "    <tr>\n",
       "      <th>7</th>\n",
       "      <td>cincodias.elpais.com</td>\n",
       "      <td>0</td>\n",
       "      <td>1</td>\n",
       "    </tr>\n",
       "    <tr>\n",
       "      <th>8</th>\n",
       "      <td>cnmv.es</td>\n",
       "      <td>1</td>\n",
       "      <td>1</td>\n",
       "    </tr>\n",
       "    <tr>\n",
       "      <th>9</th>\n",
       "      <td>diario.es</td>\n",
       "      <td>1</td>\n",
       "      <td>1</td>\n",
       "    </tr>\n",
       "    <tr>\n",
       "      <th>10</th>\n",
       "      <td>elconfidencial.com</td>\n",
       "      <td>0</td>\n",
       "      <td>1</td>\n",
       "    </tr>\n",
       "    <tr>\n",
       "      <th>11</th>\n",
       "      <td>vanitatis.elconfidencial.com</td>\n",
       "      <td>0</td>\n",
       "      <td>1</td>\n",
       "    </tr>\n",
       "    <tr>\n",
       "      <th>12</th>\n",
       "      <td>realclearpolitics.com</td>\n",
       "      <td>1</td>\n",
       "      <td>1</td>\n",
       "    </tr>\n",
       "    <tr>\n",
       "      <th>13</th>\n",
       "      <td>grupobancopopular.com</td>\n",
       "      <td>1</td>\n",
       "      <td>1</td>\n",
       "    </tr>\n",
       "    <tr>\n",
       "      <th>14</th>\n",
       "      <td>hugin.info</td>\n",
       "      <td>1</td>\n",
       "      <td>1</td>\n",
       "    </tr>\n",
       "    <tr>\n",
       "      <th>15</th>\n",
       "      <td>imf.org</td>\n",
       "      <td>1</td>\n",
       "      <td>1</td>\n",
       "    </tr>\n",
       "    <tr>\n",
       "      <th>16</th>\n",
       "      <td>nobelprize.org</td>\n",
       "      <td>1</td>\n",
       "      <td>1</td>\n",
       "    </tr>\n",
       "    <tr>\n",
       "      <th>17</th>\n",
       "      <td>prensa.bancsabadell.com</td>\n",
       "      <td>1</td>\n",
       "      <td>1</td>\n",
       "    </tr>\n",
       "    <tr>\n",
       "      <th>18</th>\n",
       "      <td>bankingsupervision.europa.eu</td>\n",
       "      <td>1</td>\n",
       "      <td>1</td>\n",
       "    </tr>\n",
       "  </tbody>\n",
       "</table>\n",
       "</div>"
      ],
      "text/plain": [
       "                          domain  flag  count\n",
       "0                  expansion.com     0     46\n",
       "1             elconfidencial.com     1      4\n",
       "2                plus.google.com     1      3\n",
       "3             federalreserve.gov     1      2\n",
       "4               bbvaresearch.com     1      2\n",
       "5               lavanguardia.com     1      2\n",
       "6            blogs.cincodias.com     1      1\n",
       "7           cincodias.elpais.com     0      1\n",
       "8                        cnmv.es     1      1\n",
       "9                      diario.es     1      1\n",
       "10            elconfidencial.com     0      1\n",
       "11  vanitatis.elconfidencial.com     0      1\n",
       "12         realclearpolitics.com     1      1\n",
       "13         grupobancopopular.com     1      1\n",
       "14                    hugin.info     1      1\n",
       "15                       imf.org     1      1\n",
       "16                nobelprize.org     1      1\n",
       "17       prensa.bancsabadell.com     1      1\n",
       "18  bankingsupervision.europa.eu     1      1"
      ]
     },
     "execution_count": 24,
     "metadata": {},
     "output_type": "execute_result"
    }
   ],
   "source": [
    "# checking articles without text\n",
    "df[df['text']==\"\"].groupby(['domain','flag']).size().sort_values(0,ascending=False).reset_index().rename(columns={0:\"count\"})"
   ]
  }
 ],
 "metadata": {
  "kernelspec": {
   "display_name": "Python 2",
   "language": "python",
   "name": "python2"
  },
  "language_info": {
   "codemirror_mode": {
    "name": "ipython",
    "version": 2
   },
   "file_extension": ".py",
   "mimetype": "text/x-python",
   "name": "python",
   "nbconvert_exporter": "python",
   "pygments_lexer": "ipython2",
   "version": "2.7.9"
  }
 },
 "nbformat": 4,
 "nbformat_minor": 2
}
