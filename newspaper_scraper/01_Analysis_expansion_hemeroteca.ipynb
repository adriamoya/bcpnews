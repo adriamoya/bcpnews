{
 "cells": [
  {
   "cell_type": "markdown",
   "metadata": {},
   "source": [
    "# Newspaper output - Expansión Hemeroteca\n",
    "\n",
    "Checking the output from a test run with past Expansión Hemeroteca article links\n",
    "\n",
    "---"
   ]
  },
  {
   "cell_type": "code",
   "execution_count": 1,
   "metadata": {
    "collapsed": true
   },
   "outputs": [],
   "source": [
    "# Imports\n",
    "\n",
    "import os\n",
    "import json\n",
    "import pprint\n",
    "import datetime\n",
    "import pandas as pd\n",
    "\n",
    "\n",
    "# Variables\n",
    "\n",
    "pp = pprint.PrettyPrinter(indent=4)\n",
    "\n",
    "# Read data\n",
    "\n",
    "data = []\n",
    "with open('./articles_expansion_hemeroteca.json') as input_file:\n",
    "    for line in input_file:\n",
    "        data.append(json.loads(line))"
   ]
  },
  {
   "cell_type": "code",
   "execution_count": 2,
   "metadata": {
    "collapsed": true
   },
   "outputs": [],
   "source": [
    "df = pd.DataFrame(data)"
   ]
  },
  {
   "cell_type": "code",
   "execution_count": 3,
   "metadata": {},
   "outputs": [
    {
     "data": {
      "text/html": [
       "<div>\n",
       "<style>\n",
       "    .dataframe thead tr:only-child th {\n",
       "        text-align: right;\n",
       "    }\n",
       "\n",
       "    .dataframe thead th {\n",
       "        text-align: left;\n",
       "    }\n",
       "\n",
       "    .dataframe tbody tr th {\n",
       "        vertical-align: top;\n",
       "    }\n",
       "</style>\n",
       "<table border=\"1\" class=\"dataframe\">\n",
       "  <thead>\n",
       "    <tr style=\"text-align: right;\">\n",
       "      <th></th>\n",
       "      <th>authors</th>\n",
       "      <th>keywords</th>\n",
       "      <th>publish_date</th>\n",
       "      <th>summary</th>\n",
       "      <th>text</th>\n",
       "      <th>title</th>\n",
       "      <th>top_image</th>\n",
       "      <th>url</th>\n",
       "    </tr>\n",
       "  </thead>\n",
       "  <tbody>\n",
       "    <tr>\n",
       "      <th>0</th>\n",
       "      <td>[]</td>\n",
       "      <td>[la, reforma, nuevo, italianas, el, fornero, l...</td>\n",
       "      <td>2018-04-06 00:00:00</td>\n",
       "      <td>La reforma o la anulación de la ley Fornero de...</td>\n",
       "      <td>La reforma o la anulación de la ley Fornero de...</td>\n",
       "      <td>La reforma de las pensiones italianas, en jueg...</td>\n",
       "      <td>http://e00-expansion.uecdn.es/assets/multimedi...</td>\n",
       "      <td>http://www.expansion.com/economia/2018/04/06/5...</td>\n",
       "    </tr>\n",
       "    <tr>\n",
       "      <th>1</th>\n",
       "      <td>[]</td>\n",
       "      <td>[la, arrastra, lex, el, los, se, entre, china,...</td>\n",
       "      <td>2018-04-06 00:00:00</td>\n",
       "      <td>China anunció que aplicaría la misma tasa a di...</td>\n",
       "      <td>El afecto entre Donald Trump y Boeing había si...</td>\n",
       "      <td>Lex FT: La guerra de aranceles entre china y E...</td>\n",
       "      <td>http://e00-expansion.uecdn.es/assets/multimedi...</td>\n",
       "      <td>http://www.expansion.com/opinion/2018/04/06/5a...</td>\n",
       "    </tr>\n",
       "    <tr>\n",
       "      <th>2</th>\n",
       "      <td>[]</td>\n",
       "      <td>[la, triunfa, el, los, permanentes, las, traba...</td>\n",
       "      <td>2018-04-06 00:00:00</td>\n",
       "      <td>Hay \"evidencias convincentes\" de que [el equip...</td>\n",
       "      <td>El fabricante chino de telecomunicaciones preo...</td>\n",
       "      <td>Huawei triunfa pese a las trabas permanentes d...</td>\n",
       "      <td>http://e00-expansion.uecdn.es/assets/multimedi...</td>\n",
       "      <td>http://www.expansion.com/economia-digital/comp...</td>\n",
       "    </tr>\n",
       "    <tr>\n",
       "      <th>3</th>\n",
       "      <td>[]</td>\n",
       "      <td>[la, el, despacho, madrid, decano, los, propio...</td>\n",
       "      <td>2018-04-06 00:00:00</td>\n",
       "      <td>José María Alonso, decano del Ilustre Colegio ...</td>\n",
       "      <td>José María Alonso deja Baker McKenzie, bufete ...</td>\n",
       "      <td>El decano de los abogados de Madrid crea su pr...</td>\n",
       "      <td>http://e00-expansion.uecdn.es/assets/multimedi...</td>\n",
       "      <td>http://www.expansion.com/juridico/actualidad-t...</td>\n",
       "    </tr>\n",
       "    <tr>\n",
       "      <th>4</th>\n",
       "      <td>[]</td>\n",
       "      <td>[la, el, operan, los, se, como, las, criptomon...</td>\n",
       "      <td>2018-04-06 00:00:00</td>\n",
       "      <td>A pesar del interés creciente que despiertan l...</td>\n",
       "      <td>A pesar del interés creciente que despiertan l...</td>\n",
       "      <td>Así operan las criptomonedas</td>\n",
       "      <td>http://e00-expansion.uecdn.es/assets/multimedi...</td>\n",
       "      <td>http://www.expansion.com/mercados/divisas/2018...</td>\n",
       "    </tr>\n",
       "  </tbody>\n",
       "</table>\n",
       "</div>"
      ],
      "text/plain": [
       "  authors                                           keywords  \\\n",
       "0      []  [la, reforma, nuevo, italianas, el, fornero, l...   \n",
       "1      []  [la, arrastra, lex, el, los, se, entre, china,...   \n",
       "2      []  [la, triunfa, el, los, permanentes, las, traba...   \n",
       "3      []  [la, el, despacho, madrid, decano, los, propio...   \n",
       "4      []  [la, el, operan, los, se, como, las, criptomon...   \n",
       "\n",
       "          publish_date                                            summary  \\\n",
       "0  2018-04-06 00:00:00  La reforma o la anulación de la ley Fornero de...   \n",
       "1  2018-04-06 00:00:00  China anunció que aplicaría la misma tasa a di...   \n",
       "2  2018-04-06 00:00:00  Hay \"evidencias convincentes\" de que [el equip...   \n",
       "3  2018-04-06 00:00:00  José María Alonso, decano del Ilustre Colegio ...   \n",
       "4  2018-04-06 00:00:00  A pesar del interés creciente que despiertan l...   \n",
       "\n",
       "                                                text  \\\n",
       "0  La reforma o la anulación de la ley Fornero de...   \n",
       "1  El afecto entre Donald Trump y Boeing había si...   \n",
       "2  El fabricante chino de telecomunicaciones preo...   \n",
       "3  José María Alonso deja Baker McKenzie, bufete ...   \n",
       "4  A pesar del interés creciente que despiertan l...   \n",
       "\n",
       "                                               title  \\\n",
       "0  La reforma de las pensiones italianas, en jueg...   \n",
       "1  Lex FT: La guerra de aranceles entre china y E...   \n",
       "2  Huawei triunfa pese a las trabas permanentes d...   \n",
       "3  El decano de los abogados de Madrid crea su pr...   \n",
       "4                       Así operan las criptomonedas   \n",
       "\n",
       "                                           top_image  \\\n",
       "0  http://e00-expansion.uecdn.es/assets/multimedi...   \n",
       "1  http://e00-expansion.uecdn.es/assets/multimedi...   \n",
       "2  http://e00-expansion.uecdn.es/assets/multimedi...   \n",
       "3  http://e00-expansion.uecdn.es/assets/multimedi...   \n",
       "4  http://e00-expansion.uecdn.es/assets/multimedi...   \n",
       "\n",
       "                                                 url  \n",
       "0  http://www.expansion.com/economia/2018/04/06/5...  \n",
       "1  http://www.expansion.com/opinion/2018/04/06/5a...  \n",
       "2  http://www.expansion.com/economia-digital/comp...  \n",
       "3  http://www.expansion.com/juridico/actualidad-t...  \n",
       "4  http://www.expansion.com/mercados/divisas/2018...  "
      ]
     },
     "execution_count": 3,
     "metadata": {},
     "output_type": "execute_result"
    }
   ],
   "source": [
    "df.head(5)"
   ]
  },
  {
   "cell_type": "code",
   "execution_count": 4,
   "metadata": {},
   "outputs": [
    {
     "data": {
      "text/plain": [
       "(106, 8)"
      ]
     },
     "execution_count": 4,
     "metadata": {},
     "output_type": "execute_result"
    }
   ],
   "source": [
    "df.shape"
   ]
  },
  {
   "cell_type": "code",
   "execution_count": 5,
   "metadata": {},
   "outputs": [
    {
     "name": "stdout",
     "output_type": "stream",
     "text": [
      "[   u'authors',\n",
      "    u'keywords',\n",
      "    u'publish_date',\n",
      "    u'summary',\n",
      "    u'text',\n",
      "    u'title',\n",
      "    u'top_image',\n",
      "    u'url']\n"
     ]
    }
   ],
   "source": [
    "pp.pprint(list(df.columns))"
   ]
  },
  {
   "cell_type": "code",
   "execution_count": 6,
   "metadata": {
    "collapsed": true
   },
   "outputs": [],
   "source": [
    "# Data Wrangling\n",
    "\n",
    "keywords = []\n",
    "\n",
    "for idx, row in df.iterrows():\n",
    "    authors = ' / '.join(row['authors'])\n",
    "    df.loc[idx, 'authors'] = authors\n",
    "    \n",
    "    for keyw in row['keywords']:\n",
    "        keywords.append(keyw)"
   ]
  },
  {
   "cell_type": "code",
   "execution_count": 7,
   "metadata": {},
   "outputs": [
    {
     "data": {
      "text/html": [
       "<div>\n",
       "<style>\n",
       "    .dataframe thead tr:only-child th {\n",
       "        text-align: right;\n",
       "    }\n",
       "\n",
       "    .dataframe thead th {\n",
       "        text-align: left;\n",
       "    }\n",
       "\n",
       "    .dataframe tbody tr th {\n",
       "        vertical-align: top;\n",
       "    }\n",
       "</style>\n",
       "<table border=\"1\" class=\"dataframe\">\n",
       "  <thead>\n",
       "    <tr style=\"text-align: right;\">\n",
       "      <th></th>\n",
       "      <th>authors</th>\n",
       "      <th>count</th>\n",
       "    </tr>\n",
       "  </thead>\n",
       "  <tbody>\n",
       "    <tr>\n",
       "      <th>0</th>\n",
       "      <td></td>\n",
       "      <td>98</td>\n",
       "    </tr>\n",
       "    <tr>\n",
       "      <th>1</th>\n",
       "      <td>Enviado Especial Cernobbio-Como / Italia</td>\n",
       "      <td>1</td>\n",
       "    </tr>\n",
       "    <tr>\n",
       "      <th>2</th>\n",
       "      <td>José María Finat.</td>\n",
       "      <td>1</td>\n",
       "    </tr>\n",
       "    <tr>\n",
       "      <th>3</th>\n",
       "      <td>Por Fotos De Jmcadenas Y P. Moreno</td>\n",
       "      <td>1</td>\n",
       "    </tr>\n",
       "    <tr>\n",
       "      <th>4</th>\n",
       "      <td>Por Loreto Ruiz-Ocaña</td>\n",
       "      <td>1</td>\n",
       "    </tr>\n",
       "    <tr>\n",
       "      <th>5</th>\n",
       "      <td>Por N. Serrano</td>\n",
       "      <td>1</td>\n",
       "    </tr>\n",
       "    <tr>\n",
       "      <th>6</th>\n",
       "      <td>Por Susana Pallares</td>\n",
       "      <td>1</td>\n",
       "    </tr>\n",
       "    <tr>\n",
       "      <th>7</th>\n",
       "      <td>Por Víctor Rodríguez</td>\n",
       "      <td>1</td>\n",
       "    </tr>\n",
       "    <tr>\n",
       "      <th>8</th>\n",
       "      <td>Por Érika Fernández Belsol</td>\n",
       "      <td>1</td>\n",
       "    </tr>\n",
       "  </tbody>\n",
       "</table>\n",
       "</div>"
      ],
      "text/plain": [
       "                                    authors  count\n",
       "0                                               98\n",
       "1  Enviado Especial Cernobbio-Como / Italia      1\n",
       "2                         José María Finat.      1\n",
       "3        Por Fotos De Jmcadenas Y P. Moreno      1\n",
       "4                     Por Loreto Ruiz-Ocaña      1\n",
       "5                            Por N. Serrano      1\n",
       "6                       Por Susana Pallares      1\n",
       "7                      Por Víctor Rodríguez      1\n",
       "8                Por Érika Fernández Belsol      1"
      ]
     },
     "execution_count": 7,
     "metadata": {},
     "output_type": "execute_result"
    }
   ],
   "source": [
    "df.groupby(['authors']).size().reset_index().rename(columns={0: \"count\"})"
   ]
  },
  {
   "cell_type": "code",
   "execution_count": 8,
   "metadata": {
    "collapsed": true
   },
   "outputs": [],
   "source": [
    "# keywords analysis\n",
    "\n",
    "df_kw = pd.DataFrame(pd.Series(keywords)).rename(columns={0: \"keyword\"})"
   ]
  },
  {
   "cell_type": "code",
   "execution_count": 9,
   "metadata": {},
   "outputs": [
    {
     "data": {
      "text/html": [
       "<div>\n",
       "<style>\n",
       "    .dataframe thead tr:only-child th {\n",
       "        text-align: right;\n",
       "    }\n",
       "\n",
       "    .dataframe thead th {\n",
       "        text-align: left;\n",
       "    }\n",
       "\n",
       "    .dataframe tbody tr th {\n",
       "        vertical-align: top;\n",
       "    }\n",
       "</style>\n",
       "<table border=\"1\" class=\"dataframe\">\n",
       "  <thead>\n",
       "    <tr style=\"text-align: right;\">\n",
       "      <th></th>\n",
       "      <th>keyword</th>\n",
       "      <th>count</th>\n",
       "    </tr>\n",
       "  </thead>\n",
       "  <tbody>\n",
       "    <tr>\n",
       "      <th>0</th>\n",
       "      <td>la</td>\n",
       "      <td>100</td>\n",
       "    </tr>\n",
       "    <tr>\n",
       "      <th>1</th>\n",
       "      <td>en</td>\n",
       "      <td>98</td>\n",
       "    </tr>\n",
       "    <tr>\n",
       "      <th>2</th>\n",
       "      <td>y</td>\n",
       "      <td>91</td>\n",
       "    </tr>\n",
       "    <tr>\n",
       "      <th>3</th>\n",
       "      <td>el</td>\n",
       "      <td>91</td>\n",
       "    </tr>\n",
       "    <tr>\n",
       "      <th>4</th>\n",
       "      <td>que</td>\n",
       "      <td>85</td>\n",
       "    </tr>\n",
       "    <tr>\n",
       "      <th>5</th>\n",
       "      <td>los</td>\n",
       "      <td>62</td>\n",
       "    </tr>\n",
       "    <tr>\n",
       "      <th>6</th>\n",
       "      <td>del</td>\n",
       "      <td>49</td>\n",
       "    </tr>\n",
       "    <tr>\n",
       "      <th>7</th>\n",
       "      <td>las</td>\n",
       "      <td>43</td>\n",
       "    </tr>\n",
       "    <tr>\n",
       "      <th>8</th>\n",
       "      <td>por</td>\n",
       "      <td>43</td>\n",
       "    </tr>\n",
       "    <tr>\n",
       "      <th>9</th>\n",
       "      <td>se</td>\n",
       "      <td>40</td>\n",
       "    </tr>\n",
       "  </tbody>\n",
       "</table>\n",
       "</div>"
      ],
      "text/plain": [
       "  keyword  count\n",
       "0      la    100\n",
       "1      en     98\n",
       "2       y     91\n",
       "3      el     91\n",
       "4     que     85\n",
       "5     los     62\n",
       "6     del     49\n",
       "7     las     43\n",
       "8     por     43\n",
       "9      se     40"
      ]
     },
     "execution_count": 9,
     "metadata": {},
     "output_type": "execute_result"
    }
   ],
   "source": [
    "df_kw.groupby('keyword').size().sort_values(0, ascending=False).reset_index().rename(columns={0: \"count\"}).head(10)"
   ]
  }
 ],
 "metadata": {
  "kernelspec": {
   "display_name": "Python 2",
   "language": "python",
   "name": "python2"
  },
  "language_info": {
   "codemirror_mode": {
    "name": "ipython",
    "version": 2
   },
   "file_extension": ".py",
   "mimetype": "text/x-python",
   "name": "python",
   "nbconvert_exporter": "python",
   "pygments_lexer": "ipython2",
   "version": "2.7.9"
  }
 },
 "nbformat": 4,
 "nbformat_minor": 2
}
