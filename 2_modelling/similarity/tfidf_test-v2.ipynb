{
 "cells": [
  {
   "cell_type": "code",
   "execution_count": 1,
   "metadata": {},
   "outputs": [],
   "source": [
    "import gensim\n",
    "import numpy as np\n",
    "import pandas as pd"
   ]
  },
  {
   "cell_type": "code",
   "execution_count": 2,
   "metadata": {},
   "outputs": [],
   "source": [
    "df_input = pd.read_csv('../data/test.csv')"
   ]
  },
  {
   "cell_type": "code",
   "execution_count": 3,
   "metadata": {},
   "outputs": [
    {
     "name": "stdout",
     "output_type": "stream",
     "text": [
      "Number of documents: 5225\n"
     ]
    }
   ],
   "source": [
    "raw_documents = df_input.text.values\n",
    "print(\"Number of documents:\",len(raw_documents))"
   ]
  },
  {
   "cell_type": "markdown",
   "metadata": {},
   "source": [
    "<h6>Example</h6>\n",
    "We will focus on article 210 that talks about Cepsa"
   ]
  },
  {
   "cell_type": "code",
   "execution_count": 4,
   "metadata": {},
   "outputs": [
    {
     "data": {
      "text/plain": [
       "7       La Compañía Nacional de Petróleo de Abu Dabi (...\n",
       "134     La mayor inversión corresponderá a la planta d...\n",
       "210     Cepsa ha anunciado hoy la adjudicación de un m...\n",
       "239     Cepsa, la segunda petrolera en España, conside...\n",
       "484     Las cifras son elocuentes: de 2001 a 2017 este...\n",
       "817     El desarrollo del coche eléctrico en España su...\n",
       "1837    El Ayuntamiento de Madrid cumple su palabra y ...\n",
       "3408    Los cheques regalo y los vuelos, las últimas o...\n",
       "3736    Seis de los diez mayores prestamistas en 2017 ...\n",
       "4292    Los plazos terminan entre el 28 de febrero y e...\n",
       "4668    Ni Repsol ni Cepsa, las dos mayores petroleras...\n",
       "5149    El dinero vuelve a mirar a España para inverti...\n",
       "Name: text, dtype: object"
      ]
     },
     "execution_count": 4,
     "metadata": {},
     "output_type": "execute_result"
    }
   ],
   "source": [
    "df_input['text'][df_input['text'].str.contains('Cepsa')]"
   ]
  },
  {
   "cell_type": "code",
   "execution_count": 5,
   "metadata": {},
   "outputs": [
    {
     "name": "stdout",
     "output_type": "stream",
     "text": [
      "\n",
      "Abu Dabi potencia Cepsa y le da un megacontrato de 1.200 millones en Emiratos\n",
      "--------------------------------------------------------------------------------\n",
      "Cepsa ha anunciado hoy la adjudicación de un megacontrato de exploración y producción de hidrocarburos en Emiratos Árabes valorado en 1.500 millones de dólares (algo más de 1.200 millones de euros).\n",
      "\n",
      "Esta operación es la mayor en el área de adquisición de derechos de hidrocarburos realizada por Cepsa de una sola vez desde que hace cuatro años se hizo con el grupo Coastal Energy, con activos sobre  ...\n"
     ]
    }
   ],
   "source": [
    "print(\"\\n\" + df_input.loc[210]['title'])\n",
    "print('-'*80)\n",
    "print(df_input.loc[210]['text'][:400] + \" ...\")"
   ]
  },
  {
   "cell_type": "code",
   "execution_count": 6,
   "metadata": {},
   "outputs": [],
   "source": [
    "stopwords_es = [line.strip() for line in open(\"stopwords_es.txt\", \"r\")]"
   ]
  },
  {
   "cell_type": "code",
   "execution_count": 7,
   "metadata": {},
   "outputs": [],
   "source": [
    "from sklearn.feature_extraction.text import TfidfVectorizer\n",
    "\n",
    "tf = TfidfVectorizer(analyzer='word', ngram_range=(1,3), min_df = 0, stop_words = stopwords_es)\n",
    "tfidf_matrix =  tf.fit_transform(raw_documents)"
   ]
  },
  {
   "cell_type": "code",
   "execution_count": 8,
   "metadata": {},
   "outputs": [],
   "source": [
    "from sklearn.metrics.pairwise import linear_kernel\n",
    "\n",
    "def find_similar(tfidf_matrix, index, top_n = 5):\n",
    "    cosine_similarities = linear_kernel(tfidf_matrix[index:index+1], tfidf_matrix).flatten()\n",
    "    related_docs_indices = [i for i in cosine_similarities.argsort()[::-1] if i != index]\n",
    "    return [(index, cosine_similarities[index]) for index in related_docs_indices][0:top_n]"
   ]
  },
  {
   "cell_type": "code",
   "execution_count": 9,
   "metadata": {},
   "outputs": [
    {
     "name": "stdout",
     "output_type": "stream",
     "text": [
      "\n",
      "0.3174967105346452\n",
      "La Compañía Nacional de Petróleo de Abu Dabi (ADNOC, de sus siglas en inglés) ha firmado hoy un acuerdo con Cepsa para que la compañía española participe con un 20 % en los yacimientos de alta mar SARB y Umm Lulu, que se estima que pueden producir 215.000 barriles de petróleo al día. En un comunicado, ADNOC informó de que Cepsa ha aportado 1.500 millones de dólares para acceder a esta concesión, q\n",
      "\n",
      "0.1240421492639003\n",
      "El desarrollo del coche eléctrico en España supondrá en 2030 una caída de la demanda de carburantes de apenas el 1%, incluso en el escenario en que el 100% de los vehículos que se adquieran ese año estén todos electrificados. Así se desprende de la Visión (Outlook) para 2030 en la que por primera vez Cepsa analiza las tendencias y modelos socioeconómicos en el mundo y el mapa energético para ese a\n",
      "\n",
      "0.11617174587063794\n",
      "Ni Repsol ni Cepsa, las dos mayores petroleras de España, quieren (o pueden) hacerse con el mayor paquete accionarial de su vecina y competidora portuguesa Galp. Tal y como adelantó El Confidencial, los dueños de Amorim Energia están sondeando el mercado de cara a vender la compañía, que a su vez posee el 33% de Galp.\n",
      "\n",
      "Pese a que los dueños de Amorim Energia negaron oficialmente su intención de ve\n",
      "\n",
      "0.08532334262363492\n",
      "Cepsa, la segunda petrolera en España, considera que a los coches eléctricos les queda un largo camino por recorrer hasta que sean mayoría dentro del conjunto de vehículos que circulan por las calles y las carreteras.\n",
      "\n",
      "Así se desprende del informe sobre perspectivas energéticas que acaba de publicar, denominado Energy Outlook 2030. Este informe, que realiza por primera vez, es un compendio de prev\n",
      "\n",
      "0.04844444365936473\n",
      "Está programada su puesta en marcha para, como mínimo, 2020, pero la Autoridad de Carreteras y Transportes de Dubai ya ha dado a conocer parte del diseño del Hyperloop que unirá dos de las ciudades más ricas de oriente medio, Dubái y Abu Dabi, a las que les separan 140 kilómetros. Y lo hará en apenas 12 minutos, si todo sale según lo previsto.\n",
      "\n",
      "Aunque la idea inicial del Hyperloop, basado en una c\n"
     ]
    }
   ],
   "source": [
    "for index, score in find_similar(tfidf_matrix, 210):\n",
    "    print(\"\")\n",
    "    print(score)\n",
    "    print(raw_documents[index][:400])"
   ]
  }
 ],
 "metadata": {
  "kernelspec": {
   "display_name": "Python 3",
   "language": "python",
   "name": "python3"
  },
  "language_info": {
   "codemirror_mode": {
    "name": "ipython",
    "version": 3
   },
   "file_extension": ".py",
   "mimetype": "text/x-python",
   "name": "python",
   "nbconvert_exporter": "python",
   "pygments_lexer": "ipython3",
   "version": "3.6.2"
  }
 },
 "nbformat": 4,
 "nbformat_minor": 2
}
