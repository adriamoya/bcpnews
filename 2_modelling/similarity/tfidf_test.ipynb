{
 "cells": [
  {
   "cell_type": "markdown",
   "metadata": {},
   "source": [
    "# Find similar articles with tf-idf + cosine similarity (unsupervised)"
   ]
  },
  {
   "cell_type": "code",
   "execution_count": 17,
   "metadata": {
    "collapsed": true
   },
   "outputs": [],
   "source": [
    "import gensim\n",
    "import numpy as np\n",
    "import pandas as pd"
   ]
  },
  {
   "cell_type": "code",
   "execution_count": 18,
   "metadata": {
    "collapsed": true
   },
   "outputs": [],
   "source": [
    "df_input = pd.read_csv('/home/amoya/.kaggle/competitions/bcpnews/test.csv')"
   ]
  },
  {
   "cell_type": "code",
   "execution_count": 19,
   "metadata": {},
   "outputs": [
    {
     "name": "stdout",
     "output_type": "stream",
     "text": [
      "Number of documents: 5225\n"
     ]
    }
   ],
   "source": [
    "raw_documents = df_input.text.values\n",
    "print(\"Number of documents:\",len(raw_documents))"
   ]
  },
  {
   "cell_type": "markdown",
   "metadata": {},
   "source": [
    "<h6>Example</h6>\n",
    "We will focus on article 210 that talks about Cepsa"
   ]
  },
  {
   "cell_type": "code",
   "execution_count": 20,
   "metadata": {},
   "outputs": [
    {
     "data": {
      "text/plain": [
       "7       La Compañía Nacional de Petróleo de Abu Dabi (...\n",
       "134     La mayor inversión corresponderá a la planta d...\n",
       "210     Cepsa ha anunciado hoy la adjudicación de un m...\n",
       "239     Cepsa, la segunda petrolera en España, conside...\n",
       "484     Las cifras son elocuentes: de 2001 a 2017 este...\n",
       "817     El desarrollo del coche eléctrico en España su...\n",
       "1837    El Ayuntamiento de Madrid cumple su palabra y ...\n",
       "3408    Los cheques regalo y los vuelos, las últimas o...\n",
       "3736    Seis de los diez mayores prestamistas en 2017 ...\n",
       "4292    Los plazos terminan entre el 28 de febrero y e...\n",
       "4668    Ni Repsol ni Cepsa, las dos mayores petroleras...\n",
       "5149    El dinero vuelve a mirar a España para inverti...\n",
       "Name: text, dtype: object"
      ]
     },
     "execution_count": 20,
     "metadata": {},
     "output_type": "execute_result"
    }
   ],
   "source": [
    "df_input['text'][df_input['text'].str.contains('Cepsa')]"
   ]
  },
  {
   "cell_type": "code",
   "execution_count": 21,
   "metadata": {},
   "outputs": [
    {
     "name": "stdout",
     "output_type": "stream",
     "text": [
      "\n",
      "Abu Dabi potencia Cepsa y le da un megacontrato de 1.200 millones en Emiratos\n",
      "--------------------------------------------------------------------------------\n",
      "Cepsa ha anunciado hoy la adjudicación de un megacontrato de exploración y producción de hidrocarburos en Emiratos Árabes valorado en 1.500 millones de dólares (algo más de 1.200 millones de euros).\n",
      "\n",
      "Esta operación es la mayor en el área de adquisición de derechos de hidrocarburos realizada por Cepsa de una sola vez desde que hace cuatro años se hizo con el grupo Coastal Energy, con activos sobre todo en el sudeste asiático, en Malasia y Tailandia.\n",
      "\n",
      "Cepsa está controlada por Mubadala, el grupo estatal del emirato de Abu Dabi fruto de la fusión de la antigua IPIC y otros activos.\n",
      "\n",
      "El nuevo contrato supone un respaldo del Gobierno de Abu Dabi a Cepsa, que se ha convertido en una de sus puntas de lanza empresariales dentro y fuera de Emiratos.\n",
      "\n",
      "El contrato consiste en que la Compañía Nacional ...\n"
     ]
    }
   ],
   "source": [
    "print(\"\\n\" + df_input.loc[210]['title'])\n",
    "print('-'*80)\n",
    "print(df_input.loc[210]['text'][:800] + \" ...\")"
   ]
  },
  {
   "cell_type": "code",
   "execution_count": 22,
   "metadata": {
    "collapsed": true
   },
   "outputs": [],
   "source": [
    "# We will now use NLTK to tokenize\n",
    "from nltk.tokenize import word_tokenize\n",
    "gen_docs = [[w.lower() for w in word_tokenize(text)] \n",
    "            for text in raw_documents]\n",
    "# print(gen_docs)"
   ]
  },
  {
   "cell_type": "code",
   "execution_count": 23,
   "metadata": {},
   "outputs": [
    {
     "name": "stdout",
     "output_type": "stream",
     "text": [
      "Number of words in dictionary: 92125\n",
      "0 ,\n",
      "1 .\n",
      "2 1.300\n",
      "3 250\n",
      "4 500\n",
      "5 a\n",
      "6 abril\n",
      "7 administración\n",
      "8 al\n",
      "9 asegurado\n"
     ]
    }
   ],
   "source": [
    "# We will create a dictionary from a list of documents. A dictionary maps every word to a number.\n",
    "dictionary = gensim.corpora.Dictionary(gen_docs)\n",
    "print(\"Number of words in dictionary:\",len(dictionary))\n",
    "for i in range(10):\n",
    "    print(i, dictionary[i])"
   ]
  },
  {
   "cell_type": "code",
   "execution_count": 24,
   "metadata": {
    "collapsed": true
   },
   "outputs": [],
   "source": [
    "# Now we will create a corpus. A corpus is a list of bags of words. \n",
    "# A bag-of-words representation for a document just lists the number of times each word occurs in the document.\n",
    "corpus = [dictionary.doc2bow(gen_doc) for gen_doc in gen_docs]\n",
    "# print(corpus)"
   ]
  },
  {
   "cell_type": "code",
   "execution_count": 25,
   "metadata": {},
   "outputs": [
    {
     "name": "stdout",
     "output_type": "stream",
     "text": [
      "TfidfModel(num_docs=5225, num_nnz=1417318)\n",
      "1417318\n"
     ]
    }
   ],
   "source": [
    "# Now we create a tf-idf model from the corpus. Note that num_nnz is the number of tokens.\n",
    "tf_idf = gensim.models.TfidfModel(corpus)\n",
    "print(tf_idf)\n",
    "s = 0\n",
    "for i in corpus:\n",
    "    s += len(i)\n",
    "print(s)"
   ]
  },
  {
   "cell_type": "code",
   "execution_count": 26,
   "metadata": {},
   "outputs": [
    {
     "name": "stdout",
     "output_type": "stream",
     "text": [
      "Similarity index with 5225 documents in 0 shards (stored under /home/amoya/coding/bcpnews/2_modelling/similarity/)\n",
      "<class 'gensim.similarities.docsim.Similarity'>\n"
     ]
    }
   ],
   "source": [
    "# Now we will create a similarity measure object in tf-idf space.\n",
    "sims = gensim.similarities.Similarity('/home/amoya/coding/bcpnews/2_modelling/similarity/',\n",
    "                                      tf_idf[corpus],\n",
    "                                      num_features=len(dictionary))\n",
    "print(sims)\n",
    "print(type(sims))"
   ]
  },
  {
   "cell_type": "markdown",
   "metadata": {},
   "source": [
    "# Validation"
   ]
  },
  {
   "cell_type": "markdown",
   "metadata": {},
   "source": [
    "Our validation consists on comparing which articles are similar to `210` and see if those are close to the list of possible candidates - these are articles that contain the word `Cepsa`. \n",
    "\n",
    "Therefore, the list of possible candidates is:"
   ]
  },
  {
   "cell_type": "markdown",
   "metadata": {},
   "source": [
    "* __Candidates__ (contain word `Cepsa`):\n",
    "\n",
    "```json\n",
    "[7, 134, 210, 239, 484, 817, 1837, 3408, 3736, 4292, 4668, 5149]\n",
    "```\n",
    "\n",
    "* __Similars__ (top 7):\n",
    "\n",
    "```json\n",
    "[7, 134, 210, 239, 817, 2732, 4668]\n",
    "```"
   ]
  },
  {
   "cell_type": "code",
   "execution_count": 27,
   "metadata": {},
   "outputs": [
    {
     "data": {
      "text/plain": [
       "7       La Compañía Nacional de Petróleo de Abu Dabi (...\n",
       "134     La mayor inversión corresponderá a la planta d...\n",
       "210     Cepsa ha anunciado hoy la adjudicación de un m...\n",
       "239     Cepsa, la segunda petrolera en España, conside...\n",
       "484     Las cifras son elocuentes: de 2001 a 2017 este...\n",
       "817     El desarrollo del coche eléctrico en España su...\n",
       "1837    El Ayuntamiento de Madrid cumple su palabra y ...\n",
       "3408    Los cheques regalo y los vuelos, las últimas o...\n",
       "3736    Seis de los diez mayores prestamistas en 2017 ...\n",
       "4292    Los plazos terminan entre el 28 de febrero y e...\n",
       "4668    Ni Repsol ni Cepsa, las dos mayores petroleras...\n",
       "5149    El dinero vuelve a mirar a España para inverti...\n",
       "Name: text, dtype: object"
      ]
     },
     "execution_count": 27,
     "metadata": {},
     "output_type": "execute_result"
    }
   ],
   "source": [
    "# Candidates\n",
    "df_input['text'][df_input['text'].str.contains('Cepsa')]"
   ]
  },
  {
   "cell_type": "code",
   "execution_count": 28,
   "metadata": {
    "collapsed": true
   },
   "outputs": [],
   "source": [
    "# Now create a query document and convert it to tf-idf.\n",
    "text_sample = raw_documents[210]"
   ]
  },
  {
   "cell_type": "code",
   "execution_count": 29,
   "metadata": {
    "collapsed": true,
    "scrolled": false
   },
   "outputs": [],
   "source": [
    "query_doc = [w.lower() for w in word_tokenize(text_sample)]\n",
    "# print(query_doc)\n",
    "query_doc_bow = dictionary.doc2bow(query_doc)\n",
    "# print(query_doc_bow)\n",
    "query_doc_tf_idf = tf_idf[query_doc_bow]\n",
    "# print(query_doc_tf_idf)"
   ]
  },
  {
   "cell_type": "code",
   "execution_count": 30,
   "metadata": {
    "collapsed": true
   },
   "outputs": [],
   "source": [
    "# We show an array of document similarities to query.\n",
    "# We see that the second document is the most similar with the overlapping of socks and force.\n",
    "text_sample_simis = sims[query_doc_tf_idf]"
   ]
  },
  {
   "cell_type": "code",
   "execution_count": 31,
   "metadata": {
    "collapsed": true
   },
   "outputs": [],
   "source": [
    "df = pd.DataFrame(text_sample_simis).reset_index().rename(columns={'index':'id', 0:'similarity'})\n",
    "df['id'] = df['id'].apply(lambda x: x+1)\n",
    "df['text'] = raw_documents\n",
    "df['title'] = df_input['title'].values\n",
    "df['keywords'] = df_input['keywords'].values"
   ]
  },
  {
   "cell_type": "code",
   "execution_count": 32,
   "metadata": {
    "scrolled": false
   },
   "outputs": [
    {
     "name": "stdout",
     "output_type": "stream",
     "text": [
      "\n",
      "Similarities with text 210\n",
      "\n",
      "--------------------------------------------------------------------------------\n",
      "\n",
      "Text: 210 (similarity: 100.00%)\n",
      "\n",
      "Keywords: megacontrato, la, potencia, que, le, ha, millones, el, en, abu, una, adnoc, dabi, da, cepsa, y, emiratos\n",
      "\n",
      "Abu Dabi potencia Cepsa y le da un megacontrato de 1.200 millones en Emiratos\n",
      "\n",
      "Cepsa ha anunciado hoy la adjudicación de un megacontrato de exploración y producción de hidrocarburos en Emiratos Árabes valorado en 1.500 millones de dólares (algo más de 1.200 millones de euros).\n",
      "\n",
      "Esta operación es la mayor en el área de adquisici ...\n",
      "\n",
      "--------------------------------------------------------------------------------\n",
      "\n",
      "Text: 7 (similarity: 67.08%)\n",
      "\n",
      "Keywords: y, yacimientos, concede, en, la, que, participación, cepsa, el, dos, mar, abu, para, petróleo, del, adnoc, dabi\n",
      "\n",
      "Abu Dabi concede a Cepsa el 20% de participación en dos yacimientos en el mar\n",
      "\n",
      "La Compañía Nacional de Petróleo de Abu Dabi (ADNOC, de sus siglas en inglés) ha firmado hoy un acuerdo con Cepsa para que la compañía española participe con un 20 % en los yacimientos de alta mar SARB y Umm Lulu, que se estima que pueden producir 21 ...\n",
      "\n",
      "--------------------------------------------------------------------------------\n",
      "\n",
      "Text: 817 (similarity: 35.72%)\n",
      "\n",
      "Keywords: y, los, la, eléctrico, consumo, que, calcula, millones, en, solo, cepsa, el, para, se, coche, reducirá, carburantes, del\n",
      "\n",
      "Cepsa calcula que el coche eléctrico reducirá el consumo de carburantes solo el 1%\n",
      "\n",
      "El desarrollo del coche eléctrico en España supondrá en 2030 una caída de la demanda de carburantes de apenas el 1%, incluso en el escenario en que el 100% de los vehículos que se adquieran ese año estén todos electrificados. Así se desprende de la V ...\n",
      "\n",
      "--------------------------------------------------------------------------------\n",
      "\n",
      "Text: 4668 (similarity: 24.27%)\n",
      "\n",
      "Keywords: compra, del, amorim, dos, noticias, cepsa, petrolera, el, que, descartan, por, galp, en, y, empresas, repsol, la\n",
      "\n",
      "Repsol y Cepsa descartan la compra del 33% de Galp. Noticias de Empresas\n",
      "\n",
      "Ni Repsol ni Cepsa, las dos mayores petroleras de España, quieren (o pueden) hacerse con el mayor paquete accionarial de su vecina y competidora portuguesa Galp. Tal y como adelantó El Confidencial, los dueños de Amorim Energia están sondeando el mer ...\n",
      "\n",
      "--------------------------------------------------------------------------------\n",
      "\n",
      "Text: 239 (similarity: 23.13%)\n",
      "\n",
      "Keywords: eléctrico, su, se, que, coche, millones, el, en, hasta, vehículos, eléctricos, futuro, polémica, y, sobre, los, la\n",
      "\n",
      "Cepsa aparca el coche eléctrico hasta 2030 y alimenta la polémica sobre su futuro\n",
      "\n",
      "Cepsa, la segunda petrolera en España, considera que a los coches eléctricos les queda un largo camino por recorrer hasta que sean mayoría dentro del conjunto de vehículos que circulan por las calles y las carreteras.\n",
      "\n",
      "Así se desprende del informe so ...\n",
      "\n",
      "--------------------------------------------------------------------------------\n",
      "\n",
      "Text: 134 (similarity: 12.94%)\n",
      "\n",
      "Keywords: rábida, se, sus, las, que, invertirá, refinerías, ha, modernización, millones, en, el, cepsa, y, los, la\n",
      "\n",
      "Cepsa invertirá 360 millones en la modernización de sus refinerías de Algeciras y La Rábida\n",
      "\n",
      "La mayor inversión corresponderá a la planta de Algeciras (Cádiz), con 200 millones de euros.\n",
      "\n",
      "El grupo Cepsa va a invertir entre este año y 2019 en las refinerías de La Rábida (Huelva) y Algeciras (Cádiz) 360 millones de euros en proyectos de ingeni ...\n",
      "\n",
      "--------------------------------------------------------------------------------\n",
      "\n",
      "Text: 2732 (similarity: 10.82%)\n",
      "\n",
      "Keywords: lo, el, kilómetros, que, tecnología, una, minutos, su, será, unirá, por, fotogalerías, hyperloop, en, y, este, la\n",
      "\n",
      "140 kilómetros en 12 minutos: así será el hyperloop que unirá Dubái con Abu Dabi. Fotogalerías de Tecnología\n",
      "\n",
      "Está programada su puesta en marcha para, como mínimo, 2020, pero la Autoridad de Carreteras y Transportes de Dubai ya ha dado a conocer parte del diseño del Hyperloop que unirá dos de las ciudades más ricas de oriente medio, Dubái y Abu Dabi, a las  ...\n",
      "\n"
     ]
    }
   ],
   "source": [
    "print(\"\\nSimilarities with text 210\\n\")\n",
    "\n",
    "for idx, row in df.sort_values('similarity', ascending=False).head(7).iterrows():\n",
    "    print(\"-\"*80)\n",
    "    print(\"\\nText:\", idx, \"(similarity: %s)\" % \"{:.2%}\".format(row['similarity']))\n",
    "    print(\"\\nKeywords: \" + row['keywords'].replace('[','').replace(']',''))\n",
    "    print(\"\\n\" + row['title'])\n",
    "    print(\"\\n\" + row['text'][:250] + \" ...\")\n",
    "    print(\"\")"
   ]
  }
 ],
 "metadata": {
  "kernelspec": {
   "display_name": "Python 3",
   "language": "python",
   "name": "python3"
  },
  "language_info": {
   "codemirror_mode": {
    "name": "ipython",
    "version": 3
   },
   "file_extension": ".py",
   "mimetype": "text/x-python",
   "name": "python",
   "nbconvert_exporter": "python",
   "pygments_lexer": "ipython3",
   "version": "3.4.2"
  }
 },
 "nbformat": 4,
 "nbformat_minor": 2
}
