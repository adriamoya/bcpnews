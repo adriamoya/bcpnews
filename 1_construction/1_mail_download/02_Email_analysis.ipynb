{
 "cells": [
  {
   "cell_type": "markdown",
   "metadata": {},
   "source": [
    "# Analyzing newsletter urls\n",
    "\n",
    "---"
   ]
  },
  {
   "cell_type": "code",
   "execution_count": 1,
   "metadata": {
    "collapsed": true
   },
   "outputs": [],
   "source": [
    "%matplotlib inline\n",
    "\n",
    "# Imports\n",
    "\n",
    "import re\n",
    "import os\n",
    "import json\n",
    "import pprint\n",
    "import datetime\n",
    "import numpy as np\n",
    "import pandas as pd\n",
    "import matplotlib.pyplot as plt\n",
    "\n",
    "# Variables\n",
    "\n",
    "pp = pprint.PrettyPrinter(indent=4)\n",
    "\n",
    "# Read data\n",
    "\n",
    "data = []\n",
    "with open('./emails.json') as input_file:\n",
    "    for line in input_file:\n",
    "        data.append(json.loads(line))"
   ]
  },
  {
   "cell_type": "code",
   "execution_count": 15,
   "metadata": {
    "collapsed": true
   },
   "outputs": [],
   "source": [
    "df = pd.DataFrame(data)"
   ]
  },
  {
   "cell_type": "code",
   "execution_count": 16,
   "metadata": {},
   "outputs": [
    {
     "name": "stdout",
     "output_type": "stream",
     "text": [
      "Number of emails downloaded: 439\n"
     ]
    }
   ],
   "source": [
    "print \"Number of emails downloaded: {:,}\".format(df.shape[0])"
   ]
  },
  {
   "cell_type": "code",
   "execution_count": 17,
   "metadata": {},
   "outputs": [
    {
     "data": {
      "text/html": [
       "<div>\n",
       "<style>\n",
       "    .dataframe thead tr:only-child th {\n",
       "        text-align: right;\n",
       "    }\n",
       "\n",
       "    .dataframe thead th {\n",
       "        text-align: left;\n",
       "    }\n",
       "\n",
       "    .dataframe tbody tr th {\n",
       "        vertical-align: top;\n",
       "    }\n",
       "</style>\n",
       "<table border=\"1\" class=\"dataframe\">\n",
       "  <thead>\n",
       "    <tr style=\"text-align: right;\">\n",
       "      <th></th>\n",
       "      <th>date</th>\n",
       "      <th>from</th>\n",
       "      <th>subject</th>\n",
       "      <th>to</th>\n",
       "      <th>urls</th>\n",
       "    </tr>\n",
       "  </thead>\n",
       "  <tbody>\n",
       "    <tr>\n",
       "      <th>0</th>\n",
       "      <td>Fri, 18 Mar 2016 10:13:47 +0100</td>\n",
       "      <td>Laia Izquierdo &lt;lizquierdo@bluecap.com&gt;</td>\n",
       "      <td>Buecap banking breakfast</td>\n",
       "      <td>bluecapglobal@bluecap.com</td>\n",
       "      <td>[http://cincodias.com/cincodias/2016/03/17/mer...</td>\n",
       "    </tr>\n",
       "    <tr>\n",
       "      <th>1</th>\n",
       "      <td>Mon, 21 Mar 2016 10:05:11 +0100</td>\n",
       "      <td>Laia Izquierdo &lt;lizquierdo@bluecap.com&gt;</td>\n",
       "      <td>Bluecap banking breakfast</td>\n",
       "      <td>bluecapglobal@bluecap.com</td>\n",
       "      <td>[http://www.expansion.com/empresas/banca/2016/...</td>\n",
       "    </tr>\n",
       "    <tr>\n",
       "      <th>2</th>\n",
       "      <td>Thu, 24 Mar 2016 10:08:11 +0100</td>\n",
       "      <td>Laia Izquierdo &lt;lizquierdo@bluecap.com&gt;</td>\n",
       "      <td>Bluecap banking breakfast</td>\n",
       "      <td>bluecapglobal@bluecap.com</td>\n",
       "      <td>[http://www.elconfidencial.com/mercados/2016-0...</td>\n",
       "    </tr>\n",
       "  </tbody>\n",
       "</table>\n",
       "</div>"
      ],
      "text/plain": [
       "                              date                                     from  \\\n",
       "0  Fri, 18 Mar 2016 10:13:47 +0100  Laia Izquierdo <lizquierdo@bluecap.com>   \n",
       "1  Mon, 21 Mar 2016 10:05:11 +0100  Laia Izquierdo <lizquierdo@bluecap.com>   \n",
       "2  Thu, 24 Mar 2016 10:08:11 +0100  Laia Izquierdo <lizquierdo@bluecap.com>   \n",
       "\n",
       "                     subject                         to  \\\n",
       "0   Buecap banking breakfast  bluecapglobal@bluecap.com   \n",
       "1  Bluecap banking breakfast  bluecapglobal@bluecap.com   \n",
       "2  Bluecap banking breakfast  bluecapglobal@bluecap.com   \n",
       "\n",
       "                                                urls  \n",
       "0  [http://cincodias.com/cincodias/2016/03/17/mer...  \n",
       "1  [http://www.expansion.com/empresas/banca/2016/...  \n",
       "2  [http://www.elconfidencial.com/mercados/2016-0...  "
      ]
     },
     "execution_count": 17,
     "metadata": {},
     "output_type": "execute_result"
    }
   ],
   "source": [
    "df.head(3)"
   ]
  },
  {
   "cell_type": "code",
   "execution_count": 18,
   "metadata": {},
   "outputs": [
    {
     "data": {
      "text/html": [
       "<div>\n",
       "<style>\n",
       "    .dataframe thead tr:only-child th {\n",
       "        text-align: right;\n",
       "    }\n",
       "\n",
       "    .dataframe thead th {\n",
       "        text-align: left;\n",
       "    }\n",
       "\n",
       "    .dataframe tbody tr th {\n",
       "        vertical-align: top;\n",
       "    }\n",
       "</style>\n",
       "<table border=\"1\" class=\"dataframe\">\n",
       "  <thead>\n",
       "    <tr style=\"text-align: right;\">\n",
       "      <th></th>\n",
       "      <th>subject</th>\n",
       "      <th>count</th>\n",
       "    </tr>\n",
       "  </thead>\n",
       "  <tbody>\n",
       "    <tr>\n",
       "      <th>0</th>\n",
       "      <td>Bluecap Banking Breakfast</td>\n",
       "      <td>345</td>\n",
       "    </tr>\n",
       "    <tr>\n",
       "      <th>1</th>\n",
       "      <td>Bluecap banking breakfast</td>\n",
       "      <td>30</td>\n",
       "    </tr>\n",
       "    <tr>\n",
       "      <th>2</th>\n",
       "      <td>Bluecap Banking Brunch</td>\n",
       "      <td>18</td>\n",
       "    </tr>\n",
       "    <tr>\n",
       "      <th>3</th>\n",
       "      <td>Re: Doc Caixa</td>\n",
       "      <td>3</td>\n",
       "    </tr>\n",
       "    <tr>\n",
       "      <th>4</th>\n",
       "      <td>=?UTF-8?Q?Re=3A_Si_us_plau=2C_recorda_enviar=2...</td>\n",
       "      <td>3</td>\n",
       "    </tr>\n",
       "  </tbody>\n",
       "</table>\n",
       "</div>"
      ],
      "text/plain": [
       "                                             subject  count\n",
       "0                          Bluecap Banking Breakfast    345\n",
       "1                          Bluecap banking breakfast     30\n",
       "2                             Bluecap Banking Brunch     18\n",
       "3                                      Re: Doc Caixa      3\n",
       "4  =?UTF-8?Q?Re=3A_Si_us_plau=2C_recorda_enviar=2...      3"
      ]
     },
     "execution_count": 18,
     "metadata": {},
     "output_type": "execute_result"
    }
   ],
   "source": [
    "df.groupby('subject').size().sort_values(0, ascending=False).reset_index().rename(columns={0:\"count\"}).head(5)"
   ]
  },
  {
   "cell_type": "code",
   "execution_count": 19,
   "metadata": {
    "collapsed": true
   },
   "outputs": [],
   "source": [
    "# Extract all article urls\n",
    "\n",
    "urls = []\n",
    "\n",
    "for idx, row in df.iterrows():\n",
    "    if row['urls']:\n",
    "        try:\n",
    "            for url in row['urls']:\n",
    "                urls.append(url)\n",
    "        except:\n",
    "            print idx, row['urls']\n",
    "            pass"
   ]
  },
  {
   "cell_type": "code",
   "execution_count": 20,
   "metadata": {},
   "outputs": [
    {
     "name": "stdout",
     "output_type": "stream",
     "text": [
      "There are 4,976 urls\n"
     ]
    }
   ],
   "source": [
    "# Delete possible dups\n",
    "urls = list(set(urls))\n",
    "\n",
    "print \"There are {:,} urls\".format(len(urls))"
   ]
  },
  {
   "cell_type": "code",
   "execution_count": 21,
   "metadata": {},
   "outputs": [
    {
     "data": {
      "text/html": [
       "<div>\n",
       "<style>\n",
       "    .dataframe thead tr:only-child th {\n",
       "        text-align: right;\n",
       "    }\n",
       "\n",
       "    .dataframe thead th {\n",
       "        text-align: left;\n",
       "    }\n",
       "\n",
       "    .dataframe tbody tr th {\n",
       "        vertical-align: top;\n",
       "    }\n",
       "</style>\n",
       "<table border=\"1\" class=\"dataframe\">\n",
       "  <thead>\n",
       "    <tr style=\"text-align: right;\">\n",
       "      <th></th>\n",
       "      <th>url</th>\n",
       "    </tr>\n",
       "  </thead>\n",
       "  <tbody>\n",
       "    <tr>\n",
       "      <th>0</th>\n",
       "      <td>http://www.expansion.com/empresas/banca/2018/0...</td>\n",
       "    </tr>\n",
       "    <tr>\n",
       "      <th>1</th>\n",
       "      <td>http://www.expansion.com/ahorro/2018/03/09/5aa...</td>\n",
       "    </tr>\n",
       "    <tr>\n",
       "      <th>2</th>\n",
       "      <td>http://www.expansion.com/empresas/banca/2017/0...</td>\n",
       "    </tr>\n",
       "    <tr>\n",
       "      <th>3</th>\n",
       "      <td>http://www.expansion.com/empresas/banca/2017/1...</td>\n",
       "    </tr>\n",
       "    <tr>\n",
       "      <th>4</th>\n",
       "      <td>http://www.expansion.com/empresas/banca/2016/0...</td>\n",
       "    </tr>\n",
       "  </tbody>\n",
       "</table>\n",
       "</div>"
      ],
      "text/plain": [
       "                                                 url\n",
       "0  http://www.expansion.com/empresas/banca/2018/0...\n",
       "1  http://www.expansion.com/ahorro/2018/03/09/5aa...\n",
       "2  http://www.expansion.com/empresas/banca/2017/0...\n",
       "3  http://www.expansion.com/empresas/banca/2017/1...\n",
       "4  http://www.expansion.com/empresas/banca/2016/0..."
      ]
     },
     "execution_count": 21,
     "metadata": {},
     "output_type": "execute_result"
    }
   ],
   "source": [
    "df_urls = pd.DataFrame(urls).rename(columns={0:\"url\"})\n",
    "df_urls.head(5)"
   ]
  },
  {
   "cell_type": "code",
   "execution_count": 25,
   "metadata": {
    "collapsed": true
   },
   "outputs": [],
   "source": [
    "df_urls['newspaper'] = df_urls['url'].apply(lambda x: re.findall('(?:\\/\\/www\\.|\\/\\/)(\\w+)\\.\\w',x))"
   ]
  },
  {
   "cell_type": "code",
   "execution_count": 26,
   "metadata": {
    "collapsed": true,
    "scrolled": false
   },
   "outputs": [],
   "source": [
    "for idx, row in df_urls.iterrows():\n",
    "    source = row['newspaper']\n",
    "    try:\n",
    "        df_urls.loc[idx, 'newspaper'] = source[0]\n",
    "    except:\n",
    "        df_urls.loc[idx, 'newspaper'] = \"\""
   ]
  },
  {
   "cell_type": "code",
   "execution_count": 27,
   "metadata": {},
   "outputs": [
    {
     "data": {
      "text/html": [
       "<div>\n",
       "<style>\n",
       "    .dataframe thead tr:only-child th {\n",
       "        text-align: right;\n",
       "    }\n",
       "\n",
       "    .dataframe thead th {\n",
       "        text-align: left;\n",
       "    }\n",
       "\n",
       "    .dataframe tbody tr th {\n",
       "        vertical-align: top;\n",
       "    }\n",
       "</style>\n",
       "<table border=\"1\" class=\"dataframe\">\n",
       "  <thead>\n",
       "    <tr style=\"text-align: right;\">\n",
       "      <th></th>\n",
       "      <th>newspaper</th>\n",
       "      <th>count</th>\n",
       "    </tr>\n",
       "  </thead>\n",
       "  <tbody>\n",
       "    <tr>\n",
       "      <th>0</th>\n",
       "      <td>expansion</td>\n",
       "      <td>2598</td>\n",
       "    </tr>\n",
       "    <tr>\n",
       "      <th>1</th>\n",
       "      <td>cincodias</td>\n",
       "      <td>1289</td>\n",
       "    </tr>\n",
       "    <tr>\n",
       "      <th>2</th>\n",
       "      <td>elconfidencial</td>\n",
       "      <td>861</td>\n",
       "    </tr>\n",
       "    <tr>\n",
       "      <th>3</th>\n",
       "      <td>bernsteinresearch</td>\n",
       "      <td>78</td>\n",
       "    </tr>\n",
       "    <tr>\n",
       "      <th>4</th>\n",
       "      <td>blogs</td>\n",
       "      <td>36</td>\n",
       "    </tr>\n",
       "    <tr>\n",
       "      <th>5</th>\n",
       "      <td>retina</td>\n",
       "      <td>14</td>\n",
       "    </tr>\n",
       "    <tr>\n",
       "      <th>6</th>\n",
       "      <td>federalreserve</td>\n",
       "      <td>9</td>\n",
       "    </tr>\n",
       "    <tr>\n",
       "      <th>7</th>\n",
       "      <td>google</td>\n",
       "      <td>9</td>\n",
       "    </tr>\n",
       "    <tr>\n",
       "      <th>8</th>\n",
       "      <td>economia</td>\n",
       "      <td>6</td>\n",
       "    </tr>\n",
       "    <tr>\n",
       "      <th>9</th>\n",
       "      <td>bloomberg</td>\n",
       "      <td>4</td>\n",
       "    </tr>\n",
       "  </tbody>\n",
       "</table>\n",
       "</div>"
      ],
      "text/plain": [
       "           newspaper  count\n",
       "0          expansion   2598\n",
       "1          cincodias   1289\n",
       "2     elconfidencial    861\n",
       "3  bernsteinresearch     78\n",
       "4              blogs     36\n",
       "5             retina     14\n",
       "6     federalreserve      9\n",
       "7             google      9\n",
       "8           economia      6\n",
       "9          bloomberg      4"
      ]
     },
     "execution_count": 27,
     "metadata": {},
     "output_type": "execute_result"
    }
   ],
   "source": [
    "source = df_urls.groupby('newspaper').size().sort_values(0, ascending=False).reset_index().rename(columns={0:\"count\"})\n",
    "source.head(10)"
   ]
  },
  {
   "cell_type": "code",
   "execution_count": 28,
   "metadata": {},
   "outputs": [
    {
     "name": "stdout",
     "output_type": "stream",
     "text": [
      "Number of different urls extracted: 4,976\n"
     ]
    }
   ],
   "source": [
    "print \"Number of different urls extracted: {:,}\".format(df_urls.shape[0])"
   ]
  },
  {
   "cell_type": "code",
   "execution_count": 30,
   "metadata": {},
   "outputs": [
    {
     "data": {
      "image/png": "[encoded data removed]",
      "text/plain": [
       "<matplotlib.figure.Figure at 0x7f4e45b05a90>"
      ]
     },
     "metadata": {},
     "output_type": "display_data"
    }
   ],
   "source": [
    "fig, ax = plt.subplots(figsize=(15, 10))\n",
    "\n",
    "y_pos = np.arange(len(list(source['newspaper'])[:10]))\n",
    "\n",
    "ax.barh(y_pos, list(source['count'])[:10], align='center')\n",
    "ax.set_yticks(y_pos)\n",
    "ax.set_yticklabels(list(source['newspaper'])[:10])\n",
    "ax.invert_yaxis()  # labels read top-to-bottom\n",
    "ax.set_xlabel('# of Articles')\n",
    "ax.set_title('Distribution of Articles by Newspaper')\n",
    "ax.xaxis.grid(which='major', linewidth=0.5)\n",
    "\n",
    "plt.show()"
   ]
  },
  {
   "cell_type": "code",
   "execution_count": 31,
   "metadata": {
    "collapsed": true
   },
   "outputs": [],
   "source": [
    "# let's check that urls are properly extracted ...\n",
    "\n",
    "df_urls['url_length'] = df_urls['url'].apply(lambda x: len(x))"
   ]
  },
  {
   "cell_type": "code",
   "execution_count": 32,
   "metadata": {},
   "outputs": [
    {
     "data": {
      "text/html": [
       "<div>\n",
       "<style>\n",
       "    .dataframe thead tr:only-child th {\n",
       "        text-align: right;\n",
       "    }\n",
       "\n",
       "    .dataframe thead th {\n",
       "        text-align: left;\n",
       "    }\n",
       "\n",
       "    .dataframe tbody tr th {\n",
       "        vertical-align: top;\n",
       "    }\n",
       "</style>\n",
       "<table border=\"1\" class=\"dataframe\">\n",
       "  <thead>\n",
       "    <tr style=\"text-align: right;\">\n",
       "      <th></th>\n",
       "      <th>url</th>\n",
       "      <th>newspaper</th>\n",
       "      <th>url_length</th>\n",
       "    </tr>\n",
       "  </thead>\n",
       "  <tbody>\n",
       "    <tr>\n",
       "      <th>4853</th>\n",
       "      <td>http://diario.es</td>\n",
       "      <td>diario</td>\n",
       "      <td>16</td>\n",
       "    </tr>\n",
       "    <tr>\n",
       "      <th>2371</th>\n",
       "      <td>https://cincodia</td>\n",
       "      <td></td>\n",
       "      <td>16</td>\n",
       "    </tr>\n",
       "    <tr>\n",
       "      <th>4217</th>\n",
       "      <td>http://macauhub.com</td>\n",
       "      <td>macauhub</td>\n",
       "      <td>19</td>\n",
       "    </tr>\n",
       "    <tr>\n",
       "      <th>2758</th>\n",
       "      <td>http://somosmuno.com</td>\n",
       "      <td>somosmuno</td>\n",
       "      <td>20</td>\n",
       "    </tr>\n",
       "    <tr>\n",
       "      <th>2584</th>\n",
       "      <td>http://salesforce.com</td>\n",
       "      <td>salesforce</td>\n",
       "      <td>21</td>\n",
       "    </tr>\n",
       "    <tr>\n",
       "      <th>906</th>\n",
       "      <td>http://www.bluecap.com</td>\n",
       "      <td>bluecap</td>\n",
       "      <td>22</td>\n",
       "    </tr>\n",
       "    <tr>\n",
       "      <th>802</th>\n",
       "      <td>http://www.bluecap.com/</td>\n",
       "      <td>bluecap</td>\n",
       "      <td>23</td>\n",
       "    </tr>\n",
       "    <tr>\n",
       "      <th>406</th>\n",
       "      <td>http://www.aknowledge.us/</td>\n",
       "      <td>aknowledge</td>\n",
       "      <td>25</td>\n",
       "    </tr>\n",
       "    <tr>\n",
       "      <th>4680</th>\n",
       "      <td>http://www.expansion.com/</td>\n",
       "      <td>expansion</td>\n",
       "      <td>25</td>\n",
       "    </tr>\n",
       "    <tr>\n",
       "      <th>733</th>\n",
       "      <td>http://www.extelsurveys.com</td>\n",
       "      <td>extelsurveys</td>\n",
       "      <td>27</td>\n",
       "    </tr>\n",
       "    <tr>\n",
       "      <th>799</th>\n",
       "      <td>https://cincodias.elpais.com/</td>\n",
       "      <td>cincodias</td>\n",
       "      <td>29</td>\n",
       "    </tr>\n",
       "    <tr>\n",
       "      <th>2437</th>\n",
       "      <td>http://www.expansion.com/merca</td>\n",
       "      <td>expansion</td>\n",
       "      <td>30</td>\n",
       "    </tr>\n",
       "    <tr>\n",
       "      <th>4458</th>\n",
       "      <td>http://marginalrevolution.com/</td>\n",
       "      <td>marginalrevolution</td>\n",
       "      <td>30</td>\n",
       "    </tr>\n",
       "    <tr>\n",
       "      <th>4797</th>\n",
       "      <td>https://www.google.com/calendar/</td>\n",
       "      <td>google</td>\n",
       "      <td>32</td>\n",
       "    </tr>\n",
       "    <tr>\n",
       "      <th>4152</th>\n",
       "      <td>http://www.co-operativebank.co.uk/</td>\n",
       "      <td>www</td>\n",
       "      <td>34</td>\n",
       "    </tr>\n",
       "    <tr>\n",
       "      <th>4673</th>\n",
       "      <td>http://www.expansion.com/economia/2</td>\n",
       "      <td>expansion</td>\n",
       "      <td>35</td>\n",
       "    </tr>\n",
       "    <tr>\n",
       "      <th>1896</th>\n",
       "      <td>https://www.elconfidencial.com/mercados/</td>\n",
       "      <td>elconfidencial</td>\n",
       "      <td>40</td>\n",
       "    </tr>\n",
       "    <tr>\n",
       "      <th>1701</th>\n",
       "      <td>http://www.bbc.com/news/business-42148682</td>\n",
       "      <td>bbc</td>\n",
       "      <td>41</td>\n",
       "    </tr>\n",
       "    <tr>\n",
       "      <th>2506</th>\n",
       "      <td>http://www.expansion.com/empresas/banca/201</td>\n",
       "      <td>expansion</td>\n",
       "      <td>43</td>\n",
       "    </tr>\n",
       "    <tr>\n",
       "      <th>4795</th>\n",
       "      <td>http://hugin.info/134323/R/2043980/763188.pdf</td>\n",
       "      <td>hugin</td>\n",
       "      <td>45</td>\n",
       "    </tr>\n",
       "  </tbody>\n",
       "</table>\n",
       "</div>"
      ],
      "text/plain": [
       "                                                url           newspaper  \\\n",
       "4853                               http://diario.es              diario   \n",
       "2371                               https://cincodia                       \n",
       "4217                            http://macauhub.com            macauhub   \n",
       "2758                           http://somosmuno.com           somosmuno   \n",
       "2584                          http://salesforce.com          salesforce   \n",
       "906                          http://www.bluecap.com             bluecap   \n",
       "802                         http://www.bluecap.com/             bluecap   \n",
       "406                       http://www.aknowledge.us/          aknowledge   \n",
       "4680                      http://www.expansion.com/           expansion   \n",
       "733                     http://www.extelsurveys.com        extelsurveys   \n",
       "799                   https://cincodias.elpais.com/           cincodias   \n",
       "2437                 http://www.expansion.com/merca           expansion   \n",
       "4458                 http://marginalrevolution.com/  marginalrevolution   \n",
       "4797               https://www.google.com/calendar/              google   \n",
       "4152             http://www.co-operativebank.co.uk/                 www   \n",
       "4673            http://www.expansion.com/economia/2           expansion   \n",
       "1896       https://www.elconfidencial.com/mercados/      elconfidencial   \n",
       "1701      http://www.bbc.com/news/business-42148682                 bbc   \n",
       "2506    http://www.expansion.com/empresas/banca/201           expansion   \n",
       "4795  http://hugin.info/134323/R/2043980/763188.pdf               hugin   \n",
       "\n",
       "      url_length  \n",
       "4853          16  \n",
       "2371          16  \n",
       "4217          19  \n",
       "2758          20  \n",
       "2584          21  \n",
       "906           22  \n",
       "802           23  \n",
       "406           25  \n",
       "4680          25  \n",
       "733           27  \n",
       "799           29  \n",
       "2437          30  \n",
       "4458          30  \n",
       "4797          32  \n",
       "4152          34  \n",
       "4673          35  \n",
       "1896          40  \n",
       "1701          41  \n",
       "2506          43  \n",
       "4795          45  "
      ]
     },
     "execution_count": 32,
     "metadata": {},
     "output_type": "execute_result"
    }
   ],
   "source": [
    "df_urls.sort_values('url_length').head(20)"
   ]
  }
 ],
 "metadata": {
  "kernelspec": {
   "display_name": "Python 2",
   "language": "python",
   "name": "python2"
  },
  "language_info": {
   "codemirror_mode": {
    "name": "ipython",
    "version": 2
   },
   "file_extension": ".py",
   "mimetype": "text/x-python",
   "name": "python",
   "nbconvert_exporter": "python",
   "pygments_lexer": "ipython2",
   "version": "2.7.9"
  }
 },
 "nbformat": 4,
 "nbformat_minor": 2
}
