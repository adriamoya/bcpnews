{
 "cells": [
  {
   "cell_type": "markdown",
   "metadata": {},
   "source": [
    "# Results\n",
    "\n",
    "Results without merging datasets and removing duplicates between 0s and 1s:\n",
    "\n",
    "|                 | 1 (emails) | 0 (scraped) |  Total |\n",
    "|-----------------|-----------:|------------:|-------:|\n",
    "| Expansion       |      2,593 |       9,772 | 12,365 |\n",
    "| Cincodias       |      1,284 |       3,965 |  5,249 |\n",
    "| El Confidencial |        855 |       5,291 |  6,146 |\n",
    "| Others          |        105 |           0 |    105 |\n",
    "| Total           |      4,837 |      19,028 | 23,865 |"
   ]
  },
  {
   "cell_type": "markdown",
   "metadata": {},
   "source": [
    "Articles for training  - Emails (ground truth)\n",
    "=========================\n",
    "\n",
    "\n",
    "****"
   ]
  },
  {
   "cell_type": "code",
   "execution_count": 1,
   "metadata": {
    "collapsed": true
   },
   "outputs": [],
   "source": [
    "import os\n",
    "import re\n",
    "import json\n",
    "import pprint\n",
    "import datetime\n",
    "import pandas as pd\n",
    "\n",
    "pp = pprint.PrettyPrinter(indent=4)"
   ]
  },
  {
   "cell_type": "code",
   "execution_count": 2,
   "metadata": {
    "collapsed": true
   },
   "outputs": [],
   "source": [
    "data = []\n",
    "with open('../articles_email.json') as input_file:\n",
    "    for line in input_file:\n",
    "        data.append(json.loads(line))"
   ]
  },
  {
   "cell_type": "code",
   "execution_count": 3,
   "metadata": {},
   "outputs": [
    {
     "name": "stdout",
     "output_type": "stream",
     "text": [
      "Number of articles downloaded: 5,146\n"
     ]
    }
   ],
   "source": [
    "df = pd.DataFrame(data)\n",
    "\n",
    "print(\"Number of articles downloaded: {:,}\".format(df.shape[0]))"
   ]
  },
  {
   "cell_type": "code",
   "execution_count": 4,
   "metadata": {
    "collapsed": true
   },
   "outputs": [],
   "source": [
    "# print(\"Min date:\", df[df['publish_date'].notna()]['publish_date'].min()[:10])\n",
    "# print(\"Max date:\", df[df['publish_date'].notna()]['publish_date'].max()[:10])"
   ]
  },
  {
   "cell_type": "markdown",
   "metadata": {},
   "source": [
    "### Duplicates and useless articles"
   ]
  },
  {
   "cell_type": "code",
   "execution_count": 5,
   "metadata": {},
   "outputs": [
    {
     "data": {
      "text/html": [
       "<div>\n",
       "<style>\n",
       "    .dataframe thead tr:only-child th {\n",
       "        text-align: right;\n",
       "    }\n",
       "\n",
       "    .dataframe thead th {\n",
       "        text-align: left;\n",
       "    }\n",
       "\n",
       "    .dataframe tbody tr th {\n",
       "        vertical-align: top;\n",
       "    }\n",
       "</style>\n",
       "<table border=\"1\" class=\"dataframe\">\n",
       "  <thead>\n",
       "    <tr style=\"text-align: right;\">\n",
       "      <th></th>\n",
       "      <th>text</th>\n",
       "      <th>count</th>\n",
       "    </tr>\n",
       "  </thead>\n",
       "  <tbody>\n",
       "    <tr>\n",
       "      <th>0</th>\n",
       "      <td>Bluecap es una “boutique” de consultoría estra...</td>\n",
       "      <td>78</td>\n",
       "    </tr>\n",
       "    <tr>\n",
       "      <th>1</th>\n",
       "      <td>You have requested on-line access to a Sanford...</td>\n",
       "      <td>44</td>\n",
       "    </tr>\n",
       "    <tr>\n",
       "      <th>2</th>\n",
       "      <td>How Can We Help?\\n\\nIf you'd like to learn mor...</td>\n",
       "      <td>36</td>\n",
       "    </tr>\n",
       "    <tr>\n",
       "      <th>3</th>\n",
       "      <td></td>\n",
       "      <td>27</td>\n",
       "    </tr>\n",
       "    <tr>\n",
       "      <th>4</th>\n",
       "      <td>One account. All of Google. Sign in to continu...</td>\n",
       "      <td>19</td>\n",
       "    </tr>\n",
       "    <tr>\n",
       "      <th>5</th>\n",
       "      <td>Consulte las citas más relevantes de la jornad...</td>\n",
       "      <td>6</td>\n",
       "    </tr>\n",
       "    <tr>\n",
       "      <th>6</th>\n",
       "      <td>Danièle Nouy, presidenta del Supervisor Único,...</td>\n",
       "      <td>3</td>\n",
       "    </tr>\n",
       "    <tr>\n",
       "      <th>7</th>\n",
       "      <td>El ministro de Economía aseguró que la resoluc...</td>\n",
       "      <td>3</td>\n",
       "    </tr>\n",
       "    <tr>\n",
       "      <th>8</th>\n",
       "      <td>Federal Reserve Chair Janet Yellen said it is ...</td>\n",
       "      <td>2</td>\n",
       "    </tr>\n",
       "    <tr>\n",
       "      <th>9</th>\n",
       "      <td>Los bancos españoles que habían capitalizado s...</td>\n",
       "      <td>2</td>\n",
       "    </tr>\n",
       "  </tbody>\n",
       "</table>\n",
       "</div>"
      ],
      "text/plain": [
       "                                                text  count\n",
       "0  Bluecap es una “boutique” de consultoría estra...     78\n",
       "1  You have requested on-line access to a Sanford...     44\n",
       "2  How Can We Help?\\n\\nIf you'd like to learn mor...     36\n",
       "3                                                        27\n",
       "4  One account. All of Google. Sign in to continu...     19\n",
       "5  Consulte las citas más relevantes de la jornad...      6\n",
       "6  Danièle Nouy, presidenta del Supervisor Único,...      3\n",
       "7  El ministro de Economía aseguró que la resoluc...      3\n",
       "8  Federal Reserve Chair Janet Yellen said it is ...      2\n",
       "9  Los bancos españoles que habían capitalizado s...      2"
      ]
     },
     "execution_count": 5,
     "metadata": {},
     "output_type": "execute_result"
    }
   ],
   "source": [
    "df_dups = df.groupby('text').size().sort_values(0,ascending=False).reset_index().rename(columns={0:\"count\"})\n",
    "df_dups.head(10)"
   ]
  },
  {
   "cell_type": "code",
   "execution_count": 6,
   "metadata": {},
   "outputs": [
    {
     "name": "stdout",
     "output_type": "stream",
     "text": [
      "Text 0:\n",
      "\n",
      "(u'Bluecap es una \\u201cboutique\\u201d de consultor\\xeda estrat\\xe9gica especializada en el sector financiero\\n\\nBluecap es un equipo internacional de profesionales del sector financiero. Mezclamos cultura y talento para dar el servicio m\\xe1s especializado mientras disfrutamos de cada reto.\\n\\nBluecap es el lugar donde el espacio es el que t\\xfa creas, donde el futuro es el que t\\xfa imaginas\\n\\n\\xbfQuieres hablar con nosotros?', '...')\n",
      "\n",
      "\n",
      "Current number of articles: 5,068\n"
     ]
    }
   ],
   "source": [
    "# text 0: Bluecap es una “boutique” de consultoría estra...\n",
    "print(\"Text 0:\\n\")\n",
    "print(df_dups.loc[0]['text'],\"...\")\n",
    "\n",
    "idx = df.index[df['text']==df_dups.loc[0]['text']]\n",
    "df = df.drop(idx)\n",
    "\n",
    "print(\"\\n\\nCurrent number of articles: {:,}\".format(df.shape[0]))"
   ]
  },
  {
   "cell_type": "code",
   "execution_count": 7,
   "metadata": {},
   "outputs": [
    {
     "name": "stdout",
     "output_type": "stream",
     "text": [
      "Text 1:\n",
      "\n",
      "(u'You have requested on-line access to a Sanford C. Bernstein report. On-line access to these reports is available only to clients of Sanford C. Bernstein & Co., LLC, Sanford C. Bernstein Limited, or Sanford C. Bernstein (Hong Kong) Limited (together, \"Bernstein\"). For your convenience, an additional logon id and password is not required. Simply confirm the e-mail address by which you are known to us for verification. By submitting information below, you accept the Terms of Use.\\n\\nPlease enter your email to verify access:', '...')\n",
      "\n",
      "\n",
      "Current number of articles: 5,024\n"
     ]
    }
   ],
   "source": [
    "# text 1: You have requested on-line access to a Sanford...\n",
    "print(\"Text 1:\\n\")\n",
    "print(df_dups.loc[1]['text'],\"...\")\n",
    "\n",
    "idx = df.index[df['text']==df_dups.loc[1]['text']]\n",
    "df = df.drop(idx)\n",
    "\n",
    "print(\"\\n\\nCurrent number of articles: {:,}\".format(df.shape[0]))"
   ]
  },
  {
   "cell_type": "code",
   "execution_count": 8,
   "metadata": {},
   "outputs": [
    {
     "name": "stdout",
     "output_type": "stream",
     "text": [
      "Text 2:\n",
      "\n",
      "(u\"How Can We Help?\\n\\nIf you'd like to learn more about Bernstein's insights and execution or how they can help advance your business, please contact us.\", '...')\n",
      "\n",
      "\n",
      "Current number of articles: 4,988\n"
     ]
    }
   ],
   "source": [
    "# text 2: How Can We Help?\\n\\nIf you'd like to learn mor...\n",
    "print(\"Text 2:\\n\")\n",
    "print(df_dups.loc[2]['text'],\"...\")\n",
    "\n",
    "idx = df.index[df['text']==df_dups.loc[2]['text']]\n",
    "df = df.drop(idx)\n",
    "\n",
    "print(\"\\n\\nCurrent number of articles: {:,}\".format(df.shape[0]))"
   ]
  },
  {
   "cell_type": "code",
   "execution_count": 9,
   "metadata": {},
   "outputs": [
    {
     "name": "stdout",
     "output_type": "stream",
     "text": [
      "Text 4:\n",
      "\n",
      "(u'One account. All of Google. Sign in to continue to Google Calendar', '...')\n",
      "\n",
      "\n",
      "Current number of articles: 4,969\n"
     ]
    }
   ],
   "source": [
    "# text 4: One account. All of Google. Sign in to continu...\n",
    "print(\"Text 4:\\n\")\n",
    "print(df_dups.loc[4]['text'],\"...\")\n",
    "\n",
    "idx = df.index[df['text']==df_dups.loc[4]['text']]\n",
    "df = df.drop(idx)\n",
    "\n",
    "print(\"\\n\\nCurrent number of articles: {:,}\".format(df.shape[0]))"
   ]
  },
  {
   "cell_type": "code",
   "execution_count": 10,
   "metadata": {},
   "outputs": [
    {
     "name": "stdout",
     "output_type": "stream",
     "text": [
      "Text 5:\n",
      "\n",
      "(u'Consulte las citas m\\xe1s relevantes de la jornada actual y de las pr\\xf3ximas. [Acceder]', '...')\n",
      "\n",
      "\n",
      "Current number of articles: 4,963\n"
     ]
    }
   ],
   "source": [
    "# text 5: Consulte las citas más relevantes de la jornad...\n",
    "print(\"Text 5:\\n\")\n",
    "print(df_dups.loc[5]['text'],\"...\")\n",
    "\n",
    "idx = df.index[df['text']==df_dups.loc[5]['text']]\n",
    "df = df.drop(idx)\n",
    "\n",
    "print(\"\\n\\nCurrent number of articles: {:,}\".format(df.shape[0]))"
   ]
  },
  {
   "cell_type": "code",
   "execution_count": 11,
   "metadata": {},
   "outputs": [
    {
     "name": "stdout",
     "output_type": "stream",
     "text": [
      "Current number of articles: 4,936\n"
     ]
    }
   ],
   "source": [
    "# removing empty text articles\n",
    "df = df.drop(df[df['text']==''].index)\n",
    "print(\"Current number of articles: {:,}\".format(df.shape[0]))"
   ]
  },
  {
   "cell_type": "code",
   "execution_count": 12,
   "metadata": {},
   "outputs": [
    {
     "name": "stdout",
     "output_type": "stream",
     "text": [
      "Current number of articles: 4,837\n"
     ]
    }
   ],
   "source": [
    "# removing duplicates\n",
    "df = df.drop_duplicates(subset='text', keep='first', inplace=False)\n",
    "print(\"Current number of articles: {:,}\".format(df.shape[0]))"
   ]
  },
  {
   "cell_type": "code",
   "execution_count": 13,
   "metadata": {},
   "outputs": [
    {
     "name": "stdout",
     "output_type": "stream",
     "text": [
      "327 \tu'Acceso a la herramienta de descarga de informes\\n\\nBANCO POPULAR ESPA\\xd1OL, S.A.\\n\\nInformaci\\xf3n adicional\\n\\nInforme completo en formato\\n\\nEl informe ha sido elaborado bas\\xe1ndose en la taxonom\\xeda IPP.' \n",
      "\n",
      "1227 \tu'Our lawyers are enthusiastic, committed people who relish the challenges and opportunities that they encounter every day. Search for a lawyer by name or use one of the filters.' \n",
      "\n",
      "2405 \tu'No ha sido posible completar su consulta. Vuelva a intentarlo m\\xe1s tarde.' \n",
      "\n",
      "2410 \tu'\\xbfNo est\\xe1s registrado? Crea tu cuenta\\n\\nEntra en EL PA\\xcdS\\n\\nEntra en EL PA\\xcdS\\n\\nCerrar men\\xfa\\n\\nTama\\xf1o letra a- A+\\n\\nAlto contraste' \n",
      "\n",
      "3956 \tu'Sucesi\\xf3n de mentirijillas en BBVA: Francisco Gonz\\xe1lez pasa el testigo a FG' \n",
      "\n"
     ]
    }
   ],
   "source": [
    "# articles with very short text (useless)\n",
    "for idx, row in df[df['text'].str.len()<200].iterrows():\n",
    "    print idx, \"\\t\", repr(row['text']), \"\\n\""
   ]
  },
  {
   "cell_type": "code",
   "execution_count": 14,
   "metadata": {
    "collapsed": true
   },
   "outputs": [],
   "source": [
    "# we can get rid of these articles since the text info is not adequate"
   ]
  },
  {
   "cell_type": "markdown",
   "metadata": {},
   "source": [
    "### Creating new features\n",
    "\n",
    "* section\n",
    "* datepart\n",
    "* day of week\n",
    "* newspaper"
   ]
  },
  {
   "cell_type": "code",
   "execution_count": 15,
   "metadata": {
    "collapsed": true
   },
   "outputs": [],
   "source": [
    "# newspaper\n",
    "\n",
    "df['newspaper'] = df['url'].apply(lambda x: re.findall('(?:\\/\\/www\\.|\\/\\/)(\\w+)\\.\\w',x))\n",
    "\n",
    "for idx, row in df.iterrows():\n",
    "    \n",
    "    source = row['newspaper']\n",
    "    try:\n",
    "        df.loc[idx, 'newspaper'] = source[0]\n",
    "    except:\n",
    "        df.loc[idx, 'newspaper'] = \"\""
   ]
  },
  {
   "cell_type": "code",
   "execution_count": 16,
   "metadata": {},
   "outputs": [
    {
     "data": {
      "text/html": [
       "<div>\n",
       "<style>\n",
       "    .dataframe thead tr:only-child th {\n",
       "        text-align: right;\n",
       "    }\n",
       "\n",
       "    .dataframe thead th {\n",
       "        text-align: left;\n",
       "    }\n",
       "\n",
       "    .dataframe tbody tr th {\n",
       "        vertical-align: top;\n",
       "    }\n",
       "</style>\n",
       "<table border=\"1\" class=\"dataframe\">\n",
       "  <thead>\n",
       "    <tr style=\"text-align: right;\">\n",
       "      <th></th>\n",
       "      <th>newspaper</th>\n",
       "      <th>count</th>\n",
       "    </tr>\n",
       "  </thead>\n",
       "  <tbody>\n",
       "    <tr>\n",
       "      <th>0</th>\n",
       "      <td>expansion</td>\n",
       "      <td>2593</td>\n",
       "    </tr>\n",
       "    <tr>\n",
       "      <th>1</th>\n",
       "      <td>cincodias</td>\n",
       "      <td>1284</td>\n",
       "    </tr>\n",
       "    <tr>\n",
       "      <th>2</th>\n",
       "      <td>elconfidencial</td>\n",
       "      <td>855</td>\n",
       "    </tr>\n",
       "    <tr>\n",
       "      <th>3</th>\n",
       "      <td>blogs</td>\n",
       "      <td>35</td>\n",
       "    </tr>\n",
       "    <tr>\n",
       "      <th>4</th>\n",
       "      <td>retina</td>\n",
       "      <td>14</td>\n",
       "    </tr>\n",
       "    <tr>\n",
       "      <th>5</th>\n",
       "      <td>economia</td>\n",
       "      <td>6</td>\n",
       "    </tr>\n",
       "    <tr>\n",
       "      <th>6</th>\n",
       "      <td>bloomberg</td>\n",
       "      <td>3</td>\n",
       "    </tr>\n",
       "    <tr>\n",
       "      <th>7</th>\n",
       "      <td>euribor</td>\n",
       "      <td>3</td>\n",
       "    </tr>\n",
       "    <tr>\n",
       "      <th>8</th>\n",
       "      <td>bbva</td>\n",
       "      <td>2</td>\n",
       "    </tr>\n",
       "    <tr>\n",
       "      <th>9</th>\n",
       "      <td>cnmv</td>\n",
       "      <td>2</td>\n",
       "    </tr>\n",
       "  </tbody>\n",
       "</table>\n",
       "</div>"
      ],
      "text/plain": [
       "        newspaper  count\n",
       "0       expansion   2593\n",
       "1       cincodias   1284\n",
       "2  elconfidencial    855\n",
       "3           blogs     35\n",
       "4          retina     14\n",
       "5        economia      6\n",
       "6       bloomberg      3\n",
       "7         euribor      3\n",
       "8            bbva      2\n",
       "9            cnmv      2"
      ]
     },
     "execution_count": 16,
     "metadata": {},
     "output_type": "execute_result"
    }
   ],
   "source": [
    "df_source = df.groupby('newspaper').size().sort_values(0, ascending=False).reset_index().rename(columns={0:\"count\"})\n",
    "df_source.head(10)"
   ]
  },
  {
   "cell_type": "code",
   "execution_count": 17,
   "metadata": {
    "collapsed": true
   },
   "outputs": [],
   "source": [
    "# split the publish date to date and time and remove time because it is not changing\n",
    "df['date'], df['time'] = df.publish_date.str.split(' ').str\n",
    "df.drop(['time'], axis=1, inplace=True)"
   ]
  },
  {
   "cell_type": "code",
   "execution_count": 18,
   "metadata": {},
   "outputs": [
    {
     "data": {
      "text/html": [
       "<div>\n",
       "<style>\n",
       "    .dataframe thead tr:only-child th {\n",
       "        text-align: right;\n",
       "    }\n",
       "\n",
       "    .dataframe thead th {\n",
       "        text-align: left;\n",
       "    }\n",
       "\n",
       "    .dataframe tbody tr th {\n",
       "        vertical-align: top;\n",
       "    }\n",
       "</style>\n",
       "<table border=\"1\" class=\"dataframe\">\n",
       "  <thead>\n",
       "    <tr style=\"text-align: right;\">\n",
       "      <th></th>\n",
       "      <th>authors</th>\n",
       "      <th>keywords</th>\n",
       "      <th>publish_date</th>\n",
       "      <th>summary</th>\n",
       "      <th>text</th>\n",
       "      <th>title</th>\n",
       "      <th>top_image</th>\n",
       "      <th>url</th>\n",
       "      <th>newspaper</th>\n",
       "      <th>date</th>\n",
       "      <th>day_of_week</th>\n",
       "    </tr>\n",
       "  </thead>\n",
       "  <tbody>\n",
       "    <tr>\n",
       "      <th>0</th>\n",
       "      <td>[Asunción Infante Fuentes, Andrés Stumpf Guirao]</td>\n",
       "      <td>[tumbar, vuelve, ibex, descenso, son, en, una,...</td>\n",
       "      <td>2016-03-17 00:00:00</td>\n",
       "      <td>El Ibex cede un 1,18% y pierde el soporte clav...</td>\n",
       "      <td>Amaneció con subidas en todos los grandes parq...</td>\n",
       "      <td>El sector bancario vuelve a tumbar al Ibex: es...</td>\n",
       "      <td>https://d500.epimg.net/cincodias/iconos/v2.x/v...</td>\n",
       "      <td>http://cincodias.com/cincodias/2016/03/17/merc...</td>\n",
       "      <td>cincodias</td>\n",
       "      <td>2016-03-17</td>\n",
       "      <td>Thursday</td>\n",
       "    </tr>\n",
       "    <tr>\n",
       "      <th>1</th>\n",
       "      <td>[]</td>\n",
       "      <td>[ladrillo, en, desde, menor, junio, su, del, h...</td>\n",
       "      <td>2016-03-18 00:00:00</td>\n",
       "      <td>El año pasado, la morosidad de este segmento h...</td>\n",
       "      <td>El pasado año el descenso de la mora tanto de ...</td>\n",
       "      <td>La morosidad del ladrillo cierra 2015 en su me...</td>\n",
       "      <td>http://estaticos.expansion.com/assets/multimed...</td>\n",
       "      <td>http://www.expansion.com/empresas/banca/2016/0...</td>\n",
       "      <td>expansion</td>\n",
       "      <td>2016-03-18</td>\n",
       "      <td>Friday</td>\n",
       "    </tr>\n",
       "    <tr>\n",
       "      <th>2</th>\n",
       "      <td>[Eduardo Segovia, Pedro Calvo, Contacta Al Aut...</td>\n",
       "      <td>[inversores, stanley, morgan, en, encuentro, p...</td>\n",
       "      <td>2016-03-24 00:00:00</td>\n",
       "      <td>El banco de inversión Morgan stanley organiza ...</td>\n",
       "      <td>El banco de inversión Morgan stanley organiza ...</td>\n",
       "      <td>Noticias del BBVA: Los inversores señalan de q...</td>\n",
       "      <td>https://www.ecestaticos.com/imagestatic/clippi...</td>\n",
       "      <td>http://www.elconfidencial.com/mercados/2016-03...</td>\n",
       "      <td>elconfidencial</td>\n",
       "      <td>2016-03-24</td>\n",
       "      <td>Thursday</td>\n",
       "    </tr>\n",
       "    <tr>\n",
       "      <th>3</th>\n",
       "      <td>[Assumpta Zorraquino, Contacta Al Autor, Carlo...</td>\n",
       "      <td>[regulación, servicios, versus, para, por, en,...</td>\n",
       "      <td>2016-03-24 00:00:00</td>\n",
       "      <td>La aparición de las start-ups tecnológicas ded...</td>\n",
       "      <td>La aparición de las start-ups tecnológicas ded...</td>\n",
       "      <td>Fintech: Innovación versus regulación</td>\n",
       "      <td>https://www.ecestaticos.com/imagestatic/clippi...</td>\n",
       "      <td>http://blogs.elconfidencial.com/mercados/tribu...</td>\n",
       "      <td>blogs</td>\n",
       "      <td>2016-03-24</td>\n",
       "      <td>Thursday</td>\n",
       "    </tr>\n",
       "    <tr>\n",
       "      <th>4</th>\n",
       "      <td>[Pedro Calvo, Kike Vázquez, Daniel Lacalle, Vi...</td>\n",
       "      <td>[europea, pierde, por, en, y, valor, su, del, ...</td>\n",
       "      <td>2016-03-29 00:00:00</td>\n",
       "      <td>Como el que han pagado en el último año las gr...</td>\n",
       "      <td>Son los bancos españoles. Y los italianos, por...</td>\n",
       "      <td>Tipos de interés: La banca europea pierde un t...</td>\n",
       "      <td>https://www.ecestaticos.com/imagestatic/clippi...</td>\n",
       "      <td>http://www.elconfidencial.com/empresas/2016-03...</td>\n",
       "      <td>elconfidencial</td>\n",
       "      <td>2016-03-29</td>\n",
       "      <td>Tuesday</td>\n",
       "    </tr>\n",
       "  </tbody>\n",
       "</table>\n",
       "</div>"
      ],
      "text/plain": [
       "                                             authors  \\\n",
       "0   [Asunción Infante Fuentes, Andrés Stumpf Guirao]   \n",
       "1                                                 []   \n",
       "2  [Eduardo Segovia, Pedro Calvo, Contacta Al Aut...   \n",
       "3  [Assumpta Zorraquino, Contacta Al Autor, Carlo...   \n",
       "4  [Pedro Calvo, Kike Vázquez, Daniel Lacalle, Vi...   \n",
       "\n",
       "                                            keywords         publish_date  \\\n",
       "0  [tumbar, vuelve, ibex, descenso, son, en, una,...  2016-03-17 00:00:00   \n",
       "1  [ladrillo, en, desde, menor, junio, su, del, h...  2016-03-18 00:00:00   \n",
       "2  [inversores, stanley, morgan, en, encuentro, p...  2016-03-24 00:00:00   \n",
       "3  [regulación, servicios, versus, para, por, en,...  2016-03-24 00:00:00   \n",
       "4  [europea, pierde, por, en, y, valor, su, del, ...  2016-03-29 00:00:00   \n",
       "\n",
       "                                             summary  \\\n",
       "0  El Ibex cede un 1,18% y pierde el soporte clav...   \n",
       "1  El año pasado, la morosidad de este segmento h...   \n",
       "2  El banco de inversión Morgan stanley organiza ...   \n",
       "3  La aparición de las start-ups tecnológicas ded...   \n",
       "4  Como el que han pagado en el último año las gr...   \n",
       "\n",
       "                                                text  \\\n",
       "0  Amaneció con subidas en todos los grandes parq...   \n",
       "1  El pasado año el descenso de la mora tanto de ...   \n",
       "2  El banco de inversión Morgan stanley organiza ...   \n",
       "3  La aparición de las start-ups tecnológicas ded...   \n",
       "4  Son los bancos españoles. Y los italianos, por...   \n",
       "\n",
       "                                               title  \\\n",
       "0  El sector bancario vuelve a tumbar al Ibex: es...   \n",
       "1  La morosidad del ladrillo cierra 2015 en su me...   \n",
       "2  Noticias del BBVA: Los inversores señalan de q...   \n",
       "3              Fintech: Innovación versus regulación   \n",
       "4  Tipos de interés: La banca europea pierde un t...   \n",
       "\n",
       "                                           top_image  \\\n",
       "0  https://d500.epimg.net/cincodias/iconos/v2.x/v...   \n",
       "1  http://estaticos.expansion.com/assets/multimed...   \n",
       "2  https://www.ecestaticos.com/imagestatic/clippi...   \n",
       "3  https://www.ecestaticos.com/imagestatic/clippi...   \n",
       "4  https://www.ecestaticos.com/imagestatic/clippi...   \n",
       "\n",
       "                                                 url       newspaper  \\\n",
       "0  http://cincodias.com/cincodias/2016/03/17/merc...       cincodias   \n",
       "1  http://www.expansion.com/empresas/banca/2016/0...       expansion   \n",
       "2  http://www.elconfidencial.com/mercados/2016-03...  elconfidencial   \n",
       "3  http://blogs.elconfidencial.com/mercados/tribu...           blogs   \n",
       "4  http://www.elconfidencial.com/empresas/2016-03...  elconfidencial   \n",
       "\n",
       "        date day_of_week  \n",
       "0 2016-03-17    Thursday  \n",
       "1 2016-03-18      Friday  \n",
       "2 2016-03-24    Thursday  \n",
       "3 2016-03-24    Thursday  \n",
       "4 2016-03-29     Tuesday  "
      ]
     },
     "execution_count": 18,
     "metadata": {},
     "output_type": "execute_result"
    }
   ],
   "source": [
    "# convert date columns to datetime and create day_of_week column\n",
    "df['date'] = pd.to_datetime(df['date'])\n",
    "df['day_of_week'] = df['date'].dt.weekday_name\n",
    "df.head(5)"
   ]
  },
  {
   "cell_type": "code",
   "execution_count": 19,
   "metadata": {
    "collapsed": true
   },
   "outputs": [],
   "source": [
    "# drop unnecessary columns\n",
    "df.drop(['top_image', 'publish_date'], axis=1, inplace=True)"
   ]
  },
  {
   "cell_type": "code",
   "execution_count": 20,
   "metadata": {},
   "outputs": [
    {
     "data": {
      "text/plain": [
       "Index([    u'authors',    u'keywords',     u'summary',        u'text',\n",
       "             u'title',         u'url',   u'newspaper',        u'date',\n",
       "       u'day_of_week'],\n",
       "      dtype='object')"
      ]
     },
     "execution_count": 20,
     "metadata": {},
     "output_type": "execute_result"
    }
   ],
   "source": [
    "df.columns"
   ]
  },
  {
   "cell_type": "markdown",
   "metadata": {},
   "source": [
    "---\n",
    "\n",
    "# Articles for training - Historical data\n",
    "\n",
    "Checking the newspaper output for all urls scraped from the different source to build the training dataset. The scraped newspapers are (run every 8 days between 2016/04/01 and 2018/04/01):\n",
    "\n",
    "1. Expansion\n",
    "2. Cincodias\n",
    "3. El Confidencial\n",
    "\n",
    "__Considerations__\n",
    "\n",
    "* Articles with __no text__.\n",
    "* Note that some of these __articles may be included in the emails__ sent over these years.\n",
    "* Currenty working with articles __published on mondays__ regardless of the source.\n",
    "* Handle errors/exceptions in the download method of the newspaper.\n",
    "\n",
    "---"
   ]
  },
  {
   "cell_type": "markdown",
   "metadata": {},
   "source": [
    "## 1. Expansion"
   ]
  },
  {
   "cell_type": "code",
   "execution_count": 21,
   "metadata": {
    "collapsed": true
   },
   "outputs": [],
   "source": [
    "# article content downloaded and parsed with newspaper3k\n",
    "data = []\n",
    "with open('../articles_expansion_hemeroteca.json') as input_file:\n",
    "    for line in input_file:\n",
    "        data.append(json.loads(line))"
   ]
  },
  {
   "cell_type": "code",
   "execution_count": 22,
   "metadata": {
    "collapsed": true
   },
   "outputs": [],
   "source": [
    "df = pd.DataFrame(data)"
   ]
  },
  {
   "cell_type": "code",
   "execution_count": 23,
   "metadata": {},
   "outputs": [
    {
     "name": "stdout",
     "output_type": "stream",
     "text": [
      "Number of articles downloaded: 9,986\n"
     ]
    }
   ],
   "source": [
    "print(\"Number of articles downloaded: {:,}\".format(df.shape[0]))"
   ]
  },
  {
   "cell_type": "markdown",
   "metadata": {},
   "source": [
    "### Duplicates and useless articles"
   ]
  },
  {
   "cell_type": "code",
   "execution_count": 24,
   "metadata": {},
   "outputs": [
    {
     "data": {
      "text/html": [
       "<div>\n",
       "<style>\n",
       "    .dataframe thead tr:only-child th {\n",
       "        text-align: right;\n",
       "    }\n",
       "\n",
       "    .dataframe thead th {\n",
       "        text-align: left;\n",
       "    }\n",
       "\n",
       "    .dataframe tbody tr th {\n",
       "        vertical-align: top;\n",
       "    }\n",
       "</style>\n",
       "<table border=\"1\" class=\"dataframe\">\n",
       "  <thead>\n",
       "    <tr style=\"text-align: right;\">\n",
       "      <th></th>\n",
       "      <th>text</th>\n",
       "      <th>count</th>\n",
       "    </tr>\n",
       "  </thead>\n",
       "  <tbody>\n",
       "    <tr>\n",
       "      <th>0</th>\n",
       "      <td>Para comentar o valorar, por favor inicie sesi...</td>\n",
       "      <td>87</td>\n",
       "    </tr>\n",
       "    <tr>\n",
       "      <th>1</th>\n",
       "      <td>Para comentar o valorar, por favor inicie sesi...</td>\n",
       "      <td>58</td>\n",
       "    </tr>\n",
       "    <tr>\n",
       "      <th>2</th>\n",
       "      <td></td>\n",
       "      <td>46</td>\n",
       "    </tr>\n",
       "    <tr>\n",
       "      <th>3</th>\n",
       "      <td>¿Televisión de pago en España a precios low co...</td>\n",
       "      <td>2</td>\n",
       "    </tr>\n",
       "    <tr>\n",
       "      <th>4</th>\n",
       "      <td>En plena era tecnológica, donde podemos relaci...</td>\n",
       "      <td>2</td>\n",
       "    </tr>\n",
       "  </tbody>\n",
       "</table>\n",
       "</div>"
      ],
      "text/plain": [
       "                                                text  count\n",
       "0  Para comentar o valorar, por favor inicie sesi...     87\n",
       "1  Para comentar o valorar, por favor inicie sesi...     58\n",
       "2                                                        46\n",
       "3  ¿Televisión de pago en España a precios low co...      2\n",
       "4  En plena era tecnológica, donde podemos relaci...      2"
      ]
     },
     "execution_count": 24,
     "metadata": {},
     "output_type": "execute_result"
    }
   ],
   "source": [
    "df_dups = df.groupby('text').size().sort_values(0,ascending=False).reset_index().rename(columns={0:\"count\"})\n",
    "df_dups.head(5)"
   ]
  },
  {
   "cell_type": "markdown",
   "metadata": {},
   "source": [
    "We can see that there are articles with useless text and articles with no text at all. We will get rid of all these invalid articles."
   ]
  },
  {
   "cell_type": "code",
   "execution_count": 25,
   "metadata": {},
   "outputs": [
    {
     "name": "stdout",
     "output_type": "stream",
     "text": [
      "Current number of articles: 9,795\n"
     ]
    }
   ],
   "source": [
    "# text 0: Para comentar o valorar, por favor inicie sesi...\n",
    "idx = df.index[df['text']==df_dups.loc[0]['text']]\n",
    "df = df.drop(idx)\n",
    "\n",
    "# text 1: Para comentar o valorar, por favor inicie sesi...\n",
    "idx = df.index[df['text']==df_dups.loc[1]['text']]\n",
    "df = df.drop(idx)\n",
    "\n",
    "# text 2: (empty text)\n",
    "idx = df.index[df['text']==df_dups.loc[2]['text']]\n",
    "df = df.drop(idx)\n",
    "\n",
    "print(\"Current number of articles: {:,}\".format(df.shape[0]))"
   ]
  },
  {
   "cell_type": "code",
   "execution_count": 26,
   "metadata": {},
   "outputs": [
    {
     "name": "stdout",
     "output_type": "stream",
     "text": [
      "Number of articles duplicated twice: 23\n"
     ]
    }
   ],
   "source": [
    "df_dups = df.groupby('text').size().sort_values(0,ascending=False).reset_index().rename(columns={0:\"count\"})\n",
    "print(\"Number of articles duplicated twice: {:,}\".format(df_dups[df_dups['count']==2]['text'].count()))"
   ]
  },
  {
   "cell_type": "code",
   "execution_count": 27,
   "metadata": {
    "collapsed": true
   },
   "outputs": [],
   "source": [
    "# removing duplicates\n",
    "df = df.drop_duplicates(subset='text', keep='first', inplace=False)"
   ]
  },
  {
   "cell_type": "code",
   "execution_count": 28,
   "metadata": {},
   "outputs": [
    {
     "name": "stdout",
     "output_type": "stream",
     "text": [
      "Current number of articles: 9,772\n"
     ]
    }
   ],
   "source": [
    "print(\"Current number of articles: {:,}\".format(df.shape[0]))"
   ]
  },
  {
   "cell_type": "code",
   "execution_count": 29,
   "metadata": {},
   "outputs": [
    {
     "data": {
      "text/html": [
       "<div>\n",
       "<style>\n",
       "    .dataframe thead tr:only-child th {\n",
       "        text-align: right;\n",
       "    }\n",
       "\n",
       "    .dataframe thead th {\n",
       "        text-align: left;\n",
       "    }\n",
       "\n",
       "    .dataframe tbody tr th {\n",
       "        vertical-align: top;\n",
       "    }\n",
       "</style>\n",
       "<table border=\"1\" class=\"dataframe\">\n",
       "  <thead>\n",
       "    <tr style=\"text-align: right;\">\n",
       "      <th></th>\n",
       "      <th>text</th>\n",
       "      <th>count</th>\n",
       "    </tr>\n",
       "  </thead>\n",
       "  <tbody>\n",
       "    <tr>\n",
       "      <th>0</th>\n",
       "      <td>Único coche del mundo con tres trenes de poten...</td>\n",
       "      <td>1</td>\n",
       "    </tr>\n",
       "    <tr>\n",
       "      <th>1</th>\n",
       "      <td>El plan del Gobierno británico permitirá al se...</td>\n",
       "      <td>1</td>\n",
       "    </tr>\n",
       "    <tr>\n",
       "      <th>2</th>\n",
       "      <td>El plazo de amortización es inferior a un año,...</td>\n",
       "      <td>1</td>\n",
       "    </tr>\n",
       "    <tr>\n",
       "      <th>3</th>\n",
       "      <td>El plazo de aceptación se extenderá desde maña...</td>\n",
       "      <td>1</td>\n",
       "    </tr>\n",
       "    <tr>\n",
       "      <th>4</th>\n",
       "      <td>El plazo de aceptación de la opa que Carlos Sl...</td>\n",
       "      <td>1</td>\n",
       "    </tr>\n",
       "  </tbody>\n",
       "</table>\n",
       "</div>"
      ],
      "text/plain": [
       "                                                text  count\n",
       "0  Único coche del mundo con tres trenes de poten...      1\n",
       "1  El plan del Gobierno británico permitirá al se...      1\n",
       "2  El plazo de amortización es inferior a un año,...      1\n",
       "3  El plazo de aceptación se extenderá desde maña...      1\n",
       "4  El plazo de aceptación de la opa que Carlos Sl...      1"
      ]
     },
     "execution_count": 29,
     "metadata": {},
     "output_type": "execute_result"
    }
   ],
   "source": [
    "df_dups = df.groupby('text').size().sort_values(0,ascending=False).reset_index().rename(columns={0:\"count\"})\n",
    "df_dups.head(5)"
   ]
  },
  {
   "cell_type": "markdown",
   "metadata": {},
   "source": [
    "There are no more text duplicates at this point. However, there are useless articles such as ..."
   ]
  },
  {
   "cell_type": "code",
   "execution_count": 30,
   "metadata": {},
   "outputs": [
    {
     "name": "stdout",
     "output_type": "stream",
     "text": [
      "(904, '\\t', \"u'Este fin de semana con EXPANSI\\\\xd3N, conozca los fondos m\\\\xe1s recomendados por los expertos.'\", '\\n')\n",
      "(1166, '\\t', \"u'El presidente del Gobierno en funciones y candidato a la reelecci\\\\xf3n por el Partido Popular, Mariano RajoyJuanJo Mart\\\\xednEFE'\", '\\n')\n",
      "(1722, '\\t', \"u'La tregua alcanza a las bolsas europeas, y a sus divisas. El Ibex sale de m\\\\xednimos de tres a\\\\xf1os con el rebote de la banca y de IAG.'\", '\\n')\n",
      "(2464, '\\t', \"u'La comisaria de Competencia de la UE, Margrethe Vestager.Foto: Efe'\", '\\n')\n",
      "(2701, '\\t', \"u'\\\\xa1Empieza el partido! \\\\xbfQui\\\\xe9n de estos pilotos de la Scuderia Ferrari ser\\\\xe1 tan bueno jugando voleibol como lo es en la pista?\\\\n\\\\nRemitido'\", '\\n')\n",
      "(3543, '\\t', \"u'El fabricante ha presentado en el Sal\\\\xf3n de Pek\\\\xedn de China una soluci\\\\xf3n de movilidad para los grandes atascos que combina el coche y el patinete.'\", '\\n')\n",
      "(3677, '\\t', \"u'Francisco R. Checa y Susana P\\\\xe9rez analizan las claves burs\\\\xe1tiles del d\\\\xeda y adelantan las previsiones del viernes.'\", '\\n')\n",
      "(5106, '\\t', \"u'Esta encuesta est\\\\xe1 cerrada y no se puede votar en ella.'\", '\\n')\n",
      "(5479, '\\t', \"u'Galer\\\\xeda Tubo Solar VELUX\\\\n\\\\nDescubra los beneficios que aporta la luz natural a su hogar con los tubos solares.'\", '\\n')\n",
      "(5923, '\\t', \"u'Puentes no aptos para personas con v\\\\xe9rtigo Por:Emelia Via\\\\xf1a\\\\n\\\\nCharles Kuonen es el puente colgante m\\\\xe1s largo del mundo con 494 metros de longitud.'\", '\\n')\n",
      "(7744, '\\t', \"u'Doce grandes vinos para Navidad Por:Enrique Calduch\\\\n\\\\nManzanillas, blancos, tintos, rosados y dulces para los maridajes de estas fiestas.'\", '\\n')\n"
     ]
    }
   ],
   "source": [
    "# articles with very short text (useless)\n",
    "for idx, row in df[df['text'].str.len()<150].iterrows():\n",
    "    print(idx, \"\\t\", repr(row['text']), \"\\n\")"
   ]
  },
  {
   "cell_type": "markdown",
   "metadata": {},
   "source": [
    "### Creating new features\n",
    "\n",
    "* section\n",
    "* datepart\n",
    "* day of week\n",
    "* newspaper"
   ]
  },
  {
   "cell_type": "code",
   "execution_count": 31,
   "metadata": {
    "collapsed": true
   },
   "outputs": [],
   "source": [
    "# newspaper\n",
    "df['newspaper'] = 'expansion'"
   ]
  },
  {
   "cell_type": "code",
   "execution_count": 32,
   "metadata": {
    "collapsed": true
   },
   "outputs": [],
   "source": [
    "# create seccion field from url\n",
    "df['section'] = df['url'].apply(lambda x: x.split('/')[3])"
   ]
  },
  {
   "cell_type": "code",
   "execution_count": 33,
   "metadata": {
    "scrolled": true
   },
   "outputs": [
    {
     "data": {
      "text/html": [
       "<div>\n",
       "<style>\n",
       "    .dataframe thead tr:only-child th {\n",
       "        text-align: right;\n",
       "    }\n",
       "\n",
       "    .dataframe thead th {\n",
       "        text-align: left;\n",
       "    }\n",
       "\n",
       "    .dataframe tbody tr th {\n",
       "        vertical-align: top;\n",
       "    }\n",
       "</style>\n",
       "<table border=\"1\" class=\"dataframe\">\n",
       "  <thead>\n",
       "    <tr style=\"text-align: right;\">\n",
       "      <th></th>\n",
       "      <th>section</th>\n",
       "      <th>count</th>\n",
       "    </tr>\n",
       "  </thead>\n",
       "  <tbody>\n",
       "    <tr>\n",
       "      <th>0</th>\n",
       "      <td>empresas</td>\n",
       "      <td>2188</td>\n",
       "    </tr>\n",
       "    <tr>\n",
       "      <th>1</th>\n",
       "      <td>economia</td>\n",
       "      <td>1970</td>\n",
       "    </tr>\n",
       "    <tr>\n",
       "      <th>2</th>\n",
       "      <td>mercados</td>\n",
       "      <td>945</td>\n",
       "    </tr>\n",
       "    <tr>\n",
       "      <th>3</th>\n",
       "      <td>aragon</td>\n",
       "      <td>777</td>\n",
       "    </tr>\n",
       "    <tr>\n",
       "      <th>4</th>\n",
       "      <td>extremadura</td>\n",
       "      <td>604</td>\n",
       "    </tr>\n",
       "    <tr>\n",
       "      <th>5</th>\n",
       "      <td>directivos</td>\n",
       "      <td>462</td>\n",
       "    </tr>\n",
       "    <tr>\n",
       "      <th>6</th>\n",
       "      <td>economia-digital</td>\n",
       "      <td>380</td>\n",
       "    </tr>\n",
       "    <tr>\n",
       "      <th>7</th>\n",
       "      <td>fueradeserie</td>\n",
       "      <td>375</td>\n",
       "    </tr>\n",
       "    <tr>\n",
       "      <th>8</th>\n",
       "      <td>sociedad</td>\n",
       "      <td>321</td>\n",
       "    </tr>\n",
       "    <tr>\n",
       "      <th>9</th>\n",
       "      <td>juridico</td>\n",
       "      <td>262</td>\n",
       "    </tr>\n",
       "  </tbody>\n",
       "</table>\n",
       "</div>"
      ],
      "text/plain": [
       "            section  count\n",
       "0          empresas   2188\n",
       "1          economia   1970\n",
       "2          mercados    945\n",
       "3            aragon    777\n",
       "4       extremadura    604\n",
       "5        directivos    462\n",
       "6  economia-digital    380\n",
       "7      fueradeserie    375\n",
       "8          sociedad    321\n",
       "9          juridico    262"
      ]
     },
     "execution_count": 33,
     "metadata": {},
     "output_type": "execute_result"
    }
   ],
   "source": [
    "df.groupby('section').size().sort_values(0, ascending=False).reset_index().rename(columns={0:'count'}).head(10)"
   ]
  },
  {
   "cell_type": "code",
   "execution_count": 34,
   "metadata": {
    "collapsed": true
   },
   "outputs": [],
   "source": [
    "# split the publish date to date and time and remove time because it is not changing\n",
    "df['date'], df['time'] = df.publish_date.str.split(' ').str\n",
    "df.drop(['time'], axis=1, inplace=True)"
   ]
  },
  {
   "cell_type": "code",
   "execution_count": 35,
   "metadata": {},
   "outputs": [
    {
     "data": {
      "text/html": [
       "<div>\n",
       "<style>\n",
       "    .dataframe thead tr:only-child th {\n",
       "        text-align: right;\n",
       "    }\n",
       "\n",
       "    .dataframe thead th {\n",
       "        text-align: left;\n",
       "    }\n",
       "\n",
       "    .dataframe tbody tr th {\n",
       "        vertical-align: top;\n",
       "    }\n",
       "</style>\n",
       "<table border=\"1\" class=\"dataframe\">\n",
       "  <thead>\n",
       "    <tr style=\"text-align: right;\">\n",
       "      <th></th>\n",
       "      <th>authors</th>\n",
       "      <th>keywords</th>\n",
       "      <th>publish_date</th>\n",
       "      <th>summary</th>\n",
       "      <th>text</th>\n",
       "      <th>title</th>\n",
       "      <th>top_image</th>\n",
       "      <th>url</th>\n",
       "      <th>newspaper</th>\n",
       "      <th>section</th>\n",
       "      <th>date</th>\n",
       "      <th>day_of_week</th>\n",
       "    </tr>\n",
       "  </thead>\n",
       "  <tbody>\n",
       "    <tr>\n",
       "      <th>0</th>\n",
       "      <td>[]</td>\n",
       "      <td>[las, terremoto, se, aumenta, que, ha, el, ecu...</td>\n",
       "      <td>2016-04-17 00:00:00</td>\n",
       "      <td>El presidente de Ecuador, Rafael Correa, ha el...</td>\n",
       "      <td>El presidente de Ecuador, Rafael Correa, ha el...</td>\n",
       "      <td>Aumenta a 272 el número de muertos a causa del...</td>\n",
       "      <td>http://estaticos.expansion.com/assets/desktop/...</td>\n",
       "      <td>http://www.expansion.com/sociedad/2016/04/17/5...</td>\n",
       "      <td>expansion</td>\n",
       "      <td>sociedad</td>\n",
       "      <td>2016-04-17</td>\n",
       "      <td>Sunday</td>\n",
       "    </tr>\n",
       "    <tr>\n",
       "      <th>1</th>\n",
       "      <td>[]</td>\n",
       "      <td>[empresa, sauces, presunta, investigan, tambié...</td>\n",
       "      <td>2016-05-03 00:00:00</td>\n",
       "      <td>La Justicia argentina ha iniciado una causa po...</td>\n",
       "      <td>La Justicia argentina ha iniciado una causa po...</td>\n",
       "      <td>Investigan una empresa de Cristina Fernández d...</td>\n",
       "      <td>http://estaticos.expansion.com/assets/multimed...</td>\n",
       "      <td>http://www.expansion.com/economia/politica/201...</td>\n",
       "      <td>expansion</td>\n",
       "      <td>economia</td>\n",
       "      <td>2016-05-03</td>\n",
       "      <td>Tuesday</td>\n",
       "    </tr>\n",
       "    <tr>\n",
       "      <th>2</th>\n",
       "      <td>[]</td>\n",
       "      <td>[superiores, las, pedroche, ser, josé, ni, que...</td>\n",
       "      <td>2016-04-17 00:00:00</td>\n",
       "      <td>Cristina Pedroche es de izquierdas y de Vallec...</td>\n",
       "      <td>Cristina Pedroche es de izquierdas y de Vallec...</td>\n",
       "      <td>Ni Cristina Pedroche ni José Sacristán son sup...</td>\n",
       "      <td>http://estaticos.expansion.com/assets/multimed...</td>\n",
       "      <td>http://www.expansion.com/actualidadeconomica/a...</td>\n",
       "      <td>expansion</td>\n",
       "      <td>actualidadeconomica</td>\n",
       "      <td>2016-04-17</td>\n",
       "      <td>Sunday</td>\n",
       "    </tr>\n",
       "    <tr>\n",
       "      <th>3</th>\n",
       "      <td>[]</td>\n",
       "      <td>[su, próximo, resultado, que, el, en, del, gre...</td>\n",
       "      <td>2016-04-17 00:00:00</td>\n",
       "      <td>\"El equipo del Fondo volverá a Atenas a princi...</td>\n",
       "      <td>La directora gerente del Fondo Monetario Inter...</td>\n",
       "      <td>El FMI no espera obtener un \"resultado inmedia...</td>\n",
       "      <td>http://estaticos.expansion.com/assets/multimed...</td>\n",
       "      <td>http://www.expansion.com/economia/2016/04/17/5...</td>\n",
       "      <td>expansion</td>\n",
       "      <td>economia</td>\n",
       "      <td>2016-04-17</td>\n",
       "      <td>Sunday</td>\n",
       "    </tr>\n",
       "    <tr>\n",
       "      <th>4</th>\n",
       "      <td>[]</td>\n",
       "      <td>[su, aunque, que, encontrará, investigarme, po...</td>\n",
       "      <td>2016-04-17 00:00:00</td>\n",
       "      <td>En una entrevista en el diario El País, Soria ...</td>\n",
       "      <td>El ex ministro reconoce que a pesar de que su ...</td>\n",
       "      <td>Soria: \"Montoro hará bien en investigarme, aun...</td>\n",
       "      <td>http://estaticos.expansion.com/assets/multimed...</td>\n",
       "      <td>http://www.expansion.com/economia/politica/201...</td>\n",
       "      <td>expansion</td>\n",
       "      <td>economia</td>\n",
       "      <td>2016-04-17</td>\n",
       "      <td>Sunday</td>\n",
       "    </tr>\n",
       "  </tbody>\n",
       "</table>\n",
       "</div>"
      ],
      "text/plain": [
       "  authors                                           keywords  \\\n",
       "0      []  [las, terremoto, se, aumenta, que, ha, el, ecu...   \n",
       "1      []  [empresa, sauces, presunta, investigan, tambié...   \n",
       "2      []  [superiores, las, pedroche, ser, josé, ni, que...   \n",
       "3      []  [su, próximo, resultado, que, el, en, del, gre...   \n",
       "4      []  [su, aunque, que, encontrará, investigarme, po...   \n",
       "\n",
       "          publish_date                                            summary  \\\n",
       "0  2016-04-17 00:00:00  El presidente de Ecuador, Rafael Correa, ha el...   \n",
       "1  2016-05-03 00:00:00  La Justicia argentina ha iniciado una causa po...   \n",
       "2  2016-04-17 00:00:00  Cristina Pedroche es de izquierdas y de Vallec...   \n",
       "3  2016-04-17 00:00:00  \"El equipo del Fondo volverá a Atenas a princi...   \n",
       "4  2016-04-17 00:00:00  En una entrevista en el diario El País, Soria ...   \n",
       "\n",
       "                                                text  \\\n",
       "0  El presidente de Ecuador, Rafael Correa, ha el...   \n",
       "1  La Justicia argentina ha iniciado una causa po...   \n",
       "2  Cristina Pedroche es de izquierdas y de Vallec...   \n",
       "3  La directora gerente del Fondo Monetario Inter...   \n",
       "4  El ex ministro reconoce que a pesar de que su ...   \n",
       "\n",
       "                                               title  \\\n",
       "0  Aumenta a 272 el número de muertos a causa del...   \n",
       "1  Investigan una empresa de Cristina Fernández d...   \n",
       "2  Ni Cristina Pedroche ni José Sacristán son sup...   \n",
       "3  El FMI no espera obtener un \"resultado inmedia...   \n",
       "4  Soria: \"Montoro hará bien en investigarme, aun...   \n",
       "\n",
       "                                           top_image  \\\n",
       "0  http://estaticos.expansion.com/assets/desktop/...   \n",
       "1  http://estaticos.expansion.com/assets/multimed...   \n",
       "2  http://estaticos.expansion.com/assets/multimed...   \n",
       "3  http://estaticos.expansion.com/assets/multimed...   \n",
       "4  http://estaticos.expansion.com/assets/multimed...   \n",
       "\n",
       "                                                 url  newspaper  \\\n",
       "0  http://www.expansion.com/sociedad/2016/04/17/5...  expansion   \n",
       "1  http://www.expansion.com/economia/politica/201...  expansion   \n",
       "2  http://www.expansion.com/actualidadeconomica/a...  expansion   \n",
       "3  http://www.expansion.com/economia/2016/04/17/5...  expansion   \n",
       "4  http://www.expansion.com/economia/politica/201...  expansion   \n",
       "\n",
       "               section       date day_of_week  \n",
       "0             sociedad 2016-04-17      Sunday  \n",
       "1             economia 2016-05-03     Tuesday  \n",
       "2  actualidadeconomica 2016-04-17      Sunday  \n",
       "3             economia 2016-04-17      Sunday  \n",
       "4             economia 2016-04-17      Sunday  "
      ]
     },
     "execution_count": 35,
     "metadata": {},
     "output_type": "execute_result"
    }
   ],
   "source": [
    "# convert date columns to datetime and create day_of_week column\n",
    "df['date'] = pd.to_datetime(df['date'])\n",
    "df['day_of_week'] = df['date'].dt.weekday_name\n",
    "df.head(5)"
   ]
  },
  {
   "cell_type": "code",
   "execution_count": 36,
   "metadata": {
    "collapsed": true
   },
   "outputs": [],
   "source": [
    "# drop unnecessary columns\n",
    "df.drop(['top_image', 'publish_date'], axis=1, inplace=True)"
   ]
  },
  {
   "cell_type": "markdown",
   "metadata": {},
   "source": [
    "### Dump to JSON"
   ]
  },
  {
   "cell_type": "code",
   "execution_count": 37,
   "metadata": {
    "collapsed": true
   },
   "outputs": [],
   "source": [
    "# df.to_json('./articles_clean_expansion.json')"
   ]
  },
  {
   "cell_type": "code",
   "execution_count": 38,
   "metadata": {},
   "outputs": [
    {
     "name": "stdout",
     "output_type": "stream",
     "text": [
      "{   u'authors': [],\n",
      "    'date': Timestamp('2016-04-17 00:00:00'),\n",
      "    'day_of_week': 'Sunday',\n",
      "    u'keywords': [   u'las',\n",
      "                     u'terremoto',\n",
      "                     u'se',\n",
      "                     u'aumenta',\n",
      "                     u'que',\n",
      "                     u'ha',\n",
      "                     u'el',\n",
      "                     u'ecuador',\n",
      "                     u'en',\n",
      "                     u'del',\n",
      "                     u'272',\n",
      "                     u'muertos',\n",
      "                     u'causa',\n",
      "                     u'n\\xfamero',\n",
      "                     u'y',\n",
      "                     u'los',\n",
      "                     u'la'],\n",
      "    'newspaper': 'expansion',\n",
      "    'section': u'sociedad',\n",
      "    u'summary': u'El presidente de Ecuador, Rafael Correa, ha elevado este domingo a 272 el n\\xfamero de muertos a causa del terremoto de magnitud 7,8 en la escala de Richter que sacudi\\xf3 el s\\xe1bado el pa\\xeds, agregando que el balance de v\\xedctimas \"aumentar\\xe1 en las pr\\xf3ximas horas\".\\n\"Son momentos dif\\xedciles para la patria, la tragedia m\\xe1s grande de los \\xfaltimos 67 a\\xf1os, solo superada por el terremoto de Ambato el 5 de agosto de 1949\", ha dicho, seg\\xfan ha informado el diario ecuatoriano \\'El Tel\\xe9grafo\\'.\\nSolo la voluntad superar\\xe1 estos momentos dif\\xedciles\", ha remachado el mandatario, que ha indicado adem\\xe1s que el se\\xedsmo ha dejado 2.068 personas heridas.\\nHoras antes, el vicepresidente ecuatoriano, Jorge Glas, hab\\xeda elevado a 246 muertos y 2.527 heridos el balance de v\\xedctimas del terremoto, agregando que las autoridades est\\xe1n elaborando una lista de desaparecidos.\\nEl epicentro se ha localizado a 170 kil\\xf3metros al norte-noroeste de Quito.',\n",
      "    u'text': u'El presidente de Ecuador, Rafael Correa, ha elevado este domingo a 272 el n\\xfamero de muertos a causa del terremoto de magnitud 7,8 en la escala de Richter que sacudi\\xf3 el s\\xe1bado el pa\\xeds, agregando que el balance de v\\xedctimas \"aumentar\\xe1 en las pr\\xf3ximas horas\".\\n\\n\"Son momentos dif\\xedciles para la patria, la tragedia m\\xe1s grande de los \\xfaltimos 67 a\\xf1os, solo superada por el terremoto de Ambato el 5 de agosto de 1949\", ha dicho, seg\\xfan ha informado el diario ecuatoriano \\'El Tel\\xe9grafo\\'.\\n\\n\"Es momento de grandes tareas y desaf\\xedos. Solo la voluntad superar\\xe1 estos momentos dif\\xedciles\", ha remachado el mandatario, que ha indicado adem\\xe1s que el se\\xedsmo ha dejado 2.068 personas heridas.\\n\\nHoras antes, el vicepresidente ecuatoriano, Jorge Glas, hab\\xeda elevado a 246 muertos y 2.527 heridos el balance de v\\xedctimas del terremoto, agregando que las autoridades est\\xe1n elaborando una lista de desaparecidos.\\n\\nEl se\\xedsmo, que habr\\xeda tenido casi un minuto de duraci\\xf3n, ha tenido su epicentro en la costa de Esmeraldas, concretamente cerca de la localidad de Muisne (norte), aunque tambi\\xe9n se lleg\\xf3 a notar de manera importante en la capital, Quito, y en la ciudad de Guayaquil, la segunda mayor del pa\\xeds. El epicentro se ha localizado a 170 kil\\xf3metros al norte-noroeste de Quito.\\n\\nAyuda espa\\xf1ola\\n\\nEl Gobierno de Espa\\xf1a ha ofrecido a Ecuador ayuda de emergencia para los damnificados por el terremoto, que se suma a los 50 efectivos de la Unidad Militar de Emergencias que, junto con perros adiestrados, participar\\xe1 en las labores de rescate tras el terremoto del s\\xe1bado, han informado a Europa Press fuentes del Ministerio de Asuntos Exteriores y de Cooperaci\\xf3n.\\n\\nEn concreto, Espa\\xf1a est\\xe1 en condiciones de aportar material de cobijo (tiendas de campa\\xf1a, pl\\xe1sticos impermeables y mantas), productos higi\\xe9nicos, material para la potabilizaci\\xf3n de agua y medicamentos. De momento este env\\xedo de material est\\xe1 pendiente de concretarse, pues las autoridades ecuatorianas la primera ayuda que han aceptado son los equipos de rescate.\\n\\nAnoche el Gobierno espa\\xf1ol no ten\\xeda constancia de v\\xedctimas espa\\xf1olas, pero este dato se toma con prudencia, pues los da\\xf1os que el se\\xedsmo ha provocado en las comunicaciones (se han ca\\xeddo repetidores y algunas zonas est\\xe1n sin suministro el\\xe9ctrico) dificultan contactar con el conjunto de la colonia espa\\xf1ola.',\n",
      "    u'title': u'Aumenta a 272 el n\\xfamero de muertos a causa del terremoto en Ecuador',\n",
      "    u'url': u'http://www.expansion.com/sociedad/2016/04/17/5713176722601db2238b461c.html'}\n"
     ]
    }
   ],
   "source": [
    "pp.pprint(dict(df.loc[0]))"
   ]
  },
  {
   "cell_type": "markdown",
   "metadata": {},
   "source": [
    "---\n",
    "\n",
    "## 2. Cincodias"
   ]
  },
  {
   "cell_type": "code",
   "execution_count": 39,
   "metadata": {
    "collapsed": true
   },
   "outputs": [],
   "source": [
    "# article content downloaded and parsed with newspaper3k\n",
    "data = []        \n",
    "with open('../articles_cincodias.json') as input_file:\n",
    "    for line in input_file:\n",
    "        data.append(json.loads(line))"
   ]
  },
  {
   "cell_type": "code",
   "execution_count": 40,
   "metadata": {
    "collapsed": true
   },
   "outputs": [],
   "source": [
    "df = pd.DataFrame(data)"
   ]
  },
  {
   "cell_type": "code",
   "execution_count": 41,
   "metadata": {},
   "outputs": [
    {
     "name": "stdout",
     "output_type": "stream",
     "text": [
      "Number of articles downloaded: 3,998\n"
     ]
    }
   ],
   "source": [
    "print(\"Number of articles downloaded: {:,}\".format(df.shape[0]))"
   ]
  },
  {
   "cell_type": "markdown",
   "metadata": {},
   "source": [
    "### Duplicates and useless articles"
   ]
  },
  {
   "cell_type": "code",
   "execution_count": 42,
   "metadata": {},
   "outputs": [
    {
     "data": {
      "text/html": [
       "<div>\n",
       "<style>\n",
       "    .dataframe thead tr:only-child th {\n",
       "        text-align: right;\n",
       "    }\n",
       "\n",
       "    .dataframe thead th {\n",
       "        text-align: left;\n",
       "    }\n",
       "\n",
       "    .dataframe tbody tr th {\n",
       "        vertical-align: top;\n",
       "    }\n",
       "</style>\n",
       "<table border=\"1\" class=\"dataframe\">\n",
       "  <thead>\n",
       "    <tr style=\"text-align: right;\">\n",
       "      <th></th>\n",
       "      <th>text</th>\n",
       "      <th>count</th>\n",
       "    </tr>\n",
       "  </thead>\n",
       "  <tbody>\n",
       "    <tr>\n",
       "      <th>0</th>\n",
       "      <td>¿No estás registrado? Crea tu cuenta\\n\\nEntra ...</td>\n",
       "      <td>26</td>\n",
       "    </tr>\n",
       "    <tr>\n",
       "      <th>1</th>\n",
       "      <td>Europa ha empezado ya con un particular carrus...</td>\n",
       "      <td>2</td>\n",
       "    </tr>\n",
       "    <tr>\n",
       "      <th>2</th>\n",
       "      <td>Hablemos de democracia. Si quieren hablemos en...</td>\n",
       "      <td>2</td>\n",
       "    </tr>\n",
       "    <tr>\n",
       "      <th>3</th>\n",
       "      <td>Luis de Guindos está a poco más de un paso de ...</td>\n",
       "      <td>2</td>\n",
       "    </tr>\n",
       "    <tr>\n",
       "      <th>4</th>\n",
       "      <td>El euríbor a 12 meses, el indicador más utiliz...</td>\n",
       "      <td>2</td>\n",
       "    </tr>\n",
       "  </tbody>\n",
       "</table>\n",
       "</div>"
      ],
      "text/plain": [
       "                                                text  count\n",
       "0  ¿No estás registrado? Crea tu cuenta\\n\\nEntra ...     26\n",
       "1  Europa ha empezado ya con un particular carrus...      2\n",
       "2  Hablemos de democracia. Si quieren hablemos en...      2\n",
       "3  Luis de Guindos está a poco más de un paso de ...      2\n",
       "4  El euríbor a 12 meses, el indicador más utiliz...      2"
      ]
     },
     "execution_count": 42,
     "metadata": {},
     "output_type": "execute_result"
    }
   ],
   "source": [
    "df_dups = df.groupby('text').size().sort_values(0,ascending=False).reset_index().rename(columns={0:\"count\"})\n",
    "df_dups.head(5)"
   ]
  },
  {
   "cell_type": "code",
   "execution_count": 43,
   "metadata": {},
   "outputs": [
    {
     "name": "stdout",
     "output_type": "stream",
     "text": [
      "Current number of articles: 3,972\n"
     ]
    }
   ],
   "source": [
    "# text 0: ¿No estás registrado? Crea tu cuenta\\n\\nEntra ...\n",
    "idx = df.index[df['text']==df_dups.loc[0]['text']]\n",
    "df = df.drop(idx)\n",
    "\n",
    "print(\"Current number of articles: {:,}\".format(df.shape[0]))"
   ]
  },
  {
   "cell_type": "code",
   "execution_count": 44,
   "metadata": {},
   "outputs": [
    {
     "name": "stdout",
     "output_type": "stream",
     "text": [
      "Number of articles duplicated twice: 6\n"
     ]
    }
   ],
   "source": [
    "df_dups = df.groupby('text').size().sort_values(0,ascending=False).reset_index().rename(columns={0:\"count\"})\n",
    "print(\"Number of articles duplicated twice: {:,}\".format(df_dups[df_dups['count']==2]['text'].count()))"
   ]
  },
  {
   "cell_type": "code",
   "execution_count": 45,
   "metadata": {},
   "outputs": [
    {
     "name": "stdout",
     "output_type": "stream",
     "text": [
      "Current number of articles: 3,966\n"
     ]
    }
   ],
   "source": [
    "# removing duplicates\n",
    "df = df.drop_duplicates(subset='text', keep='first', inplace=False)\n",
    "print(\"Current number of articles: {:,}\".format(df.shape[0]))"
   ]
  },
  {
   "cell_type": "code",
   "execution_count": 46,
   "metadata": {},
   "outputs": [
    {
     "data": {
      "text/html": [
       "<div>\n",
       "<style>\n",
       "    .dataframe thead tr:only-child th {\n",
       "        text-align: right;\n",
       "    }\n",
       "\n",
       "    .dataframe thead th {\n",
       "        text-align: left;\n",
       "    }\n",
       "\n",
       "    .dataframe tbody tr th {\n",
       "        vertical-align: top;\n",
       "    }\n",
       "</style>\n",
       "<table border=\"1\" class=\"dataframe\">\n",
       "  <thead>\n",
       "    <tr style=\"text-align: right;\">\n",
       "      <th></th>\n",
       "      <th>text</th>\n",
       "      <th>count</th>\n",
       "    </tr>\n",
       "  </thead>\n",
       "  <tbody>\n",
       "    <tr>\n",
       "      <th>0</th>\n",
       "      <td>“¡Que no le falte de nada a mis #materialadict...</td>\n",
       "      <td>1</td>\n",
       "    </tr>\n",
       "    <tr>\n",
       "      <th>1</th>\n",
       "      <td>El principal indicador de la bolsa española, e...</td>\n",
       "      <td>1</td>\n",
       "    </tr>\n",
       "    <tr>\n",
       "      <th>2</th>\n",
       "      <td>El principal indicador de la Bolsa española, e...</td>\n",
       "      <td>1</td>\n",
       "    </tr>\n",
       "    <tr>\n",
       "      <th>3</th>\n",
       "      <td>El primer trimestre del año deja en los invers...</td>\n",
       "      <td>1</td>\n",
       "    </tr>\n",
       "    <tr>\n",
       "      <th>4</th>\n",
       "      <td>El primer trimestre de año ha estado repleto d...</td>\n",
       "      <td>1</td>\n",
       "    </tr>\n",
       "  </tbody>\n",
       "</table>\n",
       "</div>"
      ],
      "text/plain": [
       "                                                text  count\n",
       "0  “¡Que no le falte de nada a mis #materialadict...      1\n",
       "1  El principal indicador de la bolsa española, e...      1\n",
       "2  El principal indicador de la Bolsa española, e...      1\n",
       "3  El primer trimestre del año deja en los invers...      1\n",
       "4  El primer trimestre de año ha estado repleto d...      1"
      ]
     },
     "execution_count": 46,
     "metadata": {},
     "output_type": "execute_result"
    }
   ],
   "source": [
    "df_dups = df.groupby('text').size().sort_values(0,ascending=False).reset_index().rename(columns={0:\"count\"})\n",
    "df_dups.head(5)"
   ]
  },
  {
   "cell_type": "code",
   "execution_count": 47,
   "metadata": {},
   "outputs": [
    {
     "name": "stdout",
     "output_type": "stream",
     "text": [
      "Current number of articles: 3,965\n"
     ]
    }
   ],
   "source": [
    "# removing empty text articles\n",
    "df = df.drop(df[df['text']==''].index)\n",
    "print(\"Current number of articles: {:,}\".format(df.shape[0]))"
   ]
  },
  {
   "cell_type": "code",
   "execution_count": 48,
   "metadata": {},
   "outputs": [
    {
     "name": "stdout",
     "output_type": "stream",
     "text": [
      "(57, '\\t', \"u'El coste de los despidos en el sector financiero\\\\n\\\\nCompatir en Linkedin Enviar por correo Subir'\", '\\n')\n",
      "(79, '\\t', \"u'Los problemas a los que se enfrentan los bancos europeos\\\\n\\\\nCompatir en Linkedin Enviar por correo Subir'\", '\\n')\n",
      "(243, '\\t', 'u\\'Los creadores de la serie de HBO \"Silicon Valley\" creen que la tecnolog\\\\xeda est\\\\xe1 plagada de \"hippies\"\\\\n\\\\nCompatir en Linkedin Enviar por correo Subir\\'', '\\n')\n",
      "(459, '\\t', \"u'Jos\\\\xe9 Padilla, Padilla Supermercados-Spar: \\\\u201cEl \\\\xe9xito de nuestro negocio es estar a la altura de las necesidades de nuestro cliente\\\\u201d.'\", '\\n')\n",
      "(480, '\\t', \"u'Si apuestas en la Eurocopa 2016, estas webs predicen el resultado de cada partido\\\\n\\\\nCompatir en Linkedin Enviar por correo Subir'\", '\\n')\n",
      "(632, '\\t', \"u'Cuatro empresas se jugaban las adjudicaciones de las obras con el n\\\\xfamero del Gordo de Navidad.'\", '\\n')\n",
      "(806, '\\t', \"u'3\\\\n\\\\nLa selecci\\\\xf3n de EE UU de baloncesto, uno de los grandes atractivos de estos juegos, arroll\\\\xf3 a China (119-62) en su primer partido en Rio.'\", '\\n')\n",
      "(915, '\\t', 'u\\'S\\\\xe1nchez da un portazo a Rajoy con un \"no rotundo\"\\\\n\\\\nAtlas\\'', '\\n')\n",
      "(993, '\\t', \"u'Hay una posibilidad remota de que la Fed suba las tasas: presidente ejecutivo\\\\n\\\\nCompatir en Linkedin Enviar por correo Subir'\", '\\n')\n",
      "(1036, '\\t', \"u'Tecnolog\\\\xeda\\\\n\\\\n\\\\xbfCu\\\\xe1nto te paga Apple por tu iPhone antiguo?'\", '\\n')\n",
      "(1160, '\\t', \"u'Las redes sociales no son solo algo que est\\\\xe1 bien tener en un negocio: Hootsuite\\\\n\\\\nCompatir en Linkedin Enviar por correo Subir'\", '\\n')\n",
      "(1161, '\\t', \"u'Gross: una victoria de Trump significar\\\\xeda que el d\\\\xf3lar y los bonos estar\\\\xedan en negativo\\\\n\\\\nCompatir en Linkedin Enviar por correo Subir'\", '\\n')\n",
      "(1163, '\\t', \"u'El nuevo Gobierno\\\\n\\\\nQui\\\\xe9n ha ocupado cada ministerio en las diferentes legislaturas'\", '\\n')\n",
      "(1167, '\\t', \"u'El petr\\\\xf3leo no subir\\\\xe1 de 66 d\\\\xf3lares, ni siquiera en 2019: analista\\\\n\\\\nCompatir en Linkedin Enviar por correo Subir'\", '\\n')\n",
      "(1169, '\\t', \"u'No somos un banco europeo, somos un banco suizo: presidente de UBS\\\\n\\\\nCompatir en Linkedin Enviar por correo Subir'\", '\\n')\n",
      "(1211, '\\t', \"u'Carlos Pi\\\\xf1eiro, director de PigCHAMP Pro Europa: \\\\u201cLa crisis nos vino bien, nos hizo buscar en otros sitios\\\\u201d.'\", '\\n')\n",
      "(1304, '\\t', \"u'Es poco probable que se conozca la decisi\\\\xf3n final sobre Heathrow antes de finales del 2017\\\\n\\\\nCompatir en Linkedin Enviar por correo Subir'\", '\\n')\n",
      "(1428, '\\t', \"u'Proceso de reestructuraci\\\\xf3n\\\\n\\\\nAbengoa, rescatada: \\\\xbfqu\\\\xe9 ha pasado en la empresa en los \\\\xfaltimos meses?'\", '\\n')\n",
      "(1433, '\\t', \"u'Se esperan tasas m\\\\xe1s bajas durante m\\\\xe1s tiempo: Director General adjunto de la Soci\\\\xe9t\\\\xe9 G\\\\xe9n\\\\xe9rale\\\\n\\\\nCompatir en Linkedin Enviar por correo Subir'\", '\\n')\n",
      "(1671, '\\t', \"u'El mercado del petr\\\\xf3leo podr\\\\xeda entrar en d\\\\xe9ficit a principios de 2017: pro\\\\n\\\\nCompatir en Linkedin Enviar por correo Subir'\", '\\n')\n",
      "(1693, '\\t', \"u'Los gastos de constituci\\\\xf3n de la hipoteca, nuevo frente judial para la banca\\\\n\\\\nCompatir en Linkedin Enviar por correo Subir'\", '\\n')\n",
      "(1813, '\\t', \"u'Merkel: la lucha contra el terrorismo no justifica la intolerancia\\\\n\\\\nCompatir en Linkedin Enviar por correo Subir'\", '\\n')\n",
      "(1864, '\\t', \"u'Knight Frank: no hay que exagerar el impacto del brexit en el mercado de la vivienda\\\\n\\\\nCompatir en Linkedin Enviar por correo Subir'\", '\\n')\n",
      "(2018, '\\t', \"u'Homenaje\\\\n\\\\nMadrid recuerda a las v\\\\xedctimas del 11M'\", '\\n')\n",
      "(2121, '\\t', \"u'El salario de los altos cargos: el Gobierno, la instituci\\\\xf3n peor pagada\\\\n\\\\nCompatir en Linkedin Enviar por correo Subir'\", '\\n')\n",
      "(2476, '\\t', \"u'7\\\\n\\\\nMcLaren 570S. Ganador de la categor\\\\xeda especial Coche de Ensue\\\\xf1o, en la que se elige el coche ideal sin atender a argumentos racionales.'\", '\\n')\n"
     ]
    }
   ],
   "source": [
    "# articles with very short text (useless)\n",
    "for idx, row in df[df['text'].str.len()<150].iterrows():\n",
    "    print(idx, \"\\t\", repr(row['text']), \"\\n\")"
   ]
  },
  {
   "cell_type": "markdown",
   "metadata": {},
   "source": [
    "### Creating new features\n",
    "\n",
    "* section\n",
    "* datepart\n",
    "* day of week\n",
    "* newspaper"
   ]
  },
  {
   "cell_type": "code",
   "execution_count": 49,
   "metadata": {
    "collapsed": true
   },
   "outputs": [],
   "source": [
    "# newspaper\n",
    "df['newspaper'] = 'cincodias'"
   ]
  },
  {
   "cell_type": "code",
   "execution_count": 50,
   "metadata": {
    "collapsed": true
   },
   "outputs": [],
   "source": [
    "# create seccion field from url\n",
    "df['section'] = df['url'].apply(lambda x: x.split('/')[7])"
   ]
  },
  {
   "cell_type": "code",
   "execution_count": 51,
   "metadata": {},
   "outputs": [
    {
     "data": {
      "text/html": [
       "<div>\n",
       "<style>\n",
       "    .dataframe thead tr:only-child th {\n",
       "        text-align: right;\n",
       "    }\n",
       "\n",
       "    .dataframe thead th {\n",
       "        text-align: left;\n",
       "    }\n",
       "\n",
       "    .dataframe tbody tr th {\n",
       "        vertical-align: top;\n",
       "    }\n",
       "</style>\n",
       "<table border=\"1\" class=\"dataframe\">\n",
       "  <thead>\n",
       "    <tr style=\"text-align: right;\">\n",
       "      <th></th>\n",
       "      <th>section</th>\n",
       "      <th>count</th>\n",
       "    </tr>\n",
       "  </thead>\n",
       "  <tbody>\n",
       "    <tr>\n",
       "      <th>0</th>\n",
       "      <td>mercados</td>\n",
       "      <td>792</td>\n",
       "    </tr>\n",
       "    <tr>\n",
       "      <th>1</th>\n",
       "      <td>companias</td>\n",
       "      <td>686</td>\n",
       "    </tr>\n",
       "    <tr>\n",
       "      <th>2</th>\n",
       "      <td>empresas</td>\n",
       "      <td>618</td>\n",
       "    </tr>\n",
       "    <tr>\n",
       "      <th>3</th>\n",
       "      <td>economia</td>\n",
       "      <td>464</td>\n",
       "    </tr>\n",
       "    <tr>\n",
       "      <th>4</th>\n",
       "      <td>lifestyle</td>\n",
       "      <td>197</td>\n",
       "    </tr>\n",
       "    <tr>\n",
       "      <th>5</th>\n",
       "      <td>midinero</td>\n",
       "      <td>196</td>\n",
       "    </tr>\n",
       "    <tr>\n",
       "      <th>6</th>\n",
       "      <td>sentidos</td>\n",
       "      <td>135</td>\n",
       "    </tr>\n",
       "    <tr>\n",
       "      <th>7</th>\n",
       "      <td>smartphones</td>\n",
       "      <td>129</td>\n",
       "    </tr>\n",
       "    <tr>\n",
       "      <th>8</th>\n",
       "      <td>fortunas</td>\n",
       "      <td>105</td>\n",
       "    </tr>\n",
       "    <tr>\n",
       "      <th>9</th>\n",
       "      <td>autonomos</td>\n",
       "      <td>99</td>\n",
       "    </tr>\n",
       "  </tbody>\n",
       "</table>\n",
       "</div>"
      ],
      "text/plain": [
       "       section  count\n",
       "0     mercados    792\n",
       "1    companias    686\n",
       "2     empresas    618\n",
       "3     economia    464\n",
       "4    lifestyle    197\n",
       "5     midinero    196\n",
       "6     sentidos    135\n",
       "7  smartphones    129\n",
       "8     fortunas    105\n",
       "9    autonomos     99"
      ]
     },
     "execution_count": 51,
     "metadata": {},
     "output_type": "execute_result"
    }
   ],
   "source": [
    "df.groupby('section').size().sort_values(0, ascending=False).reset_index().rename(columns={0:'count'}).head(10)"
   ]
  },
  {
   "cell_type": "code",
   "execution_count": 52,
   "metadata": {
    "collapsed": true
   },
   "outputs": [],
   "source": [
    "# split the publish date to date and time and remove time because it is not changing\n",
    "df['date'], df['time'] = df.publish_date.str.split(' ').str\n",
    "df.drop(['time'], axis=1, inplace=True)"
   ]
  },
  {
   "cell_type": "code",
   "execution_count": 53,
   "metadata": {},
   "outputs": [
    {
     "data": {
      "text/html": [
       "<div>\n",
       "<style>\n",
       "    .dataframe thead tr:only-child th {\n",
       "        text-align: right;\n",
       "    }\n",
       "\n",
       "    .dataframe thead th {\n",
       "        text-align: left;\n",
       "    }\n",
       "\n",
       "    .dataframe tbody tr th {\n",
       "        vertical-align: top;\n",
       "    }\n",
       "</style>\n",
       "<table border=\"1\" class=\"dataframe\">\n",
       "  <thead>\n",
       "    <tr style=\"text-align: right;\">\n",
       "      <th></th>\n",
       "      <th>authors</th>\n",
       "      <th>keywords</th>\n",
       "      <th>publish_date</th>\n",
       "      <th>summary</th>\n",
       "      <th>text</th>\n",
       "      <th>title</th>\n",
       "      <th>top_image</th>\n",
       "      <th>url</th>\n",
       "      <th>newspaper</th>\n",
       "      <th>section</th>\n",
       "      <th>date</th>\n",
       "      <th>day_of_week</th>\n",
       "    </tr>\n",
       "  </thead>\n",
       "  <tbody>\n",
       "    <tr>\n",
       "      <th>0</th>\n",
       "      <td>[Carlos González Villamil]</td>\n",
       "      <td>[y, videoconsola, en, uso, la, mac, que, para,...</td>\n",
       "      <td>2016-04-09 00:00:00</td>\n",
       "      <td>El firmware 3.50 de PlayStation 4 ha mejorado ...</td>\n",
       "      <td>El firmware 3.50 de PlayStation 4 ha mejorado ...</td>\n",
       "      <td>Cómo configurar Remote Play en PC y Mac para e...</td>\n",
       "      <td>https://d500.epimg.net/cincodias/imagenes/2016...</td>\n",
       "      <td>https://cincodias.elpais.com/cincodias/2016/04...</td>\n",
       "      <td>cincodias</td>\n",
       "      <td>lifestyle</td>\n",
       "      <td>2016-04-09</td>\n",
       "      <td>Saturday</td>\n",
       "    </tr>\n",
       "    <tr>\n",
       "      <th>1</th>\n",
       "      <td>[Juande Portillo]</td>\n",
       "      <td>[y, los, la, en, que, reduciendo, adelgaza, ba...</td>\n",
       "      <td>2016-04-08 00:00:00</td>\n",
       "      <td>Una dieta a largo plazo, en todo caso, a la qu...</td>\n",
       "      <td>En apenas una década, y con una crisis financi...</td>\n",
       "      <td>La banca adelgaza costes reduciendo red y plan...</td>\n",
       "      <td>https://d500.epimg.net/cincodias/imagenes/2016...</td>\n",
       "      <td>https://cincodias.elpais.com/cincodias/2016/04...</td>\n",
       "      <td>cincodias</td>\n",
       "      <td>mercados</td>\n",
       "      <td>2016-04-08</td>\n",
       "      <td>Friday</td>\n",
       "    </tr>\n",
       "    <tr>\n",
       "      <th>2</th>\n",
       "      <td>[]</td>\n",
       "      <td>[y, los, en, la, han, que, trabajadores, prote...</td>\n",
       "      <td>2016-04-09 00:00:00</td>\n",
       "      <td>Los trabajadores de Lauki, cuya factoría de Va...</td>\n",
       "      <td>Los trabajadores de Lauki, cuya factoría de Va...</td>\n",
       "      <td>Protesta de la plantilla de Lauki por el cierr...</td>\n",
       "      <td>https://d500.epimg.net/cincodias/imagenes/2016...</td>\n",
       "      <td>https://cincodias.elpais.com/cincodias/2016/04...</td>\n",
       "      <td>cincodias</td>\n",
       "      <td>empresas</td>\n",
       "      <td>2016-04-09</td>\n",
       "      <td>Saturday</td>\n",
       "    </tr>\n",
       "    <tr>\n",
       "      <th>3</th>\n",
       "      <td>[Javier Fernández Magariño, Pablo Monge]</td>\n",
       "      <td>[será, nacerá, y, los, la, en, que, europa, ai...</td>\n",
       "      <td>2016-04-09 00:00:00</td>\n",
       "      <td>Air Europa Express nace sobre la pequeña aerol...</td>\n",
       "      <td>Juan José Hidalgo, presidente de Globalia y Ai...</td>\n",
       "      <td>Esta será la nueva Air Europa 'low cost' que n...</td>\n",
       "      <td>https://d500.epimg.net/cincodias/imagenes/2016...</td>\n",
       "      <td>https://cincodias.elpais.com/cincodias/2016/04...</td>\n",
       "      <td>cincodias</td>\n",
       "      <td>empresas</td>\n",
       "      <td>2016-04-09</td>\n",
       "      <td>Saturday</td>\n",
       "    </tr>\n",
       "    <tr>\n",
       "      <th>4</th>\n",
       "      <td>[Will Oliver]</td>\n",
       "      <td>[y, último, su, en, la, año, que, cameron, el,...</td>\n",
       "      <td>2016-04-09 00:00:00</td>\n",
       "      <td>WILL OLIVER EFEDavid Cameron, primer ministro ...</td>\n",
       "      <td>Protestas en Londres tras conocer la conexión ...</td>\n",
       "      <td>Cameron pagó impuestos por 90.000 euros en el ...</td>\n",
       "      <td>https://d500.epimg.net/cincodias/imagenes/2016...</td>\n",
       "      <td>https://cincodias.elpais.com/cincodias/2016/04...</td>\n",
       "      <td>cincodias</td>\n",
       "      <td>economia</td>\n",
       "      <td>2016-04-09</td>\n",
       "      <td>Saturday</td>\n",
       "    </tr>\n",
       "  </tbody>\n",
       "</table>\n",
       "</div>"
      ],
      "text/plain": [
       "                                    authors  \\\n",
       "0                [Carlos González Villamil]   \n",
       "1                         [Juande Portillo]   \n",
       "2                                        []   \n",
       "3  [Javier Fernández Magariño, Pablo Monge]   \n",
       "4                             [Will Oliver]   \n",
       "\n",
       "                                            keywords         publish_date  \\\n",
       "0  [y, videoconsola, en, uso, la, mac, que, para,...  2016-04-09 00:00:00   \n",
       "1  [y, los, la, en, que, reduciendo, adelgaza, ba...  2016-04-08 00:00:00   \n",
       "2  [y, los, en, la, han, que, trabajadores, prote...  2016-04-09 00:00:00   \n",
       "3  [será, nacerá, y, los, la, en, que, europa, ai...  2016-04-09 00:00:00   \n",
       "4  [y, último, su, en, la, año, que, cameron, el,...  2016-04-09 00:00:00   \n",
       "\n",
       "                                             summary  \\\n",
       "0  El firmware 3.50 de PlayStation 4 ha mejorado ...   \n",
       "1  Una dieta a largo plazo, en todo caso, a la qu...   \n",
       "2  Los trabajadores de Lauki, cuya factoría de Va...   \n",
       "3  Air Europa Express nace sobre la pequeña aerol...   \n",
       "4  WILL OLIVER EFEDavid Cameron, primer ministro ...   \n",
       "\n",
       "                                                text  \\\n",
       "0  El firmware 3.50 de PlayStation 4 ha mejorado ...   \n",
       "1  En apenas una década, y con una crisis financi...   \n",
       "2  Los trabajadores de Lauki, cuya factoría de Va...   \n",
       "3  Juan José Hidalgo, presidente de Globalia y Ai...   \n",
       "4  Protestas en Londres tras conocer la conexión ...   \n",
       "\n",
       "                                               title  \\\n",
       "0  Cómo configurar Remote Play en PC y Mac para e...   \n",
       "1  La banca adelgaza costes reduciendo red y plan...   \n",
       "2  Protesta de la plantilla de Lauki por el cierr...   \n",
       "3  Esta será la nueva Air Europa 'low cost' que n...   \n",
       "4  Cameron pagó impuestos por 90.000 euros en el ...   \n",
       "\n",
       "                                           top_image  \\\n",
       "0  https://d500.epimg.net/cincodias/imagenes/2016...   \n",
       "1  https://d500.epimg.net/cincodias/imagenes/2016...   \n",
       "2  https://d500.epimg.net/cincodias/imagenes/2016...   \n",
       "3  https://d500.epimg.net/cincodias/imagenes/2016...   \n",
       "4  https://d500.epimg.net/cincodias/imagenes/2016...   \n",
       "\n",
       "                                                 url  newspaper    section  \\\n",
       "0  https://cincodias.elpais.com/cincodias/2016/04...  cincodias  lifestyle   \n",
       "1  https://cincodias.elpais.com/cincodias/2016/04...  cincodias   mercados   \n",
       "2  https://cincodias.elpais.com/cincodias/2016/04...  cincodias   empresas   \n",
       "3  https://cincodias.elpais.com/cincodias/2016/04...  cincodias   empresas   \n",
       "4  https://cincodias.elpais.com/cincodias/2016/04...  cincodias   economia   \n",
       "\n",
       "        date day_of_week  \n",
       "0 2016-04-09    Saturday  \n",
       "1 2016-04-08      Friday  \n",
       "2 2016-04-09    Saturday  \n",
       "3 2016-04-09    Saturday  \n",
       "4 2016-04-09    Saturday  "
      ]
     },
     "execution_count": 53,
     "metadata": {},
     "output_type": "execute_result"
    }
   ],
   "source": [
    "# convert date columns to datetime and create day_of_week column\n",
    "df['date'] = pd.to_datetime(df['date'])\n",
    "df['day_of_week'] = df['date'].dt.weekday_name\n",
    "df.head(5)"
   ]
  },
  {
   "cell_type": "code",
   "execution_count": 54,
   "metadata": {
    "collapsed": true
   },
   "outputs": [],
   "source": [
    "# drop unnecessary columns\n",
    "df.drop(['top_image', 'publish_date'], axis=1, inplace=True)"
   ]
  },
  {
   "cell_type": "markdown",
   "metadata": {},
   "source": [
    "### Dump to JSON"
   ]
  },
  {
   "cell_type": "code",
   "execution_count": 55,
   "metadata": {
    "collapsed": true
   },
   "outputs": [],
   "source": [
    "# df.to_json('./articles_clean_cincodias.json')"
   ]
  },
  {
   "cell_type": "code",
   "execution_count": 56,
   "metadata": {
    "scrolled": false
   },
   "outputs": [
    {
     "name": "stdout",
     "output_type": "stream",
     "text": [
      "{   u'authors': [u'Juande Portillo'],\n",
      "    'date': Timestamp('2016-04-08 00:00:00'),\n",
      "    'day_of_week': 'Friday',\n",
      "    u'keywords': [   u'y',\n",
      "                     u'los',\n",
      "                     u'la',\n",
      "                     u'en',\n",
      "                     u'que',\n",
      "                     u'reduciendo',\n",
      "                     u'adelgaza',\n",
      "                     u'banca',\n",
      "                     u'el',\n",
      "                     u'red',\n",
      "                     u'costes',\n",
      "                     u'por',\n",
      "                     u'es',\n",
      "                     u'plantilla',\n",
      "                     u'del'],\n",
      "    'newspaper': 'cincodias',\n",
      "    'section': u'mercados',\n",
      "    u'summary': u'Una dieta a largo plazo, en todo caso, a la que preceder\\xe1 de forma inmediata una nueva purga detonada por la presi\\xf3n que ejercen sobre los m\\xe1rgenes los tipos cero y la debilidad general del negocio.\\nUn ajuste adicional que rondar\\xeda el 20% de la red y la plantilla actual.\\nY eso, que el recorte ya realizado hasta la fecha no ha sido menor.\\nEl punto \\xe1lgido de la red de oficinas de la banca espa\\xf1ola se alcanz\\xf3 en septiembre de 2008, coincidiendo con la ca\\xedda de Lehman Brothers, que marc\\xf3 el arranque de la crisis.\\nEs decir, que solo la banca espa\\xf1ola, que con 83.600 trabajadores menos desde 2008, es responsable del 14% de todos los empleos destruidos por la industria financiera global en la crisis.',\n",
      "    u'text': u'En apenas una d\\xe9cada, y con una crisis financiera sin precedentes de por medio, la banca espa\\xf1ola asiste a una revoluci\\xf3n del modelo de negocio que exige un viraje de 180% en su estrategia comercial. En los tiempos de la burbuja inmobiliaria, el sector apost\\xf3 por una expansi\\xf3n geogr\\xe1fica masiva apoyada en la apertura de nuevas oficinas all\\xe1 donde financiaba una nueva promoci\\xf3n inmobiliaria, por lejana que estuviera de su \\xe1mbito geogr\\xe1fico de actuaci\\xf3n natural.\\n\\nAhora que la demanda de los consumidores abre la puerta a una aut\\xe9ntica revoluci\\xf3n digital del negocio, un gigante como BBVA avanzaba que terminar\\xe1 reduciendo su red de oficinas a apenas un tercio del total y que podr\\xeda operar con solo un millar de sucursales. Una dieta a largo plazo, en todo caso, a la que preceder\\xe1 de forma inmediata una nueva purga detonada por la presi\\xf3n que ejercen sobre los m\\xe1rgenes los tipos cero y la debilidad general del negocio. Un ajuste adicional que rondar\\xeda el 20% de la red y la plantilla actual.\\n\\nY eso, que el recorte ya realizado hasta la fecha no ha sido menor. El punto \\xe1lgido de la red de oficinas de la banca espa\\xf1ola se alcanz\\xf3 en septiembre de 2008, coincidiendo con la ca\\xedda de Lehman Brothers, que marc\\xf3 el arranque de la crisis. El sector contaba entonces con un total de 46.118 sucursales por todo el pa\\xeds, seg\\xfan los datos registrados por el Banco de Espa\\xf1a. Desde entonces, la banca ha recortado 15.000 oficinas, un 32% del total, lo que le deja con apenas 31.000 sucursales, la cifra m\\xe1s baja desde 1983.\\n\\nDel lado del empleo, el ajuste ha sido igualmente profundo. De los 278.300 empleados con los que contaban bancos y cajas de ahorro en 2008, el sector apenas conserva 194.700 trabajadores, un 30% menos. Un volumen que muestra su especial relevancia en la comparativa internacional. Seg\\xfan los c\\xe1lculos de Bloomberg, a lo largo de la crisis el sector financiero internacional ha prescindido de un total de 600.000 empleados. Es decir, que solo la banca espa\\xf1ola, que con 83.600 trabajadores menos desde 2008, es responsable del 14% de todos los empleos destruidos por la industria financiera global en la crisis.\\n\\nPero entidades y expertos coinciden en que el ajuste no es suficiente. \\u201cCon los tipos de inter\\xe9s que tenemos la necesidad es ya de sostener no de incrementar la rentabilidad, porque los resultados van a seguir a la baja y hay que buscar alternativas. Esas alternativas pasan por un nuevo proceso de cierre de oficinas y reducci\\xf3n de plantilla\\u201d, expone Esteban S\\xe1nchez, responsable del \\xe1rea de banca y seguros de Analistas Financieros Internacionales (Afi). \\u201cProbablemente porque no hemos depurado a\\xfan ese exceso de capacidad\\u201d de los a\\xf1os del boom, avanza, a la vez que apunta que \\u201ca este asunto se le suma otro tema, que es la transformaci\\xf3n digital del modelo de negocio\\u201d.\\n\\nAs\\xed, de un lado, \\u201cno es descabellado pensar que lo que queda por purgar de los a\\xf1os de exceso es un 15% o un 20% adicional de red y plantilla desde los niveles actuales, aunque hay que decir que sin los tipos bajos se habr\\xeda hecho de forma m\\xe1s pausada\\u201d, reflexiona S\\xe1nchez.\\n\\nSu estimaci\\xf3n casa con las cifras que ofrecen diversas voces del sector financiero aunque supera ligeramente la presentada recientemente por la Fundaci\\xf3n de las Cajas de Ahorros (Funcas), que apuntaba que de aqu\\xed a 2019 la banca deber\\xe1 prescindir a\\xfan de cerca de 3.000 oficinas y 14.000 empleados.\\n\\nAjuste a dos velocidades\\n\\n\\u201cA los consejos de administraci\\xf3n les suelo advertir que los tipos bajos son una situaci\\xf3n transitoria, los tendremos en esos niveles dos o tres a\\xf1os, pero lo que viene para quedarse es la revoluci\\xf3n digital\\u201d, advierte el experto en banca de Afi, que asume que \\u201cvamos a un modelo bancario totalmente diferente\\u201d. El ajuste asociado a este proceso, sin embargo, es mucho m\\xe1s dif\\xedcil de prever y cuantificar. En este sentido, explica S\\xe1nchez, encontramos una \\u201ctransformaci\\xf3n a dos velocidades\\u201d.\\n\\nDe un lado, se\\xf1ala que la gran banca est\\xe1 apostando con fuerza por un negocio digital, con capacidad y decisi\\xf3n de adaptar su red al nuevo modelo. De otro, apunta a las entidades de menor tama\\xf1o, que se ven forzadas a abrazar la banca online como la tabla de salvaci\\xf3n que puede suponer un negocio telem\\xe1tico con menores costes fijos. El peligro, indica, es que la incapacidad de las firmas de menor tama\\xf1o para acometer grandes inversiones que les permitan subirse al carro de la tecnolog\\xeda podr\\xeda hacerles llegar demasiado tarde a un modelo verdaderamente digital y \\xe1gil.\\n\\nCoincide con este an\\xe1lisis Mario Ya\\xf1ez, responsable del desarrollo de soluciones de banca de Tecnocom, quien apunta que aunque toda la banca espa\\xf1ola est\\xe1 estudiando desarrollos de negocio online a gran escala, apenas \\u201cun 50% del sector est\\xe1 realmente trabajando ahora mismo en ello\\u201d. Desde Tecnocom, que ofrece soluciones digitales para el grueso de la banca espa\\xf1ola, apuntan a que gran parte del problema parte de las \\u201cviejas arquitecturas\\u201d organizativas de muchas entidades financieras, con un exceso de burocracia interna que no puede competir con la agilidad de las pujantes fintech.\\n\\nEl empuje de las \\u2018fintech\\u2019\\n\\nEstas empresas, las nuevas firmas de servicios financieros basadas en soluciones tecnol\\xf3gicas son otro de los desaf\\xedos que afronta el sector financiero. La banca tradicional ya asume que este segmento empresarial emergente terminar\\xe1 comi\\xe9ndose el 23% de su negocio, seg\\xfan un reciente informe de PwC.\\n\\nDe momento, esta confluencia de factores, entre la herencia de la crisis, la presi\\xf3n de los tipos cero sobre los m\\xe1rgenes o el avance de los nuevos canales digitales, sin olvidar nunca la carga que supone la creciente regulaci\\xf3n financiera, ya han desatado una nueva ronda de ajustes en el sector financiero espa\\xf1ol.\\n\\nEl caso m\\xe1s paradigm\\xe1tico es el de Banco Santander, que ha anunciado un proceso de recorte de unos 1.670 empleos y el cierre de 450 oficinas de entre las de menor tama\\xf1o de su red, que suma 3.467 sucursales. Pero no es el \\xfanico, CaixaBank avanz\\xf3 el viernes que prejubilar\\xe1 a unos 500 empleados este a\\xf1o. Espa\\xf1aDuero, la nueva denominaci\\xf3n de Banco Ceiss tras su integraci\\xf3n total en el grupo Unicaja, ha comunicado a su vez que piensa prescindir de unos 1.120 trabajadores, un tercio del total.\\n\\nDesde el sector se da por hecho que estos son solo las primeras se\\xf1ales de la dieta a la que se someter\\xe1 todo el sector para apuntalar sus resultados mediante un recorte de costes que tambi\\xe9n le debe permitir terminar de enfocar el camino hacia la nueva transformaci\\xf3n de su modelo de negocio.',\n",
      "    u'title': u'La banca adelgaza costes reduciendo red y plantilla',\n",
      "    u'url': u'https://cincodias.elpais.com/cincodias/2016/04/08/mercados/1460141156_743459.html'}\n"
     ]
    }
   ],
   "source": [
    "pp.pprint(dict(df.loc[1]))"
   ]
  },
  {
   "cell_type": "markdown",
   "metadata": {},
   "source": [
    "---\n",
    "\n",
    "## El Confidencial"
   ]
  },
  {
   "cell_type": "code",
   "execution_count": 57,
   "metadata": {
    "collapsed": true
   },
   "outputs": [],
   "source": [
    "# article content downloaded and parsed with newspaper3k\n",
    "data = []\n",
    "with open('../articles_elconfidencial.json') as input_file:\n",
    "    for line in input_file:\n",
    "        data.append(json.loads(line))"
   ]
  },
  {
   "cell_type": "code",
   "execution_count": 58,
   "metadata": {
    "collapsed": true
   },
   "outputs": [],
   "source": [
    "df = pd.DataFrame(data)"
   ]
  },
  {
   "cell_type": "code",
   "execution_count": 59,
   "metadata": {},
   "outputs": [
    {
     "name": "stdout",
     "output_type": "stream",
     "text": [
      "Number of articles downloaded: 1,796\n"
     ]
    }
   ],
   "source": [
    "print(\"Number of articles downloaded: {:,}\".format(df.shape[0]))"
   ]
  },
  {
   "cell_type": "markdown",
   "metadata": {},
   "source": [
    "### Duplicates and useless articles"
   ]
  },
  {
   "cell_type": "code",
   "execution_count": 60,
   "metadata": {},
   "outputs": [
    {
     "data": {
      "text/html": [
       "<div>\n",
       "<style>\n",
       "    .dataframe thead tr:only-child th {\n",
       "        text-align: right;\n",
       "    }\n",
       "\n",
       "    .dataframe thead th {\n",
       "        text-align: left;\n",
       "    }\n",
       "\n",
       "    .dataframe tbody tr th {\n",
       "        vertical-align: top;\n",
       "    }\n",
       "</style>\n",
       "<table border=\"1\" class=\"dataframe\">\n",
       "  <thead>\n",
       "    <tr style=\"text-align: right;\">\n",
       "      <th></th>\n",
       "      <th>text</th>\n",
       "      <th>count</th>\n",
       "    </tr>\n",
       "  </thead>\n",
       "  <tbody>\n",
       "    <tr>\n",
       "      <th>0</th>\n",
       "      <td>BIOGRAFÍA\\n\\nTrader, empezó su carrera profesi...</td>\n",
       "      <td>14</td>\n",
       "    </tr>\n",
       "    <tr>\n",
       "      <th>1</th>\n",
       "      <td>La industria de los fondos de inversión en Esp...</td>\n",
       "      <td>3</td>\n",
       "    </tr>\n",
       "    <tr>\n",
       "      <th>2</th>\n",
       "      <td>La lava fluye desde el Piton de la Fournaise, ...</td>\n",
       "      <td>3</td>\n",
       "    </tr>\n",
       "    <tr>\n",
       "      <th>3</th>\n",
       "      <td>Más de 70 años después de la liberación del ca...</td>\n",
       "      <td>2</td>\n",
       "    </tr>\n",
       "    <tr>\n",
       "      <th>4</th>\n",
       "      <td>20 de 21\\n\\nPuente flotante de Evergreen (Redm...</td>\n",
       "      <td>2</td>\n",
       "    </tr>\n",
       "  </tbody>\n",
       "</table>\n",
       "</div>"
      ],
      "text/plain": [
       "                                                text  count\n",
       "0  BIOGRAFÍA\\n\\nTrader, empezó su carrera profesi...     14\n",
       "1  La industria de los fondos de inversión en Esp...      3\n",
       "2  La lava fluye desde el Piton de la Fournaise, ...      3\n",
       "3  Más de 70 años después de la liberación del ca...      2\n",
       "4  20 de 21\\n\\nPuente flotante de Evergreen (Redm...      2"
      ]
     },
     "execution_count": 60,
     "metadata": {},
     "output_type": "execute_result"
    }
   ],
   "source": [
    "df_dups = df.groupby('text').size().sort_values(0,ascending=False).reset_index().rename(columns={0:\"count\"})\n",
    "df_dups.head(5)"
   ]
  },
  {
   "cell_type": "code",
   "execution_count": 61,
   "metadata": {},
   "outputs": [
    {
     "name": "stdout",
     "output_type": "stream",
     "text": [
      "Current number of articles: 1,782\n"
     ]
    }
   ],
   "source": [
    "# text 0: BIOGRAFÍA\\n\\nTrader, empezó su carrera profesi...\n",
    "idx = df.index[df['text']==df_dups.loc[0]['text']]\n",
    "df = df.drop(idx)\n",
    "\n",
    "print(\"Current number of articles: {:,}\".format(df.shape[0]))"
   ]
  },
  {
   "cell_type": "code",
   "execution_count": 62,
   "metadata": {},
   "outputs": [
    {
     "name": "stdout",
     "output_type": "stream",
     "text": [
      "Current number of articles: 1,780\n"
     ]
    }
   ],
   "source": [
    "# removing empty text articles\n",
    "df = df.drop(df[df['text']==''].index)\n",
    "print(\"Current number of articles: {:,}\".format(df.shape[0]))"
   ]
  },
  {
   "cell_type": "code",
   "execution_count": 63,
   "metadata": {},
   "outputs": [
    {
     "name": "stdout",
     "output_type": "stream",
     "text": [
      "Text 2:\n",
      "\n",
      "(u'La lava fluye desde el Piton de la Fournaise, uno de los volcanes m\\xe1s activos del mundo, en Reuni\\xf3n, una isla del archipi\\xe9lago de las Mascare\\xf1as, en el oc\\xe9ano \\xcdndico, con estatus de departamento de ultramar franc\\xe9s, el 3 de febrero de 2017. (Reuters)', '...')\n",
      "\n",
      "\n",
      "Current number of articles: 1,777\n"
     ]
    }
   ],
   "source": [
    "# text 2: Estimado lector: el próximo 1 de Junio la Tabl...\n",
    "print(\"Text 2:\\n\")\n",
    "print(df_dups.loc[2]['text'][:500],\"...\")\n",
    "\n",
    "idx = df.index[df['text']==df_dups.loc[2]['text']]\n",
    "df = df.drop(idx)\n",
    "\n",
    "print(\"\\n\\nCurrent number of articles: {:,}\".format(df.shape[0]))"
   ]
  },
  {
   "cell_type": "code",
   "execution_count": 64,
   "metadata": {},
   "outputs": [
    {
     "name": "stdout",
     "output_type": "stream",
     "text": [
      "Text 3:\n",
      "\n",
      "Más de 70 años después de la liberación del campo de concentración de Auschwitz, este complejo situado en los territorios polacos ocupados durante la II Guerra Mundial continúa siendo símbolo universal del Holocausto. Uno de los episodios más oscuros de la Historia reciente, que se saldó con el asesinato de más de seis millones de inocentes a manos de la Alemania nazi de Hitler.\n",
      "\n",
      "Para acercar la compleja realidad que se vivió en Auschwitz, y transmitir al mundo las repercusiones históricas y humanas sobre los campos de concentración, una exposición itinerante recorre el mundo proponiendo al visitante un viaje intelectual y profundamente emocional, en el que se trata de dilucidar cómo ese lugar llegó a existir y el modo en que su existencia afecta, aún hoy, a nuestra visión del mundo. Con el título de \"Auschwitz. No hace mucho. No muy lejos\" Madrid es el primer destino de esta muestra itinerante que descubre, en primicia mundial, más de 600 piezas originales, además de numeroso material fotográfico y audiovisual inédito.\n",
      "\n",
      "Presente en el Centro de Exposiciones Arte Canal de Madrid, desde el pasado 1 de diciembre, la muestra permanecerá en nuestro país hasta el 17 de junio de 2018. Más de una veintena de reputadas instituciones internacionales, coleccionistas privados e incluso supervivientes de la Shoah han colaborado con el Museo Estatal de Auschwitz-Birkenau y Musealia para hacerla posible y difundir el legado del que sigue siendo, hoy en día, el mayor cementerio del mundo.\n",
      "\n",
      "\n",
      "Current number of articles: 1,775\n"
     ]
    }
   ],
   "source": [
    "# text 3: Gonzalo de Diego Ramos\\n\\nLa mítica empresa de...\n",
    "print(\"Text 3:\\n\")\n",
    "print(df_dups.loc[3]['text'])\n",
    "\n",
    "idx = df.index[df['text']==df_dups.loc[3]['text']]\n",
    "df = df.drop(idx)\n",
    "\n",
    "print(\"\\n\\nCurrent number of articles: {:,}\".format(df.shape[0]))"
   ]
  },
  {
   "cell_type": "code",
   "execution_count": 65,
   "metadata": {},
   "outputs": [
    {
     "name": "stdout",
     "output_type": "stream",
     "text": [
      "Text 4:\n",
      "\n",
      "20 de 21\n",
      "\n",
      "Puente flotante de Evergreen (Redmond, Washington)\n",
      "\n",
      "¿Qué tiene de especial este puente? A simple vista parece una construcción como otra cualquiera, pero los algo más de dos kilómetros de esta estructura están construidos sobre un lago de más de 60 metros de profundidad. Construido en los 60, se mantiene en pie gracias a un buen número de estructuras de hormigón en la base que están ancladas a unos pesos situados en las profundidades del lago Washington y que otorgan la estabilidad necesaria.\n",
      "\n",
      "\n",
      "Current number of articles: 1,773\n"
     ]
    }
   ],
   "source": [
    "# text 4: Entrevista a Attila Szabo\\n\\n\"Un 3% de los run...\n",
    "print(\"Text 4:\\n\")\n",
    "print(df_dups.loc[4]['text'])\n",
    "\n",
    "idx = df.index[df['text']==df_dups.loc[4]['text']]\n",
    "df = df.drop(idx)\n",
    "\n",
    "print(\"\\n\\nCurrent number of articles: {:,}\".format(df.shape[0]))"
   ]
  },
  {
   "cell_type": "code",
   "execution_count": 66,
   "metadata": {},
   "outputs": [
    {
     "data": {
      "text/html": [
       "<div>\n",
       "<style>\n",
       "    .dataframe thead tr:only-child th {\n",
       "        text-align: right;\n",
       "    }\n",
       "\n",
       "    .dataframe thead th {\n",
       "        text-align: left;\n",
       "    }\n",
       "\n",
       "    .dataframe tbody tr th {\n",
       "        vertical-align: top;\n",
       "    }\n",
       "</style>\n",
       "<table border=\"1\" class=\"dataframe\">\n",
       "  <thead>\n",
       "    <tr style=\"text-align: right;\">\n",
       "      <th></th>\n",
       "      <th>text</th>\n",
       "      <th>count</th>\n",
       "    </tr>\n",
       "  </thead>\n",
       "  <tbody>\n",
       "    <tr>\n",
       "      <th>0</th>\n",
       "      <td>La industria de los fondos de inversión en Esp...</td>\n",
       "      <td>3</td>\n",
       "    </tr>\n",
       "    <tr>\n",
       "      <th>1</th>\n",
       "      <td>Ibiza, verano, música electrónica, fiestón. ¿H...</td>\n",
       "      <td>2</td>\n",
       "    </tr>\n",
       "    <tr>\n",
       "      <th>2</th>\n",
       "      <td>Ibiza toca a gente guapa. En la lúbrica isla p...</td>\n",
       "      <td>2</td>\n",
       "    </tr>\n",
       "    <tr>\n",
       "      <th>3</th>\n",
       "      <td>La madera ha jugado un papel determinante a la...</td>\n",
       "      <td>2</td>\n",
       "    </tr>\n",
       "    <tr>\n",
       "      <th>4</th>\n",
       "      <td>Blanco y radiante. Es una de las grandes estre...</td>\n",
       "      <td>2</td>\n",
       "    </tr>\n",
       "  </tbody>\n",
       "</table>\n",
       "</div>"
      ],
      "text/plain": [
       "                                                text  count\n",
       "0  La industria de los fondos de inversión en Esp...      3\n",
       "1  Ibiza, verano, música electrónica, fiestón. ¿H...      2\n",
       "2  Ibiza toca a gente guapa. En la lúbrica isla p...      2\n",
       "3  La madera ha jugado un papel determinante a la...      2\n",
       "4  Blanco y radiante. Es una de las grandes estre...      2"
      ]
     },
     "execution_count": 66,
     "metadata": {},
     "output_type": "execute_result"
    }
   ],
   "source": [
    "df_dups = df.groupby('text').size().sort_values(0,ascending=False).reset_index().rename(columns={0:\"count\"})\n",
    "df_dups.head(5)"
   ]
  },
  {
   "cell_type": "code",
   "execution_count": 67,
   "metadata": {},
   "outputs": [
    {
     "name": "stdout",
     "output_type": "stream",
     "text": [
      "Current number of articles: 1,765\n"
     ]
    }
   ],
   "source": [
    "# removing duplicates\n",
    "df = df.drop_duplicates(subset='text', keep='first', inplace=False)\n",
    "print(\"Current number of articles: {:,}\".format(df.shape[0]))"
   ]
  },
  {
   "cell_type": "code",
   "execution_count": 68,
   "metadata": {},
   "outputs": [
    {
     "name": "stdout",
     "output_type": "stream",
     "text": [
      "(317, '\\t', \"u'Alemania tambi\\\\xe9n es campeona con los menos habituales\\\\n\\\\n\\\\n\\\\n\\\\n\\\\n\\\\n\\\\n\\\\n\\\\n\\\\n\\\\n\\\\n\\\\n\\\\n\\\\n\\\\n\\\\n\\\\n\\\\n\\\\n\\\\n\\\\n\\\\n\\\\n\\\\nPantalla completa'\", '\\n')\n",
      "(371, '\\t', \"u'Este padre colg\\\\xf3 en Instragram un truco infalible e h\\\\xedper tierno en el que consigue dormir a su hijo reci\\\\xe9n nacido con una t\\\\xe9cnica sencilla.'\", '\\n')\n",
      "(1369, '\\t', \"u'Carlota Casiraghi y Dimitri Rassam, las grandes estrellas en el Baile de la Rosa de M\\\\xf3naco\\\\n\\\\n\\\\n\\\\n\\\\n\\\\n\\\\n\\\\n\\\\n\\\\n\\\\n\\\\n\\\\n\\\\n\\\\n\\\\n\\\\n\\\\n\\\\n\\\\n\\\\n\\\\n\\\\n\\\\n\\\\n\\\\nPantalla completa'\", '\\n')\n",
      "(1409, '\\t', \"u'La sede de Appleby en la isla de Jersey. (REUTERS)'\", '\\n')\n",
      "(1584, '\\t', \"u'El criador Agus Badud lava uno de sus 40 perros en la aldea de Cibiuk en Majalaya, Java Occidental, el 27 de septiembre de 2017. (Reuters)'\", '\\n')\n",
      "(1724, '\\t', \"u'Este perro sabe que ha hecho algo mal cuando su due\\\\xf1o le llama desde la cocina. Alguien se ha comido algo que no deb\\\\xeda'\", '\\n')\n",
      "(1725, '\\t', \"u'Consigue que uno de los peces de la playa pique el anzuelo, pero tras sacarlo del agua pasa algo inesperado.'\", '\\n')\n",
      "(1726, '\\t', \"u'Es una de las m\\\\xfasicas de videojuegos m\\\\xe1s reconocibles pero nadie podr\\\\xeda pensar que tambi\\\\xe9n se podr\\\\xeda tocar con cuatro calculadoras.'\", '\\n')\n"
     ]
    }
   ],
   "source": [
    "# articles with very short text (useless)\n",
    "for idx, row in df[df['text'].str.len()<150].iterrows():\n",
    "    print(idx, \"\\t\", repr(row['text']), \"\\n\")"
   ]
  },
  {
   "cell_type": "markdown",
   "metadata": {},
   "source": [
    "### Creating new features\n",
    "\n",
    "* section\n",
    "* datepart\n",
    "* day of week\n",
    "* newspaper"
   ]
  },
  {
   "cell_type": "code",
   "execution_count": 69,
   "metadata": {
    "collapsed": true
   },
   "outputs": [],
   "source": [
    "# newspaper\n",
    "df['newspaper'] = 'elconfidencial'"
   ]
  },
  {
   "cell_type": "code",
   "execution_count": 70,
   "metadata": {
    "collapsed": true
   },
   "outputs": [],
   "source": [
    "# create seccion field from url\n",
    "df['section'] = df['url'].apply(lambda x: x.split('/')[3])"
   ]
  },
  {
   "cell_type": "code",
   "execution_count": 71,
   "metadata": {},
   "outputs": [
    {
     "data": {
      "text/html": [
       "<div>\n",
       "<style>\n",
       "    .dataframe thead tr:only-child th {\n",
       "        text-align: right;\n",
       "    }\n",
       "\n",
       "    .dataframe thead th {\n",
       "        text-align: left;\n",
       "    }\n",
       "\n",
       "    .dataframe tbody tr th {\n",
       "        vertical-align: top;\n",
       "    }\n",
       "</style>\n",
       "<table border=\"1\" class=\"dataframe\">\n",
       "  <thead>\n",
       "    <tr style=\"text-align: right;\">\n",
       "      <th></th>\n",
       "      <th>section</th>\n",
       "      <th>count</th>\n",
       "    </tr>\n",
       "  </thead>\n",
       "  <tbody>\n",
       "    <tr>\n",
       "      <th>0</th>\n",
       "      <td>espana</td>\n",
       "      <td>369</td>\n",
       "    </tr>\n",
       "    <tr>\n",
       "      <th>1</th>\n",
       "      <td>multimedia</td>\n",
       "      <td>263</td>\n",
       "    </tr>\n",
       "    <tr>\n",
       "      <th>2</th>\n",
       "      <td>deportes</td>\n",
       "      <td>188</td>\n",
       "    </tr>\n",
       "    <tr>\n",
       "      <th>3</th>\n",
       "      <td>alma-corazon-vida</td>\n",
       "      <td>126</td>\n",
       "    </tr>\n",
       "    <tr>\n",
       "      <th>4</th>\n",
       "      <td>empresas</td>\n",
       "      <td>107</td>\n",
       "    </tr>\n",
       "    <tr>\n",
       "      <th>5</th>\n",
       "      <td>tecnologia</td>\n",
       "      <td>97</td>\n",
       "    </tr>\n",
       "    <tr>\n",
       "      <th>6</th>\n",
       "      <td>mundo</td>\n",
       "      <td>87</td>\n",
       "    </tr>\n",
       "    <tr>\n",
       "      <th>7</th>\n",
       "      <td>cultura</td>\n",
       "      <td>76</td>\n",
       "    </tr>\n",
       "    <tr>\n",
       "      <th>8</th>\n",
       "      <td>economia</td>\n",
       "      <td>69</td>\n",
       "    </tr>\n",
       "    <tr>\n",
       "      <th>9</th>\n",
       "      <td>mercados</td>\n",
       "      <td>66</td>\n",
       "    </tr>\n",
       "  </tbody>\n",
       "</table>\n",
       "</div>"
      ],
      "text/plain": [
       "             section  count\n",
       "0             espana    369\n",
       "1         multimedia    263\n",
       "2           deportes    188\n",
       "3  alma-corazon-vida    126\n",
       "4           empresas    107\n",
       "5         tecnologia     97\n",
       "6              mundo     87\n",
       "7            cultura     76\n",
       "8           economia     69\n",
       "9           mercados     66"
      ]
     },
     "execution_count": 71,
     "metadata": {},
     "output_type": "execute_result"
    }
   ],
   "source": [
    "df.groupby('section').size().sort_values(0, ascending=False).reset_index().rename(columns={0:'count'}).head(10)"
   ]
  },
  {
   "cell_type": "code",
   "execution_count": 72,
   "metadata": {
    "collapsed": true
   },
   "outputs": [],
   "source": [
    "# split the publish date to date and time and remove time because it is not changing\n",
    "df['date'], df['time'] = df.publish_date.str.split(' ').str\n",
    "df.drop(['time'], axis=1, inplace=True)"
   ]
  },
  {
   "cell_type": "code",
   "execution_count": 73,
   "metadata": {},
   "outputs": [
    {
     "data": {
      "text/html": [
       "<div>\n",
       "<style>\n",
       "    .dataframe thead tr:only-child th {\n",
       "        text-align: right;\n",
       "    }\n",
       "\n",
       "    .dataframe thead th {\n",
       "        text-align: left;\n",
       "    }\n",
       "\n",
       "    .dataframe tbody tr th {\n",
       "        vertical-align: top;\n",
       "    }\n",
       "</style>\n",
       "<table border=\"1\" class=\"dataframe\">\n",
       "  <thead>\n",
       "    <tr style=\"text-align: right;\">\n",
       "      <th></th>\n",
       "      <th>authors</th>\n",
       "      <th>keywords</th>\n",
       "      <th>publish_date</th>\n",
       "      <th>summary</th>\n",
       "      <th>text</th>\n",
       "      <th>title</th>\n",
       "      <th>top_image</th>\n",
       "      <th>url</th>\n",
       "      <th>newspaper</th>\n",
       "      <th>section</th>\n",
       "      <th>date</th>\n",
       "      <th>day_of_week</th>\n",
       "    </tr>\n",
       "  </thead>\n",
       "  <tbody>\n",
       "    <tr>\n",
       "      <th>0</th>\n",
       "      <td>[Rafael, Fotografía, Enrique Villarino, Eduard...</td>\n",
       "      <td>[la, en, noticias, supremo, el, que, una, paga...</td>\n",
       "      <td>2017-06-19 00:00:00</td>\n",
       "      <td>Sostienen que el mismo dinero que les sirvió p...</td>\n",
       "      <td>Jaime Botín, patrón de Bankinter y procesado p...</td>\n",
       "      <td>Lista Falciani: Jaime Botín e hijos reclaman e...</td>\n",
       "      <td>https://www.ecestaticos.com/imagestatic/clippi...</td>\n",
       "      <td>https://www.elconfidencial.com/empresas/2017-0...</td>\n",
       "      <td>elconfidencial</td>\n",
       "      <td>empresas</td>\n",
       "      <td>2017-06-19</td>\n",
       "      <td>Monday</td>\n",
       "    </tr>\n",
       "    <tr>\n",
       "      <th>1</th>\n",
       "      <td>[Eduardo Segovia, Agustín Marco, E. Segovia, C...</td>\n",
       "      <td>[del, vender, el, reprocha, que, una, se, plan...</td>\n",
       "      <td>2017-06-05 00:00:00</td>\n",
       "      <td>Uno de sus componentes, molesto con la actual ...</td>\n",
       "      <td>\"Enfado monumental\". Así califican varios miem...</td>\n",
       "      <td>Noticias del Banco Popular: El consejo del Ban...</td>\n",
       "      <td>https://www.ecestaticos.com/imagestatic/clippi...</td>\n",
       "      <td>https://www.elconfidencial.com/empresas/2017-0...</td>\n",
       "      <td>elconfidencial</td>\n",
       "      <td>empresas</td>\n",
       "      <td>2017-06-05</td>\n",
       "      <td>Monday</td>\n",
       "    </tr>\n",
       "    <tr>\n",
       "      <th>2</th>\n",
       "      <td>[Isabel Morillo, Juanma Romero, Contacta Al Au...</td>\n",
       "      <td>[del, el, que, segunda, va, sánchez, su, por, ...</td>\n",
       "      <td>2017-06-19 00:00:00</td>\n",
       "      <td>El día después de la batalla no habrá tregua e...</td>\n",
       "      <td>El día después de la batalla no habrá tregua e...</td>\n",
       "      <td>39° Congreso Federal del PSOE: El PSOE afronta...</td>\n",
       "      <td>https://www.ecestaticos.com/imagestatic/clippi...</td>\n",
       "      <td>https://www.elconfidencial.com/espana/2017-06-...</td>\n",
       "      <td>elconfidencial</td>\n",
       "      <td>espana</td>\n",
       "      <td>2017-06-19</td>\n",
       "      <td>Monday</td>\n",
       "    </tr>\n",
       "    <tr>\n",
       "      <th>3</th>\n",
       "      <td>[Isabel Morillo, Juanma Romero, Contacta Al Au...</td>\n",
       "      <td>[las, del, federal, reabre, el, que, se, más, ...</td>\n",
       "      <td>2017-06-18 00:00:00</td>\n",
       "      <td>Fue la última en entrevistarse con Pedro Sánch...</td>\n",
       "      <td>La jornada acabó mal. Pasadas las once de la n...</td>\n",
       "      <td>39° Congreso Federal del PSOE: El pulso de Ped...</td>\n",
       "      <td>https://www.ecestaticos.com/imagestatic/clippi...</td>\n",
       "      <td>https://www.elconfidencial.com/espana/2017-06-...</td>\n",
       "      <td>elconfidencial</td>\n",
       "      <td>espana</td>\n",
       "      <td>2017-06-18</td>\n",
       "      <td>Sunday</td>\n",
       "    </tr>\n",
       "    <tr>\n",
       "      <th>4</th>\n",
       "      <td>[Juanma Romero, Isabel Morillo, Contacta Al Au...</td>\n",
       "      <td>[pronto, del, las, mandato, el, que, una, misi...</td>\n",
       "      <td>2017-06-19 00:00:00</td>\n",
       "      <td>Que hiciera el equipo que quisiera, que sacara...</td>\n",
       "      <td>El reinado de Pedro Sánchez ya ha comenzado. E...</td>\n",
       "      <td>39° Congreso Federal del PSOE: Sánchez arranca...</td>\n",
       "      <td>https://www.ecestaticos.com/imagestatic/clippi...</td>\n",
       "      <td>https://www.elconfidencial.com/espana/2017-06-...</td>\n",
       "      <td>elconfidencial</td>\n",
       "      <td>espana</td>\n",
       "      <td>2017-06-19</td>\n",
       "      <td>Monday</td>\n",
       "    </tr>\n",
       "  </tbody>\n",
       "</table>\n",
       "</div>"
      ],
      "text/plain": [
       "                                             authors  \\\n",
       "0  [Rafael, Fotografía, Enrique Villarino, Eduard...   \n",
       "1  [Eduardo Segovia, Agustín Marco, E. Segovia, C...   \n",
       "2  [Isabel Morillo, Juanma Romero, Contacta Al Au...   \n",
       "3  [Isabel Morillo, Juanma Romero, Contacta Al Au...   \n",
       "4  [Juanma Romero, Isabel Morillo, Contacta Al Au...   \n",
       "\n",
       "                                            keywords         publish_date  \\\n",
       "0  [la, en, noticias, supremo, el, que, una, paga...  2017-06-19 00:00:00   \n",
       "1  [del, vender, el, reprocha, que, una, se, plan...  2017-06-05 00:00:00   \n",
       "2  [del, el, que, segunda, va, sánchez, su, por, ...  2017-06-19 00:00:00   \n",
       "3  [las, del, federal, reabre, el, que, se, más, ...  2017-06-18 00:00:00   \n",
       "4  [pronto, del, las, mandato, el, que, una, misi...  2017-06-19 00:00:00   \n",
       "\n",
       "                                             summary  \\\n",
       "0  Sostienen que el mismo dinero que les sirvió p...   \n",
       "1  Uno de sus componentes, molesto con la actual ...   \n",
       "2  El día después de la batalla no habrá tregua e...   \n",
       "3  Fue la última en entrevistarse con Pedro Sánch...   \n",
       "4  Que hiciera el equipo que quisiera, que sacara...   \n",
       "\n",
       "                                                text  \\\n",
       "0  Jaime Botín, patrón de Bankinter y procesado p...   \n",
       "1  \"Enfado monumental\". Así califican varios miem...   \n",
       "2  El día después de la batalla no habrá tregua e...   \n",
       "3  La jornada acabó mal. Pasadas las once de la n...   \n",
       "4  El reinado de Pedro Sánchez ya ha comenzado. E...   \n",
       "\n",
       "                                               title  \\\n",
       "0  Lista Falciani: Jaime Botín e hijos reclaman e...   \n",
       "1  Noticias del Banco Popular: El consejo del Ban...   \n",
       "2  39° Congreso Federal del PSOE: El PSOE afronta...   \n",
       "3  39° Congreso Federal del PSOE: El pulso de Ped...   \n",
       "4  39° Congreso Federal del PSOE: Sánchez arranca...   \n",
       "\n",
       "                                           top_image  \\\n",
       "0  https://www.ecestaticos.com/imagestatic/clippi...   \n",
       "1  https://www.ecestaticos.com/imagestatic/clippi...   \n",
       "2  https://www.ecestaticos.com/imagestatic/clippi...   \n",
       "3  https://www.ecestaticos.com/imagestatic/clippi...   \n",
       "4  https://www.ecestaticos.com/imagestatic/clippi...   \n",
       "\n",
       "                                                 url       newspaper  \\\n",
       "0  https://www.elconfidencial.com/empresas/2017-0...  elconfidencial   \n",
       "1  https://www.elconfidencial.com/empresas/2017-0...  elconfidencial   \n",
       "2  https://www.elconfidencial.com/espana/2017-06-...  elconfidencial   \n",
       "3  https://www.elconfidencial.com/espana/2017-06-...  elconfidencial   \n",
       "4  https://www.elconfidencial.com/espana/2017-06-...  elconfidencial   \n",
       "\n",
       "    section       date day_of_week  \n",
       "0  empresas 2017-06-19      Monday  \n",
       "1  empresas 2017-06-05      Monday  \n",
       "2    espana 2017-06-19      Monday  \n",
       "3    espana 2017-06-18      Sunday  \n",
       "4    espana 2017-06-19      Monday  "
      ]
     },
     "execution_count": 73,
     "metadata": {},
     "output_type": "execute_result"
    }
   ],
   "source": [
    "# convert date columns to datetime and create day_of_week column\n",
    "df['date'] = pd.to_datetime(df['date'])\n",
    "df['day_of_week'] = df['date'].dt.weekday_name\n",
    "df.head(5)"
   ]
  },
  {
   "cell_type": "code",
   "execution_count": 74,
   "metadata": {
    "collapsed": true
   },
   "outputs": [],
   "source": [
    "# drop unnecessary columns\n",
    "df.drop(['top_image', 'publish_date'], axis=1, inplace=True)"
   ]
  },
  {
   "cell_type": "markdown",
   "metadata": {},
   "source": [
    "### Dump to JSON"
   ]
  },
  {
   "cell_type": "code",
   "execution_count": 75,
   "metadata": {
    "collapsed": true
   },
   "outputs": [],
   "source": [
    "# df.to_json('./articles_clean_elconfidencial.json')"
   ]
  },
  {
   "cell_type": "code",
   "execution_count": 76,
   "metadata": {
    "scrolled": false
   },
   "outputs": [
    {
     "name": "stdout",
     "output_type": "stream",
     "text": [
      "{   u'authors': [   u'Eduardo Segovia',\n",
      "                    u'Agust\\xedn Marco',\n",
      "                    u'E. Segovia',\n",
      "                    u'Contacta Al Autor'],\n",
      "    'date': Timestamp('2017-06-05 00:00:00'),\n",
      "    'day_of_week': 'Monday',\n",
      "    u'keywords': [   u'del',\n",
      "                     u'vender',\n",
      "                     u'el',\n",
      "                     u'reprocha',\n",
      "                     u'que',\n",
      "                     u'una',\n",
      "                     u'se',\n",
      "                     u'plan',\n",
      "                     u'saracho',\n",
      "                     u'su',\n",
      "                     u'para',\n",
      "                     u'banco',\n",
      "                     u'los',\n",
      "                     u'y',\n",
      "                     u'en',\n",
      "                     u'popular',\n",
      "                     u'la'],\n",
      "    'newspaper': 'elconfidencial',\n",
      "    'section': u'empresas',\n",
      "    u'summary': u'Uno de sus componentes, molesto con la actual situaci\\xf3n, espet\\xf3 durante la reuni\\xf3n del mi\\xe9rcoles pasado que \"para esto, nos qued\\xe1bamos con \\xc1ngel Ron\".\\nEl riesgo de demandas pincha las ofertas por el Popular y lo expone a la resoluci\\xf3n Eduardo Segovia El tiempo se agota para el Popular.\\nEn su opini\\xf3n, el gran error de Saracho fue anunciar en la junta de accionistas de abril que o hac\\xeda una ampliaci\\xf3n, o ten\\xeda que vender el banco.\\nSus defensores argumentan que Saracho no es un experto en banca comercial, sino corporativa, y que no era consciente de la dimensi\\xf3n del problema del Popular.\\nEl resumen de estas cr\\xedticas es la frase que espetaron a Saracho el mi\\xe9rcoles: \"Para esto, nos hab\\xedamos quedado con Ron\".',\n",
      "    u'text': u'\"Enfado monumental\". As\\xed califican varios miembros del consejo de administraci\\xf3n del Banco Popular la actitud de la pr\\xe1ctica totalidad del \\xf3rgano de gobierno hacia su presidente, Emilio Saracho, al que culpan de llevar a la entidad a la situaci\\xf3n compleja en que se encuentra: en riesgo de resoluci\\xf3n si no aparece un \\'mirlo blanco\\' que la compre a \\xfaltima hora. Uno de sus componentes, molesto con la actual situaci\\xf3n, espet\\xf3 durante la reuni\\xf3n del mi\\xe9rcoles pasado que \"para esto, nos qued\\xe1bamos con \\xc1ngel Ron\". Este descontento ha dado su primera muestra visible con la dimisi\\xf3n este lunes del representante de Cr\\xe9dit Mutuel como miembro del consejo.\\n\\nEl riesgo de demandas pincha las ofertas por el Popular y lo expone a la resoluci\\xf3n Eduardo Segovia El tiempo se agota para el Popular. Tras el desplome en bolsa y ante la alta probabilidad de que la subasta se quede desierta, los supervisores contemplan ya la resoluci\\xf3n del banco\\n\\nEl consejo del 31 de mayo fue el m\\xe1s tenso que se recuerda en el Popular, seg\\xfan fuentes cercanas al \\xf3rgano. Casi todos los representantes de los principales accionistas \\u2014la sindicatura de las familias hist\\xf3ricas, el grupo mexicano Del Valle, Allianz y Cr\\xe9dit Mutuel\\u2014 dirigieron gruesas palabras al presidente, a quien reprobaron su plan para encontrar una soluci\\xf3n que devuelva alg\\xfan valor a los inversores y su poco acierto por preservar el \\'banco bueno\\', la parte comercial con negocio de pymes (la joya de la corona), al extenderse la desconfianza sobre toda la entidad.\\n\\nRespecto al primer punto, los consejeros m\\xe1s cr\\xedticos recordaron al presidente que lo ficharon por su \\'expertise\\' y prestigio en banca de inversi\\xf3n (JP Morgan), con la misi\\xf3n de buscar una soluci\\xf3n que les permitiera recuperar algo de su inversi\\xf3n; los Del Valle, por ejemplo, se conformaban con llegar el precio de la ampliaci\\xf3n de hace un a\\xf1o (1,25 euros) seg\\xfan otras fuentes. Sin embargo, Saracho no ha podido encontrar alguna factible m\\xe1s all\\xe1 de realizar otra macroampliaci\\xf3n de capital, propuesta a la que todo el consejo se opuso: \"Para eso no hac\\xeda falta fichar a nadie; ampliar capital lo sabemos hacer nosotros solitos, era la soluci\\xf3n f\\xe1cil, pero nadie la quer\\xeda porque supon\\xeda nuevas p\\xe9rdidas ya irrecuperables\".\\n\\n\\xc1ngel Ron (d), junto al accionista mexicano del Popular, Antonio del Valle. (EFE)\\n\\n\"Lo \\xfanico que ha puesto en marcha como alternativa es un proceso de venta atropellado, a la desesperada, en una posici\\xf3n de clara debilidad y sin dar tiempo para que los compradores examinen el banco; peor a\\xfan, sin darles informaci\\xf3n fiable, al admitir p\\xfablicamente que no sabe cu\\xe1l es el valor de los activos inmobiliarios\", a\\xf1aden estas fuentes. \"En esas condiciones, habr\\xeda sido un milagro que alguien hiciera una oferta a un precio m\\xednimamente aceptable\".\\n\\nEl valor de la franquicia\\n\\nPero lo peor, a juicio de los cr\\xedticos del consejo, no es eso, sino que con este proceso ha conseguido sembrar una desconfianza total en la clientela del banco y, con ello, afectar a la banca comercial, la parte m\\xe1s valiosa del Popular. En su opini\\xf3n, el gran error de Saracho fue anunciar en la junta de accionistas de abril que o hac\\xeda una ampliaci\\xf3n, o ten\\xeda que vender el banco. \"Cuando un presidente dice eso, es que la suerte est\\xe1 echada y al banco le quedan pocas opciones a su alcance\", sostiene un prestigioso gestor de fondos espa\\xf1ol.\\n\\nEsta desconfianza ha afectado a la tendencia existente de retirada de dep\\xf3sitos, pese a los esfuerzos del banco para retener a los clientes, a la actividad crediticia y a la desmoralizaci\\xf3n de la plantilla. El escenario ideal que maneja la red es que el comprador planteara un ERE con mejores condiciones que las ofrecidas por el Popular el a\\xf1o pasado, las peores de todos los procesos de reducci\\xf3n de capacidad del sector. Todo ello, al final, lastra el valor del \\'banco bueno\\', lo que dificultaba todav\\xeda m\\xe1s la venta: \"Si no sabes cu\\xe1nto es lo malo y lo bueno cada vez vale menos, nadie se va a arriesgar a hacer una oferta\", sentencia otra de las fuentes consultadas.\\n\\nLa sombra de Ron\\n\\nVista de una sucursal del Banco Popular. (EFE)\\n\\nA esta dificultad de Saracho para encontrar una soluci\\xf3n se suman sus elevados emolumentos: una prima de fichaje de cuatro millones que, con todos los conceptos, puede reportarle cerca de seis millones este a\\xf1o. \"No se sabe muy bien qu\\xe9 ha estado haciendo desde que tom\\xf3 posesi\\xf3n en febrero, o mejor, desde que lo nombraron en diciembre. No ha puesto en marcha ninguna operaci\\xf3n para sanear el ladrillo, solo ha vendido los activos m\\xe1s peque\\xf1os y f\\xe1ciles de colocar, no ha sido capaz de negociar con nadie una venta aceptable (que es para lo que se supone que vale), ni de estimar cu\\xe1l es la verdadera situaci\\xf3n del banco, ni siquiera de mantener el negocio que exist\\xeda cuando \\xe9l lleg\\xf3\", seg\\xfan los consejeros m\\xe1s cr\\xedticos.\\n\\nA lo cual se suma una pol\\xedtica de comunicaci\\xf3n incomprensible para muchos, basada en constantes desmentidos que, en realidad, no desmienten las informaciones de prensa, sin ning\\xfan mensaje proactivo de tranquilidad ni de confianza. Sus defensores argumentan que Saracho no es un experto en banca comercial, sino corporativa, y que no era consciente de la dimensi\\xf3n del problema del Popular. Pero tampoco ha sido capaz de demostrar esa \\'expertise\\'. El resumen de estas cr\\xedticas es la frase que espetaron a Saracho el mi\\xe9rcoles: \"Para esto, nos hab\\xedamos quedado con Ron\". Una bofetada donde m\\xe1s duele.',\n",
      "    u'title': u'Noticias del Banco Popular: El consejo del Banco Popular reprocha a Saracho su plan para vender el banco',\n",
      "    u'url': u'https://www.elconfidencial.com/empresas/2017-06-05/banco-popular-consejo-saracho-ron-resolucion_1393131/'}\n"
     ]
    }
   ],
   "source": [
    "pp.pprint(dict(df.loc[1]))"
   ]
  }
 ],
 "metadata": {
  "kernelspec": {
   "display_name": "Python 2",
   "language": "python",
   "name": "python2"
  },
  "language_info": {
   "codemirror_mode": {
    "name": "ipython",
    "version": 2
   },
   "file_extension": ".py",
   "mimetype": "text/x-python",
   "name": "python",
   "nbconvert_exporter": "python",
   "pygments_lexer": "ipython2",
   "version": "2.7.9"
  }
 },
 "nbformat": 4,
 "nbformat_minor": 2
}
