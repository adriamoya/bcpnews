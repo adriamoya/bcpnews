{
 "cells": [
  {
   "cell_type": "markdown",
   "metadata": {},
   "source": [
    "# Concatenating data"
   ]
  },
  {
   "cell_type": "code",
   "execution_count": 1,
   "metadata": {
    "collapsed": true
   },
   "outputs": [],
   "source": [
    "import re\n",
    "import json\n",
    "import pprint\n",
    "import datetime\n",
    "import pandas as pd\n",
    "\n",
    "pp = pprint.PrettyPrinter(indent=4)"
   ]
  },
  {
   "cell_type": "code",
   "execution_count": 2,
   "metadata": {},
   "outputs": [
    {
     "name": "stdout",
     "output_type": "stream",
     "text": [
      "df_emails (1): 5,146\n",
      "df_newspapers (0): 15,780\n"
     ]
    }
   ],
   "source": [
    "ds_emails = []\n",
    "with open('../articles_email.json') as input_file:\n",
    "    for line in input_file:\n",
    "        ds_emails.append(json.loads(line))\n",
    "        \n",
    "df_emails = pd.DataFrame(ds_emails)\n",
    "\n",
    "ds_newspapers = []\n",
    "\n",
    "with open('../articles_expansion_hemeroteca.json') as input_file:\n",
    "    for line in input_file:\n",
    "        ds_newspapers.append(json.loads(line))\n",
    "        \n",
    "with open('../articles_cincodias.json') as input_file:\n",
    "    for line in input_file:\n",
    "        ds_newspapers.append(json.loads(line))\n",
    "        \n",
    "with open('../articles_elconfidencial.json') as input_file:\n",
    "    for line in input_file:\n",
    "        ds_newspapers.append(json.loads(line))\n",
    "        \n",
    "df_newspapers = pd.DataFrame(ds_newspapers)\n",
    "\n",
    "print \"df_emails (1): {:,}\".format(df_emails.shape[0])\n",
    "print \"df_newspapers (0): {:,}\".format(df_newspapers.shape[0])"
   ]
  },
  {
   "cell_type": "code",
   "execution_count": 3,
   "metadata": {
    "collapsed": true
   },
   "outputs": [],
   "source": [
    "df_emails['flag'] = 1\n",
    "df_newspapers['flag'] = 0"
   ]
  },
  {
   "cell_type": "code",
   "execution_count": 5,
   "metadata": {},
   "outputs": [
    {
     "name": "stdout",
     "output_type": "stream",
     "text": [
      "df_emails (1): 4,955\n",
      "df_newspapers (0): 15,768\n"
     ]
    }
   ],
   "source": [
    "df_emails.drop_duplicates(subset='url', keep='first', inplace=True)\n",
    "df_newspapers.drop_duplicates(subset='url', keep='first', inplace=True)\n",
    "\n",
    "print \"df_emails (1): {:,}\".format(df_emails.shape[0])\n",
    "print \"df_newspapers (0): {:,}\".format(df_newspapers.shape[0])"
   ]
  },
  {
   "cell_type": "code",
   "execution_count": 8,
   "metadata": {
    "collapsed": true
   },
   "outputs": [],
   "source": [
    "frames = [df_emails, df_newspapers]\n",
    "df = pd.concat(frames, axis=0, join='outer', join_axes=None, ignore_index=True)"
   ]
  },
  {
   "cell_type": "code",
   "execution_count": 9,
   "metadata": {},
   "outputs": [
    {
     "name": "stdout",
     "output_type": "stream",
     "text": [
      "Current number of articles: 20,723\n",
      "Number of flags = 1 (4,955)\n",
      "Number of flags = 0 (15,768)\n"
     ]
    }
   ],
   "source": [
    "print(\"Current number of articles: {:,}\".format(df.shape[0]))\n",
    "print(\"Number of flags = 1 ({:,})\".format(df[df['flag']==1]['flag'].count()))\n",
    "print(\"Number of flags = 0 ({:,})\".format(df[df['flag']==0]['flag'].count()))"
   ]
  },
  {
   "cell_type": "markdown",
   "metadata": {},
   "source": [
    "# Cleaning"
   ]
  },
  {
   "cell_type": "markdown",
   "metadata": {},
   "source": [
    "### Articles duplicated by url"
   ]
  },
  {
   "cell_type": "code",
   "execution_count": 10,
   "metadata": {
    "collapsed": true
   },
   "outputs": [],
   "source": [
    "# removing duplicates\n",
    "df.drop_duplicates(subset='url', keep='first', inplace=True)"
   ]
  },
  {
   "cell_type": "code",
   "execution_count": 11,
   "metadata": {},
   "outputs": [
    {
     "name": "stdout",
     "output_type": "stream",
     "text": [
      "Current number of articles: 20,337\n",
      "Number of flags = 1 (4,955)\n",
      "Number of flags = 0 (15,382)\n"
     ]
    }
   ],
   "source": [
    "print(\"Current number of articles: {:,}\".format(df.shape[0]))\n",
    "print(\"Number of flags = 1 ({:,})\".format(df[df['flag']==1]['flag'].count()))\n",
    "print(\"Number of flags = 0 ({:,})\".format(df[df['flag']==0]['flag'].count()))"
   ]
  },
  {
   "cell_type": "code",
   "execution_count": 16,
   "metadata": {},
   "outputs": [
    {
     "data": {
      "text/html": [
       "<div>\n",
       "<style>\n",
       "    .dataframe thead tr:only-child th {\n",
       "        text-align: right;\n",
       "    }\n",
       "\n",
       "    .dataframe thead th {\n",
       "        text-align: left;\n",
       "    }\n",
       "\n",
       "    .dataframe tbody tr th {\n",
       "        vertical-align: top;\n",
       "    }\n",
       "</style>\n",
       "<table border=\"1\" class=\"dataframe\">\n",
       "  <thead>\n",
       "    <tr style=\"text-align: right;\">\n",
       "      <th></th>\n",
       "      <th>text</th>\n",
       "      <th>flag</th>\n",
       "      <th>count</th>\n",
       "    </tr>\n",
       "  </thead>\n",
       "  <tbody>\n",
       "    <tr>\n",
       "      <th>0</th>\n",
       "      <td>Para comentar o valorar, por favor inicie sesi...</td>\n",
       "      <td>0</td>\n",
       "      <td>87</td>\n",
       "    </tr>\n",
       "    <tr>\n",
       "      <th>1</th>\n",
       "      <td>Para comentar o valorar, por favor inicie sesi...</td>\n",
       "      <td>0</td>\n",
       "      <td>58</td>\n",
       "    </tr>\n",
       "    <tr>\n",
       "      <th>2</th>\n",
       "      <td></td>\n",
       "      <td>0</td>\n",
       "      <td>49</td>\n",
       "    </tr>\n",
       "    <tr>\n",
       "      <th>3</th>\n",
       "      <td>You have requested on-line access to a Sanford...</td>\n",
       "      <td>1</td>\n",
       "      <td>42</td>\n",
       "    </tr>\n",
       "    <tr>\n",
       "      <th>4</th>\n",
       "      <td>How Can We Help?\\n\\nIf you'd like to learn mor...</td>\n",
       "      <td>1</td>\n",
       "      <td>36</td>\n",
       "    </tr>\n",
       "    <tr>\n",
       "      <th>5</th>\n",
       "      <td>¿No estás registrado? Crea tu cuenta\\n\\nEntra ...</td>\n",
       "      <td>0</td>\n",
       "      <td>26</td>\n",
       "    </tr>\n",
       "    <tr>\n",
       "      <th>6</th>\n",
       "      <td></td>\n",
       "      <td>1</td>\n",
       "      <td>23</td>\n",
       "    </tr>\n",
       "    <tr>\n",
       "      <th>7</th>\n",
       "      <td>BIOGRAFÍA\\n\\nTrader, empezó su carrera profesi...</td>\n",
       "      <td>0</td>\n",
       "      <td>14</td>\n",
       "    </tr>\n",
       "    <tr>\n",
       "      <th>8</th>\n",
       "      <td>One account. All of Google. Sign in to continu...</td>\n",
       "      <td>1</td>\n",
       "      <td>9</td>\n",
       "    </tr>\n",
       "    <tr>\n",
       "      <th>9</th>\n",
       "      <td>La industria de los fondos de inversión en Esp...</td>\n",
       "      <td>0</td>\n",
       "      <td>3</td>\n",
       "    </tr>\n",
       "    <tr>\n",
       "      <th>10</th>\n",
       "      <td>Hablemos de democracia. Si quieren hablemos en...</td>\n",
       "      <td>0</td>\n",
       "      <td>2</td>\n",
       "    </tr>\n",
       "    <tr>\n",
       "      <th>11</th>\n",
       "      <td>Tres españoles están en el 'Top 10' de la list...</td>\n",
       "      <td>0</td>\n",
       "      <td>2</td>\n",
       "    </tr>\n",
       "    <tr>\n",
       "      <th>12</th>\n",
       "      <td>Hace unos días asistimos a dos momentos muy in...</td>\n",
       "      <td>0</td>\n",
       "      <td>2</td>\n",
       "    </tr>\n",
       "    <tr>\n",
       "      <th>13</th>\n",
       "      <td>IBEX: Una piedra en el camino en el momento má...</td>\n",
       "      <td>0</td>\n",
       "      <td>2</td>\n",
       "    </tr>\n",
       "    <tr>\n",
       "      <th>14</th>\n",
       "      <td>Vittorio Colao, el consejero delegado mundial ...</td>\n",
       "      <td>0</td>\n",
       "      <td>2</td>\n",
       "    </tr>\n",
       "    <tr>\n",
       "      <th>15</th>\n",
       "      <td>La madera ha jugado un papel determinante a la...</td>\n",
       "      <td>0</td>\n",
       "      <td>2</td>\n",
       "    </tr>\n",
       "    <tr>\n",
       "      <th>16</th>\n",
       "      <td>Bankia ha creado una plataforma digital gratui...</td>\n",
       "      <td>0</td>\n",
       "      <td>2</td>\n",
       "    </tr>\n",
       "    <tr>\n",
       "      <th>17</th>\n",
       "      <td>Más de 70 años después de la liberación del ca...</td>\n",
       "      <td>0</td>\n",
       "      <td>2</td>\n",
       "    </tr>\n",
       "    <tr>\n",
       "      <th>18</th>\n",
       "      <td>Claves para tener una contraseña perfecta\\n\\nE...</td>\n",
       "      <td>0</td>\n",
       "      <td>2</td>\n",
       "    </tr>\n",
       "    <tr>\n",
       "      <th>19</th>\n",
       "      <td>Llega800 garantizará la compatibilidad de la n...</td>\n",
       "      <td>0</td>\n",
       "      <td>2</td>\n",
       "    </tr>\n",
       "    <tr>\n",
       "      <th>20</th>\n",
       "      <td>Viviendas en las que podrá disfrutar de buen t...</td>\n",
       "      <td>0</td>\n",
       "      <td>2</td>\n",
       "    </tr>\n",
       "    <tr>\n",
       "      <th>21</th>\n",
       "      <td>La fachada principal del Tribunal Supremo. EFE...</td>\n",
       "      <td>1</td>\n",
       "      <td>2</td>\n",
       "    </tr>\n",
       "    <tr>\n",
       "      <th>22</th>\n",
       "      <td>La duración media de estos viajes ha sido de 3...</td>\n",
       "      <td>0</td>\n",
       "      <td>2</td>\n",
       "    </tr>\n",
       "    <tr>\n",
       "      <th>23</th>\n",
       "      <td>¿Televisión de pago en España a precios low co...</td>\n",
       "      <td>0</td>\n",
       "      <td>2</td>\n",
       "    </tr>\n",
       "    <tr>\n",
       "      <th>24</th>\n",
       "      <td>Los atentados terroristas perpetrados en capit...</td>\n",
       "      <td>0</td>\n",
       "      <td>2</td>\n",
       "    </tr>\n",
       "    <tr>\n",
       "      <th>25</th>\n",
       "      <td>El nuevo jefe de Popular, Emilio Saracho, debe...</td>\n",
       "      <td>1</td>\n",
       "      <td>2</td>\n",
       "    </tr>\n",
       "    <tr>\n",
       "      <th>26</th>\n",
       "      <td>Polar Seal, una prenda revolucionaria para los...</td>\n",
       "      <td>0</td>\n",
       "      <td>2</td>\n",
       "    </tr>\n",
       "    <tr>\n",
       "      <th>27</th>\n",
       "      <td>El euríbor a 12 meses, el indicador más utiliz...</td>\n",
       "      <td>0</td>\n",
       "      <td>2</td>\n",
       "    </tr>\n",
       "    <tr>\n",
       "      <th>28</th>\n",
       "      <td>El euro evita el varapalo inicial. Nada más co...</td>\n",
       "      <td>0</td>\n",
       "      <td>2</td>\n",
       "    </tr>\n",
       "    <tr>\n",
       "      <th>29</th>\n",
       "      <td>Un robot aspirador que, además, vigila tu casa...</td>\n",
       "      <td>0</td>\n",
       "      <td>2</td>\n",
       "    </tr>\n",
       "    <tr>\n",
       "      <th>...</th>\n",
       "      <td>...</td>\n",
       "      <td>...</td>\n",
       "      <td>...</td>\n",
       "    </tr>\n",
       "    <tr>\n",
       "      <th>19937</th>\n",
       "      <td>La plataforma de vídeo ha sufrido en las últim...</td>\n",
       "      <td>0</td>\n",
       "      <td>1</td>\n",
       "    </tr>\n",
       "    <tr>\n",
       "      <th>19938</th>\n",
       "      <td>La plataforma de vídeos presentó ayer en Españ...</td>\n",
       "      <td>0</td>\n",
       "      <td>1</td>\n",
       "    </tr>\n",
       "    <tr>\n",
       "      <th>19939</th>\n",
       "      <td>La plataforma digital BlaBlaCar ha registrado ...</td>\n",
       "      <td>0</td>\n",
       "      <td>1</td>\n",
       "    </tr>\n",
       "    <tr>\n",
       "      <th>19940</th>\n",
       "      <td>La plataforma digital de contenidos en \"stream...</td>\n",
       "      <td>0</td>\n",
       "      <td>1</td>\n",
       "    </tr>\n",
       "    <tr>\n",
       "      <th>19941</th>\n",
       "      <td>La plataforma online para buscar trabajo Corne...</td>\n",
       "      <td>0</td>\n",
       "      <td>1</td>\n",
       "    </tr>\n",
       "    <tr>\n",
       "      <th>19942</th>\n",
       "      <td>La plataforma online, que conecta a empresas c...</td>\n",
       "      <td>0</td>\n",
       "      <td>1</td>\n",
       "    </tr>\n",
       "    <tr>\n",
       "      <th>19943</th>\n",
       "      <td>La plataforma permite que pequeñas empresas ll...</td>\n",
       "      <td>0</td>\n",
       "      <td>1</td>\n",
       "    </tr>\n",
       "    <tr>\n",
       "      <th>19944</th>\n",
       "      <td>La plataforma, a la que han denominado Watch, ...</td>\n",
       "      <td>0</td>\n",
       "      <td>1</td>\n",
       "    </tr>\n",
       "    <tr>\n",
       "      <th>19945</th>\n",
       "      <td>La pleamar de Apple elevará menos los barcos d...</td>\n",
       "      <td>0</td>\n",
       "      <td>1</td>\n",
       "    </tr>\n",
       "    <tr>\n",
       "      <th>19946</th>\n",
       "      <td>La pobreza crece más en Cataluña\\n\\nPese a la ...</td>\n",
       "      <td>0</td>\n",
       "      <td>1</td>\n",
       "    </tr>\n",
       "    <tr>\n",
       "      <th>19947</th>\n",
       "      <td>La plataforma de liderazgo empresarial incluye...</td>\n",
       "      <td>0</td>\n",
       "      <td>1</td>\n",
       "    </tr>\n",
       "    <tr>\n",
       "      <th>19948</th>\n",
       "      <td>La plataforma de fondos de inversión Allfunds ...</td>\n",
       "      <td>1</td>\n",
       "      <td>1</td>\n",
       "    </tr>\n",
       "    <tr>\n",
       "      <th>19949</th>\n",
       "      <td>La petrolera obtuvo un beneficio de 373 millon...</td>\n",
       "      <td>0</td>\n",
       "      <td>1</td>\n",
       "    </tr>\n",
       "    <tr>\n",
       "      <th>19950</th>\n",
       "      <td>La plataforma de 'streaming' aumenta un euro e...</td>\n",
       "      <td>0</td>\n",
       "      <td>1</td>\n",
       "    </tr>\n",
       "    <tr>\n",
       "      <th>19951</th>\n",
       "      <td>La petrolera quiere desarrollar proyectos eóli...</td>\n",
       "      <td>0</td>\n",
       "      <td>1</td>\n",
       "    </tr>\n",
       "    <tr>\n",
       "      <th>19952</th>\n",
       "      <td>La petrolera realizará trabajos de mantenimien...</td>\n",
       "      <td>0</td>\n",
       "      <td>1</td>\n",
       "    </tr>\n",
       "    <tr>\n",
       "      <th>19953</th>\n",
       "      <td>La petrolera registró durante el pasado año un...</td>\n",
       "      <td>0</td>\n",
       "      <td>1</td>\n",
       "    </tr>\n",
       "    <tr>\n",
       "      <th>19954</th>\n",
       "      <td>La piedra filosofal del nuevo plan de negocio ...</td>\n",
       "      <td>1</td>\n",
       "      <td>1</td>\n",
       "    </tr>\n",
       "    <tr>\n",
       "      <th>19955</th>\n",
       "      <td>La pieza, de la joyería suiza GRISOGONO, salió...</td>\n",
       "      <td>0</td>\n",
       "      <td>1</td>\n",
       "    </tr>\n",
       "    <tr>\n",
       "      <th>19956</th>\n",
       "      <td>La pizza de jamón y queso sin gluten ni lactos...</td>\n",
       "      <td>0</td>\n",
       "      <td>1</td>\n",
       "    </tr>\n",
       "    <tr>\n",
       "      <th>19957</th>\n",
       "      <td>La planta de Nissan en Ávila pasará a producir...</td>\n",
       "      <td>0</td>\n",
       "      <td>1</td>\n",
       "    </tr>\n",
       "    <tr>\n",
       "      <th>19958</th>\n",
       "      <td>La planta de Opel en Figueruelas donará materi...</td>\n",
       "      <td>0</td>\n",
       "      <td>1</td>\n",
       "    </tr>\n",
       "    <tr>\n",
       "      <th>19959</th>\n",
       "      <td>La planta de PSA en Villaverde tiene más cerca...</td>\n",
       "      <td>0</td>\n",
       "      <td>1</td>\n",
       "    </tr>\n",
       "    <tr>\n",
       "      <th>19960</th>\n",
       "      <td>La planta de Picassent, en la que el grupo ha ...</td>\n",
       "      <td>0</td>\n",
       "      <td>1</td>\n",
       "    </tr>\n",
       "    <tr>\n",
       "      <th>19961</th>\n",
       "      <td>La planta, actualmente en fase de validación, ...</td>\n",
       "      <td>0</td>\n",
       "      <td>1</td>\n",
       "    </tr>\n",
       "    <tr>\n",
       "      <th>19962</th>\n",
       "      <td>La planta, situada cerca de Rabat, aspira a co...</td>\n",
       "      <td>0</td>\n",
       "      <td>1</td>\n",
       "    </tr>\n",
       "    <tr>\n",
       "      <th>19963</th>\n",
       "      <td>La plantilla del CD Leganés, celebrando su asc...</td>\n",
       "      <td>0</td>\n",
       "      <td>1</td>\n",
       "    </tr>\n",
       "    <tr>\n",
       "      <th>19964</th>\n",
       "      <td>La plataforma asume en exclusiva la gestión de...</td>\n",
       "      <td>1</td>\n",
       "      <td>1</td>\n",
       "    </tr>\n",
       "    <tr>\n",
       "      <th>19965</th>\n",
       "      <td>La plataforma de 'ecommerce' se dirige a tiend...</td>\n",
       "      <td>0</td>\n",
       "      <td>1</td>\n",
       "    </tr>\n",
       "    <tr>\n",
       "      <th>19966</th>\n",
       "      <td>Inmobiliaria Colonial fue creada en Barcelona ...</td>\n",
       "      <td>0</td>\n",
       "      <td>1</td>\n",
       "    </tr>\n",
       "  </tbody>\n",
       "</table>\n",
       "<p>19967 rows × 3 columns</p>\n",
       "</div>"
      ],
      "text/plain": [
       "                                                    text  flag  count\n",
       "0      Para comentar o valorar, por favor inicie sesi...     0     87\n",
       "1      Para comentar o valorar, por favor inicie sesi...     0     58\n",
       "2                                                            0     49\n",
       "3      You have requested on-line access to a Sanford...     1     42\n",
       "4      How Can We Help?\\n\\nIf you'd like to learn mor...     1     36\n",
       "5      ¿No estás registrado? Crea tu cuenta\\n\\nEntra ...     0     26\n",
       "6                                                            1     23\n",
       "7      BIOGRAFÍA\\n\\nTrader, empezó su carrera profesi...     0     14\n",
       "8      One account. All of Google. Sign in to continu...     1      9\n",
       "9      La industria de los fondos de inversión en Esp...     0      3\n",
       "10     Hablemos de democracia. Si quieren hablemos en...     0      2\n",
       "11     Tres españoles están en el 'Top 10' de la list...     0      2\n",
       "12     Hace unos días asistimos a dos momentos muy in...     0      2\n",
       "13     IBEX: Una piedra en el camino en el momento má...     0      2\n",
       "14     Vittorio Colao, el consejero delegado mundial ...     0      2\n",
       "15     La madera ha jugado un papel determinante a la...     0      2\n",
       "16     Bankia ha creado una plataforma digital gratui...     0      2\n",
       "17     Más de 70 años después de la liberación del ca...     0      2\n",
       "18     Claves para tener una contraseña perfecta\\n\\nE...     0      2\n",
       "19     Llega800 garantizará la compatibilidad de la n...     0      2\n",
       "20     Viviendas en las que podrá disfrutar de buen t...     0      2\n",
       "21     La fachada principal del Tribunal Supremo. EFE...     1      2\n",
       "22     La duración media de estos viajes ha sido de 3...     0      2\n",
       "23     ¿Televisión de pago en España a precios low co...     0      2\n",
       "24     Los atentados terroristas perpetrados en capit...     0      2\n",
       "25     El nuevo jefe de Popular, Emilio Saracho, debe...     1      2\n",
       "26     Polar Seal, una prenda revolucionaria para los...     0      2\n",
       "27     El euríbor a 12 meses, el indicador más utiliz...     0      2\n",
       "28     El euro evita el varapalo inicial. Nada más co...     0      2\n",
       "29     Un robot aspirador que, además, vigila tu casa...     0      2\n",
       "...                                                  ...   ...    ...\n",
       "19937  La plataforma de vídeo ha sufrido en las últim...     0      1\n",
       "19938  La plataforma de vídeos presentó ayer en Españ...     0      1\n",
       "19939  La plataforma digital BlaBlaCar ha registrado ...     0      1\n",
       "19940  La plataforma digital de contenidos en \"stream...     0      1\n",
       "19941  La plataforma online para buscar trabajo Corne...     0      1\n",
       "19942  La plataforma online, que conecta a empresas c...     0      1\n",
       "19943  La plataforma permite que pequeñas empresas ll...     0      1\n",
       "19944  La plataforma, a la que han denominado Watch, ...     0      1\n",
       "19945  La pleamar de Apple elevará menos los barcos d...     0      1\n",
       "19946  La pobreza crece más en Cataluña\\n\\nPese a la ...     0      1\n",
       "19947  La plataforma de liderazgo empresarial incluye...     0      1\n",
       "19948  La plataforma de fondos de inversión Allfunds ...     1      1\n",
       "19949  La petrolera obtuvo un beneficio de 373 millon...     0      1\n",
       "19950  La plataforma de 'streaming' aumenta un euro e...     0      1\n",
       "19951  La petrolera quiere desarrollar proyectos eóli...     0      1\n",
       "19952  La petrolera realizará trabajos de mantenimien...     0      1\n",
       "19953  La petrolera registró durante el pasado año un...     0      1\n",
       "19954  La piedra filosofal del nuevo plan de negocio ...     1      1\n",
       "19955  La pieza, de la joyería suiza GRISOGONO, salió...     0      1\n",
       "19956  La pizza de jamón y queso sin gluten ni lactos...     0      1\n",
       "19957  La planta de Nissan en Ávila pasará a producir...     0      1\n",
       "19958  La planta de Opel en Figueruelas donará materi...     0      1\n",
       "19959  La planta de PSA en Villaverde tiene más cerca...     0      1\n",
       "19960  La planta de Picassent, en la que el grupo ha ...     0      1\n",
       "19961  La planta, actualmente en fase de validación, ...     0      1\n",
       "19962  La planta, situada cerca de Rabat, aspira a co...     0      1\n",
       "19963  La plantilla del CD Leganés, celebrando su asc...     0      1\n",
       "19964  La plataforma asume en exclusiva la gestión de...     1      1\n",
       "19965  La plataforma de 'ecommerce' se dirige a tiend...     0      1\n",
       "19966  Inmobiliaria Colonial fue creada en Barcelona ...     0      1\n",
       "\n",
       "[19967 rows x 3 columns]"
      ]
     },
     "execution_count": 16,
     "metadata": {},
     "output_type": "execute_result"
    }
   ],
   "source": [
    "df.groupby(['text','flag']).size().sort_values(0,ascending=False).reset_index().rename(columns={0:\"count\"})"
   ]
  },
  {
   "cell_type": "markdown",
   "metadata": {},
   "source": [
    "### Article with short text"
   ]
  },
  {
   "cell_type": "code",
   "execution_count": 9,
   "metadata": {
    "collapsed": true
   },
   "outputs": [],
   "source": [
    "# remove articles with text shorter than 200 characters\n",
    "df = df.drop(df[df['text'].str.len()<200].index)"
   ]
  },
  {
   "cell_type": "code",
   "execution_count": 10,
   "metadata": {},
   "outputs": [
    {
     "name": "stdout",
     "output_type": "stream",
     "text": [
      "Current number of articles: 19,919\n",
      "Number of flags = 1 (4,880)\n",
      "Number of flags = 0 (15,039)\n"
     ]
    }
   ],
   "source": [
    "print(\"Current number of articles: {:,}\".format(df.shape[0]))\n",
    "print(\"Number of flags = 1 ({:,})\".format(df[df['flag']==1]['flag'].count()))\n",
    "print(\"Number of flags = 0 ({:,})\".format(df[df['flag']==0]['flag'].count()))"
   ]
  },
  {
   "cell_type": "code",
   "execution_count": 11,
   "metadata": {
    "collapsed": true
   },
   "outputs": [],
   "source": [
    "# reset indexes\n",
    "df.reset_index(drop=True,inplace=True)"
   ]
  },
  {
   "cell_type": "markdown",
   "metadata": {},
   "source": [
    "### Text duplicates remove / relabelled to 0 "
   ]
  },
  {
   "cell_type": "code",
   "execution_count": 12,
   "metadata": {},
   "outputs": [
    {
     "data": {
      "text/html": [
       "<div>\n",
       "<style>\n",
       "    .dataframe thead tr:only-child th {\n",
       "        text-align: right;\n",
       "    }\n",
       "\n",
       "    .dataframe thead th {\n",
       "        text-align: left;\n",
       "    }\n",
       "\n",
       "    .dataframe tbody tr th {\n",
       "        vertical-align: top;\n",
       "    }\n",
       "</style>\n",
       "<table border=\"1\" class=\"dataframe\">\n",
       "  <thead>\n",
       "    <tr style=\"text-align: right;\">\n",
       "      <th></th>\n",
       "      <th>text</th>\n",
       "      <th>count</th>\n",
       "    </tr>\n",
       "  </thead>\n",
       "  <tbody>\n",
       "    <tr>\n",
       "      <th>0</th>\n",
       "      <td>You have requested on-line access to a Sanford...</td>\n",
       "      <td>42</td>\n",
       "    </tr>\n",
       "    <tr>\n",
       "      <th>1</th>\n",
       "      <td>BIOGRAFÍA\\n\\nTrader, empezó su carrera profesi...</td>\n",
       "      <td>14</td>\n",
       "    </tr>\n",
       "    <tr>\n",
       "      <th>2</th>\n",
       "      <td>La industria de los fondos de inversión en Esp...</td>\n",
       "      <td>3</td>\n",
       "    </tr>\n",
       "    <tr>\n",
       "      <th>3</th>\n",
       "      <td>La madera ha jugado un papel determinante a la...</td>\n",
       "      <td>2</td>\n",
       "    </tr>\n",
       "    <tr>\n",
       "      <th>4</th>\n",
       "      <td>Casi dos meses después de que entrara en vigor...</td>\n",
       "      <td>2</td>\n",
       "    </tr>\n",
       "    <tr>\n",
       "      <th>5</th>\n",
       "      <td>Global Actuarial\\n\\nLas entidades financieras ...</td>\n",
       "      <td>2</td>\n",
       "    </tr>\n",
       "    <tr>\n",
       "      <th>6</th>\n",
       "      <td>Sede del Monte dei Paschi en Siena Giampiero S...</td>\n",
       "      <td>2</td>\n",
       "    </tr>\n",
       "    <tr>\n",
       "      <th>7</th>\n",
       "      <td>Más de 70 años después de la liberación del ca...</td>\n",
       "      <td>2</td>\n",
       "    </tr>\n",
       "    <tr>\n",
       "      <th>8</th>\n",
       "      <td>Protesta de afectados por las claúsulas suelo,...</td>\n",
       "      <td>2</td>\n",
       "    </tr>\n",
       "    <tr>\n",
       "      <th>9</th>\n",
       "      <td>El presidente de la Confederación Española de ...</td>\n",
       "      <td>2</td>\n",
       "    </tr>\n",
       "  </tbody>\n",
       "</table>\n",
       "</div>"
      ],
      "text/plain": [
       "                                                text  count\n",
       "0  You have requested on-line access to a Sanford...     42\n",
       "1  BIOGRAFÍA\\n\\nTrader, empezó su carrera profesi...     14\n",
       "2  La industria de los fondos de inversión en Esp...      3\n",
       "3  La madera ha jugado un papel determinante a la...      2\n",
       "4  Casi dos meses después de que entrara en vigor...      2\n",
       "5  Global Actuarial\\n\\nLas entidades financieras ...      2\n",
       "6  Sede del Monte dei Paschi en Siena Giampiero S...      2\n",
       "7  Más de 70 años después de la liberación del ca...      2\n",
       "8  Protesta de afectados por las claúsulas suelo,...      2\n",
       "9  El presidente de la Confederación Española de ...      2"
      ]
     },
     "execution_count": 12,
     "metadata": {},
     "output_type": "execute_result"
    }
   ],
   "source": [
    "# text duplicates\n",
    "df_dups = df.groupby('text').size().sort_values(0,ascending=False).reset_index().rename(columns={0:\"count\"})\n",
    "df_dups.head(10)"
   ]
  },
  {
   "cell_type": "markdown",
   "metadata": {},
   "source": [
    "#### Text 0"
   ]
  },
  {
   "cell_type": "code",
   "execution_count": 13,
   "metadata": {},
   "outputs": [
    {
     "name": "stdout",
     "output_type": "stream",
     "text": [
      "Text 0:\n",
      "\n",
      "(u'You have requested on-line access to a Sanford C. Bernstein report. On-line access to these reports is available only to clients of Sanford C. Bernstein & Co., LLC, Sanford C. Bernstein Limited, or Sanford C. Bernstein (Hong Kong) Limited (together, \"Bernstein\"). For your convenience, an additional logon id and password is not required. Simply confirm the e-mail address by which you are known to us for verification. By submitting information below, you accept the Terms of Use.\\n\\nPlease enter your email to verify access:', '...')\n"
     ]
    }
   ],
   "source": [
    "# text 0: You have requested on-line access to a Sanford...\n",
    "print(\"Text 0:\\n\")\n",
    "print(df_dups.loc[0]['text'],\"...\")"
   ]
  },
  {
   "cell_type": "code",
   "execution_count": 14,
   "metadata": {},
   "outputs": [
    {
     "name": "stdout",
     "output_type": "stream",
     "text": [
      "Number of dropped articles: 42\n",
      "Number of articles with flag = 1: 42\n"
     ]
    }
   ],
   "source": [
    "# get indexes corresponding to these articles\n",
    "idx = df.index[df['text']==df_dups.loc[0]['text']]\n",
    "\n",
    "print \"Number of dropped articles:\", len(idx)\n",
    "print \"Number of articles with flag = 1:\", df.loc[idx]['flag'].sum()\n",
    "\n",
    "# reset these articles to flag = 0\n",
    "# df.loc[idx,'flag']=0\n",
    "\n",
    "# drop these articles\n",
    "df = df.drop(idx)"
   ]
  },
  {
   "cell_type": "code",
   "execution_count": 15,
   "metadata": {},
   "outputs": [
    {
     "name": "stdout",
     "output_type": "stream",
     "text": [
      "Current number of articles: 19,877\n",
      "Number of flags = 1 (4,838)\n",
      "Number of flags = 0 (15,039)\n"
     ]
    }
   ],
   "source": [
    "print(\"Current number of articles: {:,}\".format(df.shape[0]))\n",
    "print(\"Number of flags = 1 ({:,})\".format(df[df['flag']==1]['flag'].count()))\n",
    "print(\"Number of flags = 0 ({:,})\".format(df[df['flag']==0]['flag'].count()))"
   ]
  },
  {
   "cell_type": "markdown",
   "metadata": {},
   "source": [
    "#### Text 1"
   ]
  },
  {
   "cell_type": "code",
   "execution_count": 16,
   "metadata": {},
   "outputs": [
    {
     "name": "stdout",
     "output_type": "stream",
     "text": [
      "Text 1:\n",
      "\n",
      "(u'BIOGRAF\\xcdA\\n\\nTrader, empez\\xf3 su carrera profesional en GVC en 1995. Es fundador de \\xc1gora Asesores Financieros EAFI y uno de los analistas t\\xe9cnicos m\\xe1s reputados del panorama espa\\xf1ol. Ha colaborado con diversos medios de comunicaci\\xf3n, entre los que se encuentra El Economista, desde su fundaci\\xf3n hasta julio de 2014. Desde septiembre de 2014 se encarga de dirigir a la comunidad inversora de El Confidencial.', '...')\n"
     ]
    }
   ],
   "source": [
    "# text 1: BIOGRAFÍA\\n\\nTrader, empezó su carrera profesi...\n",
    "print(\"Text 1:\\n\")\n",
    "print(df_dups.loc[1]['text'],\"...\")"
   ]
  },
  {
   "cell_type": "code",
   "execution_count": 17,
   "metadata": {
    "scrolled": false
   },
   "outputs": [
    {
     "name": "stdout",
     "output_type": "stream",
     "text": [
      "Number of dropped articles: 14\n",
      "Number of articles with flag = 1: 0\n"
     ]
    }
   ],
   "source": [
    "# get indexes corresponding to these articles\n",
    "idx = df.index[df['text']==df_dups.loc[1]['text']]\n",
    "\n",
    "print \"Number of dropped articles:\", len(idx)\n",
    "print \"Number of articles with flag = 1:\", df.loc[idx]['flag'].sum()\n",
    "\n",
    "# reset these articles to flag = 0\n",
    "# df.loc[idx,'flag']=0\n",
    "\n",
    "# drop these articles\n",
    "df = df.drop(idx)"
   ]
  },
  {
   "cell_type": "code",
   "execution_count": 18,
   "metadata": {},
   "outputs": [
    {
     "name": "stdout",
     "output_type": "stream",
     "text": [
      "Current number of articles: 19,863\n",
      "Number of flags = 1 (4,838)\n",
      "Number of flags = 0 (15,025)\n"
     ]
    }
   ],
   "source": [
    "print(\"Current number of articles: {:,}\".format(df.shape[0]))\n",
    "print(\"Number of flags = 1 ({:,})\".format(df[df['flag']==1]['flag'].count()))\n",
    "print(\"Number of flags = 0 ({:,})\".format(df[df['flag']==0]['flag'].count()))"
   ]
  },
  {
   "cell_type": "code",
   "execution_count": 19,
   "metadata": {},
   "outputs": [
    {
     "data": {
      "text/html": [
       "<div>\n",
       "<style>\n",
       "    .dataframe thead tr:only-child th {\n",
       "        text-align: right;\n",
       "    }\n",
       "\n",
       "    .dataframe thead th {\n",
       "        text-align: left;\n",
       "    }\n",
       "\n",
       "    .dataframe tbody tr th {\n",
       "        vertical-align: top;\n",
       "    }\n",
       "</style>\n",
       "<table border=\"1\" class=\"dataframe\">\n",
       "  <thead>\n",
       "    <tr style=\"text-align: right;\">\n",
       "      <th></th>\n",
       "      <th>text</th>\n",
       "      <th>count</th>\n",
       "    </tr>\n",
       "  </thead>\n",
       "  <tbody>\n",
       "    <tr>\n",
       "      <th>0</th>\n",
       "      <td>La industria de los fondos de inversión en Esp...</td>\n",
       "      <td>3</td>\n",
       "    </tr>\n",
       "    <tr>\n",
       "      <th>1</th>\n",
       "      <td>La relación de la banca con sus clientes es ca...</td>\n",
       "      <td>2</td>\n",
       "    </tr>\n",
       "    <tr>\n",
       "      <th>2</th>\n",
       "      <td>Un agente de cambio consultando una pantalla e...</td>\n",
       "      <td>2</td>\n",
       "    </tr>\n",
       "    <tr>\n",
       "      <th>3</th>\n",
       "      <td>En plena era tecnológica, donde podemos relaci...</td>\n",
       "      <td>2</td>\n",
       "    </tr>\n",
       "    <tr>\n",
       "      <th>4</th>\n",
       "      <td>Hace unos días asistimos a dos momentos muy in...</td>\n",
       "      <td>2</td>\n",
       "    </tr>\n",
       "    <tr>\n",
       "      <th>5</th>\n",
       "      <td>Ampliar foto Belén Trincado\\n\\nPese a que la e...</td>\n",
       "      <td>2</td>\n",
       "    </tr>\n",
       "    <tr>\n",
       "      <th>6</th>\n",
       "      <td>Popular reconoció ayer a los sindicatos que es...</td>\n",
       "      <td>2</td>\n",
       "    </tr>\n",
       "    <tr>\n",
       "      <th>7</th>\n",
       "      <td>El Senado ha suspendido de forma definitiva a ...</td>\n",
       "      <td>2</td>\n",
       "    </tr>\n",
       "    <tr>\n",
       "      <th>8</th>\n",
       "      <td>Popular alcanzó un máximo histórico por encima...</td>\n",
       "      <td>2</td>\n",
       "    </tr>\n",
       "    <tr>\n",
       "      <th>9</th>\n",
       "      <td>Sucursal de Banco Popular. Reuters\\n\\nFitch ha...</td>\n",
       "      <td>2</td>\n",
       "    </tr>\n",
       "  </tbody>\n",
       "</table>\n",
       "</div>"
      ],
      "text/plain": [
       "                                                text  count\n",
       "0  La industria de los fondos de inversión en Esp...      3\n",
       "1  La relación de la banca con sus clientes es ca...      2\n",
       "2  Un agente de cambio consultando una pantalla e...      2\n",
       "3  En plena era tecnológica, donde podemos relaci...      2\n",
       "4  Hace unos días asistimos a dos momentos muy in...      2\n",
       "5  Ampliar foto Belén Trincado\\n\\nPese a que la e...      2\n",
       "6  Popular reconoció ayer a los sindicatos que es...      2\n",
       "7  El Senado ha suspendido de forma definitiva a ...      2\n",
       "8  Popular alcanzó un máximo histórico por encima...      2\n",
       "9  Sucursal de Banco Popular. Reuters\\n\\nFitch ha...      2"
      ]
     },
     "execution_count": 19,
     "metadata": {},
     "output_type": "execute_result"
    }
   ],
   "source": [
    "# text duplicates\n",
    "df_dups = df.groupby('text').size().sort_values(0,ascending=False).reset_index().rename(columns={0:\"count\"})\n",
    "df_dups.head(10)"
   ]
  },
  {
   "cell_type": "markdown",
   "metadata": {},
   "source": [
    "# Creating new features\n",
    "\n",
    "* website (newspaper)\n",
    "* section\n",
    "* date (without time)\n",
    "* day of week"
   ]
  },
  {
   "cell_type": "code",
   "execution_count": 20,
   "metadata": {
    "collapsed": true
   },
   "outputs": [],
   "source": [
    "# newspaper\n",
    "df['website'] = df['url'].apply(lambda x: x.split('/')[2].replace('www.',''))"
   ]
  },
  {
   "cell_type": "code",
   "execution_count": 21,
   "metadata": {},
   "outputs": [
    {
     "data": {
      "text/html": [
       "<div>\n",
       "<style>\n",
       "    .dataframe thead tr:only-child th {\n",
       "        text-align: right;\n",
       "    }\n",
       "\n",
       "    .dataframe thead th {\n",
       "        text-align: left;\n",
       "    }\n",
       "\n",
       "    .dataframe tbody tr th {\n",
       "        vertical-align: top;\n",
       "    }\n",
       "</style>\n",
       "<table border=\"1\" class=\"dataframe\">\n",
       "  <thead>\n",
       "    <tr style=\"text-align: right;\">\n",
       "      <th></th>\n",
       "      <th>website</th>\n",
       "      <th>count</th>\n",
       "    </tr>\n",
       "  </thead>\n",
       "  <tbody>\n",
       "    <tr>\n",
       "      <th>0</th>\n",
       "      <td>expansion.com</td>\n",
       "      <td>2593</td>\n",
       "    </tr>\n",
       "    <tr>\n",
       "      <th>1</th>\n",
       "      <td>elconfidencial.com</td>\n",
       "      <td>854</td>\n",
       "    </tr>\n",
       "    <tr>\n",
       "      <th>2</th>\n",
       "      <td>cincodias.elpais.com</td>\n",
       "      <td>704</td>\n",
       "    </tr>\n",
       "    <tr>\n",
       "      <th>3</th>\n",
       "      <td>cincodias.com</td>\n",
       "      <td>583</td>\n",
       "    </tr>\n",
       "    <tr>\n",
       "      <th>4</th>\n",
       "      <td>blogs.elconfidencial.com</td>\n",
       "      <td>35</td>\n",
       "    </tr>\n",
       "    <tr>\n",
       "      <th>5</th>\n",
       "      <td>retina.elpais.com</td>\n",
       "      <td>14</td>\n",
       "    </tr>\n",
       "    <tr>\n",
       "      <th>6</th>\n",
       "      <td>economia.elpais.com</td>\n",
       "      <td>6</td>\n",
       "    </tr>\n",
       "    <tr>\n",
       "      <th>7</th>\n",
       "      <td>euribor.com.es</td>\n",
       "      <td>3</td>\n",
       "    </tr>\n",
       "    <tr>\n",
       "      <th>8</th>\n",
       "      <td>bloomberg.com</td>\n",
       "      <td>3</td>\n",
       "    </tr>\n",
       "    <tr>\n",
       "      <th>9</th>\n",
       "      <td>vozpopuli.com</td>\n",
       "      <td>2</td>\n",
       "    </tr>\n",
       "    <tr>\n",
       "      <th>10</th>\n",
       "      <td>ft.com</td>\n",
       "      <td>2</td>\n",
       "    </tr>\n",
       "    <tr>\n",
       "      <th>11</th>\n",
       "      <td>criteria.com</td>\n",
       "      <td>2</td>\n",
       "    </tr>\n",
       "    <tr>\n",
       "      <th>12</th>\n",
       "      <td>20minutos.es</td>\n",
       "      <td>2</td>\n",
       "    </tr>\n",
       "    <tr>\n",
       "      <th>13</th>\n",
       "      <td>bluecap.com</td>\n",
       "      <td>2</td>\n",
       "    </tr>\n",
       "    <tr>\n",
       "      <th>14</th>\n",
       "      <td>bbva.com</td>\n",
       "      <td>2</td>\n",
       "    </tr>\n",
       "    <tr>\n",
       "      <th>15</th>\n",
       "      <td>caixabank.com</td>\n",
       "      <td>1</td>\n",
       "    </tr>\n",
       "    <tr>\n",
       "      <th>16</th>\n",
       "      <td>eleconomista.es</td>\n",
       "      <td>1</td>\n",
       "    </tr>\n",
       "    <tr>\n",
       "      <th>17</th>\n",
       "      <td>co-operativebank.co.uk</td>\n",
       "      <td>1</td>\n",
       "    </tr>\n",
       "    <tr>\n",
       "      <th>18</th>\n",
       "      <td>bbvagmr.com</td>\n",
       "      <td>1</td>\n",
       "    </tr>\n",
       "    <tr>\n",
       "      <th>19</th>\n",
       "      <td>bbc.com</td>\n",
       "      <td>1</td>\n",
       "    </tr>\n",
       "  </tbody>\n",
       "</table>\n",
       "</div>"
      ],
      "text/plain": [
       "                     website  count\n",
       "0              expansion.com   2593\n",
       "1         elconfidencial.com    854\n",
       "2       cincodias.elpais.com    704\n",
       "3              cincodias.com    583\n",
       "4   blogs.elconfidencial.com     35\n",
       "5          retina.elpais.com     14\n",
       "6        economia.elpais.com      6\n",
       "7             euribor.com.es      3\n",
       "8              bloomberg.com      3\n",
       "9              vozpopuli.com      2\n",
       "10                    ft.com      2\n",
       "11              criteria.com      2\n",
       "12              20minutos.es      2\n",
       "13               bluecap.com      2\n",
       "14                  bbva.com      2\n",
       "15             caixabank.com      1\n",
       "16           eleconomista.es      1\n",
       "17    co-operativebank.co.uk      1\n",
       "18               bbvagmr.com      1\n",
       "19                   bbc.com      1"
      ]
     },
     "execution_count": 21,
     "metadata": {},
     "output_type": "execute_result"
    }
   ],
   "source": [
    "df[df['flag']==1].groupby('website').size().sort_values(0,ascending=False).reset_index().rename(columns={0:\"count\"}).head(20)"
   ]
  },
  {
   "cell_type": "code",
   "execution_count": 22,
   "metadata": {},
   "outputs": [
    {
     "data": {
      "text/html": [
       "<div>\n",
       "<style>\n",
       "    .dataframe thead tr:only-child th {\n",
       "        text-align: right;\n",
       "    }\n",
       "\n",
       "    .dataframe thead th {\n",
       "        text-align: left;\n",
       "    }\n",
       "\n",
       "    .dataframe tbody tr th {\n",
       "        vertical-align: top;\n",
       "    }\n",
       "</style>\n",
       "<table border=\"1\" class=\"dataframe\">\n",
       "  <thead>\n",
       "    <tr style=\"text-align: right;\">\n",
       "      <th></th>\n",
       "      <th>website</th>\n",
       "      <th>count</th>\n",
       "    </tr>\n",
       "  </thead>\n",
       "  <tbody>\n",
       "    <tr>\n",
       "      <th>0</th>\n",
       "      <td>expansion.com</td>\n",
       "      <td>9404</td>\n",
       "    </tr>\n",
       "    <tr>\n",
       "      <th>1</th>\n",
       "      <td>cincodias.elpais.com</td>\n",
       "      <td>3884</td>\n",
       "    </tr>\n",
       "    <tr>\n",
       "      <th>2</th>\n",
       "      <td>elconfidencial.com</td>\n",
       "      <td>1101</td>\n",
       "    </tr>\n",
       "    <tr>\n",
       "      <th>3</th>\n",
       "      <td>blogs.elconfidencial.com</td>\n",
       "      <td>295</td>\n",
       "    </tr>\n",
       "    <tr>\n",
       "      <th>4</th>\n",
       "      <td>vanitatis.elconfidencial.com</td>\n",
       "      <td>252</td>\n",
       "    </tr>\n",
       "    <tr>\n",
       "      <th>5</th>\n",
       "      <td>gentleman.elconfidencial.com</td>\n",
       "      <td>55</td>\n",
       "    </tr>\n",
       "    <tr>\n",
       "      <th>6</th>\n",
       "      <td>brands.elconfidencial.com</td>\n",
       "      <td>21</td>\n",
       "    </tr>\n",
       "    <tr>\n",
       "      <th>7</th>\n",
       "      <td>blogs.vanitatis.elconfidencial.com</td>\n",
       "      <td>8</td>\n",
       "    </tr>\n",
       "    <tr>\n",
       "      <th>8</th>\n",
       "      <td>alimente.elconfidencial.com</td>\n",
       "      <td>4</td>\n",
       "    </tr>\n",
       "    <tr>\n",
       "      <th>9</th>\n",
       "      <td>shiseido.es</td>\n",
       "      <td>1</td>\n",
       "    </tr>\n",
       "  </tbody>\n",
       "</table>\n",
       "</div>"
      ],
      "text/plain": [
       "                              website  count\n",
       "0                       expansion.com   9404\n",
       "1                cincodias.elpais.com   3884\n",
       "2                  elconfidencial.com   1101\n",
       "3            blogs.elconfidencial.com    295\n",
       "4        vanitatis.elconfidencial.com    252\n",
       "5        gentleman.elconfidencial.com     55\n",
       "6           brands.elconfidencial.com     21\n",
       "7  blogs.vanitatis.elconfidencial.com      8\n",
       "8         alimente.elconfidencial.com      4\n",
       "9                         shiseido.es      1"
      ]
     },
     "execution_count": 22,
     "metadata": {},
     "output_type": "execute_result"
    }
   ],
   "source": [
    "df[df['flag']==0].groupby('website').size().sort_values(0,ascending=False).reset_index().rename(columns={0:\"count\"}).head(20)"
   ]
  },
  {
   "cell_type": "code",
   "execution_count": 23,
   "metadata": {
    "collapsed": true
   },
   "outputs": [],
   "source": [
    "# drop unnecessary data\n",
    "df = df.drop(df[df['website']==\"shiseido.es\"].index)"
   ]
  },
  {
   "cell_type": "code",
   "execution_count": 24,
   "metadata": {},
   "outputs": [
    {
     "name": "stdout",
     "output_type": "stream",
     "text": [
      "Current number of articles: 19,862\n",
      "Number of flags = 1 (4,838)\n",
      "Number of flags = 0 (15,024)\n"
     ]
    }
   ],
   "source": [
    "print(\"Current number of articles: {:,}\".format(df.shape[0]))\n",
    "print(\"Number of flags = 1 ({:,})\".format(df[df['flag']==1]['flag'].count()))\n",
    "print(\"Number of flags = 0 ({:,})\".format(df[df['flag']==0]['flag'].count()))"
   ]
  },
  {
   "cell_type": "code",
   "execution_count": 25,
   "metadata": {
    "collapsed": true
   },
   "outputs": [],
   "source": [
    "# section\n",
    "for idx, row in df.iterrows():\n",
    "    try:\n",
    "        if \"cincodias\" in row['website']:\n",
    "            df.loc[idx,'section']=row['url'].split('/')[7]\n",
    "        else:\n",
    "            df.loc[idx,'section']=row['url'].split('/')[3]\n",
    "    except:\n",
    "        pass"
   ]
  },
  {
   "cell_type": "code",
   "execution_count": 26,
   "metadata": {},
   "outputs": [
    {
     "data": {
      "text/html": [
       "<div>\n",
       "<style>\n",
       "    .dataframe thead tr:only-child th {\n",
       "        text-align: right;\n",
       "    }\n",
       "\n",
       "    .dataframe thead th {\n",
       "        text-align: left;\n",
       "    }\n",
       "\n",
       "    .dataframe tbody tr th {\n",
       "        vertical-align: top;\n",
       "    }\n",
       "</style>\n",
       "<table border=\"1\" class=\"dataframe\">\n",
       "  <thead>\n",
       "    <tr style=\"text-align: right;\">\n",
       "      <th></th>\n",
       "      <th>website</th>\n",
       "      <th>section</th>\n",
       "      <th>count</th>\n",
       "    </tr>\n",
       "  </thead>\n",
       "  <tbody>\n",
       "    <tr>\n",
       "      <th>0</th>\n",
       "      <td>expansion.com</td>\n",
       "      <td>empresas</td>\n",
       "      <td>4147</td>\n",
       "    </tr>\n",
       "    <tr>\n",
       "      <th>1</th>\n",
       "      <td>expansion.com</td>\n",
       "      <td>economia</td>\n",
       "      <td>2039</td>\n",
       "    </tr>\n",
       "    <tr>\n",
       "      <th>2</th>\n",
       "      <td>cincodias.elpais.com</td>\n",
       "      <td>companias</td>\n",
       "      <td>1077</td>\n",
       "    </tr>\n",
       "    <tr>\n",
       "      <th>3</th>\n",
       "      <td>expansion.com</td>\n",
       "      <td>mercados</td>\n",
       "      <td>1051</td>\n",
       "    </tr>\n",
       "    <tr>\n",
       "      <th>4</th>\n",
       "      <td>cincodias.elpais.com</td>\n",
       "      <td>mercados</td>\n",
       "      <td>956</td>\n",
       "    </tr>\n",
       "    <tr>\n",
       "      <th>5</th>\n",
       "      <td>expansion.com</td>\n",
       "      <td>aragon</td>\n",
       "      <td>785</td>\n",
       "    </tr>\n",
       "    <tr>\n",
       "      <th>6</th>\n",
       "      <td>elconfidencial.com</td>\n",
       "      <td>empresas</td>\n",
       "      <td>636</td>\n",
       "    </tr>\n",
       "    <tr>\n",
       "      <th>7</th>\n",
       "      <td>cincodias.elpais.com</td>\n",
       "      <td>empresas</td>\n",
       "      <td>618</td>\n",
       "    </tr>\n",
       "    <tr>\n",
       "      <th>8</th>\n",
       "      <td>expansion.com</td>\n",
       "      <td>extremadura</td>\n",
       "      <td>605</td>\n",
       "    </tr>\n",
       "    <tr>\n",
       "      <th>9</th>\n",
       "      <td>cincodias.com</td>\n",
       "      <td>mercados</td>\n",
       "      <td>492</td>\n",
       "    </tr>\n",
       "    <tr>\n",
       "      <th>10</th>\n",
       "      <td>cincodias.elpais.com</td>\n",
       "      <td>economia</td>\n",
       "      <td>465</td>\n",
       "    </tr>\n",
       "    <tr>\n",
       "      <th>11</th>\n",
       "      <td>expansion.com</td>\n",
       "      <td>directivos</td>\n",
       "      <td>456</td>\n",
       "    </tr>\n",
       "    <tr>\n",
       "      <th>12</th>\n",
       "      <td>expansion.com</td>\n",
       "      <td>economia-digital</td>\n",
       "      <td>426</td>\n",
       "    </tr>\n",
       "    <tr>\n",
       "      <th>13</th>\n",
       "      <td>expansion.com</td>\n",
       "      <td>fueradeserie</td>\n",
       "      <td>372</td>\n",
       "    </tr>\n",
       "    <tr>\n",
       "      <th>14</th>\n",
       "      <td>expansion.com</td>\n",
       "      <td>sociedad</td>\n",
       "      <td>317</td>\n",
       "    </tr>\n",
       "    <tr>\n",
       "      <th>15</th>\n",
       "      <td>cincodias.elpais.com</td>\n",
       "      <td>midinero</td>\n",
       "      <td>284</td>\n",
       "    </tr>\n",
       "    <tr>\n",
       "      <th>16</th>\n",
       "      <td>expansion.com</td>\n",
       "      <td>juridico</td>\n",
       "      <td>265</td>\n",
       "    </tr>\n",
       "    <tr>\n",
       "      <th>17</th>\n",
       "      <td>expansion.com</td>\n",
       "      <td>latinoamerica</td>\n",
       "      <td>263</td>\n",
       "    </tr>\n",
       "    <tr>\n",
       "      <th>18</th>\n",
       "      <td>elconfidencial.com</td>\n",
       "      <td>espana</td>\n",
       "      <td>262</td>\n",
       "    </tr>\n",
       "    <tr>\n",
       "      <th>19</th>\n",
       "      <td>expansion.com</td>\n",
       "      <td>catalunya</td>\n",
       "      <td>218</td>\n",
       "    </tr>\n",
       "    <tr>\n",
       "      <th>20</th>\n",
       "      <td>cincodias.elpais.com</td>\n",
       "      <td>lifestyle</td>\n",
       "      <td>196</td>\n",
       "    </tr>\n",
       "    <tr>\n",
       "      <th>21</th>\n",
       "      <td>elconfidencial.com</td>\n",
       "      <td>mercados</td>\n",
       "      <td>184</td>\n",
       "    </tr>\n",
       "    <tr>\n",
       "      <th>22</th>\n",
       "      <td>elconfidencial.com</td>\n",
       "      <td>multimedia</td>\n",
       "      <td>183</td>\n",
       "    </tr>\n",
       "    <tr>\n",
       "      <th>23</th>\n",
       "      <td>expansion.com</td>\n",
       "      <td>valencia</td>\n",
       "      <td>176</td>\n",
       "    </tr>\n",
       "    <tr>\n",
       "      <th>24</th>\n",
       "      <td>elconfidencial.com</td>\n",
       "      <td>deportes</td>\n",
       "      <td>150</td>\n",
       "    </tr>\n",
       "  </tbody>\n",
       "</table>\n",
       "</div>"
      ],
      "text/plain": [
       "                 website           section  count\n",
       "0          expansion.com          empresas   4147\n",
       "1          expansion.com          economia   2039\n",
       "2   cincodias.elpais.com         companias   1077\n",
       "3          expansion.com          mercados   1051\n",
       "4   cincodias.elpais.com          mercados    956\n",
       "5          expansion.com            aragon    785\n",
       "6     elconfidencial.com          empresas    636\n",
       "7   cincodias.elpais.com          empresas    618\n",
       "8          expansion.com       extremadura    605\n",
       "9          cincodias.com          mercados    492\n",
       "10  cincodias.elpais.com          economia    465\n",
       "11         expansion.com        directivos    456\n",
       "12         expansion.com  economia-digital    426\n",
       "13         expansion.com      fueradeserie    372\n",
       "14         expansion.com          sociedad    317\n",
       "15  cincodias.elpais.com          midinero    284\n",
       "16         expansion.com          juridico    265\n",
       "17         expansion.com     latinoamerica    263\n",
       "18    elconfidencial.com            espana    262\n",
       "19         expansion.com         catalunya    218\n",
       "20  cincodias.elpais.com         lifestyle    196\n",
       "21    elconfidencial.com          mercados    184\n",
       "22    elconfidencial.com        multimedia    183\n",
       "23         expansion.com          valencia    176\n",
       "24    elconfidencial.com          deportes    150"
      ]
     },
     "execution_count": 26,
     "metadata": {},
     "output_type": "execute_result"
    }
   ],
   "source": [
    "df.groupby(['website','section']).size().sort_values(0,ascending=False).reset_index().rename(columns={0:\"count\"}).head(25)"
   ]
  },
  {
   "cell_type": "code",
   "execution_count": 27,
   "metadata": {
    "collapsed": true
   },
   "outputs": [],
   "source": [
    "# split the publish date to date and time and remove time because it is not changing\n",
    "df['date'], df['time'] = df.publish_date.str.split(' ').str\n",
    "df.drop(['time'], axis=1, inplace=True)"
   ]
  },
  {
   "cell_type": "code",
   "execution_count": 28,
   "metadata": {
    "collapsed": true
   },
   "outputs": [],
   "source": [
    "# convert date columns to datetime and create day_of_week column\n",
    "df['date'] = pd.to_datetime(df['date'])\n",
    "df['day_of_week'] = df['date'].dt.weekday_name"
   ]
  },
  {
   "cell_type": "code",
   "execution_count": 29,
   "metadata": {
    "collapsed": true
   },
   "outputs": [],
   "source": [
    "# drop unnecessary columns\n",
    "df.drop(['top_image', 'publish_date'], axis=1, inplace=True)"
   ]
  },
  {
   "cell_type": "code",
   "execution_count": 30,
   "metadata": {},
   "outputs": [
    {
     "data": {
      "text/html": [
       "<div>\n",
       "<style>\n",
       "    .dataframe thead tr:only-child th {\n",
       "        text-align: right;\n",
       "    }\n",
       "\n",
       "    .dataframe thead th {\n",
       "        text-align: left;\n",
       "    }\n",
       "\n",
       "    .dataframe tbody tr th {\n",
       "        vertical-align: top;\n",
       "    }\n",
       "</style>\n",
       "<table border=\"1\" class=\"dataframe\">\n",
       "  <thead>\n",
       "    <tr style=\"text-align: right;\">\n",
       "      <th></th>\n",
       "      <th>authors</th>\n",
       "      <th>keywords</th>\n",
       "      <th>summary</th>\n",
       "      <th>text</th>\n",
       "      <th>title</th>\n",
       "      <th>url</th>\n",
       "      <th>flag</th>\n",
       "      <th>website</th>\n",
       "      <th>section</th>\n",
       "      <th>date</th>\n",
       "      <th>day_of_week</th>\n",
       "    </tr>\n",
       "  </thead>\n",
       "  <tbody>\n",
       "    <tr>\n",
       "      <th>0</th>\n",
       "      <td>[Asunción Infante Fuentes, Andrés Stumpf Guirao]</td>\n",
       "      <td>[tumbar, vuelve, ibex, descenso, son, en, una,...</td>\n",
       "      <td>El Ibex cede un 1,18% y pierde el soporte clav...</td>\n",
       "      <td>Amaneció con subidas en todos los grandes parq...</td>\n",
       "      <td>El sector bancario vuelve a tumbar al Ibex: es...</td>\n",
       "      <td>http://cincodias.com/cincodias/2016/03/17/merc...</td>\n",
       "      <td>1</td>\n",
       "      <td>cincodias.com</td>\n",
       "      <td>mercados</td>\n",
       "      <td>2016-03-17</td>\n",
       "      <td>Thursday</td>\n",
       "    </tr>\n",
       "    <tr>\n",
       "      <th>1</th>\n",
       "      <td>[]</td>\n",
       "      <td>[ladrillo, en, desde, menor, junio, su, del, h...</td>\n",
       "      <td>El año pasado, la morosidad de este segmento h...</td>\n",
       "      <td>El pasado año el descenso de la mora tanto de ...</td>\n",
       "      <td>La morosidad del ladrillo cierra 2015 en su me...</td>\n",
       "      <td>http://www.expansion.com/empresas/banca/2016/0...</td>\n",
       "      <td>1</td>\n",
       "      <td>expansion.com</td>\n",
       "      <td>empresas</td>\n",
       "      <td>2016-03-18</td>\n",
       "      <td>Friday</td>\n",
       "    </tr>\n",
       "    <tr>\n",
       "      <th>2</th>\n",
       "      <td>[Eduardo Segovia, Pedro Calvo, Contacta Al Aut...</td>\n",
       "      <td>[inversores, stanley, morgan, en, encuentro, p...</td>\n",
       "      <td>El banco de inversión Morgan stanley organiza ...</td>\n",
       "      <td>El banco de inversión Morgan stanley organiza ...</td>\n",
       "      <td>Noticias del BBVA: Los inversores señalan de q...</td>\n",
       "      <td>http://www.elconfidencial.com/mercados/2016-03...</td>\n",
       "      <td>1</td>\n",
       "      <td>elconfidencial.com</td>\n",
       "      <td>mercados</td>\n",
       "      <td>2016-03-24</td>\n",
       "      <td>Thursday</td>\n",
       "    </tr>\n",
       "    <tr>\n",
       "      <th>3</th>\n",
       "      <td>[Assumpta Zorraquino, Contacta Al Autor, Carlo...</td>\n",
       "      <td>[regulación, servicios, versus, para, por, en,...</td>\n",
       "      <td>La aparición de las start-ups tecnológicas ded...</td>\n",
       "      <td>La aparición de las start-ups tecnológicas ded...</td>\n",
       "      <td>Fintech: Innovación versus regulación</td>\n",
       "      <td>http://blogs.elconfidencial.com/mercados/tribu...</td>\n",
       "      <td>1</td>\n",
       "      <td>blogs.elconfidencial.com</td>\n",
       "      <td>mercados</td>\n",
       "      <td>2016-03-24</td>\n",
       "      <td>Thursday</td>\n",
       "    </tr>\n",
       "    <tr>\n",
       "      <th>4</th>\n",
       "      <td>[Pedro Calvo, Kike Vázquez, Daniel Lacalle, Vi...</td>\n",
       "      <td>[europea, pierde, por, en, y, valor, su, del, ...</td>\n",
       "      <td>Como el que han pagado en el último año las gr...</td>\n",
       "      <td>Son los bancos españoles. Y los italianos, por...</td>\n",
       "      <td>Tipos de interés: La banca europea pierde un t...</td>\n",
       "      <td>http://www.elconfidencial.com/empresas/2016-03...</td>\n",
       "      <td>1</td>\n",
       "      <td>elconfidencial.com</td>\n",
       "      <td>empresas</td>\n",
       "      <td>2016-03-29</td>\n",
       "      <td>Tuesday</td>\n",
       "    </tr>\n",
       "  </tbody>\n",
       "</table>\n",
       "</div>"
      ],
      "text/plain": [
       "                                             authors  \\\n",
       "0   [Asunción Infante Fuentes, Andrés Stumpf Guirao]   \n",
       "1                                                 []   \n",
       "2  [Eduardo Segovia, Pedro Calvo, Contacta Al Aut...   \n",
       "3  [Assumpta Zorraquino, Contacta Al Autor, Carlo...   \n",
       "4  [Pedro Calvo, Kike Vázquez, Daniel Lacalle, Vi...   \n",
       "\n",
       "                                            keywords  \\\n",
       "0  [tumbar, vuelve, ibex, descenso, son, en, una,...   \n",
       "1  [ladrillo, en, desde, menor, junio, su, del, h...   \n",
       "2  [inversores, stanley, morgan, en, encuentro, p...   \n",
       "3  [regulación, servicios, versus, para, por, en,...   \n",
       "4  [europea, pierde, por, en, y, valor, su, del, ...   \n",
       "\n",
       "                                             summary  \\\n",
       "0  El Ibex cede un 1,18% y pierde el soporte clav...   \n",
       "1  El año pasado, la morosidad de este segmento h...   \n",
       "2  El banco de inversión Morgan stanley organiza ...   \n",
       "3  La aparición de las start-ups tecnológicas ded...   \n",
       "4  Como el que han pagado en el último año las gr...   \n",
       "\n",
       "                                                text  \\\n",
       "0  Amaneció con subidas en todos los grandes parq...   \n",
       "1  El pasado año el descenso de la mora tanto de ...   \n",
       "2  El banco de inversión Morgan stanley organiza ...   \n",
       "3  La aparición de las start-ups tecnológicas ded...   \n",
       "4  Son los bancos españoles. Y los italianos, por...   \n",
       "\n",
       "                                               title  \\\n",
       "0  El sector bancario vuelve a tumbar al Ibex: es...   \n",
       "1  La morosidad del ladrillo cierra 2015 en su me...   \n",
       "2  Noticias del BBVA: Los inversores señalan de q...   \n",
       "3              Fintech: Innovación versus regulación   \n",
       "4  Tipos de interés: La banca europea pierde un t...   \n",
       "\n",
       "                                                 url  flag  \\\n",
       "0  http://cincodias.com/cincodias/2016/03/17/merc...     1   \n",
       "1  http://www.expansion.com/empresas/banca/2016/0...     1   \n",
       "2  http://www.elconfidencial.com/mercados/2016-03...     1   \n",
       "3  http://blogs.elconfidencial.com/mercados/tribu...     1   \n",
       "4  http://www.elconfidencial.com/empresas/2016-03...     1   \n",
       "\n",
       "                    website   section       date day_of_week  \n",
       "0             cincodias.com  mercados 2016-03-17    Thursday  \n",
       "1             expansion.com  empresas 2016-03-18      Friday  \n",
       "2        elconfidencial.com  mercados 2016-03-24    Thursday  \n",
       "3  blogs.elconfidencial.com  mercados 2016-03-24    Thursday  \n",
       "4        elconfidencial.com  empresas 2016-03-29     Tuesday  "
      ]
     },
     "execution_count": 30,
     "metadata": {},
     "output_type": "execute_result"
    }
   ],
   "source": [
    "df.head(5)"
   ]
  },
  {
   "cell_type": "markdown",
   "metadata": {},
   "source": [
    "# Train / Test\n",
    "\n",
    "Preparing the train / test dataset for modelling:\n",
    "\n",
    "* __`TRAIN`__: articles published before 2017-10-01 (+ articles without date).\n",
    "* __`TEST`__: articles published from 2017-10-01 on."
   ]
  },
  {
   "cell_type": "code",
   "execution_count": 31,
   "metadata": {
    "collapsed": true
   },
   "outputs": [],
   "source": [
    "# Train examples span from the very start up until 2018. \n",
    "df_train = df[(df['date']<'2017-10-01') | (df['date'].isnull())]\n",
    "df_test  = df[df['date']>='2017-10-01']"
   ]
  },
  {
   "cell_type": "code",
   "execution_count": 32,
   "metadata": {},
   "outputs": [
    {
     "name": "stdout",
     "output_type": "stream",
     "text": [
      "Number of null dates in train: 31\n",
      "Number of null dates in test: 0\n"
     ]
    }
   ],
   "source": [
    "print \"Number of null dates in train: {:,}\".format(df_train[df_train['date'].isnull()]['url'].count())\n",
    "print \"Number of null dates in test: {:,}\".format(df_test[df_test['date'].isnull()]['url'].count())"
   ]
  },
  {
   "cell_type": "code",
   "execution_count": 33,
   "metadata": {},
   "outputs": [
    {
     "name": "stdout",
     "output_type": "stream",
     "text": [
      "-------------------------------------------------- \n",
      "TRAIN (< 2017-10-01 + None)\n",
      "--------------------------------------------------\n",
      "Flag:\t1\t\t0\n",
      "Nobs:\t3,678 \t\t10,959\n",
      "\n",
      "-------------------------------------------------- \n",
      "TEST (>= 2017-10-01)\n",
      "--------------------------------------------------\n",
      "Flag:\t1\t\t0\n",
      "Nobs:\t1,160 \t\t4,065\n"
     ]
    }
   ],
   "source": [
    "print \"-\"*50, \"\\nTRAIN (< 2017-10-01 + None)\\n\", \"-\"*50\n",
    "print \"Flag:\\t1\\t\\t0\"\n",
    "print \"Nobs:\\t{:,}\".format(df_train[df_train['flag']==1]['url'].count()),\"\\t\\t{:,}\".format(df_train[df_train['flag']==0]['url'].count())\n",
    "\n",
    "print \"\\n\",\"-\"*50, \"\\nTEST (>= 2017-10-01)\\n\", \"-\"*50\n",
    "print \"Flag:\\t1\\t\\t0\"\n",
    "print \"Nobs:\\t{:,}\".format(df_test[df_test['flag']==1]['url'].count()),\"\\t\\t{:,}\".format(df_test[df_test['flag']==0]['url'].count())"
   ]
  },
  {
   "cell_type": "code",
   "execution_count": 34,
   "metadata": {
    "collapsed": true
   },
   "outputs": [],
   "source": [
    "# shuffle datasets\n",
    "df_train = df_train.sample(frac=1).reset_index(drop=True)\n",
    "df_test = df_test.sample(frac=1).reset_index(drop=True)"
   ]
  },
  {
   "cell_type": "code",
   "execution_count": 35,
   "metadata": {
    "collapsed": true
   },
   "outputs": [],
   "source": [
    "# create id\n",
    "df_train['id'] = df_train.index + 1\n",
    "df_test['id'] = df_test.index + 1"
   ]
  },
  {
   "cell_type": "code",
   "execution_count": 36,
   "metadata": {
    "collapsed": true
   },
   "outputs": [],
   "source": [
    "df_test_nosolution = df_test.drop('flag', axis=1)\n",
    "df_test_solution = df_test[['id', 'flag']]"
   ]
  },
  {
   "cell_type": "markdown",
   "metadata": {},
   "source": [
    "# Dump to JSON"
   ]
  },
  {
   "cell_type": "code",
   "execution_count": 37,
   "metadata": {
    "collapsed": true
   },
   "outputs": [],
   "source": [
    "df_train.to_json('./train.json', force_ascii=False)\n",
    "df_test_nosolution.to_json('./test.json', force_ascii=False)\n",
    "df_test_solution.to_json('./test_solution.json', force_ascii=False)"
   ]
  },
  {
   "cell_type": "markdown",
   "metadata": {},
   "source": [
    "# Dump to CSV"
   ]
  },
  {
   "cell_type": "code",
   "execution_count": 38,
   "metadata": {
    "collapsed": true
   },
   "outputs": [],
   "source": [
    "df_train.to_csv('./train.csv', sep=\",\", na_rep=\"\", mode=\"w\", index=False, encoding='utf-8')\n",
    "df_test_nosolution.to_csv('./test.csv', sep=\",\", na_rep=\"\", mode=\"w\", index=False, encoding='utf-8')\n",
    "df_test_solution.to_csv('./test_solution.csv', sep=\",\", na_rep=\"\", mode=\"w\", index=False, encoding='utf-8')"
   ]
  },
  {
   "cell_type": "code",
   "execution_count": 39,
   "metadata": {
    "collapsed": true
   },
   "outputs": [],
   "source": [
    "import random\n",
    "\n",
    "df_sample = df_test_solution[['id']]\n",
    "\n",
    "for idx, row in df_sample.iterrows():\n",
    "    df_sample.loc[idx, 'pred'] = random.random()"
   ]
  },
  {
   "cell_type": "code",
   "execution_count": 40,
   "metadata": {
    "collapsed": true
   },
   "outputs": [],
   "source": [
    "df_sample.to_csv('./random_sample.csv', sep=\",\", na_rep=\"\", mode=\"w\", index=False, encoding='utf-8')"
   ]
  },
  {
   "cell_type": "code",
   "execution_count": 41,
   "metadata": {
    "collapsed": true
   },
   "outputs": [],
   "source": [
    "df_sample_solution = df_test_solution.rename(columns={'flag':'pred'})"
   ]
  },
  {
   "cell_type": "code",
   "execution_count": 42,
   "metadata": {
    "collapsed": true
   },
   "outputs": [],
   "source": [
    "df_sample_solution.to_csv('./solution_sample.csv', sep=\",\", na_rep=\"\", mode=\"w\", index=False, encoding='utf-8')"
   ]
  }
 ],
 "metadata": {
  "kernelspec": {
   "display_name": "Python 2",
   "language": "python",
   "name": "python2"
  },
  "language_info": {
   "codemirror_mode": {
    "name": "ipython",
    "version": 2
   },
   "file_extension": ".py",
   "mimetype": "text/x-python",
   "name": "python",
   "nbconvert_exporter": "python",
   "pygments_lexer": "ipython2",
   "version": "2.7.9"
  }
 },
 "nbformat": 4,
 "nbformat_minor": 2
}
