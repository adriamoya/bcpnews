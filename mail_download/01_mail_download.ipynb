{
 "cells": [
  {
   "cell_type": "markdown",
   "metadata": {},
   "source": [
    "# Downloading and parsing newsletter emails\n",
    "\n",
    "### Goal\n",
    "\n",
    "* Download all newsletter emails (filtering can be done later)\n",
    "* Parse each email and extract all article links\n",
    "* Store information to feed the newspaper scraper"
   ]
  },
  {
   "cell_type": "code",
   "execution_count": 28,
   "metadata": {
    "collapsed": true
   },
   "outputs": [],
   "source": [
    "import re\n",
    "import email\n",
    "import pprint\n",
    "import imaplib\n",
    "import getpass\n",
    "\n",
    "pp = pprint.PrettyPrinter(indent=4)\n",
    "\n",
    "M = imaplib.IMAP4_SSL('imap.gmail.com')"
   ]
  },
  {
   "cell_type": "code",
   "execution_count": 29,
   "metadata": {
    "collapsed": true
   },
   "outputs": [
    {
     "name": "stdout",
     "output_type": "stream",
     "text": [
      "········\n"
     ]
    },
    {
     "data": {
      "text/plain": [
       "('OK', ['4551'])"
      ]
     },
     "execution_count": 29,
     "metadata": {},
     "output_type": "execute_result"
    }
   ],
   "source": [
    "# Retrieve credentials\n",
    "user = 'amoya@bluecap.com' #input('User: ')\n",
    "passwd = getpass.getpass()\n",
    "\n",
    "# Login \n",
    "M.login(user, passwd)\n",
    "M.select()"
   ]
  },
  {
   "cell_type": "code",
   "execution_count": 31,
   "metadata": {},
   "outputs": [],
   "source": [
    "# Search all emails from ...\n",
    "typ, data = M.search(None, '(FROM \"lizquierdo@bluecap.com\")')\n",
    "\n",
    "n_last = data[0].split()[-1] # last email (for num in data[0].split(): # recursive for all emails)\n",
    "\n",
    "typ, data = M.fetch(n_last, '(RFC822)') # RFC822: Standard for ARPA Internet Text Messages"
   ]
  },
  {
   "cell_type": "code",
   "execution_count": 32,
   "metadata": {
    "scrolled": false
   },
   "outputs": [
    {
     "name": "stdout",
     "output_type": "stream",
     "text": [
      "{   'date': 'Tue, 10 Apr 2018 10:15:51 +0200',\n",
      "    'from': 'Laia Izquierdo <lizquierdo@bluecap.com>',\n",
      "    'subject': 'Bluecap Banking Breakfast',\n",
      "    'to': 'Bluecap Global <bluecapglobal@bluecap.com>',\n",
      "    'urls': [   'https://www.elconfidencial.com/espana/comunidad-valenciana/2018-04-09/goirigolzarri-bankia-fusion-bbva-roman-escolano_1547258/',\n",
      "                'http://www.expansion.com/valencia/2018/04/09/5acb8ca046163fe26b8b45cf.html',\n",
      "                'https://cincodias.elpais.com/cincodias/2018/04/09/companias/1523289300_337618.html',\n",
      "                'https://www.elconfidencial.com/mercados/2018-04-10/bankia-sube-un-7-el-dividendo-para-repartir-340-m-y-aumenta-el-pay-out-en-efectivo_1547458/',\n",
      "                'https://www.elconfidencial.com/tags/empresas/allianz-6267/',\n",
      "                'https://www.elconfidencial.com/empresas/2018-04-10/santander-popular-aegon-allianz-guerra-millones_1547385/',\n",
      "                'https://www.elconfidencial.com/espana/2018-04-09/banco-santander-17-millones-euros-valores-santander_1547207/',\n",
      "                'http://www.expansion.com/empresas/banca/2018/04/09/5acb723322601d437d8b459d.html',\n",
      "                'https://cincodias.elpais.com/cincodias/2018/04/09/midinero/1523282687_050543.html',\n",
      "                'https://cincodias.elpais.com/cincodias/2018/04/09/mercados/1523291997_592348.html',\n",
      "                'http://www.expansion.com/empresas/banca/2018/04/10/5acbb21ce2704efa7a8b4581.html',\n",
      "                'http://www.expansion.com/empresas/banca/2018/04/10/5acbb9f8e2704efa7a8b458e.html',\n",
      "                'http://www.expansion.com/empresas/banca/2018/04/09/5acb219c46163f12688b457d.html']}\n"
     ]
    }
   ],
   "source": [
    "email_obj = {}\n",
    "\n",
    "for response_part in data:\n",
    "\n",
    "    if isinstance(response_part, tuple):\n",
    "\n",
    "        msg = email.message_from_string(response_part[1].decode('utf-8'))\n",
    "\n",
    "        email_obj['from'] = msg['from']\n",
    "        email_obj['to'] = msg['to']\n",
    "        email_obj['subject'] = msg['subject']\n",
    "        email_obj['date'] = msg['date']\n",
    "\n",
    "        if msg.is_multipart():\n",
    "            raw_body = msg.get_payload()[0].get_payload()\n",
    "        else:\n",
    "            raw_body = msg.get_payload()\n",
    "        \n",
    "        # email_obj['body'] = raw_body\n",
    "\n",
    "        # extracting links to articles\n",
    "        try:\n",
    "            body = raw_body.replace(\"=\\r\\n\", \"\")\n",
    "            body = body.replace(\"\\r\", \"\")\n",
    "        except:\n",
    "            raw_body = raw_body[0].get_payload()\n",
    "            body = raw_body.replace(\"=\\r\\n\", \"\")\n",
    "            body = body.replace(\"\\r\", \"\")\n",
    "\n",
    "        urls_raw = re.findall(\"(?P<url>https?://[^\\s]+)\", body)[:-1]\n",
    "        \n",
    "        # sanity\n",
    "        urls = [url.split(\">\")[0] for url in urls_raw]\n",
    "        \n",
    "        if urls:\n",
    "            email_obj['urls'] = urls\n",
    "\n",
    "\n",
    "pp.pprint(email_obj)"
   ]
  },
  {
   "cell_type": "code",
   "execution_count": 33,
   "metadata": {},
   "outputs": [
    {
     "name": "stdout",
     "output_type": "stream",
     "text": [
      "https://www.elconfidencial.com/espana/comunidad-valenciana/2018-04-09/goirigolzarri-bankia-fusion-bbva-roman-escolano_1547258/\n",
      "http://www.expansion.com/valencia/2018/04/09/5acb8ca046163fe26b8b45cf.html\n",
      "https://cincodias.elpais.com/cincodias/2018/04/09/companias/1523289300_337618.html\n",
      "https://www.elconfidencial.com/mercados/2018-04-10/bankia-sube-un-7-el-dividendo-para-repartir-340-m-y-aumenta-el-pay-out-en-efectivo_1547458/\n",
      "https://www.elconfidencial.com/tags/empresas/allianz-6267/\n",
      "https://www.elconfidencial.com/empresas/2018-04-10/santander-popular-aegon-allianz-guerra-millones_1547385/\n",
      "https://www.elconfidencial.com/espana/2018-04-09/banco-santander-17-millones-euros-valores-santander_1547207/\n",
      "http://www.expansion.com/empresas/banca/2018/04/09/5acb723322601d437d8b459d.html\n",
      "https://cincodias.elpais.com/cincodias/2018/04/09/midinero/1523282687_050543.html\n",
      "https://cincodias.elpais.com/cincodias/2018/04/09/mercados/1523291997_592348.html\n",
      "http://www.expansion.com/empresas/banca/2018/04/10/5acbb21ce2704efa7a8b4581.html\n",
      "http://www.expansion.com/empresas/banca/2018/04/10/5acbb9f8e2704efa7a8b458e.html\n",
      "http://www.expansion.com/empresas/banca/2018/04/09/5acb219c46163f12688b457d.html\n"
     ]
    }
   ],
   "source": [
    "for url in email_obj['urls']:\n",
    "    print url"
   ]
  },
  {
   "cell_type": "code",
   "execution_count": 34,
   "metadata": {
    "scrolled": false
   },
   "outputs": [
    {
     "data": {
      "text/plain": [
       "('BYE', ['LOGOUT Requested'])"
      ]
     },
     "execution_count": 34,
     "metadata": {},
     "output_type": "execute_result"
    }
   ],
   "source": [
    "M.close()\n",
    "\n",
    "M.logout()"
   ]
  }
 ],
 "metadata": {
  "kernelspec": {
   "display_name": "Python 2",
   "language": "python",
   "name": "python2"
  },
  "language_info": {
   "codemirror_mode": {
    "name": "ipython",
    "version": 2
   },
   "file_extension": ".py",
   "mimetype": "text/x-python",
   "name": "python",
   "nbconvert_exporter": "python",
   "pygments_lexer": "ipython2",
   "version": "2.7.9"
  }
 },
 "nbformat": 4,
 "nbformat_minor": 2
}
