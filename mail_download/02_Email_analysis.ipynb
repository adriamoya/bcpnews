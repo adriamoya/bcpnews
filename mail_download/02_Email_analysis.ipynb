{
 "cells": [
  {
   "cell_type": "markdown",
   "metadata": {},
   "source": [
    "# Analyzing newsletter urls\n",
    "\n",
    "---"
   ]
  },
  {
   "cell_type": "code",
   "execution_count": 1,
   "metadata": {},
   "outputs": [],
   "source": [
    "%matplotlib inline\n",
    "\n",
    "# Imports\n",
    "\n",
    "import re\n",
    "import os\n",
    "import json\n",
    "import pprint\n",
    "import datetime\n",
    "import numpy as np\n",
    "import pandas as pd\n",
    "import matplotlib.pyplot as plt\n",
    "\n",
    "# Variables\n",
    "\n",
    "pp = pprint.PrettyPrinter(indent=4)\n",
    "\n",
    "# Read data\n",
    "\n",
    "data = []\n",
    "with open('./emails.json') as input_file:\n",
    "    for line in input_file:\n",
    "        data.append(json.loads(line))"
   ]
  },
  {
   "cell_type": "code",
   "execution_count": 2,
   "metadata": {},
   "outputs": [],
   "source": [
    "df = pd.DataFrame(data)"
   ]
  },
  {
   "cell_type": "code",
   "execution_count": 10,
   "metadata": {},
   "outputs": [
    {
     "name": "stdout",
     "output_type": "stream",
     "text": [
      "Number of emails downloaded: 368\n"
     ]
    }
   ],
   "source": [
    "print(\"Number of emails downloaded:\",df.shape[0])"
   ]
  },
  {
   "cell_type": "code",
   "execution_count": 13,
   "metadata": {},
   "outputs": [
    {
     "data": {
      "text/html": [
       "<div>\n",
       "<style scoped>\n",
       "    .dataframe tbody tr th:only-of-type {\n",
       "        vertical-align: middle;\n",
       "    }\n",
       "\n",
       "    .dataframe tbody tr th {\n",
       "        vertical-align: top;\n",
       "    }\n",
       "\n",
       "    .dataframe thead th {\n",
       "        text-align: right;\n",
       "    }\n",
       "</style>\n",
       "<table border=\"1\" class=\"dataframe\">\n",
       "  <thead>\n",
       "    <tr style=\"text-align: right;\">\n",
       "      <th></th>\n",
       "      <th>date</th>\n",
       "      <th>from</th>\n",
       "      <th>subject</th>\n",
       "      <th>to</th>\n",
       "      <th>urls</th>\n",
       "    </tr>\n",
       "  </thead>\n",
       "  <tbody>\n",
       "    <tr>\n",
       "      <th>0</th>\n",
       "      <td>Mon, 18 Jan 2016 19:01:07 +0100</td>\n",
       "      <td>Laia Izquierdo &lt;lizquierdo@bluecap.com&gt;</td>\n",
       "      <td>Hola</td>\n",
       "      <td>bluecapglobal@bluecap.com</td>\n",
       "      <td>NaN</td>\n",
       "    </tr>\n",
       "    <tr>\n",
       "      <th>1</th>\n",
       "      <td>Mon, 14 Mar 2016 11:01:06 +0100</td>\n",
       "      <td>Laia Izquierdo &lt;lizquierdo@bluecap.com&gt;</td>\n",
       "      <td>Bluecap banking breakfast</td>\n",
       "      <td>bluecapglobal@bluecap.com</td>\n",
       "      <td>[http://www.bbvagmr.com/wp-content/plugins/mis...</td>\n",
       "    </tr>\n",
       "    <tr>\n",
       "      <th>2</th>\n",
       "      <td>Tue, 15 Mar 2016 09:27:09 +0100</td>\n",
       "      <td>Laia Izquierdo &lt;lizquierdo@bluecap.com&gt;</td>\n",
       "      <td>Bluecap banking breakfast</td>\n",
       "      <td>bluecapglobal@bluecap.com</td>\n",
       "      <td>NaN</td>\n",
       "    </tr>\n",
       "  </tbody>\n",
       "</table>\n",
       "</div>"
      ],
      "text/plain": [
       "                              date                                     from  \\\n",
       "0  Mon, 18 Jan 2016 19:01:07 +0100  Laia Izquierdo <lizquierdo@bluecap.com>   \n",
       "1  Mon, 14 Mar 2016 11:01:06 +0100  Laia Izquierdo <lizquierdo@bluecap.com>   \n",
       "2  Tue, 15 Mar 2016 09:27:09 +0100  Laia Izquierdo <lizquierdo@bluecap.com>   \n",
       "\n",
       "                     subject                         to  \\\n",
       "0                       Hola  bluecapglobal@bluecap.com   \n",
       "1  Bluecap banking breakfast  bluecapglobal@bluecap.com   \n",
       "2  Bluecap banking breakfast  bluecapglobal@bluecap.com   \n",
       "\n",
       "                                                urls  \n",
       "0                                                NaN  \n",
       "1  [http://www.bbvagmr.com/wp-content/plugins/mis...  \n",
       "2                                                NaN  "
      ]
     },
     "execution_count": 13,
     "metadata": {},
     "output_type": "execute_result"
    }
   ],
   "source": [
    "df.head(3)"
   ]
  },
  {
   "cell_type": "code",
   "execution_count": 14,
   "metadata": {},
   "outputs": [
    {
     "data": {
      "text/html": [
       "<div>\n",
       "<style scoped>\n",
       "    .dataframe tbody tr th:only-of-type {\n",
       "        vertical-align: middle;\n",
       "    }\n",
       "\n",
       "    .dataframe tbody tr th {\n",
       "        vertical-align: top;\n",
       "    }\n",
       "\n",
       "    .dataframe thead th {\n",
       "        text-align: right;\n",
       "    }\n",
       "</style>\n",
       "<table border=\"1\" class=\"dataframe\">\n",
       "  <thead>\n",
       "    <tr style=\"text-align: right;\">\n",
       "      <th></th>\n",
       "      <th>subject</th>\n",
       "      <th>count</th>\n",
       "    </tr>\n",
       "  </thead>\n",
       "  <tbody>\n",
       "    <tr>\n",
       "      <th>0</th>\n",
       "      <td>Bluecap Banking Breakfast</td>\n",
       "      <td>308</td>\n",
       "    </tr>\n",
       "    <tr>\n",
       "      <th>1</th>\n",
       "      <td>Bluecap banking breakfast</td>\n",
       "      <td>33</td>\n",
       "    </tr>\n",
       "    <tr>\n",
       "      <th>2</th>\n",
       "      <td>Bluecap Banking Brunch</td>\n",
       "      <td>10</td>\n",
       "    </tr>\n",
       "    <tr>\n",
       "      <th>3</th>\n",
       "      <td>Bluecap Banking Lunch</td>\n",
       "      <td>2</td>\n",
       "    </tr>\n",
       "    <tr>\n",
       "      <th>4</th>\n",
       "      <td>Bluecap Banking Breakfast + Benchmark de moros...</td>\n",
       "      <td>1</td>\n",
       "    </tr>\n",
       "  </tbody>\n",
       "</table>\n",
       "</div>"
      ],
      "text/plain": [
       "                                             subject  count\n",
       "0                          Bluecap Banking Breakfast    308\n",
       "1                          Bluecap banking breakfast     33\n",
       "2                             Bluecap Banking Brunch     10\n",
       "3                              Bluecap Banking Lunch      2\n",
       "4  Bluecap Banking Breakfast + Benchmark de moros...      1"
      ]
     },
     "execution_count": 14,
     "metadata": {},
     "output_type": "execute_result"
    }
   ],
   "source": [
    "df.groupby('subject').size().sort_values(0, ascending=False).reset_index().rename(columns={0:\"count\"}).head(5)"
   ]
  },
  {
   "cell_type": "markdown",
   "metadata": {},
   "source": [
    "# Urls\n",
    "\n",
    "* Let's take a lot at the extracted urls and determine the source (newspaper)."
   ]
  },
  {
   "cell_type": "code",
   "execution_count": 16,
   "metadata": {},
   "outputs": [
    {
     "name": "stdout",
     "output_type": "stream",
     "text": [
      "0 nan\n",
      "2 nan\n",
      "7 nan\n",
      "8 nan\n",
      "138 nan\n"
     ]
    }
   ],
   "source": [
    "# Extract all article urls\n",
    "\n",
    "urls = []\n",
    "\n",
    "for idx, row in df.iterrows():\n",
    "    if row['urls']:\n",
    "        try:\n",
    "            for url in row['urls']:\n",
    "                urls.append(url)\n",
    "        except:\n",
    "            print(idx, row['urls'])\n",
    "            pass"
   ]
  },
  {
   "cell_type": "code",
   "execution_count": 17,
   "metadata": {},
   "outputs": [],
   "source": [
    "# Delete possible dups\n",
    "urls = list(set(urls))"
   ]
  },
  {
   "cell_type": "code",
   "execution_count": 18,
   "metadata": {},
   "outputs": [
    {
     "data": {
      "text/html": [
       "<div>\n",
       "<style scoped>\n",
       "    .dataframe tbody tr th:only-of-type {\n",
       "        vertical-align: middle;\n",
       "    }\n",
       "\n",
       "    .dataframe tbody tr th {\n",
       "        vertical-align: top;\n",
       "    }\n",
       "\n",
       "    .dataframe thead th {\n",
       "        text-align: right;\n",
       "    }\n",
       "</style>\n",
       "<table border=\"1\" class=\"dataframe\">\n",
       "  <thead>\n",
       "    <tr style=\"text-align: right;\">\n",
       "      <th></th>\n",
       "      <th>url</th>\n",
       "    </tr>\n",
       "  </thead>\n",
       "  <tbody>\n",
       "    <tr>\n",
       "      <th>0</th>\n",
       "      <td>https://www.elconfidencial.com/economia/2018-0...</td>\n",
       "    </tr>\n",
       "    <tr>\n",
       "      <th>1</th>\n",
       "      <td>https://www.elconfidencial.com/mercados/</td>\n",
       "    </tr>\n",
       "    <tr>\n",
       "      <th>2</th>\n",
       "      <td>http://www.expansion.com/economia/2017/09/14/5...</td>\n",
       "    </tr>\n",
       "    <tr>\n",
       "      <th>3</th>\n",
       "      <td>http://www.expansion.com/empresas/banca/2017/0...</td>\n",
       "    </tr>\n",
       "    <tr>\n",
       "      <th>4</th>\n",
       "      <td>http://www.expansion.com/empresas/banca/2017/0...</td>\n",
       "    </tr>\n",
       "  </tbody>\n",
       "</table>\n",
       "</div>"
      ],
      "text/plain": [
       "                                                 url\n",
       "0  https://www.elconfidencial.com/economia/2018-0...\n",
       "1           https://www.elconfidencial.com/mercados/\n",
       "2  http://www.expansion.com/economia/2017/09/14/5...\n",
       "3  http://www.expansion.com/empresas/banca/2017/0...\n",
       "4  http://www.expansion.com/empresas/banca/2017/0..."
      ]
     },
     "execution_count": 18,
     "metadata": {},
     "output_type": "execute_result"
    }
   ],
   "source": [
    "df_urls = pd.DataFrame(urls).rename(columns={0:\"url\"})\n",
    "df_urls.head(5)"
   ]
  },
  {
   "cell_type": "code",
   "execution_count": 19,
   "metadata": {},
   "outputs": [
    {
     "data": {
      "text/html": [
       "<div>\n",
       "<style scoped>\n",
       "    .dataframe tbody tr th:only-of-type {\n",
       "        vertical-align: middle;\n",
       "    }\n",
       "\n",
       "    .dataframe tbody tr th {\n",
       "        vertical-align: top;\n",
       "    }\n",
       "\n",
       "    .dataframe thead th {\n",
       "        text-align: right;\n",
       "    }\n",
       "</style>\n",
       "<table border=\"1\" class=\"dataframe\">\n",
       "  <thead>\n",
       "    <tr style=\"text-align: right;\">\n",
       "      <th></th>\n",
       "      <th>url</th>\n",
       "      <th>source</th>\n",
       "    </tr>\n",
       "  </thead>\n",
       "  <tbody>\n",
       "    <tr>\n",
       "      <th>0</th>\n",
       "      <td>https://www.elconfidencial.com/economia/2018-0...</td>\n",
       "      <td>[elconfidencial]</td>\n",
       "    </tr>\n",
       "    <tr>\n",
       "      <th>1</th>\n",
       "      <td>https://www.elconfidencial.com/mercados/</td>\n",
       "      <td>[elconfidencial]</td>\n",
       "    </tr>\n",
       "    <tr>\n",
       "      <th>2</th>\n",
       "      <td>http://www.expansion.com/economia/2017/09/14/5...</td>\n",
       "      <td>[expansion]</td>\n",
       "    </tr>\n",
       "    <tr>\n",
       "      <th>3</th>\n",
       "      <td>http://www.expansion.com/empresas/banca/2017/0...</td>\n",
       "      <td>[expansion]</td>\n",
       "    </tr>\n",
       "    <tr>\n",
       "      <th>4</th>\n",
       "      <td>http://www.expansion.com/empresas/banca/2017/0...</td>\n",
       "      <td>[expansion]</td>\n",
       "    </tr>\n",
       "  </tbody>\n",
       "</table>\n",
       "</div>"
      ],
      "text/plain": [
       "                                                 url            source\n",
       "0  https://www.elconfidencial.com/economia/2018-0...  [elconfidencial]\n",
       "1           https://www.elconfidencial.com/mercados/  [elconfidencial]\n",
       "2  http://www.expansion.com/economia/2017/09/14/5...       [expansion]\n",
       "3  http://www.expansion.com/empresas/banca/2017/0...       [expansion]\n",
       "4  http://www.expansion.com/empresas/banca/2017/0...       [expansion]"
      ]
     },
     "execution_count": 19,
     "metadata": {},
     "output_type": "execute_result"
    }
   ],
   "source": [
    "df_urls['source'] = df_urls['url'].apply(lambda x: re.findall('(?:\\/\\/www\\.|\\/\\/)(\\w+)\\.\\w',x))\n",
    "df_urls.head(5)"
   ]
  },
  {
   "cell_type": "code",
   "execution_count": 20,
   "metadata": {
    "scrolled": false
   },
   "outputs": [],
   "source": [
    "for idx, row in df_urls.iterrows():\n",
    "    source = row['source']\n",
    "    try:\n",
    "        df_urls.loc[idx, 'source'] = source[0]\n",
    "    except:\n",
    "        df_urls.loc[idx, 'source'] = \"\""
   ]
  },
  {
   "cell_type": "code",
   "execution_count": 24,
   "metadata": {},
   "outputs": [
    {
     "data": {
      "text/html": [
       "<div>\n",
       "<style scoped>\n",
       "    .dataframe tbody tr th:only-of-type {\n",
       "        vertical-align: middle;\n",
       "    }\n",
       "\n",
       "    .dataframe tbody tr th {\n",
       "        vertical-align: top;\n",
       "    }\n",
       "\n",
       "    .dataframe thead th {\n",
       "        text-align: right;\n",
       "    }\n",
       "</style>\n",
       "<table border=\"1\" class=\"dataframe\">\n",
       "  <thead>\n",
       "    <tr style=\"text-align: right;\">\n",
       "      <th></th>\n",
       "      <th>source</th>\n",
       "      <th>count</th>\n",
       "    </tr>\n",
       "  </thead>\n",
       "  <tbody>\n",
       "    <tr>\n",
       "      <th>0</th>\n",
       "      <td>expansion</td>\n",
       "      <td>2226</td>\n",
       "    </tr>\n",
       "    <tr>\n",
       "      <th>1</th>\n",
       "      <td>cincodias</td>\n",
       "      <td>1124</td>\n",
       "    </tr>\n",
       "    <tr>\n",
       "      <th>2</th>\n",
       "      <td>elconfidencial</td>\n",
       "      <td>765</td>\n",
       "    </tr>\n",
       "    <tr>\n",
       "      <th>3</th>\n",
       "      <td>bernsteinresearch</td>\n",
       "      <td>71</td>\n",
       "    </tr>\n",
       "    <tr>\n",
       "      <th>4</th>\n",
       "      <td>blogs</td>\n",
       "      <td>31</td>\n",
       "    </tr>\n",
       "    <tr>\n",
       "      <th>5</th>\n",
       "      <td>federalreserve</td>\n",
       "      <td>12</td>\n",
       "    </tr>\n",
       "    <tr>\n",
       "      <th>6</th>\n",
       "      <td>retina</td>\n",
       "      <td>12</td>\n",
       "    </tr>\n",
       "    <tr>\n",
       "      <th>7</th>\n",
       "      <td>economia</td>\n",
       "      <td>7</td>\n",
       "    </tr>\n",
       "    <tr>\n",
       "      <th>8</th>\n",
       "      <td>bbvagmr</td>\n",
       "      <td>4</td>\n",
       "    </tr>\n",
       "    <tr>\n",
       "      <th>9</th>\n",
       "      <td>euribor</td>\n",
       "      <td>3</td>\n",
       "    </tr>\n",
       "  </tbody>\n",
       "</table>\n",
       "</div>"
      ],
      "text/plain": [
       "              source  count\n",
       "0          expansion   2226\n",
       "1          cincodias   1124\n",
       "2     elconfidencial    765\n",
       "3  bernsteinresearch     71\n",
       "4              blogs     31\n",
       "5     federalreserve     12\n",
       "6             retina     12\n",
       "7           economia      7\n",
       "8            bbvagmr      4\n",
       "9            euribor      3"
      ]
     },
     "execution_count": 24,
     "metadata": {},
     "output_type": "execute_result"
    }
   ],
   "source": [
    "source = df_urls.groupby('source').size().sort_values(0, ascending=False).reset_index().rename(columns={0:\"count\"})\n",
    "source.head(10)"
   ]
  },
  {
   "cell_type": "code",
   "execution_count": 26,
   "metadata": {},
   "outputs": [
    {
     "name": "stdout",
     "output_type": "stream",
     "text": [
      "Number of different urls extracted: 4313\n"
     ]
    }
   ],
   "source": [
    "print(\"Number of different urls extracted:\", df_urls.shape[0])"
   ]
  },
  {
   "cell_type": "code",
   "execution_count": 22,
   "metadata": {},
   "outputs": [
    {
     "data": {
      "image/png": "[encoded data removed]",
      "text/plain": [
       "<matplotlib.figure.Figure at 0x10e972160>"
      ]
     },
     "metadata": {},
     "output_type": "display_data"
    }
   ],
   "source": [
    "fig, ax = plt.subplots(figsize=(15, 10))\n",
    "\n",
    "y_pos = np.arange(len(list(source['source'])[:10]))\n",
    "\n",
    "ax.barh(y_pos, list(source['count'])[:10], align='center')\n",
    "ax.set_yticks(y_pos)\n",
    "ax.set_yticklabels(list(source['source'])[:10])\n",
    "ax.invert_yaxis()  # labels read top-to-bottom\n",
    "ax.set_xlabel('# of Articles')\n",
    "ax.set_title('Distribution of Articles by Source')\n",
    "ax.xaxis.grid(which='major', linewidth=0.5)\n",
    "\n",
    "plt.show()"
   ]
  },
  {
   "cell_type": "code",
   "execution_count": 28,
   "metadata": {},
   "outputs": [],
   "source": [
    "# let's check that urls are properly extracted ...\n",
    "\n",
    "df_urls['url_length'] = df_urls['url'].apply(lambda x: len(x))"
   ]
  },
  {
   "cell_type": "code",
   "execution_count": 29,
   "metadata": {},
   "outputs": [
    {
     "data": {
      "text/html": [
       "<div>\n",
       "<style scoped>\n",
       "    .dataframe tbody tr th:only-of-type {\n",
       "        vertical-align: middle;\n",
       "    }\n",
       "\n",
       "    .dataframe tbody tr th {\n",
       "        vertical-align: top;\n",
       "    }\n",
       "\n",
       "    .dataframe thead th {\n",
       "        text-align: right;\n",
       "    }\n",
       "</style>\n",
       "<table border=\"1\" class=\"dataframe\">\n",
       "  <thead>\n",
       "    <tr style=\"text-align: right;\">\n",
       "      <th></th>\n",
       "      <th>url</th>\n",
       "      <th>source</th>\n",
       "      <th>url_length</th>\n",
       "    </tr>\n",
       "  </thead>\n",
       "  <tbody>\n",
       "    <tr>\n",
       "      <th>4073</th>\n",
       "      <td>https://cincodia</td>\n",
       "      <td></td>\n",
       "      <td>16</td>\n",
       "    </tr>\n",
       "    <tr>\n",
       "      <th>2120</th>\n",
       "      <td>http://www.bluecap.com/</td>\n",
       "      <td>bluecap</td>\n",
       "      <td>23</td>\n",
       "    </tr>\n",
       "    <tr>\n",
       "      <th>1341</th>\n",
       "      <td>http://www.aknowledge.us/</td>\n",
       "      <td>aknowledge</td>\n",
       "      <td>25</td>\n",
       "    </tr>\n",
       "    <tr>\n",
       "      <th>2673</th>\n",
       "      <td>http://marginalrevolution.com/</td>\n",
       "      <td>marginalrevolution</td>\n",
       "      <td>30</td>\n",
       "    </tr>\n",
       "    <tr>\n",
       "      <th>3663</th>\n",
       "      <td>http://www.co-operativebank.co.uk/</td>\n",
       "      <td>www</td>\n",
       "      <td>34</td>\n",
       "    </tr>\n",
       "    <tr>\n",
       "      <th>1</th>\n",
       "      <td>https://www.elconfidencial.com/mercados/</td>\n",
       "      <td>elconfidencial</td>\n",
       "      <td>40</td>\n",
       "    </tr>\n",
       "    <tr>\n",
       "      <th>403</th>\n",
       "      <td>http://www.bbc.com/news/business-42148682</td>\n",
       "      <td>bbc</td>\n",
       "      <td>41</td>\n",
       "    </tr>\n",
       "    <tr>\n",
       "      <th>3701</th>\n",
       "      <td>http://www.expansion.com/empresas/banca/201</td>\n",
       "      <td>expansion</td>\n",
       "      <td>43</td>\n",
       "    </tr>\n",
       "    <tr>\n",
       "      <th>2315</th>\n",
       "      <td>http://hugin.info/134323/R/2043980/763188.pdf</td>\n",
       "      <td>hugin</td>\n",
       "      <td>45</td>\n",
       "    </tr>\n",
       "    <tr>\n",
       "      <th>2876</th>\n",
       "      <td>http://www.elconfidencial.com/empresas/2017-0</td>\n",
       "      <td>elconfidencial</td>\n",
       "      <td>45</td>\n",
       "    </tr>\n",
       "    <tr>\n",
       "      <th>1356</th>\n",
       "      <td>https://es.wikipedia.org/wiki/Tulipoman%C3%ADa</td>\n",
       "      <td>es</td>\n",
       "      <td>46</td>\n",
       "    </tr>\n",
       "    <tr>\n",
       "      <th>1008</th>\n",
       "      <td>http://economia.elpais.com/economia/2017/04/19/</td>\n",
       "      <td>economia</td>\n",
       "      <td>47</td>\n",
       "    </tr>\n",
       "    <tr>\n",
       "      <th>3857</th>\n",
       "      <td>http://cincodias.elpais.com/cincodias/2017/04/09/</td>\n",
       "      <td>cincodias</td>\n",
       "      <td>49</td>\n",
       "    </tr>\n",
       "    <tr>\n",
       "      <th>3388</th>\n",
       "      <td>http://cincodias.elpais.com/cincodias/2017/04/12/</td>\n",
       "      <td>cincodias</td>\n",
       "      <td>49</td>\n",
       "    </tr>\n",
       "    <tr>\n",
       "      <th>984</th>\n",
       "      <td>http://cincodias.elpais.com/cincodias/2017/04/05/</td>\n",
       "      <td>cincodias</td>\n",
       "      <td>49</td>\n",
       "    </tr>\n",
       "    <tr>\n",
       "      <th>110</th>\n",
       "      <td>http://cincodias.elpais.com/cincodias/2017/04/19/</td>\n",
       "      <td>cincodias</td>\n",
       "      <td>49</td>\n",
       "    </tr>\n",
       "    <tr>\n",
       "      <th>1010</th>\n",
       "      <td>https://cincodias.elpais.com/cincodias/2017/09...</td>\n",
       "      <td>cincodias</td>\n",
       "      <td>50</td>\n",
       "    </tr>\n",
       "    <tr>\n",
       "      <th>3605</th>\n",
       "      <td>https://cincodias.elpais.com/cincodias/2018/04...</td>\n",
       "      <td>cincodias</td>\n",
       "      <td>50</td>\n",
       "    </tr>\n",
       "    <tr>\n",
       "      <th>618</th>\n",
       "      <td>https://cincodias.elpais.com/cincodias/2017/10...</td>\n",
       "      <td>cincodias</td>\n",
       "      <td>50</td>\n",
       "    </tr>\n",
       "    <tr>\n",
       "      <th>1202</th>\n",
       "      <td>http://cincodias.elpais.com/Comentario/1492065...</td>\n",
       "      <td>cincodias</td>\n",
       "      <td>50</td>\n",
       "    </tr>\n",
       "  </tbody>\n",
       "</table>\n",
       "</div>"
      ],
      "text/plain": [
       "                                                    url              source  \\\n",
       "4073                                   https://cincodia                       \n",
       "2120                            http://www.bluecap.com/             bluecap   \n",
       "1341                          http://www.aknowledge.us/          aknowledge   \n",
       "2673                     http://marginalrevolution.com/  marginalrevolution   \n",
       "3663                 http://www.co-operativebank.co.uk/                 www   \n",
       "1              https://www.elconfidencial.com/mercados/      elconfidencial   \n",
       "403           http://www.bbc.com/news/business-42148682                 bbc   \n",
       "3701        http://www.expansion.com/empresas/banca/201           expansion   \n",
       "2315      http://hugin.info/134323/R/2043980/763188.pdf               hugin   \n",
       "2876      http://www.elconfidencial.com/empresas/2017-0      elconfidencial   \n",
       "1356     https://es.wikipedia.org/wiki/Tulipoman%C3%ADa                  es   \n",
       "1008    http://economia.elpais.com/economia/2017/04/19/            economia   \n",
       "3857  http://cincodias.elpais.com/cincodias/2017/04/09/           cincodias   \n",
       "3388  http://cincodias.elpais.com/cincodias/2017/04/12/           cincodias   \n",
       "984   http://cincodias.elpais.com/cincodias/2017/04/05/           cincodias   \n",
       "110   http://cincodias.elpais.com/cincodias/2017/04/19/           cincodias   \n",
       "1010  https://cincodias.elpais.com/cincodias/2017/09...           cincodias   \n",
       "3605  https://cincodias.elpais.com/cincodias/2018/04...           cincodias   \n",
       "618   https://cincodias.elpais.com/cincodias/2017/10...           cincodias   \n",
       "1202  http://cincodias.elpais.com/Comentario/1492065...           cincodias   \n",
       "\n",
       "      url_length  \n",
       "4073          16  \n",
       "2120          23  \n",
       "1341          25  \n",
       "2673          30  \n",
       "3663          34  \n",
       "1             40  \n",
       "403           41  \n",
       "3701          43  \n",
       "2315          45  \n",
       "2876          45  \n",
       "1356          46  \n",
       "1008          47  \n",
       "3857          49  \n",
       "3388          49  \n",
       "984           49  \n",
       "110           49  \n",
       "1010          50  \n",
       "3605          50  \n",
       "618           50  \n",
       "1202          50  "
      ]
     },
     "execution_count": 29,
     "metadata": {},
     "output_type": "execute_result"
    }
   ],
   "source": [
    "df_urls.sort_values('url_length').head(20)"
   ]
  },
  {
   "cell_type": "code",
   "execution_count": 30,
   "metadata": {},
   "outputs": [
    {
     "data": {
      "text/plain": [
       "url           http://www.elconfidencial.com/empresas/2017-0\n",
       "source                                       elconfidencial\n",
       "url_length                                               45\n",
       "Name: 2876, dtype: object"
      ]
     },
     "execution_count": 30,
     "metadata": {},
     "output_type": "execute_result"
    }
   ],
   "source": [
    "df_urls.loc[2876]"
   ]
  }
 ],
 "metadata": {
  "kernelspec": {
   "display_name": "Python 3",
   "language": "python",
   "name": "python3"
  },
  "language_info": {
   "codemirror_mode": {
    "name": "ipython",
    "version": 3
   },
   "file_extension": ".py",
   "mimetype": "text/x-python",
   "name": "python",
   "nbconvert_exporter": "python",
   "pygments_lexer": "ipython3",
   "version": "3.6.4"
  }
 },
 "nbformat": 4,
 "nbformat_minor": 2
}
