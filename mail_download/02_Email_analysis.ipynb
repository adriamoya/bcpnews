{
 "cells": [
  {
   "cell_type": "markdown",
   "metadata": {},
   "source": [
    "# Analyzing newsletter urls\n",
    "\n",
    "---"
   ]
  },
  {
   "cell_type": "code",
   "execution_count": 1,
   "metadata": {
    "collapsed": true
   },
   "outputs": [],
   "source": [
    "%matplotlib inline\n",
    "\n",
    "# Imports\n",
    "\n",
    "import re\n",
    "import os\n",
    "import json\n",
    "import pprint\n",
    "import datetime\n",
    "import numpy as np\n",
    "import pandas as pd\n",
    "import matplotlib.pyplot as plt\n",
    "\n",
    "# Variables\n",
    "\n",
    "pp = pprint.PrettyPrinter(indent=4)\n",
    "\n",
    "# Read data\n",
    "\n",
    "data = []\n",
    "with open('./emails.json') as input_file:\n",
    "    for line in input_file:\n",
    "        data.append(json.loads(line))"
   ]
  },
  {
   "cell_type": "code",
   "execution_count": 2,
   "metadata": {
    "collapsed": true
   },
   "outputs": [],
   "source": [
    "df = pd.DataFrame(data)"
   ]
  },
  {
   "cell_type": "code",
   "execution_count": 3,
   "metadata": {},
   "outputs": [
    {
     "data": {
      "text/plain": [
       "(365, 5)"
      ]
     },
     "execution_count": 3,
     "metadata": {},
     "output_type": "execute_result"
    }
   ],
   "source": [
    "df.shape"
   ]
  },
  {
   "cell_type": "code",
   "execution_count": 4,
   "metadata": {},
   "outputs": [
    {
     "data": {
      "text/html": [
       "<div>\n",
       "<style>\n",
       "    .dataframe thead tr:only-child th {\n",
       "        text-align: right;\n",
       "    }\n",
       "\n",
       "    .dataframe thead th {\n",
       "        text-align: left;\n",
       "    }\n",
       "\n",
       "    .dataframe tbody tr th {\n",
       "        vertical-align: top;\n",
       "    }\n",
       "</style>\n",
       "<table border=\"1\" class=\"dataframe\">\n",
       "  <thead>\n",
       "    <tr style=\"text-align: right;\">\n",
       "      <th></th>\n",
       "      <th>date</th>\n",
       "      <th>from</th>\n",
       "      <th>subject</th>\n",
       "      <th>to</th>\n",
       "      <th>urls</th>\n",
       "    </tr>\n",
       "  </thead>\n",
       "  <tbody>\n",
       "    <tr>\n",
       "      <th>0</th>\n",
       "      <td>Mon, 18 Jan 2016 19:01:07 +0100</td>\n",
       "      <td>Laia Izquierdo &lt;lizquierdo@bluecap.com&gt;</td>\n",
       "      <td>Hola</td>\n",
       "      <td>bluecapglobal@bluecap.com</td>\n",
       "      <td>NaN</td>\n",
       "    </tr>\n",
       "    <tr>\n",
       "      <th>1</th>\n",
       "      <td>Mon, 14 Mar 2016 11:01:06 +0100</td>\n",
       "      <td>Laia Izquierdo &lt;lizquierdo@bluecap.com&gt;</td>\n",
       "      <td>Bluecap banking breakfast</td>\n",
       "      <td>bluecapglobal@bluecap.com</td>\n",
       "      <td>[http://www.bbvagmr.com/wp-content/plugins/mis...</td>\n",
       "    </tr>\n",
       "    <tr>\n",
       "      <th>2</th>\n",
       "      <td>Tue, 15 Mar 2016 09:27:09 +0100</td>\n",
       "      <td>Laia Izquierdo &lt;lizquierdo@bluecap.com&gt;</td>\n",
       "      <td>Bluecap banking breakfast</td>\n",
       "      <td>bluecapglobal@bluecap.com</td>\n",
       "      <td>NaN</td>\n",
       "    </tr>\n",
       "  </tbody>\n",
       "</table>\n",
       "</div>"
      ],
      "text/plain": [
       "                              date                                     from  \\\n",
       "0  Mon, 18 Jan 2016 19:01:07 +0100  Laia Izquierdo <lizquierdo@bluecap.com>   \n",
       "1  Mon, 14 Mar 2016 11:01:06 +0100  Laia Izquierdo <lizquierdo@bluecap.com>   \n",
       "2  Tue, 15 Mar 2016 09:27:09 +0100  Laia Izquierdo <lizquierdo@bluecap.com>   \n",
       "\n",
       "                     subject                         to  \\\n",
       "0                       Hola  bluecapglobal@bluecap.com   \n",
       "1  Bluecap banking breakfast  bluecapglobal@bluecap.com   \n",
       "2  Bluecap banking breakfast  bluecapglobal@bluecap.com   \n",
       "\n",
       "                                                urls  \n",
       "0                                                NaN  \n",
       "1  [http://www.bbvagmr.com/wp-content/plugins/mis...  \n",
       "2                                                NaN  "
      ]
     },
     "execution_count": 4,
     "metadata": {},
     "output_type": "execute_result"
    }
   ],
   "source": [
    "df.head(3)"
   ]
  },
  {
   "cell_type": "code",
   "execution_count": 5,
   "metadata": {},
   "outputs": [
    {
     "data": {
      "text/html": [
       "<div>\n",
       "<style>\n",
       "    .dataframe thead tr:only-child th {\n",
       "        text-align: right;\n",
       "    }\n",
       "\n",
       "    .dataframe thead th {\n",
       "        text-align: left;\n",
       "    }\n",
       "\n",
       "    .dataframe tbody tr th {\n",
       "        vertical-align: top;\n",
       "    }\n",
       "</style>\n",
       "<table border=\"1\" class=\"dataframe\">\n",
       "  <thead>\n",
       "    <tr style=\"text-align: right;\">\n",
       "      <th></th>\n",
       "      <th>subject</th>\n",
       "      <th>count</th>\n",
       "    </tr>\n",
       "  </thead>\n",
       "  <tbody>\n",
       "    <tr>\n",
       "      <th>0</th>\n",
       "      <td>Bluecap Banking Breakfast</td>\n",
       "      <td>305</td>\n",
       "    </tr>\n",
       "    <tr>\n",
       "      <th>1</th>\n",
       "      <td>Bluecap banking breakfast</td>\n",
       "      <td>33</td>\n",
       "    </tr>\n",
       "    <tr>\n",
       "      <th>2</th>\n",
       "      <td>Bluecap Banking Brunch</td>\n",
       "      <td>10</td>\n",
       "    </tr>\n",
       "    <tr>\n",
       "      <th>3</th>\n",
       "      <td>Bluecap Banking Lunch</td>\n",
       "      <td>2</td>\n",
       "    </tr>\n",
       "    <tr>\n",
       "      <th>4</th>\n",
       "      <td>Bluecap Banking Breakfast + Benchmark de moros...</td>\n",
       "      <td>1</td>\n",
       "    </tr>\n",
       "  </tbody>\n",
       "</table>\n",
       "</div>"
      ],
      "text/plain": [
       "                                             subject  count\n",
       "0                          Bluecap Banking Breakfast    305\n",
       "1                          Bluecap banking breakfast     33\n",
       "2                             Bluecap Banking Brunch     10\n",
       "3                              Bluecap Banking Lunch      2\n",
       "4  Bluecap Banking Breakfast + Benchmark de moros...      1"
      ]
     },
     "execution_count": 5,
     "metadata": {},
     "output_type": "execute_result"
    }
   ],
   "source": [
    "df.groupby('subject').size().sort_values(0, ascending=False).reset_index().rename(columns={0:\"count\"}).head(5)"
   ]
  },
  {
   "cell_type": "markdown",
   "metadata": {},
   "source": [
    "# Urls\n",
    "\n",
    "* Focus only on urls\n",
    "* Determine the newspaper source"
   ]
  },
  {
   "cell_type": "code",
   "execution_count": 6,
   "metadata": {},
   "outputs": [
    {
     "name": "stdout",
     "output_type": "stream",
     "text": [
      "0 nan\n",
      "2 nan\n",
      "7 nan\n",
      "8 nan\n",
      "138 nan\n"
     ]
    }
   ],
   "source": [
    "# Extract all article urls\n",
    "\n",
    "urls = []\n",
    "\n",
    "for idx, row in df.iterrows():\n",
    "    if row['urls']:\n",
    "        try:\n",
    "            for url in row['urls']:\n",
    "                urls.append(url)\n",
    "        except:\n",
    "            print idx, row['urls']\n",
    "            pass"
   ]
  },
  {
   "cell_type": "code",
   "execution_count": 7,
   "metadata": {
    "collapsed": true
   },
   "outputs": [],
   "source": [
    "# Delete possible dups\n",
    "urls = list(set(urls))"
   ]
  },
  {
   "cell_type": "code",
   "execution_count": 8,
   "metadata": {},
   "outputs": [
    {
     "data": {
      "text/html": [
       "<div>\n",
       "<style>\n",
       "    .dataframe thead tr:only-child th {\n",
       "        text-align: right;\n",
       "    }\n",
       "\n",
       "    .dataframe thead th {\n",
       "        text-align: left;\n",
       "    }\n",
       "\n",
       "    .dataframe tbody tr th {\n",
       "        vertical-align: top;\n",
       "    }\n",
       "</style>\n",
       "<table border=\"1\" class=\"dataframe\">\n",
       "  <thead>\n",
       "    <tr style=\"text-align: right;\">\n",
       "      <th></th>\n",
       "      <th>url</th>\n",
       "    </tr>\n",
       "  </thead>\n",
       "  <tbody>\n",
       "    <tr>\n",
       "      <th>0</th>\n",
       "      <td>http://www.elconfidencial.com/empresas/2017-03...</td>\n",
       "    </tr>\n",
       "    <tr>\n",
       "      <th>1</th>\n",
       "      <td>http://www.expansion.com/empresas/banca/2017/0...</td>\n",
       "    </tr>\n",
       "    <tr>\n",
       "      <th>2</th>\n",
       "      <td>http://www.expansion.com/empresas/banca/2017/1...</td>\n",
       "    </tr>\n",
       "    <tr>\n",
       "      <th>3</th>\n",
       "      <td>http://www.expansion.com/empresas/banca/2016/0...</td>\n",
       "    </tr>\n",
       "    <tr>\n",
       "      <th>4</th>\n",
       "      <td>http://www.expansion.com/empresas/tecnologia/2...</td>\n",
       "    </tr>\n",
       "  </tbody>\n",
       "</table>\n",
       "</div>"
      ],
      "text/plain": [
       "                                                 url\n",
       "0  http://www.elconfidencial.com/empresas/2017-03...\n",
       "1  http://www.expansion.com/empresas/banca/2017/0...\n",
       "2  http://www.expansion.com/empresas/banca/2017/1...\n",
       "3  http://www.expansion.com/empresas/banca/2016/0...\n",
       "4  http://www.expansion.com/empresas/tecnologia/2..."
      ]
     },
     "execution_count": 8,
     "metadata": {},
     "output_type": "execute_result"
    }
   ],
   "source": [
    "df_urls = pd.DataFrame(urls).rename(columns={0:\"url\"})\n",
    "df_urls.head(5)"
   ]
  },
  {
   "cell_type": "code",
   "execution_count": 9,
   "metadata": {},
   "outputs": [
    {
     "data": {
      "text/html": [
       "<div>\n",
       "<style>\n",
       "    .dataframe thead tr:only-child th {\n",
       "        text-align: right;\n",
       "    }\n",
       "\n",
       "    .dataframe thead th {\n",
       "        text-align: left;\n",
       "    }\n",
       "\n",
       "    .dataframe tbody tr th {\n",
       "        vertical-align: top;\n",
       "    }\n",
       "</style>\n",
       "<table border=\"1\" class=\"dataframe\">\n",
       "  <thead>\n",
       "    <tr style=\"text-align: right;\">\n",
       "      <th></th>\n",
       "      <th>url</th>\n",
       "      <th>source</th>\n",
       "    </tr>\n",
       "  </thead>\n",
       "  <tbody>\n",
       "    <tr>\n",
       "      <th>0</th>\n",
       "      <td>http://www.elconfidencial.com/empresas/2017-03...</td>\n",
       "      <td>[elconfidencial]</td>\n",
       "    </tr>\n",
       "    <tr>\n",
       "      <th>1</th>\n",
       "      <td>http://www.expansion.com/empresas/banca/2017/0...</td>\n",
       "      <td>[expansion]</td>\n",
       "    </tr>\n",
       "    <tr>\n",
       "      <th>2</th>\n",
       "      <td>http://www.expansion.com/empresas/banca/2017/1...</td>\n",
       "      <td>[expansion]</td>\n",
       "    </tr>\n",
       "    <tr>\n",
       "      <th>3</th>\n",
       "      <td>http://www.expansion.com/empresas/banca/2016/0...</td>\n",
       "      <td>[expansion]</td>\n",
       "    </tr>\n",
       "    <tr>\n",
       "      <th>4</th>\n",
       "      <td>http://www.expansion.com/empresas/tecnologia/2...</td>\n",
       "      <td>[expansion]</td>\n",
       "    </tr>\n",
       "  </tbody>\n",
       "</table>\n",
       "</div>"
      ],
      "text/plain": [
       "                                                 url            source\n",
       "0  http://www.elconfidencial.com/empresas/2017-03...  [elconfidencial]\n",
       "1  http://www.expansion.com/empresas/banca/2017/0...       [expansion]\n",
       "2  http://www.expansion.com/empresas/banca/2017/1...       [expansion]\n",
       "3  http://www.expansion.com/empresas/banca/2016/0...       [expansion]\n",
       "4  http://www.expansion.com/empresas/tecnologia/2...       [expansion]"
      ]
     },
     "execution_count": 9,
     "metadata": {},
     "output_type": "execute_result"
    }
   ],
   "source": [
    "df_urls['source'] = df_urls['url'].apply(lambda x: re.findall('(?:\\/\\/www\\.|\\/\\/)(\\w+)\\.\\w',x))\n",
    "df_urls.head(5)"
   ]
  },
  {
   "cell_type": "code",
   "execution_count": 10,
   "metadata": {
    "scrolled": false
   },
   "outputs": [],
   "source": [
    "for idx, row in df_urls.iterrows():\n",
    "    source = row['source']\n",
    "    try:\n",
    "        df_urls.loc[idx, 'source'] = source[0]\n",
    "    except:\n",
    "        df_urls.loc[idx, 'source'] = \"\""
   ]
  },
  {
   "cell_type": "code",
   "execution_count": 11,
   "metadata": {},
   "outputs": [
    {
     "data": {
      "text/html": [
       "<div>\n",
       "<style>\n",
       "    .dataframe thead tr:only-child th {\n",
       "        text-align: right;\n",
       "    }\n",
       "\n",
       "    .dataframe thead th {\n",
       "        text-align: left;\n",
       "    }\n",
       "\n",
       "    .dataframe tbody tr th {\n",
       "        vertical-align: top;\n",
       "    }\n",
       "</style>\n",
       "<table border=\"1\" class=\"dataframe\">\n",
       "  <thead>\n",
       "    <tr style=\"text-align: right;\">\n",
       "      <th></th>\n",
       "      <th>source</th>\n",
       "      <th>count</th>\n",
       "    </tr>\n",
       "  </thead>\n",
       "  <tbody>\n",
       "    <tr>\n",
       "      <th>0</th>\n",
       "      <td>expansion</td>\n",
       "      <td>2206</td>\n",
       "    </tr>\n",
       "    <tr>\n",
       "      <th>1</th>\n",
       "      <td>cincodias</td>\n",
       "      <td>1111</td>\n",
       "    </tr>\n",
       "    <tr>\n",
       "      <th>2</th>\n",
       "      <td>elconfidencial</td>\n",
       "      <td>758</td>\n",
       "    </tr>\n",
       "    <tr>\n",
       "      <th>3</th>\n",
       "      <td>bernsteinresearch</td>\n",
       "      <td>71</td>\n",
       "    </tr>\n",
       "    <tr>\n",
       "      <th>4</th>\n",
       "      <td>blogs</td>\n",
       "      <td>31</td>\n",
       "    </tr>\n",
       "  </tbody>\n",
       "</table>\n",
       "</div>"
      ],
      "text/plain": [
       "              source  count\n",
       "0          expansion   2206\n",
       "1          cincodias   1111\n",
       "2     elconfidencial    758\n",
       "3  bernsteinresearch     71\n",
       "4              blogs     31"
      ]
     },
     "execution_count": 11,
     "metadata": {},
     "output_type": "execute_result"
    }
   ],
   "source": [
    "source = df_urls.groupby('source').size().sort_values(0, ascending=False).reset_index().rename(columns={0:\"count\"})\n",
    "source.head(5)"
   ]
  },
  {
   "cell_type": "code",
   "execution_count": 12,
   "metadata": {},
   "outputs": [
    {
     "data": {
      "image/png": "[encoded data removed]",
      "text/plain": [
       "<matplotlib.figure.Figure at 0x7ff61447b290>"
      ]
     },
     "metadata": {},
     "output_type": "display_data"
    }
   ],
   "source": [
    "fig, ax = plt.subplots(figsize=(15, 10))\n",
    "\n",
    "y_pos = np.arange(len(list(source['source'])[:10]))\n",
    "\n",
    "ax.barh(y_pos, list(source['count'])[:10], align='center')\n",
    "ax.set_yticks(y_pos)\n",
    "ax.set_yticklabels(list(source['source'])[:10])\n",
    "ax.invert_yaxis()  # labels read top-to-bottom\n",
    "ax.set_xlabel('# of Articles')\n",
    "ax.set_title('Distribution of Articles by Source')\n",
    "ax.xaxis.grid(which='major', linewidth=0.5)\n",
    "\n",
    "plt.show()"
   ]
  }
 ],
 "metadata": {
  "kernelspec": {
   "display_name": "Python 2",
   "language": "python",
   "name": "python2"
  },
  "language_info": {
   "codemirror_mode": {
    "name": "ipython",
    "version": 2
   },
   "file_extension": ".py",
   "mimetype": "text/x-python",
   "name": "python",
   "nbconvert_exporter": "python",
   "pygments_lexer": "ipython2",
   "version": "2.7.9"
  }
 },
 "nbformat": 4,
 "nbformat_minor": 2
}
