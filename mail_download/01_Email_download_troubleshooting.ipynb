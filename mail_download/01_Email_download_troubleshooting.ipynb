{
 "cells": [
  {
   "cell_type": "markdown",
   "metadata": {},
   "source": [
    "# Troubleshooting\n",
    "\n",
    "Test accuracy of article urls extraction process\n",
    "\n",
    "---"
   ]
  },
  {
   "cell_type": "code",
   "execution_count": 1,
   "metadata": {
    "collapsed": true
   },
   "outputs": [],
   "source": [
    "import os\n",
    "import re\n",
    "import email\n",
    "import quopri\n",
    "import pprint\n",
    "import imaplib\n",
    "import getpass\n",
    "\n",
    "pp = pprint.PrettyPrinter(indent=4)\n",
    "\n",
    "M = imaplib.IMAP4_SSL('imap.gmail.com')"
   ]
  },
  {
   "cell_type": "code",
   "execution_count": 2,
   "metadata": {
    "collapsed": true
   },
   "outputs": [
    {
     "name": "stdout",
     "output_type": "stream",
     "text": [
      "········\n"
     ]
    },
    {
     "data": {
      "text/plain": [
       "('OK', ['4577'])"
      ]
     },
     "execution_count": 2,
     "metadata": {},
     "output_type": "execute_result"
    }
   ],
   "source": [
    "# Retrieve credentials\n",
    "user = 'amoya@bluecap.com' #input/raw_input('User: ')\n",
    "passwd = getpass.getpass()\n",
    "\n",
    "# Login \n",
    "M.login(user, passwd)\n",
    "M.select()"
   ]
  },
  {
   "cell_type": "markdown",
   "metadata": {},
   "source": [
    "---\n",
    "\n",
    "# Case 1\n",
    "\n",
    "#### Email from text file:"
   ]
  },
  {
   "cell_type": "code",
   "execution_count": 3,
   "metadata": {
    "collapsed": true,
    "scrolled": true
   },
   "outputs": [],
   "source": [
    "file = open(\"prueba306.txt\", \"r\") \n",
    "\n",
    "msg = quopri.decodestring(file.read())"
   ]
  },
  {
   "cell_type": "code",
   "execution_count": 4,
   "metadata": {},
   "outputs": [
    {
     "name": "stdout",
     "output_type": "stream",
     "text": [
      "[   'http://www.expansion.com/empresas/banca/2017/05/18/591d3b1ce2704e2f648b456b.html',\n",
      "    'http://cincodias.elpais.com/cincodias/2017/05/17/companias/1495050961_042814.html',\n",
      "    'http://www.expansion.com/empresas/banca/2017/05/17/591c5021268e3eb7308b45f4.html',\n",
      "    'http://www.elconfidencial.com/empresas/2017-05-18/banco-popular-bonos-deuda-subodinada-coco-saracho-rescate_1384172/',\n",
      "    'http://www.expansion.com/empresas/banca/2017/05/17/591be5af268e3e672f8b456b.html',\n",
      "    'http://www.expansion.com/empresas/banca/2017/05/16/591ac44ae2704e355c8b4649.html',\n",
      "    'http://www.expansion.com/empresas/banca/2017/05/16/591afa0ce2704e9b3e8b4582.html',\n",
      "    'http://www.elconfidencial.com/mercados/2017-05-18/bankia-bbva-santander-compra-banco-popular-favorito-mercado_1384370/',\n",
      "    'http://cincodias.elpais.com/cincodias/2017/05/17/companias/1495051532_770914.html',\n",
      "    'http://cincodias.elpais.com/cincodias/2017/05/17/companias/1495050192_256490.html',\n",
      "    'http://www.expansion.com/empresas/banca/2017/05/17/591c7623268e3e752c8b45f7.html',\n",
      "    'http://www.expansion.com/empresas/banca/2017/05/18/591d5ccae2704e2f648b457d.html',\n",
      "    'http://www.expansion.com/empresas/banca/2017/05/18/591c9413e2704e15478b4640.html',\n",
      "    'http://www.expansion.com/empresas/banca/2017/05/16/591b4bd7468aeb51508b457e.html',\n",
      "    'http://www.expansion.com/empresas/banca/2017/05/17/591b43f0e5fdea15378b45c3.html',\n",
      "    'http://www.expansion.com/empresas/banca/2017/05/17/591b4432e5fdeab83b8b45f6.html',\n",
      "    'http://www.elconfidencial.com/empresas/2017-05-18/consejo-criteria-valoro-negativa-opa-atlantia-abertis_1384221/',\n",
      "    'http://cincodias.elpais.com/cincodias/2017/05/17/companias/1495023783_192952.html',\n",
      "    'http://cincodias.elpais.com/cincodias/2017/05/17/companias/1495028669_014735.html']\n",
      "19\n"
     ]
    }
   ],
   "source": [
    "# Instead of extracting the urls from the raw stringified body of the email, \n",
    "# we will take a look at the raw html text that is located after the stringified body.\n",
    "# We will extract all the text within the @href attribute of each <a> tag.\n",
    "\n",
    "urls_raw = re.findall('<a href=\"(\\S+)\"', msg)[:-1] # last one refers to email footnote (not interested)\n",
    "pp.pprint(urls_raw)\n",
    "print len(urls_raw)"
   ]
  },
  {
   "cell_type": "markdown",
   "metadata": {},
   "source": [
    "---\n",
    "\n",
    "# Case 2\n",
    "\n",
    "#### Santander - Popular:\n",
    "\n",
    "* Santander ficha al jefe de real estate de Deustche Bank para hacerse cargo de parte del frente inmobiliario. El fichaje responde a la petición expresa de Javier García de Carranza, Director General adjunto y encargado del área de Reestructuraciones, Recuperaciones, Inmobiliaria, Participadas y Capital Riesgo. Éste ha querido que Carlos Manzano, hasta la fecha máximo responsable de real estate del banco alemán y gestor de Trajano, la socimi participada por clientes de grandes patrimonios de DB, se incorpore al equipo que, entre otros retos, tendrá que limpiar la cartera de la entidad vinculada al ladrillo (€37.000m). Carlos Manzano estará al frente de las participadas Merlin y Testa, relanzará Metrovacesa y llevará Altamira y Aliseda. El artículo destaca otro movimiento: Jaime Rodríguez Andrades, ex Morgan Stanley y hombre de confianza de Carranza, que se pone al frente de la división de Non Performing Loans.\n",
    "\n",
    "http://www.elconfidencial.com/empresas/2017-0\n",
    "7-18/santander-ficha-jefe-ladrillo-deutsche-bank-venta-inmobiliarias_1416629/\n",
    "\n",
    "* Bruselas pone bajo la lupa la ofensiva de Popular para captar negocio, que premia a los clientes que traigan dinero de otras entidades, siempre y cuando no sea del Santander\n",
    "\n",
    "## Problem\n",
    "\n",
    "The url is broken in two different lines ..."
   ]
  },
  {
   "cell_type": "code",
   "execution_count": 5,
   "metadata": {
    "collapsed": true
   },
   "outputs": [],
   "source": [
    "typ, data = M.search(None, '(FROM \"lizquierdo@bluecap.com\")')\n",
    "\n",
    "n_last = data[0].split()[-113]\n",
    "\n",
    "typ, data = M.fetch(n_last, '(RFC822)') # RFC822: Standard for ARPA Internet Text Messages"
   ]
  },
  {
   "cell_type": "markdown",
   "metadata": {},
   "source": [
    "So far the links have been extracted from the stringified body of the emails (see below)."
   ]
  },
  {
   "cell_type": "code",
   "execution_count": 6,
   "metadata": {
    "scrolled": false
   },
   "outputs": [
    {
     "name": "stdout",
     "output_type": "stream",
     "text": [
      "\n",
      "There are 18 urls extracted.\n",
      "\n",
      "[   'http://www.elconfidencial.com/empresas/2017-0',\n",
      "    'http://www.expansion.com/empresas/banca/2017/07/17/596ca4f8468aebea418b4582.html',\n",
      "    'http://www.expansion.com/empresas/banca/2017/07/17/596ca409ca4741a2118b4646.html',\n",
      "    'http://www.expansion.com/empresas/banca/2017/07/17/596cf10946163fc1518b45ef.html',\n",
      "    'https://cincodias.elpais.com/cincodias/2017/07/17/companias/1500318223_607267.html',\n",
      "    'http://www.expansion.com/mercados/2017/07/18/596d1c95e2704e6b1c8b4617.html',\n",
      "    'http://www.expansion.com/mercados/2017/07/17/596c9369468aeb11158b456c.html',\n",
      "    'http://www.expansion.com/economia/2017/07/17/596cbbf346163fca058b45ab.html',\n",
      "    'https://cincodias.elpais.com/cincodias/2017/07/17/midinero/1500294143_065299.html',\n",
      "    'http://www.elconfidencial.com/vivienda/2017-07-18/bankia-hipotecas-gastos-hipotecarios-actos-juridicos-documentados-ajd_1416586/',\n",
      "    'http://www.expansion.com/empresas/banca/2017/07/17/596cd52e46163fd0618b45b5.html',\n",
      "    'http://www.elconfidencial.com/vivienda/2017-07-17/socimi-sareb-tempore-properties-mab-bolsa-activos-inmobiliarios_1416837/',\n",
      "    'http://www.expansion.com/empresas/banca/2017/07/18/596cfec322601dc9508b45a2.html',\n",
      "    'http://www.expansion.com/empresas/banca/2017/07/17/596ce7fde2704e023e8b459f.html',\n",
      "    'http://www.elconfidencial.com/empresas/2017-07-18/caixa-geral-venta-filial-espana-rescate_1411045/',\n",
      "    'http://www.expansion.com/empresas/banca/2017/07/17/596c72c4ca47411a258b45ff.html',\n",
      "    'http://www.expansion.com/empresas/banca/2017/07/17/596d075446163f9a108b4622.html',\n",
      "    'http://www.elconfidencial.com/empresas/2017-07-17/fed-multa-246-millones-bnp-manipular-divisas_1416922/']\n"
     ]
    }
   ],
   "source": [
    "email_obj = {}\n",
    "\n",
    "for response_part in data:\n",
    "\n",
    "    if isinstance(response_part, tuple):\n",
    "        \n",
    "        msg = email.message_from_string(response_part[1].decode('utf-8'))\n",
    "\n",
    "        email_obj['from'] = msg['from']\n",
    "        email_obj['to'] = msg['to']\n",
    "        email_obj['subject'] = msg['subject']\n",
    "        email_obj['date'] = msg['date']\n",
    "\n",
    "        if msg.is_multipart():\n",
    "            raw_body = msg.get_payload()[0].get_payload()\n",
    "        else:\n",
    "            raw_body = msg.get_payload()\n",
    "                \n",
    "        # email_obj['body'] = raw_body\n",
    "\n",
    "        # extracting links to articles\n",
    "        try:\n",
    "            body = raw_body.replace(\"=\\r\\n\", \"\")\n",
    "            body = body.replace(\"\\r\", \"\")\n",
    "        except:\n",
    "            raw_body = raw_body[0].get_payload()\n",
    "            body = raw_body.replace(\"=\\r\\n\", \"\")\n",
    "            body = body.replace(\"\\r\", \"\")\n",
    "\n",
    "        urls_raw = re.findall(\"(?P<url>https?://[^\\s]+)\", body)[:-1]\n",
    "        \n",
    "        # sanity\n",
    "        urls = [url.split(\">\")[0] for url in urls_raw]\n",
    "        \n",
    "        if urls:\n",
    "            email_obj['urls'] = urls\n",
    "\n",
    "print \"\\nThere are\", len(email_obj['urls']), \"urls extracted.\\n\"\n",
    "pp.pprint(email_obj['urls'])"
   ]
  },
  {
   "cell_type": "markdown",
   "metadata": {},
   "source": [
    "We will extract those same urls by looking at the raw html text of the email."
   ]
  },
  {
   "cell_type": "code",
   "execution_count": 7,
   "metadata": {},
   "outputs": [
    {
     "name": "stdout",
     "output_type": "stream",
     "text": [
      "\n",
      "There are 18 urls extracted.\n",
      "\n",
      "[   'http://www.elconfidencial.com/empresas/2017-0',\n",
      "    'http://www.expansion.com/empresas/banca/2017/07/17/596ca4f8468aebea418b4582.html',\n",
      "    'http://www.expansion.com/empresas/banca/2017/07/17/596ca409ca4741a2118b4646.html',\n",
      "    'http://www.expansion.com/empresas/banca/2017/07/17/596cf10946163fc1518b45ef.html',\n",
      "    'https://cincodias.elpais.com/cincodias/2017/07/17/companias/1500318223_607267.html',\n",
      "    'http://www.expansion.com/mercados/2017/07/18/596d1c95e2704e6b1c8b4617.html',\n",
      "    'http://www.expansion.com/mercados/2017/07/17/596c9369468aeb11158b456c.html',\n",
      "    'http://www.expansion.com/economia/2017/07/17/596cbbf346163fca058b45ab.html',\n",
      "    'https://cincodias.elpais.com/cincodias/2017/07/17/midinero/1500294143_065299.html',\n",
      "    'http://www.elconfidencial.com/vivienda/2017-07-18/bankia-hipotecas-gastos-hipotecarios-actos-juridicos-documentados-ajd_1416586/',\n",
      "    'http://www.expansion.com/empresas/banca/2017/07/17/596cd52e46163fd0618b45b5.html',\n",
      "    'http://www.elconfidencial.com/vivienda/2017-07-17/socimi-sareb-tempore-properties-mab-bolsa-activos-inmobiliarios_1416837/',\n",
      "    'http://www.expansion.com/empresas/banca/2017/07/18/596cfec322601dc9508b45a2.html',\n",
      "    'http://www.expansion.com/empresas/banca/2017/07/17/596ce7fde2704e023e8b459f.html',\n",
      "    'http://www.elconfidencial.com/empresas/2017-07-18/caixa-geral-venta-filial-espana-rescate_1411045/',\n",
      "    'http://www.expansion.com/empresas/banca/2017/07/17/596c72c4ca47411a258b45ff.html',\n",
      "    'http://www.expansion.com/empresas/banca/2017/07/17/596d075446163f9a108b4622.html',\n",
      "    'http://www.elconfidencial.com/empresas/2017-07-17/fed-multa-246-millones-bnp-manipular-divisas_1416922/']\n"
     ]
    }
   ],
   "source": [
    "# So far looking at the stringified part of the response (=body).\n",
    "# Let's extract now the urls from the html raw text of the email.\n",
    "\n",
    "email_obj = {}\n",
    "\n",
    "for response_part in data:\n",
    "\n",
    "    if isinstance(response_part, tuple):\n",
    "        \n",
    "        msg = email.message_from_string(response_part[1].decode('utf-8'))\n",
    "\n",
    "        email_obj['from'] = msg['from']\n",
    "        email_obj['to'] = msg['to']\n",
    "        email_obj['subject'] = msg['subject']\n",
    "        email_obj['date'] = msg['date']\n",
    "\n",
    "        raw_body = quopri.decodestring(response_part[1])\n",
    "        urls_raw = re.findall('<a href=\"(\\S+)\"', raw_body)[:-1]\n",
    "        if urls_raw:\n",
    "            email_obj['urls'] = urls_raw\n",
    "\n",
    "print \"\\nThere are\", len(email_obj['urls']), \"urls extracted.\\n\"\n",
    "pp.pprint(email_obj['urls'])"
   ]
  },
  {
   "cell_type": "code",
   "execution_count": 8,
   "metadata": {},
   "outputs": [
    {
     "data": {
      "text/plain": [
       "'http://www.elconfidencial.com/empresas/2017-0\">http://www.elconfidencial.com/empresas/2017-0</a></font><font color=\"#000000\" face=\"arial, helvetica, sans-serif\">7-18/santander-ficha-jefe-ladrillo-deutsche-bank-venta-inmobiliarias_1416629/<br></font></span></div><div><font color=\"#000000\" face=\"arial, helvetica, sans-serif\" style=\"background-color:rgb(255,255,255)\"><br></font></div><div><font color=\"#000000\" face=\"arial, helvetica, sans-serif\" style=\"background-color:rgb(255,255,255)\"'"
      ]
     },
     "execution_count": 8,
     "metadata": {},
     "output_type": "execute_result"
    }
   ],
   "source": [
    "# Let's understand why it is not possible to get the first url right ...\n",
    "\n",
    "re.findall('<a href=\"(.+)>2\\.', raw_body)[0]"
   ]
  },
  {
   "cell_type": "markdown",
   "metadata": {},
   "source": [
    "* ...relanzará Metrovacesa y llevará Altamira y Aliseda. El artículo destaca otro movimiento: Jaime Rodríguez Andrades, ex Morgan Stanley y hombre de confianza de Carranza, que se pone al frente de la división de Non Performing Loans.\n",
    "\n",
    "http://www.elconfidencial.com/empresas/2017-0\n",
    "7-18/santander-ficha-jefe-ladrillo-deutsche-bank-venta-inmobiliarias_1416629/\n",
    "\n",
    "* Bruselas pone bajo ..."
   ]
  },
  {
   "cell_type": "raw",
   "metadata": {},
   "source": [
    " <div>\n",
    "     <span>\n",
    "         <font>\n",
    "            <a href=\"http://www.elconfidencial.com/empresas/2017-0\">http://www.elconfidencial.com/empresas/2017-0</a>\n",
    "        </font>\n",
    "        <font color=\"#000000\" face=\"arial, helvetica, sans-serif\">\n",
    "            7-18/santander-ficha-jefe-ladrillo-deutsche-bank-venta-inmobiliarias_1416629/<br>\n",
    "        </font>\n",
    "    </span>\n",
    "</div>"
   ]
  },
  {
   "cell_type": "markdown",
   "metadata": {},
   "source": [
    "It is complicated to reconstruct the url from the html above since the @href attribute is uncomplete. We should regenerate the url by concatenating the text of all the child/following nodes `(<font>...</font>)`. Anyway, the link to the article is also broken in the newsletter email... "
   ]
  },
  {
   "cell_type": "code",
   "execution_count": 9,
   "metadata": {
    "scrolled": false
   },
   "outputs": [
    {
     "data": {
      "text/plain": [
       "('BYE', ['LOGOUT Requested'])"
      ]
     },
     "execution_count": 9,
     "metadata": {},
     "output_type": "execute_result"
    }
   ],
   "source": [
    "M.close()\n",
    "\n",
    "M.logout()"
   ]
  }
 ],
 "metadata": {
  "kernelspec": {
   "display_name": "Python 2",
   "language": "python",
   "name": "python2"
  },
  "language_info": {
   "codemirror_mode": {
    "name": "ipython",
    "version": 2
   },
   "file_extension": ".py",
   "mimetype": "text/x-python",
   "name": "python",
   "nbconvert_exporter": "python",
   "pygments_lexer": "ipython2",
   "version": "2.7.9"
  }
 },
 "nbformat": 4,
 "nbformat_minor": 2
}
